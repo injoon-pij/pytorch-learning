{
  "nbformat": 4,
  "nbformat_minor": 0,
  "metadata": {
    "colab": {
      "name": "pytorch_torchtext.ipynb",
      "provenance": [],
      "collapsed_sections": [],
      "toc_visible": true,
      "authorship_tag": "ABX9TyMbwpwNadXIFFB/nSxWBeYX",
      "include_colab_link": true
    },
    "kernelspec": {
      "name": "python3",
      "display_name": "Python 3"
    },
    "language_info": {
      "name": "python"
    }
  },
  "cells": [
    {
      "cell_type": "markdown",
      "metadata": {
        "id": "view-in-github",
        "colab_type": "text"
      },
      "source": [
        "<a href=\"https://colab.research.google.com/github/injoon-pij/pytorch-learning/blob/master/pytorch_torchtext.ipynb\" target=\"_parent\"><img src=\"https://colab.research.google.com/assets/colab-badge.svg\" alt=\"Open In Colab\"/></a>"
      ]
    },
    {
      "cell_type": "markdown",
      "metadata": {
        "id": "rjOQJEW96FsF"
      },
      "source": [
        "# 1) Natural Language Preprocessing (Basic)"
      ]
    },
    {
      "cell_type": "markdown",
      "metadata": {
        "id": "1a2tDbQE6Tte"
      },
      "source": [
        "## 1.1 Tokenization"
      ]
    },
    {
      "cell_type": "markdown",
      "metadata": {
        "id": "orTQZtFI6rwv"
      },
      "source": [
        "### 1.1.1 spaCy"
      ]
    },
    {
      "cell_type": "code",
      "metadata": {
        "id": "FgIzpAEeOgYk"
      },
      "source": [
        "import spacy\n",
        "spacy_en = spacy.load('en')"
      ],
      "execution_count": null,
      "outputs": []
    },
    {
      "cell_type": "code",
      "metadata": {
        "colab": {
          "base_uri": "https://localhost:8080/"
        },
        "id": "MxBxC8FdISzf",
        "outputId": "0e86df3c-5650-4a42-ee9d-f085d67e8254"
      },
      "source": [
        "# tokenize 함수 정의\n",
        "def tokenize(en_text):\n",
        "    return [tok.text for tok in spacy_en.tokenizer(en_text)]\n",
        "\n",
        "en_text = \"A Dog Run back corner near spare bedrooms\"\n",
        "\n",
        "tokenize(en_text)"
      ],
      "execution_count": null,
      "outputs": [
        {
          "output_type": "execute_result",
          "data": {
            "text/plain": [
              "['A', 'Dog', 'Run', 'back', 'corner', 'near', 'spare', 'bedrooms']"
            ]
          },
          "metadata": {},
          "execution_count": 2
        }
      ]
    },
    {
      "cell_type": "markdown",
      "metadata": {
        "id": "xBW2SGBKMGdF"
      },
      "source": [
        "### 1.1.2 NLTK"
      ]
    },
    {
      "cell_type": "code",
      "metadata": {
        "colab": {
          "base_uri": "https://localhost:8080/"
        },
        "id": "PTXXLj8pMF6c",
        "outputId": "06bbf6f8-ec5e-4963-c680-3b95b98a3bc9"
      },
      "source": [
        "!pip install nltk\n",
        "import nltk\n",
        "nltk.download('punkt')"
      ],
      "execution_count": null,
      "outputs": [
        {
          "output_type": "stream",
          "text": [
            "Requirement already satisfied: nltk in /usr/local/lib/python3.7/dist-packages (3.2.5)\n",
            "Requirement already satisfied: six in /usr/local/lib/python3.7/dist-packages (from nltk) (1.15.0)\n",
            "[nltk_data] Downloading package punkt to /root/nltk_data...\n",
            "[nltk_data]   Unzipping tokenizers/punkt.zip.\n"
          ],
          "name": "stdout"
        },
        {
          "output_type": "execute_result",
          "data": {
            "text/plain": [
              "True"
            ]
          },
          "metadata": {},
          "execution_count": 4
        }
      ]
    },
    {
      "cell_type": "code",
      "metadata": {
        "colab": {
          "base_uri": "https://localhost:8080/"
        },
        "id": "FaFEuPs7MQsX",
        "outputId": "b9a77b9e-9bd8-40c4-c7f4-7097c33e74da"
      },
      "source": [
        "from nltk.tokenize import word_tokenize\n",
        "print(word_tokenize(en_text))"
      ],
      "execution_count": null,
      "outputs": [
        {
          "output_type": "stream",
          "text": [
            "['A', 'Dog', 'Run', 'back', 'corner', 'near', 'spare', 'bedrooms']\n"
          ],
          "name": "stdout"
        }
      ]
    },
    {
      "cell_type": "markdown",
      "metadata": {
        "id": "nsZ4FJTbMYiR"
      },
      "source": [
        "### 1.1.3 띄어쓰기로 토큰화"
      ]
    },
    {
      "cell_type": "code",
      "metadata": {
        "colab": {
          "base_uri": "https://localhost:8080/"
        },
        "id": "ui_rPEUIMYWA",
        "outputId": "d55ca79d-41c8-44db-ee24-291245542254"
      },
      "source": [
        "print(en_text.split())"
      ],
      "execution_count": null,
      "outputs": [
        {
          "output_type": "stream",
          "text": [
            "['A', 'Dog', 'Run', 'back', 'corner', 'near', 'spare', 'bedrooms']\n"
          ],
          "name": "stdout"
        }
      ]
    },
    {
      "cell_type": "markdown",
      "metadata": {
        "id": "66MGXhL5MfaC"
      },
      "source": [
        "영어의 경우 띄어쓰기 단위로 토큰화를 해도 단어들 간 구분이 꽤나 명확하기 때문에, 토큰화 작업이 수월. 하지만 한국어의 경우 조사, 접사 등으로 인해 __단순 띄어쓰기 단위로 나누면 같은 단어가 다른 단어로 인식되어서 단어 집합(vocabulary)의 크기가 불필요하게 커지므로 토큰화 작업이 까다로움.__\n",
        " * (ex)  '사과가', '사과를', '사과의', '사과와', '사과는' ..."
      ]
    },
    {
      "cell_type": "markdown",
      "metadata": {
        "id": "-Y-y-Hn_NPXl"
      },
      "source": [
        "### 1.1.4 한국어 형태소 단위 토큰화"
      ]
    },
    {
      "cell_type": "code",
      "metadata": {
        "id": "BaDIbS5mNTc7"
      },
      "source": [
        "# mecab 설치\n",
        "!git clone https://github.com/SOMJANG/Mecab-ko-for-Google-Colab.git\n",
        "%cd Mecab-ko-for-Google-Colab\n",
        "!bash install_mecab-ko_on_colab190912.sh\n",
        "\n",
        "from konlpy.tag import Mecab"
      ],
      "execution_count": null,
      "outputs": []
    },
    {
      "cell_type": "code",
      "metadata": {
        "colab": {
          "base_uri": "https://localhost:8080/"
        },
        "id": "ftRtG5qfNblm",
        "outputId": "da7dbd94-d640-47d7-d3be-41970d78ba35"
      },
      "source": [
        "tokenizer = Mecab()\n",
        "\n",
        "kor_text = \"사과의 놀라운 효능이라는 글을 봤어. 그래서 오늘 사과를 먹으려고 했는데 사과가 썩어서 슈퍼에 가서 사과랑 오렌지 사왔어\"\n",
        "print(tokenizer.morphs(kor_text))"
      ],
      "execution_count": null,
      "outputs": [
        {
          "output_type": "stream",
          "text": [
            "['사과', '의', '놀라운', '효능', '이', '라는', '글', '을', '봤', '어', '.', '그래서', '오늘', '사과', '를', '먹', '으려고', '했', '는데', '사과', '가', '썩', '어서', '슈퍼', '에', '가', '서', '사과', '랑', '오렌지', '사', '왔', '어']\n"
          ],
          "name": "stdout"
        }
      ]
    },
    {
      "cell_type": "markdown",
      "metadata": {
        "id": "7oIf4KzxNubL"
      },
      "source": [
        "### 1.1.5 문자 단위 토큰화"
      ]
    },
    {
      "cell_type": "code",
      "metadata": {
        "colab": {
          "base_uri": "https://localhost:8080/"
        },
        "id": "-9rtbGqNNytu",
        "outputId": "e091ad40-960c-41ba-dda7-ffad46be3bc8"
      },
      "source": [
        "print(list(en_text))"
      ],
      "execution_count": null,
      "outputs": [
        {
          "output_type": "stream",
          "text": [
            "['A', ' ', 'D', 'o', 'g', ' ', 'R', 'u', 'n', ' ', 'b', 'a', 'c', 'k', ' ', 'c', 'o', 'r', 'n', 'e', 'r', ' ', 'n', 'e', 'a', 'r', ' ', 's', 'p', 'a', 'r', 'e', ' ', 'b', 'e', 'd', 'r', 'o', 'o', 'm', 's']\n"
          ],
          "name": "stdout"
        }
      ]
    },
    {
      "cell_type": "markdown",
      "metadata": {
        "id": "ZWtluPg1N10J"
      },
      "source": [
        "## 1.2 Vocabulary"
      ]
    },
    {
      "cell_type": "markdown",
      "metadata": {
        "id": "j5ouqyZLOXYf"
      },
      "source": [
        "* __단어 집합(vocabuary)이란 중복을 제거한 텍스트의 총 단어의 집합(set)을 의미__"
      ]
    },
    {
      "cell_type": "code",
      "metadata": {
        "colab": {
          "base_uri": "https://localhost:8080/",
          "height": 359
        },
        "id": "6J3JDMs8Omo9",
        "outputId": "65d31615-2072-4405-c5c0-b468c9acab30"
      },
      "source": [
        "import urllib.request\n",
        "import pandas as pd\n",
        "from konlpy.tag import Mecab\n",
        "from nltk import FreqDist\n",
        "import numpy as np\n",
        "import matplotlib.pyplot as plt\n",
        "\n",
        "# '네이버 영화 리뷰 분류하기' 데이터 다운로드\n",
        "# 20만 개의 영화 리뷰를 긍정 1, 부정 0으로 레이블링한 데이터\n",
        "urllib.request.urlretrieve(\"https://raw.githubusercontent.com/e9t/nsmc/master/ratings.txt\", filename=\"ratings.txt\")\n",
        "data = pd.read_table('ratings.txt') # 데이터프레임에 저장\n",
        "data[:10]"
      ],
      "execution_count": null,
      "outputs": [
        {
          "output_type": "execute_result",
          "data": {
            "text/html": [
              "<div>\n",
              "<style scoped>\n",
              "    .dataframe tbody tr th:only-of-type {\n",
              "        vertical-align: middle;\n",
              "    }\n",
              "\n",
              "    .dataframe tbody tr th {\n",
              "        vertical-align: top;\n",
              "    }\n",
              "\n",
              "    .dataframe thead th {\n",
              "        text-align: right;\n",
              "    }\n",
              "</style>\n",
              "<table border=\"1\" class=\"dataframe\">\n",
              "  <thead>\n",
              "    <tr style=\"text-align: right;\">\n",
              "      <th></th>\n",
              "      <th>id</th>\n",
              "      <th>document</th>\n",
              "      <th>label</th>\n",
              "    </tr>\n",
              "  </thead>\n",
              "  <tbody>\n",
              "    <tr>\n",
              "      <th>0</th>\n",
              "      <td>8112052</td>\n",
              "      <td>어릴때보고 지금다시봐도 재밌어요ㅋㅋ</td>\n",
              "      <td>1</td>\n",
              "    </tr>\n",
              "    <tr>\n",
              "      <th>1</th>\n",
              "      <td>8132799</td>\n",
              "      <td>디자인을 배우는 학생으로, 외국디자이너와 그들이 일군 전통을 통해 발전해가는 문화산...</td>\n",
              "      <td>1</td>\n",
              "    </tr>\n",
              "    <tr>\n",
              "      <th>2</th>\n",
              "      <td>4655635</td>\n",
              "      <td>폴리스스토리 시리즈는 1부터 뉴까지 버릴께 하나도 없음.. 최고.</td>\n",
              "      <td>1</td>\n",
              "    </tr>\n",
              "    <tr>\n",
              "      <th>3</th>\n",
              "      <td>9251303</td>\n",
              "      <td>와.. 연기가 진짜 개쩔구나.. 지루할거라고 생각했는데 몰입해서 봤다.. 그래 이런...</td>\n",
              "      <td>1</td>\n",
              "    </tr>\n",
              "    <tr>\n",
              "      <th>4</th>\n",
              "      <td>10067386</td>\n",
              "      <td>안개 자욱한 밤하늘에 떠 있는 초승달 같은 영화.</td>\n",
              "      <td>1</td>\n",
              "    </tr>\n",
              "    <tr>\n",
              "      <th>5</th>\n",
              "      <td>2190435</td>\n",
              "      <td>사랑을 해본사람이라면 처음부터 끝까지 웃을수 있는영화</td>\n",
              "      <td>1</td>\n",
              "    </tr>\n",
              "    <tr>\n",
              "      <th>6</th>\n",
              "      <td>9279041</td>\n",
              "      <td>완전 감동입니다 다시봐도 감동</td>\n",
              "      <td>1</td>\n",
              "    </tr>\n",
              "    <tr>\n",
              "      <th>7</th>\n",
              "      <td>7865729</td>\n",
              "      <td>개들의 전쟁2 나오나요? 나오면 1빠로 보고 싶음</td>\n",
              "      <td>1</td>\n",
              "    </tr>\n",
              "    <tr>\n",
              "      <th>8</th>\n",
              "      <td>7477618</td>\n",
              "      <td>굿</td>\n",
              "      <td>1</td>\n",
              "    </tr>\n",
              "    <tr>\n",
              "      <th>9</th>\n",
              "      <td>9250537</td>\n",
              "      <td>바보가 아니라 병 쉰 인듯</td>\n",
              "      <td>1</td>\n",
              "    </tr>\n",
              "  </tbody>\n",
              "</table>\n",
              "</div>"
            ],
            "text/plain": [
              "         id                                           document  label\n",
              "0   8112052                                어릴때보고 지금다시봐도 재밌어요ㅋㅋ      1\n",
              "1   8132799  디자인을 배우는 학생으로, 외국디자이너와 그들이 일군 전통을 통해 발전해가는 문화산...      1\n",
              "2   4655635               폴리스스토리 시리즈는 1부터 뉴까지 버릴께 하나도 없음.. 최고.      1\n",
              "3   9251303  와.. 연기가 진짜 개쩔구나.. 지루할거라고 생각했는데 몰입해서 봤다.. 그래 이런...      1\n",
              "4  10067386                        안개 자욱한 밤하늘에 떠 있는 초승달 같은 영화.      1\n",
              "5   2190435                      사랑을 해본사람이라면 처음부터 끝까지 웃을수 있는영화      1\n",
              "6   9279041                                   완전 감동입니다 다시봐도 감동      1\n",
              "7   7865729                        개들의 전쟁2 나오나요? 나오면 1빠로 보고 싶음      1\n",
              "8   7477618                                                  굿      1\n",
              "9   9250537                                     바보가 아니라 병 쉰 인듯      1"
            ]
          },
          "metadata": {},
          "execution_count": 23
        }
      ]
    },
    {
      "cell_type": "code",
      "metadata": {
        "colab": {
          "base_uri": "https://localhost:8080/",
          "height": 467
        },
        "id": "5SsgA2O1QL2L",
        "outputId": "174af43a-4ffe-406d-9c38-fdc3ecc01cdc"
      },
      "source": [
        "# 임의로 100개만 저장\n",
        "sample_data = data[:100]\n",
        "\n",
        "# 한글과 공백을 제외하고 모두 제거\n",
        "sample_data['document'] = sample_data['document'].str.replace(\"[^ㄱ-ㅎㅏ-ㅣ가-힣 ]\",\"\")\n",
        "sample_data[:10]"
      ],
      "execution_count": null,
      "outputs": [
        {
          "output_type": "stream",
          "text": [
            "/usr/local/lib/python3.7/dist-packages/ipykernel_launcher.py:5: SettingWithCopyWarning: \n",
            "A value is trying to be set on a copy of a slice from a DataFrame.\n",
            "Try using .loc[row_indexer,col_indexer] = value instead\n",
            "\n",
            "See the caveats in the documentation: https://pandas.pydata.org/pandas-docs/stable/user_guide/indexing.html#returning-a-view-versus-a-copy\n",
            "  \"\"\"\n"
          ],
          "name": "stderr"
        },
        {
          "output_type": "execute_result",
          "data": {
            "text/html": [
              "<div>\n",
              "<style scoped>\n",
              "    .dataframe tbody tr th:only-of-type {\n",
              "        vertical-align: middle;\n",
              "    }\n",
              "\n",
              "    .dataframe tbody tr th {\n",
              "        vertical-align: top;\n",
              "    }\n",
              "\n",
              "    .dataframe thead th {\n",
              "        text-align: right;\n",
              "    }\n",
              "</style>\n",
              "<table border=\"1\" class=\"dataframe\">\n",
              "  <thead>\n",
              "    <tr style=\"text-align: right;\">\n",
              "      <th></th>\n",
              "      <th>id</th>\n",
              "      <th>document</th>\n",
              "      <th>label</th>\n",
              "    </tr>\n",
              "  </thead>\n",
              "  <tbody>\n",
              "    <tr>\n",
              "      <th>0</th>\n",
              "      <td>8112052</td>\n",
              "      <td>어릴때보고 지금다시봐도 재밌어요ㅋㅋ</td>\n",
              "      <td>1</td>\n",
              "    </tr>\n",
              "    <tr>\n",
              "      <th>1</th>\n",
              "      <td>8132799</td>\n",
              "      <td>디자인을 배우는 학생으로 외국디자이너와 그들이 일군 전통을 통해 발전해가는 문화산업...</td>\n",
              "      <td>1</td>\n",
              "    </tr>\n",
              "    <tr>\n",
              "      <th>2</th>\n",
              "      <td>4655635</td>\n",
              "      <td>폴리스스토리 시리즈는 부터 뉴까지 버릴께 하나도 없음 최고</td>\n",
              "      <td>1</td>\n",
              "    </tr>\n",
              "    <tr>\n",
              "      <th>3</th>\n",
              "      <td>9251303</td>\n",
              "      <td>와 연기가 진짜 개쩔구나 지루할거라고 생각했는데 몰입해서 봤다 그래 이런게 진짜 영화지</td>\n",
              "      <td>1</td>\n",
              "    </tr>\n",
              "    <tr>\n",
              "      <th>4</th>\n",
              "      <td>10067386</td>\n",
              "      <td>안개 자욱한 밤하늘에 떠 있는 초승달 같은 영화</td>\n",
              "      <td>1</td>\n",
              "    </tr>\n",
              "    <tr>\n",
              "      <th>5</th>\n",
              "      <td>2190435</td>\n",
              "      <td>사랑을 해본사람이라면 처음부터 끝까지 웃을수 있는영화</td>\n",
              "      <td>1</td>\n",
              "    </tr>\n",
              "    <tr>\n",
              "      <th>6</th>\n",
              "      <td>9279041</td>\n",
              "      <td>완전 감동입니다 다시봐도 감동</td>\n",
              "      <td>1</td>\n",
              "    </tr>\n",
              "    <tr>\n",
              "      <th>7</th>\n",
              "      <td>7865729</td>\n",
              "      <td>개들의 전쟁 나오나요 나오면 빠로 보고 싶음</td>\n",
              "      <td>1</td>\n",
              "    </tr>\n",
              "    <tr>\n",
              "      <th>8</th>\n",
              "      <td>7477618</td>\n",
              "      <td>굿</td>\n",
              "      <td>1</td>\n",
              "    </tr>\n",
              "    <tr>\n",
              "      <th>9</th>\n",
              "      <td>9250537</td>\n",
              "      <td>바보가 아니라 병 쉰 인듯</td>\n",
              "      <td>1</td>\n",
              "    </tr>\n",
              "  </tbody>\n",
              "</table>\n",
              "</div>"
            ],
            "text/plain": [
              "         id                                           document  label\n",
              "0   8112052                                어릴때보고 지금다시봐도 재밌어요ㅋㅋ      1\n",
              "1   8132799  디자인을 배우는 학생으로 외국디자이너와 그들이 일군 전통을 통해 발전해가는 문화산업...      1\n",
              "2   4655635                   폴리스스토리 시리즈는 부터 뉴까지 버릴께 하나도 없음 최고      1\n",
              "3   9251303   와 연기가 진짜 개쩔구나 지루할거라고 생각했는데 몰입해서 봤다 그래 이런게 진짜 영화지      1\n",
              "4  10067386                         안개 자욱한 밤하늘에 떠 있는 초승달 같은 영화      1\n",
              "5   2190435                      사랑을 해본사람이라면 처음부터 끝까지 웃을수 있는영화      1\n",
              "6   9279041                                   완전 감동입니다 다시봐도 감동      1\n",
              "7   7865729                           개들의 전쟁 나오나요 나오면 빠로 보고 싶음      1\n",
              "8   7477618                                                  굿      1\n",
              "9   9250537                                     바보가 아니라 병 쉰 인듯      1"
            ]
          },
          "metadata": {},
          "execution_count": 25
        }
      ]
    },
    {
      "cell_type": "code",
      "metadata": {
        "colab": {
          "base_uri": "https://localhost:8080/"
        },
        "id": "aLAcjUpIRGo7",
        "outputId": "bd6434e5-9951-4cea-d593-3ee7f7afd33a"
      },
      "source": [
        "# Tokenization\n",
        "\n",
        "# 불용어 정의\n",
        "stopwords = ['의','가','이','은','들','는','좀','잘','걍','과','도','를','으로','자','에','와','한','하다']\n",
        "\n",
        "# 형태소 분석기 정의\n",
        "tokenizer = Mecab()\n",
        "\n",
        "# 토큰화 수행\n",
        "tokenized=[]\n",
        "for sentence in sample_data['document']:\n",
        "    temp = tokenizer.morphs(sentence) # 형태소 단위 토큰화\n",
        "    temp = [word for word in temp if not word in stopwords] # 불용어 제거\n",
        "    tokenized.append(temp)\n",
        "\n",
        "print(tokenized[0])"
      ],
      "execution_count": null,
      "outputs": [
        {
          "output_type": "stream",
          "text": [
            "['어릴', '때', '보', '고', '지금', '다시', '봐도', '재밌', '어요', 'ㅋㅋ']\n"
          ],
          "name": "stdout"
        }
      ]
    },
    {
      "cell_type": "code",
      "metadata": {
        "colab": {
          "base_uri": "https://localhost:8080/"
        },
        "id": "2qxQ_ZTST4mx",
        "outputId": "c8d71560-3eeb-47a9-9ecc-96907fdb27c9"
      },
      "source": [
        "# Vocabulary\n",
        "\n",
        "vocab = FreqDist(np.hstack(tokenized)) # FreqDist : 빈도 계산\n",
        "print('단어 집합의 크기 : {}'.format(len(vocab)))"
      ],
      "execution_count": null,
      "outputs": [
        {
          "output_type": "stream",
          "text": [
            "단어 집합의 크기 : 664\n"
          ],
          "name": "stdout"
        }
      ]
    },
    {
      "cell_type": "markdown",
      "metadata": {
        "id": "z5ZNyQafVBMu"
      },
      "source": [
        "* 단어를 키(key)로, 단어에 대한 빈도수가 값(value)으로 dictionary 형태로 저장"
      ]
    },
    {
      "cell_type": "code",
      "metadata": {
        "colab": {
          "base_uri": "https://localhost:8080/"
        },
        "id": "6MrH1q8NUAZP",
        "outputId": "2b80a2fb-3f17-4472-a2d8-5e7619f28493"
      },
      "source": [
        "vocab['재밌']"
      ],
      "execution_count": null,
      "outputs": [
        {
          "output_type": "execute_result",
          "data": {
            "text/plain": [
              "10"
            ]
          },
          "metadata": {},
          "execution_count": 28
        }
      ]
    },
    {
      "cell_type": "code",
      "metadata": {
        "colab": {
          "base_uri": "https://localhost:8080/"
        },
        "id": "K_2lH7MoVQlw",
        "outputId": "ec7019e2-f91a-438f-87e2-ff73bc040327"
      },
      "source": [
        "# 단어 빈도 수로 했을 때 상위 vocab_size개의 단어만 보존\n",
        "vocab_size = 500\n",
        "vocab = vocab.most_common(vocab_size)\n",
        "print('단어 집합의 크기 : {}'.format(len(vocab)))"
      ],
      "execution_count": null,
      "outputs": [
        {
          "output_type": "stream",
          "text": [
            "단어 집합의 크기 : 500\n"
          ],
          "name": "stdout"
        }
      ]
    },
    {
      "cell_type": "code",
      "metadata": {
        "colab": {
          "base_uri": "https://localhost:8080/"
        },
        "id": "tIpEL_T7W-sG",
        "outputId": "60bc5db5-bff3-44b6-b1e7-710eea2d2479"
      },
      "source": [
        "vocab[:10]"
      ],
      "execution_count": null,
      "outputs": [
        {
          "output_type": "execute_result",
          "data": {
            "text/plain": [
              "[('다', 46),\n",
              " ('영화', 31),\n",
              " ('고', 27),\n",
              " ('을', 25),\n",
              " ('하', 21),\n",
              " ('있', 17),\n",
              " ('게', 17),\n",
              " ('보', 15),\n",
              " ('없', 13),\n",
              " ('최고', 13)]"
            ]
          },
          "metadata": {},
          "execution_count": 31
        }
      ]
    },
    {
      "cell_type": "markdown",
      "metadata": {
        "id": "xPOXYbMgWOX7"
      },
      "source": [
        "## 1.3 Integral Encoding"
      ]
    },
    {
      "cell_type": "code",
      "metadata": {
        "id": "fmWK__hpWX31"
      },
      "source": [
        "# 각 단어에 고유 index 부여\n",
        "word_to_index = {word[0] : index + 2 for index, word in enumerate(vocab)}\n",
        "word_to_index['pad'] = 1\n",
        "word_to_index['unk'] = 0"
      ],
      "execution_count": null,
      "outputs": []
    },
    {
      "cell_type": "code",
      "metadata": {
        "colab": {
          "base_uri": "https://localhost:8080/"
        },
        "id": "B4faPVa7Y8qP",
        "outputId": "5e99bb61-4d32-41fb-9921-fb75390e9fe6"
      },
      "source": [
        "word_to_index['재밌']"
      ],
      "execution_count": null,
      "outputs": [
        {
          "output_type": "execute_result",
          "data": {
            "text/plain": [
              "16"
            ]
          },
          "metadata": {},
          "execution_count": 41
        }
      ]
    },
    {
      "cell_type": "code",
      "metadata": {
        "id": "Bu2Pr5M_XFQm"
      },
      "source": [
        "# vocab index로 문장 encoding\n",
        "encoded = []\n",
        "for line in tokenized:\n",
        "    temp = []\n",
        "    for w in line: \n",
        "      try:\n",
        "        temp.append(word_to_index[w]) # 글자를 해당되는 정수로 변환\n",
        "      except KeyError: # 단어 집합에 없는 단어일 경우 unk로 대체된다.\n",
        "        temp.append(word_to_index['unk']) # unk의 인덱스로 변환\n",
        "\n",
        "    encoded.append(temp)"
      ],
      "execution_count": null,
      "outputs": []
    },
    {
      "cell_type": "code",
      "metadata": {
        "colab": {
          "base_uri": "https://localhost:8080/"
        },
        "id": "WXwcy9BAYJPf",
        "outputId": "bc49d3a9-5e67-4e59-fb03-4085bc9d73dd"
      },
      "source": [
        "print(encoded[0])"
      ],
      "execution_count": null,
      "outputs": [
        {
          "output_type": "stream",
          "text": [
            "[78, 27, 9, 4, 50, 41, 79, 16, 28, 29]\n"
          ],
          "name": "stdout"
        }
      ]
    },
    {
      "cell_type": "markdown",
      "metadata": {
        "id": "gKMjD7lXWTrL"
      },
      "source": [
        "## 1.4 Padding"
      ]
    },
    {
      "cell_type": "markdown",
      "metadata": {
        "id": "kL-4iXWJYcxw"
      },
      "source": [
        "정해준 길이로 모든 샘플들의 길이를 동일하게 함. 문장의 길이가 정해준 길이보다 짧은 샘플들에는 'pad' 토큰을 추가하여 길이를 맞춰줌."
      ]
    },
    {
      "cell_type": "code",
      "metadata": {
        "colab": {
          "base_uri": "https://localhost:8080/",
          "height": 333
        },
        "id": "3d-rBX47WYQ2",
        "outputId": "133c4b97-aff9-44d7-f85a-0d6783e3b3fb"
      },
      "source": [
        "max_len = max(len(l) for l in encoded)\n",
        "print('리뷰의 최대 길이 : %d' % max_len)\n",
        "print('리뷰의 최소 길이 : %d' % min(len(l) for l in encoded))\n",
        "print('리뷰의 평균 길이 : %f' % (sum(map(len, encoded))/len(encoded)))\n",
        "plt.hist([len(s) for s in encoded], bins=50)\n",
        "plt.xlabel('length of sample')\n",
        "plt.ylabel('number of sample')\n",
        "plt.show()"
      ],
      "execution_count": null,
      "outputs": [
        {
          "output_type": "stream",
          "text": [
            "리뷰의 최대 길이 : 63\n",
            "리뷰의 최소 길이 : 1\n",
            "리뷰의 평균 길이 : 13.900000\n"
          ],
          "name": "stdout"
        },
        {
          "output_type": "display_data",
          "data": {
            "image/png": "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\n",
            "text/plain": [
              "<Figure size 432x288 with 1 Axes>"
            ]
          },
          "metadata": {
            "needs_background": "light"
          }
        }
      ]
    },
    {
      "cell_type": "markdown",
      "metadata": {
        "id": "jhqDegWYZJdl"
      },
      "source": [
        "* max_len으로 문장 길이 통일하기 위해 padding 토큰 추가"
      ]
    },
    {
      "cell_type": "code",
      "metadata": {
        "colab": {
          "base_uri": "https://localhost:8080/",
          "height": 333
        },
        "id": "_zR8ZwjNZTtx",
        "outputId": "aa675c18-8fac-44d5-f85f-2aab53999f6b"
      },
      "source": [
        "for line in encoded:\n",
        "    if len(line) < max_len:\n",
        "        line += [word_to_index['pad']] * (max_len - len(line))\n",
        "\n",
        "print('리뷰의 최대 길이 : %d' % max(len(l) for l in encoded))\n",
        "print('리뷰의 최소 길이 : %d' % min(len(l) for l in encoded))\n",
        "print('리뷰의 평균 길이 : %f' % (sum(map(len, encoded))/len(encoded)))\n",
        "plt.hist([len(s) for s in encoded], bins=50)\n",
        "plt.xlabel('length of sample')\n",
        "plt.ylabel('number of sample')\n",
        "plt.show()"
      ],
      "execution_count": null,
      "outputs": [
        {
          "output_type": "stream",
          "text": [
            "리뷰의 최대 길이 : 63\n",
            "리뷰의 최소 길이 : 63\n",
            "리뷰의 평균 길이 : 63.000000\n"
          ],
          "name": "stdout"
        },
        {
          "output_type": "display_data",
          "data": {
            "image/png": "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\n",
            "text/plain": [
              "<Figure size 432x288 with 1 Axes>"
            ]
          },
          "metadata": {
            "needs_background": "light"
          }
        }
      ]
    },
    {
      "cell_type": "code",
      "metadata": {
        "colab": {
          "base_uri": "https://localhost:8080/"
        },
        "id": "LVQHGwWTZmMK",
        "outputId": "f4309392-9935-4ff1-d399-5793359b9723"
      },
      "source": [
        "print(encoded[0])"
      ],
      "execution_count": null,
      "outputs": [
        {
          "output_type": "stream",
          "text": [
            "[78, 27, 9, 4, 50, 41, 79, 16, 28, 29, 1, 1, 1, 1, 1, 1, 1, 1, 1, 1, 1, 1, 1, 1, 1, 1, 1, 1, 1, 1, 1, 1, 1, 1, 1, 1, 1, 1, 1, 1, 1, 1, 1, 1, 1, 1, 1, 1, 1, 1, 1, 1, 1, 1, 1, 1, 1, 1, 1, 1, 1, 1, 1]\n"
          ],
          "name": "stdout"
        }
      ]
    },
    {
      "cell_type": "markdown",
      "metadata": {
        "id": "elYAlaEYZuFm"
      },
      "source": [
        "# 2) Torchtext"
      ]
    },
    {
      "cell_type": "markdown",
      "metadata": {
        "id": "LQXhFd3_ZxQG"
      },
      "source": [
        "앞서 배운 과정들을 pytorch의 torchtext라는 도구로 좀 더 쉽게 수행할 수 있다\n",
        "* torchtext가 제공하는 기능들\n",
        " * __파일 로드하기(File Loading)__ : 다양한 포맷의 코퍼스를 로드합니다.\n",
        " * __토큰화(Tokenization)__ : 문장을 단어 단위로 분리해줍니다.\n",
        " * __단어 집합(Vocab)__ : 단어 집합을 만듭니다.\n",
        " * __정수 인코딩(Integer encoding)__ : 전체 코퍼스의 단어들을 각각의 고유한 정수로 맵핑합니다.\n",
        " * __단어 벡터(Word Vector)__ : 단어 집합의 단어들에 고유한 임베딩 벡터를 만들어줍니다. 랜덤값으로 초기화한 값일 수도 있고, 사전 훈련된 임베딩 벡터들을 로드할 수도 있습니다.\n",
        " * __배치화(Batching)__ : 훈련 샘플들의 배치를 만들어줍니다. 이 과정에서 패딩 작업(Padding)도 이루어집니다."
      ]
    },
    {
      "cell_type": "code",
      "metadata": {
        "id": "tYW5yIuSeHZW"
      },
      "source": [
        "pip install torchtext"
      ],
      "execution_count": null,
      "outputs": []
    },
    {
      "cell_type": "markdown",
      "metadata": {
        "id": "AiTTPQ8GaN0H"
      },
      "source": [
        "## 2.1 Tutorial (English)"
      ]
    },
    {
      "cell_type": "markdown",
      "metadata": {
        "id": "8OVJMdOnZG2q"
      },
      "source": [
        "### 2.1.1 Prepare Data"
      ]
    },
    {
      "cell_type": "code",
      "metadata": {
        "id": "KZGqKOxmaD0f",
        "colab": {
          "base_uri": "https://localhost:8080/"
        },
        "outputId": "5f6ff0ef-0ba3-44f3-9152-a909837e9ccb"
      },
      "source": [
        "import urllib.request\n",
        "import pandas as pd\n",
        "\n",
        "# IMDB 리뷰 데이터 다운로드\n",
        "urllib.request.urlretrieve(\"https://raw.githubusercontent.com/LawrenceDuan/IMDb-Review-Analysis/master/IMDb_Reviews.csv\", filename=\"IMDb_Reviews.csv\")"
      ],
      "execution_count": null,
      "outputs": [
        {
          "output_type": "execute_result",
          "data": {
            "text/plain": [
              "('IMDb_Reviews.csv', <http.client.HTTPMessage at 0x7f07c3753e90>)"
            ]
          },
          "metadata": {},
          "execution_count": 1
        }
      ]
    },
    {
      "cell_type": "code",
      "metadata": {
        "colab": {
          "base_uri": "https://localhost:8080/",
          "height": 204
        },
        "id": "dz9Bz-zbYdwL",
        "outputId": "0caeef97-8400-4bb8-ab97-1fef093649f5"
      },
      "source": [
        "df = pd.read_csv('IMDb_Reviews.csv', encoding='latin1')\n",
        "df.head() # sentiment : 1은 긍정, 0은 부정"
      ],
      "execution_count": null,
      "outputs": [
        {
          "output_type": "execute_result",
          "data": {
            "text/html": [
              "<div>\n",
              "<style scoped>\n",
              "    .dataframe tbody tr th:only-of-type {\n",
              "        vertical-align: middle;\n",
              "    }\n",
              "\n",
              "    .dataframe tbody tr th {\n",
              "        vertical-align: top;\n",
              "    }\n",
              "\n",
              "    .dataframe thead th {\n",
              "        text-align: right;\n",
              "    }\n",
              "</style>\n",
              "<table border=\"1\" class=\"dataframe\">\n",
              "  <thead>\n",
              "    <tr style=\"text-align: right;\">\n",
              "      <th></th>\n",
              "      <th>review</th>\n",
              "      <th>sentiment</th>\n",
              "    </tr>\n",
              "  </thead>\n",
              "  <tbody>\n",
              "    <tr>\n",
              "      <th>0</th>\n",
              "      <td>My family and I normally do not watch local mo...</td>\n",
              "      <td>1</td>\n",
              "    </tr>\n",
              "    <tr>\n",
              "      <th>1</th>\n",
              "      <td>Believe it or not, this was at one time the wo...</td>\n",
              "      <td>0</td>\n",
              "    </tr>\n",
              "    <tr>\n",
              "      <th>2</th>\n",
              "      <td>After some internet surfing, I found the \"Home...</td>\n",
              "      <td>0</td>\n",
              "    </tr>\n",
              "    <tr>\n",
              "      <th>3</th>\n",
              "      <td>One of the most unheralded great works of anim...</td>\n",
              "      <td>1</td>\n",
              "    </tr>\n",
              "    <tr>\n",
              "      <th>4</th>\n",
              "      <td>It was the Sixties, and anyone with long hair ...</td>\n",
              "      <td>0</td>\n",
              "    </tr>\n",
              "  </tbody>\n",
              "</table>\n",
              "</div>"
            ],
            "text/plain": [
              "                                              review  sentiment\n",
              "0  My family and I normally do not watch local mo...          1\n",
              "1  Believe it or not, this was at one time the wo...          0\n",
              "2  After some internet surfing, I found the \"Home...          0\n",
              "3  One of the most unheralded great works of anim...          1\n",
              "4  It was the Sixties, and anyone with long hair ...          0"
            ]
          },
          "metadata": {},
          "execution_count": 2
        }
      ]
    },
    {
      "cell_type": "code",
      "metadata": {
        "colab": {
          "base_uri": "https://localhost:8080/"
        },
        "id": "TKQM5eEBYnLY",
        "outputId": "ca08c50d-f28a-4bb4-fe23-d22ad8a0fc2b"
      },
      "source": [
        "print('전체 샘플의 개수 : {}'.format(len(df)))"
      ],
      "execution_count": null,
      "outputs": [
        {
          "output_type": "stream",
          "text": [
            "전체 샘플의 개수 : 50000\n"
          ],
          "name": "stdout"
        }
      ]
    },
    {
      "cell_type": "code",
      "metadata": {
        "id": "EcBS939dYxfB"
      },
      "source": [
        "# train data - test data 분리\n",
        "train_df = df[:25000]\n",
        "test_df = df[25000:]\n",
        "\n",
        "# csv 파일로 데이터 저장\n",
        "train_df.to_csv(\"train_data.csv\", index=False) # index=False : 인덱스 저장 X\n",
        "test_df.to_csv(\"test_data.csv\", index=False)"
      ],
      "execution_count": null,
      "outputs": []
    },
    {
      "cell_type": "markdown",
      "metadata": {
        "id": "b-yGAS4FZK6Y"
      },
      "source": [
        "### 2.1.2 Define Field"
      ]
    },
    {
      "cell_type": "code",
      "metadata": {
        "id": "pKJGrc2DZPYt"
      },
      "source": [
        "from torchtext.legacy import data\n",
        "\n",
        "# 필드 정의\n",
        "# \"어떻게 전처리를 진행할 것인지\"에 대한 객체를 정의한 것\n",
        "TEXT = data.Field(sequential=True,\n",
        "                  use_vocab=True,\n",
        "                  tokenize=str.split,\n",
        "                  lower=True,\n",
        "                  batch_first=True,\n",
        "                  fix_length=20)\n",
        "\n",
        "LABEL = data.Field(sequential=False,\n",
        "                   use_vocab=False,\n",
        "                   batch_first=False,\n",
        "                   is_target=True)"
      ],
      "execution_count": null,
      "outputs": []
    },
    {
      "cell_type": "markdown",
      "metadata": {
        "id": "f_KH4y5rbpKr"
      },
      "source": [
        "* sequential : 시퀀스 데이터 여부. (True가 기본값)\n",
        "* use_vocab : 단어 집합을 만들 것인지 여부. (True가 기본값)\n",
        "* tokenize : 어떤 토큰화 함수를 사용할 것인지 지정. (string.split이 기본값)\n",
        "* lower : 영어 데이터를 전부 소문자화한다. (False가 기본값)\n",
        "* batch_first : 미니 배치 차원을 맨 앞으로 하여 데이터를 불러올 것인지 여부. (False가 기본값)\n",
        "* is_target : 레이블 데이터 여부. (False가 기본값)\n",
        "* fix_length : 최대 허용 길이. 이 길이에 맞춰서 패딩 작업(Padding)이 진행된다"
      ]
    },
    {
      "cell_type": "markdown",
      "metadata": {
        "id": "YPvf4A8ecoyw"
      },
      "source": [
        "### 2.1.3 Build Dataset"
      ]
    },
    {
      "cell_type": "code",
      "metadata": {
        "id": "fE3gcWH3c03M"
      },
      "source": [
        "from torchtext.legacy.data import TabularDataset\n",
        "\n",
        "# TabularDataset은 데이터를 불러오면서 필드에서 정의했던 토큰화 방법으로 토큰화를 수행\n",
        "# .splits() : Create Dataset objects for multiple splits of a dataset\n",
        "train_data, test_data = TabularDataset.splits(\n",
        "                          path='.', # 파일이 위치한 경로\n",
        "                          train='train_data.csv', \n",
        "                          test='test_data.csv', \n",
        "                          format='csv',\n",
        "                          fields=[('text', TEXT), ('label', LABEL)], # 필드를 지정 (데이터 셋 내에서 해당 필드를 호칭할 이름, 지정할 필드)\n",
        "                          skip_header=True) # 데이터의 첫번째 줄은 무시"
      ],
      "execution_count": null,
      "outputs": []
    },
    {
      "cell_type": "code",
      "metadata": {
        "id": "Dp0pPKh_gzdO",
        "colab": {
          "base_uri": "https://localhost:8080/"
        },
        "outputId": "328e1544-e557-4cf9-b7d4-b801adc0d7f6"
      },
      "source": [
        "print(vars(train_data[0]))"
      ],
      "execution_count": null,
      "outputs": [
        {
          "output_type": "stream",
          "text": [
            "{'text': ['my', 'family', 'and', 'i', 'normally', 'do', 'not', 'watch', 'local', 'movies', 'for', 'the', 'simple', 'reason', 'that', 'they', 'are', 'poorly', 'made,', 'they', 'lack', 'the', 'depth,', 'and', 'just', 'not', 'worth', 'our', 'time.<br', '/><br', '/>the', 'trailer', 'of', '\"nasaan', 'ka', 'man\"', 'caught', 'my', 'attention,', 'my', 'daughter', 'in', \"law's\", 'and', \"daughter's\", 'so', 'we', 'took', 'time', 'out', 'to', 'watch', 'it', 'this', 'afternoon.', 'the', 'movie', 'exceeded', 'our', 'expectations.', 'the', 'cinematography', 'was', 'very', 'good,', 'the', 'story', 'beautiful', 'and', 'the', 'acting', 'awesome.', 'jericho', 'rosales', 'was', 'really', 'very', 'good,', \"so's\", 'claudine', 'barretto.', 'the', 'fact', 'that', 'i', 'despised', 'diether', 'ocampo', 'proves', 'he', 'was', 'effective', 'at', 'his', 'role.', 'i', 'have', 'never', 'been', 'this', 'touched,', 'moved', 'and', 'affected', 'by', 'a', 'local', 'movie', 'before.', 'imagine', 'a', 'cynic', 'like', 'me', 'dabbing', 'my', 'eyes', 'at', 'the', 'end', 'of', 'the', 'movie?', 'congratulations', 'to', 'star', 'cinema!!', 'way', 'to', 'go,', 'jericho', 'and', 'claudine!!'], 'label': '1'}\n"
          ],
          "name": "stdout"
        }
      ]
    },
    {
      "cell_type": "code",
      "metadata": {
        "colab": {
          "base_uri": "https://localhost:8080/"
        },
        "id": "frBlCGbI4uKv",
        "outputId": "3160b5c0-be0c-40c2-e8cc-58e4a1d429c9"
      },
      "source": [
        "print(train_data.fields.items())"
      ],
      "execution_count": null,
      "outputs": [
        {
          "output_type": "stream",
          "text": [
            "dict_items([('text', <torchtext.legacy.data.field.Field object at 0x7f07c3753c50>), ('label', <torchtext.legacy.data.field.Field object at 0x7f07c3158d10>)])\n"
          ],
          "name": "stdout"
        }
      ]
    },
    {
      "cell_type": "markdown",
      "metadata": {
        "id": "Go0penGB5Qau"
      },
      "source": [
        "### 2.1.4 Vocabulary"
      ]
    },
    {
      "cell_type": "markdown",
      "metadata": {
        "id": "wIPjc-R86iF-"
      },
      "source": [
        "* 각 단어에 고유한 정수를 맵핑해주는 정수 인코딩(Integer enoding)을 위해서는 단어 집합(Vocabulary) 필요"
      ]
    },
    {
      "cell_type": "code",
      "metadata": {
        "id": "G5CjgcgR6w1A"
      },
      "source": [
        "# 필드.build_vocab : 단어 집합 생성 \n",
        "TEXT.build_vocab(train_data, min_freq=10, max_size=10000)"
      ],
      "execution_count": null,
      "outputs": []
    },
    {
      "cell_type": "markdown",
      "metadata": {
        "id": "ExqcBAT066dX"
      },
      "source": [
        "* min_freq : 단어 집합에 추가 시 단어의 최소 등장 빈도 조건을 추가.\n",
        "* max_size : 단어 집합의 최대 크기를 지정."
      ]
    },
    {
      "cell_type": "code",
      "metadata": {
        "colab": {
          "base_uri": "https://localhost:8080/"
        },
        "id": "xK8QkmZi6_v4",
        "outputId": "be00c3af-4d28-43fb-bbb4-152cc883faaf"
      },
      "source": [
        "print('단어 집합의 크기 : {}'.format(len(TEXT.vocab)))"
      ],
      "execution_count": null,
      "outputs": [
        {
          "output_type": "stream",
          "text": [
            "단어 집합의 크기 : 10002\n"
          ],
          "name": "stdout"
        }
      ]
    },
    {
      "cell_type": "code",
      "metadata": {
        "colab": {
          "base_uri": "https://localhost:8080/"
        },
        "id": "seimcqGp6_sB",
        "outputId": "a35cb147-9059-4d10-cc91-c61514a6e7f1"
      },
      "source": [
        "print(TEXT.vocab.stoi)"
      ],
      "execution_count": null,
      "outputs": [
        {
          "output_type": "stream",
          "text": [
            "defaultdict(<bound method Vocab._default_unk_index of <torchtext.legacy.vocab.Vocab object at 0x7f073b8d4210>>, {'<unk>': 0, '<pad>': 1, 'the': 2, 'a': 3, 'and': 4, 'of': 5, 'to': 6, 'is': 7, 'in': 8, 'i': 9, 'this': 10, 'it': 11, 'that': 12, '/><br': 13, 'was': 14, ...}
          ],
          "name": "stdout"
        }
      ]
    },
    {
      "cell_type": "markdown",
      "metadata": {
        "id": "ekBLFCa17Vu_"
      },
      "source": [
        "* torchtext가 임의로 특별 토큰인 \<unk>와 \<pad>를 추가하여 생성된 vocab size는 max size + 2"
      ]
    },
    {
      "cell_type": "markdown",
      "metadata": {
        "id": "sOxs0z0w7mds"
      },
      "source": [
        "### 2.1.5 DataLoader"
      ]
    },
    {
      "cell_type": "code",
      "metadata": {
        "id": "vTYgUXHY7otx"
      },
      "source": [
        "# torchtext에서는 Iterator를 사용하여 DataLoader를 만듬\n",
        "from torchtext.legacy.data import Iterator"
      ],
      "execution_count": null,
      "outputs": []
    },
    {
      "cell_type": "code",
      "metadata": {
        "colab": {
          "base_uri": "https://localhost:8080/"
        },
        "id": "LiJrJmD87_t_",
        "outputId": "1bedfeb5-6b98-4d90-f325-18a3221eb52e"
      },
      "source": [
        "batch_size = 5\n",
        "\n",
        "train_loader = Iterator(dataset=train_data, batch_size = batch_size)\n",
        "test_loader = Iterator(dataset=test_data, batch_size = batch_size)\n",
        "\n",
        "print('훈련 데이터의 미니 배치 수 : {}'.format(len(train_loader))) # 25000 / 5\n",
        "print('테스트 데이터의 미니 배치 수 : {}'.format(len(test_loader))) # 25000 / 5"
      ],
      "execution_count": null,
      "outputs": [
        {
          "output_type": "stream",
          "text": [
            "훈련 데이터의 미니 배치 수 : 5000\n",
            "테스트 데이터의 미니 배치 수 : 5000\n"
          ],
          "name": "stdout"
        }
      ]
    },
    {
      "cell_type": "code",
      "metadata": {
        "id": "zdb6wurvI-t9"
      },
      "source": [
        "batch = next(iter(train_loader)) # 첫번째 미니배치를 batch에 저장"
      ],
      "execution_count": null,
      "outputs": []
    },
    {
      "cell_type": "code",
      "metadata": {
        "colab": {
          "base_uri": "https://localhost:8080/"
        },
        "id": "gd2DMQyMJAz7",
        "outputId": "7b2d3f4c-7637-4bb9-eb49-db658e5ac941"
      },
      "source": [
        "print(type(batch))"
      ],
      "execution_count": null,
      "outputs": [
        {
          "output_type": "stream",
          "text": [
            "<class 'torchtext.legacy.data.batch.Batch'>\n"
          ],
          "name": "stdout"
        }
      ]
    },
    {
      "cell_type": "markdown",
      "metadata": {
        "id": "az2dwHycQyZ1"
      },
      "source": [
        "앞서 배운 일반적인 DataLoader와 torchtext의 DataLoader는 조금 다른데, 일반적인 DataLoader는 미니 배치를 \"텐서\"로 가져오지만 torchtext의 DataLoader는 'torchtext.legacy.data.batch.Batch' 객체로 가져옴. 따라서 __실제 데이터 텐서에 접근하기 위해서는 정의한 필드명을 사용__해야 함."
      ]
    },
    {
      "cell_type": "code",
      "metadata": {
        "colab": {
          "base_uri": "https://localhost:8080/"
        },
        "id": "B-BkkBHXRfsk",
        "outputId": "bdb6d3fa-6e3c-422c-b8bc-1d1f81989365"
      },
      "source": [
        "# 필드명으로 첫번째 미니배치의 데이터 호출\n",
        "print(batch.text)\n",
        "print(batch.label)"
      ],
      "execution_count": null,
      "outputs": [
        {
          "output_type": "stream",
          "text": [
            "tensor([[   9,   82,  202,   10,   20,    8,    2,  993,   50,    9,   14, 1559,\n",
            "          182,  174,    4,   11,  126,    0,   88,  938],\n",
            "        [  19,    2,  111,  154,   34,    0,    0,    0,    0,   36,  726,    0,\n",
            "         1084,  278,    5,  195, 4176,    0,    0,    5],\n",
            "        [   9,  266,  979,    6,   74,    5,   10,   20,   50,    9,  358,   72,\n",
            "            2,  993,   18,    9,   64,   71, 1020,   16],\n",
            "        [   0,    0,  263, 5831,    3,    0,  403,  174,  302,   35,   41,  443,\n",
            "           45,  529,    4,  607,   11,  261,    6, 5790],\n",
            "        [   9,  202,   10,   19,    2,    0,   29,    2, 2946,  327,    4,    9,\n",
            "           26, 1417,  287,  395,   38,    9,  350,  145]])\n",
            "tensor([1, 0, 1, 1, 0])\n"
          ],
          "name": "stdout"
        }
      ]
    },
    {
      "cell_type": "markdown",
      "metadata": {
        "id": "g6H9GeMeR29s"
      },
      "source": [
        "* 앞서 Field를 정의할 때 fix_length = 20으로 지정하였으므로 모든 문장의 길이가 20으로 통일되었음\n",
        "* fix_length보다 길이가 짧은 문장은 자동적으로 <pad> 토큰인 1로 채워지게 됨\n",
        "* 각 샘플은 더 이상 단어 시퀀스가 아니라 정수 시퀀스임을 볼 수 있습니다. 각 단어는 단어 집합에서 정해진대로 각 단어에 맵핑되는 고유한 정수로 변환된 상태입니다. "
      ]
    },
    {
      "cell_type": "markdown",
      "metadata": {
        "id": "twOa1LmlaRCo"
      },
      "source": [
        "## 2.2 Tutorial (한국어)"
      ]
    },
    {
      "cell_type": "code",
      "metadata": {
        "id": "Mq7g2GGucxdm"
      },
      "source": [
        "# Colab에 형태소 분석기 Mecab 설치\n",
        "!git clone https://github.com/SOMJANG/Mecab-ko-for-Google-Colab.git\n",
        "%cd Mecab-ko-for-Google-Colab\n",
        "!bash install_mecab-ko_on_colab190912.sh"
      ],
      "execution_count": null,
      "outputs": []
    },
    {
      "cell_type": "markdown",
      "metadata": {
        "id": "_xak94nScTcO"
      },
      "source": [
        "### 2.2.1 Prepare Data"
      ]
    },
    {
      "cell_type": "code",
      "metadata": {
        "colab": {
          "base_uri": "https://localhost:8080/"
        },
        "id": "XTHe2yAyc3tI",
        "outputId": "54fd5548-d775-442b-b5c8-e9281938c244"
      },
      "source": [
        "import urllib.request\n",
        "import pandas as pd\n",
        "\n",
        "# data download\n",
        "urllib.request.urlretrieve(\"https://raw.githubusercontent.com/e9t/nsmc/master/ratings_train.txt\", filename=\"ratings_train.txt\")\n",
        "urllib.request.urlretrieve(\"https://raw.githubusercontent.com/e9t/nsmc/master/ratings_test.txt\", filename=\"ratings_test.txt\")"
      ],
      "execution_count": null,
      "outputs": [
        {
          "output_type": "execute_result",
          "data": {
            "text/plain": [
              "('ratings_test.txt', <http.client.HTTPMessage at 0x7f073a998e50>)"
            ]
          },
          "metadata": {},
          "execution_count": 21
        }
      ]
    },
    {
      "cell_type": "code",
      "metadata": {
        "colab": {
          "base_uri": "https://localhost:8080/"
        },
        "id": "F4QRomaic8R9",
        "outputId": "15daf2ba-77cc-4428-e24a-09e193f618c3"
      },
      "source": [
        "train_df = pd.read_table('ratings_train.txt')\n",
        "test_df = pd.read_table('ratings_test.txt')\n",
        "\n",
        "print('훈련 데이터 샘플의 개수 : {}'.format(len(train_df)))\n",
        "print('테스트 데이터 샘플의 개수 : {}'.format(len(test_df)))"
      ],
      "execution_count": null,
      "outputs": [
        {
          "output_type": "stream",
          "text": [
            "훈련 데이터 샘플의 개수 : 150000\n",
            "테스트 데이터 샘플의 개수 : 50000\n"
          ],
          "name": "stdout"
        }
      ]
    },
    {
      "cell_type": "code",
      "metadata": {
        "colab": {
          "base_uri": "https://localhost:8080/",
          "height": 204
        },
        "id": "eoV4S9hFdDNk",
        "outputId": "c7c356a9-3ef2-4316-e2de-8a4dd0bdeca3"
      },
      "source": [
        "# train data 상위 5개\n",
        "train_df.head()"
      ],
      "execution_count": null,
      "outputs": [
        {
          "output_type": "execute_result",
          "data": {
            "text/html": [
              "<div>\n",
              "<style scoped>\n",
              "    .dataframe tbody tr th:only-of-type {\n",
              "        vertical-align: middle;\n",
              "    }\n",
              "\n",
              "    .dataframe tbody tr th {\n",
              "        vertical-align: top;\n",
              "    }\n",
              "\n",
              "    .dataframe thead th {\n",
              "        text-align: right;\n",
              "    }\n",
              "</style>\n",
              "<table border=\"1\" class=\"dataframe\">\n",
              "  <thead>\n",
              "    <tr style=\"text-align: right;\">\n",
              "      <th></th>\n",
              "      <th>id</th>\n",
              "      <th>document</th>\n",
              "      <th>label</th>\n",
              "    </tr>\n",
              "  </thead>\n",
              "  <tbody>\n",
              "    <tr>\n",
              "      <th>0</th>\n",
              "      <td>9976970</td>\n",
              "      <td>아 더빙.. 진짜 짜증나네요 목소리</td>\n",
              "      <td>0</td>\n",
              "    </tr>\n",
              "    <tr>\n",
              "      <th>1</th>\n",
              "      <td>3819312</td>\n",
              "      <td>흠...포스터보고 초딩영화줄....오버연기조차 가볍지 않구나</td>\n",
              "      <td>1</td>\n",
              "    </tr>\n",
              "    <tr>\n",
              "      <th>2</th>\n",
              "      <td>10265843</td>\n",
              "      <td>너무재밓었다그래서보는것을추천한다</td>\n",
              "      <td>0</td>\n",
              "    </tr>\n",
              "    <tr>\n",
              "      <th>3</th>\n",
              "      <td>9045019</td>\n",
              "      <td>교도소 이야기구먼 ..솔직히 재미는 없다..평점 조정</td>\n",
              "      <td>0</td>\n",
              "    </tr>\n",
              "    <tr>\n",
              "      <th>4</th>\n",
              "      <td>6483659</td>\n",
              "      <td>사이몬페그의 익살스런 연기가 돋보였던 영화!스파이더맨에서 늙어보이기만 했던 커스틴 ...</td>\n",
              "      <td>1</td>\n",
              "    </tr>\n",
              "  </tbody>\n",
              "</table>\n",
              "</div>"
            ],
            "text/plain": [
              "         id                                           document  label\n",
              "0   9976970                                아 더빙.. 진짜 짜증나네요 목소리      0\n",
              "1   3819312                  흠...포스터보고 초딩영화줄....오버연기조차 가볍지 않구나      1\n",
              "2  10265843                                  너무재밓었다그래서보는것을추천한다      0\n",
              "3   9045019                      교도소 이야기구먼 ..솔직히 재미는 없다..평점 조정      0\n",
              "4   6483659  사이몬페그의 익살스런 연기가 돋보였던 영화!스파이더맨에서 늙어보이기만 했던 커스틴 ...      1"
            ]
          },
          "metadata": {},
          "execution_count": 23
        }
      ]
    },
    {
      "cell_type": "code",
      "metadata": {
        "colab": {
          "base_uri": "https://localhost:8080/",
          "height": 204
        },
        "id": "vMkCKbhRdCpo",
        "outputId": "ebe5e9cb-21de-4229-f4b9-053c805b0844"
      },
      "source": [
        "# test data 상위 5개\n",
        "test_df.head()"
      ],
      "execution_count": null,
      "outputs": [
        {
          "output_type": "execute_result",
          "data": {
            "text/html": [
              "<div>\n",
              "<style scoped>\n",
              "    .dataframe tbody tr th:only-of-type {\n",
              "        vertical-align: middle;\n",
              "    }\n",
              "\n",
              "    .dataframe tbody tr th {\n",
              "        vertical-align: top;\n",
              "    }\n",
              "\n",
              "    .dataframe thead th {\n",
              "        text-align: right;\n",
              "    }\n",
              "</style>\n",
              "<table border=\"1\" class=\"dataframe\">\n",
              "  <thead>\n",
              "    <tr style=\"text-align: right;\">\n",
              "      <th></th>\n",
              "      <th>id</th>\n",
              "      <th>document</th>\n",
              "      <th>label</th>\n",
              "    </tr>\n",
              "  </thead>\n",
              "  <tbody>\n",
              "    <tr>\n",
              "      <th>0</th>\n",
              "      <td>6270596</td>\n",
              "      <td>굳 ㅋ</td>\n",
              "      <td>1</td>\n",
              "    </tr>\n",
              "    <tr>\n",
              "      <th>1</th>\n",
              "      <td>9274899</td>\n",
              "      <td>GDNTOPCLASSINTHECLUB</td>\n",
              "      <td>0</td>\n",
              "    </tr>\n",
              "    <tr>\n",
              "      <th>2</th>\n",
              "      <td>8544678</td>\n",
              "      <td>뭐야 이 평점들은.... 나쁘진 않지만 10점 짜리는 더더욱 아니잖아</td>\n",
              "      <td>0</td>\n",
              "    </tr>\n",
              "    <tr>\n",
              "      <th>3</th>\n",
              "      <td>6825595</td>\n",
              "      <td>지루하지는 않은데 완전 막장임... 돈주고 보기에는....</td>\n",
              "      <td>0</td>\n",
              "    </tr>\n",
              "    <tr>\n",
              "      <th>4</th>\n",
              "      <td>6723715</td>\n",
              "      <td>3D만 아니었어도 별 다섯 개 줬을텐데.. 왜 3D로 나와서 제 심기를 불편하게 하죠??</td>\n",
              "      <td>0</td>\n",
              "    </tr>\n",
              "  </tbody>\n",
              "</table>\n",
              "</div>"
            ],
            "text/plain": [
              "        id                                           document  label\n",
              "0  6270596                                                굳 ㅋ      1\n",
              "1  9274899                               GDNTOPCLASSINTHECLUB      0\n",
              "2  8544678             뭐야 이 평점들은.... 나쁘진 않지만 10점 짜리는 더더욱 아니잖아      0\n",
              "3  6825595                   지루하지는 않은데 완전 막장임... 돈주고 보기에는....      0\n",
              "4  6723715  3D만 아니었어도 별 다섯 개 줬을텐데.. 왜 3D로 나와서 제 심기를 불편하게 하죠??      0"
            ]
          },
          "metadata": {},
          "execution_count": 24
        }
      ]
    },
    {
      "cell_type": "markdown",
      "metadata": {
        "id": "lkUjcCy-dWt2"
      },
      "source": [
        "* id column은 불필요"
      ]
    },
    {
      "cell_type": "markdown",
      "metadata": {
        "id": "y5gxuxrzcbqN"
      },
      "source": [
        "### 2.2.2 Define Field"
      ]
    },
    {
      "cell_type": "code",
      "metadata": {
        "id": "j0cBeVz9dhIZ"
      },
      "source": [
        "from torchtext.legacy import data \n",
        "from konlpy.tag import Mecab"
      ],
      "execution_count": null,
      "outputs": []
    },
    {
      "cell_type": "code",
      "metadata": {
        "id": "VYCi-Avqdm7R"
      },
      "source": [
        "# Mecab을 토큰화 도구로 사용\n",
        "tokenizer = Mecab()"
      ],
      "execution_count": null,
      "outputs": []
    },
    {
      "cell_type": "code",
      "metadata": {
        "id": "UYcPTpmdduuI"
      },
      "source": [
        "# 필드 정의\n",
        "ID = data.Field(sequential = False,\n",
        "                use_vocab = False) # 실제 사용은 하지 않을 예정\n",
        "\n",
        "TEXT = data.Field(sequential=True,\n",
        "                  use_vocab=True,\n",
        "                  tokenize=tokenizer.morphs,\n",
        "                  lower=True,\n",
        "                  batch_first=True,\n",
        "                  fix_length=20)\n",
        "\n",
        "LABEL = data.Field(sequential=False,\n",
        "                   use_vocab=False,\n",
        "                   is_target=True)"
      ],
      "execution_count": null,
      "outputs": []
    },
    {
      "cell_type": "markdown",
      "metadata": {
        "id": "varKwBU4cg8y"
      },
      "source": [
        "### 2.2.3 Build Dataset"
      ]
    },
    {
      "cell_type": "code",
      "metadata": {
        "id": "fiyv8-wRfYLx"
      },
      "source": [
        "from torchtext.legacy.data import TabularDataset"
      ],
      "execution_count": null,
      "outputs": []
    },
    {
      "cell_type": "code",
      "metadata": {
        "id": "AieXwSN6fcBJ"
      },
      "source": [
        "train_data, test_data = TabularDataset.splits(\n",
        "                          path = '.',\n",
        "                          train = 'ratings_train.txt', \n",
        "                          test = 'ratings_test.txt', \n",
        "                          format = 'tsv',\n",
        "                          fields = [('id', ID), ('text', TEXT), ('label', LABEL)], \n",
        "                          skip_header=True)"
      ],
      "execution_count": null,
      "outputs": []
    },
    {
      "cell_type": "code",
      "metadata": {
        "colab": {
          "base_uri": "https://localhost:8080/"
        },
        "id": "-AnFrLm5hOpj",
        "outputId": "326cf524-74cf-43d4-9f74-68f99eee9384"
      },
      "source": [
        "print('훈련 샘플의 개수 : {}'.format(len(train_data)))\n",
        "print('테스트 샘플의 개수 : {}'.format(len(test_data)))"
      ],
      "execution_count": null,
      "outputs": [
        {
          "output_type": "stream",
          "text": [
            "훈련 샘플의 개수 : 150000\n",
            "테스트 샘플의 개수 : 50000\n"
          ],
          "name": "stdout"
        }
      ]
    },
    {
      "cell_type": "code",
      "metadata": {
        "colab": {
          "base_uri": "https://localhost:8080/"
        },
        "id": "CTwZ2wgrhPvm",
        "outputId": "631a01ca-4d59-4273-badf-bd87b939a00d"
      },
      "source": [
        "print(vars(train_data[0]))"
      ],
      "execution_count": null,
      "outputs": [
        {
          "output_type": "stream",
          "text": [
            "{'id': '9976970', 'text': ['아', '더', '빙', '.', '.', '진짜', '짜증', '나', '네요', '목소리'], 'label': '0'}\n"
          ],
          "name": "stdout"
        }
      ]
    },
    {
      "cell_type": "code",
      "metadata": {
        "colab": {
          "base_uri": "https://localhost:8080/"
        },
        "id": "qi3leWL-hVcC",
        "outputId": "4fb37fc8-5a97-4b31-dc05-d5192d04c441"
      },
      "source": [
        "print(train_data.fields.items())"
      ],
      "execution_count": null,
      "outputs": [
        {
          "output_type": "stream",
          "text": [
            "dict_items([('id', <torchtext.legacy.data.field.Field object at 0x7f07313144d0>), ('text', <torchtext.legacy.data.field.Field object at 0x7f0731314550>), ('label', <torchtext.legacy.data.field.Field object at 0x7f07313145d0>)])\n"
          ],
          "name": "stdout"
        }
      ]
    },
    {
      "cell_type": "markdown",
      "metadata": {
        "id": "CAANVoyIckms"
      },
      "source": [
        "### 2.2.4 Vocabulary"
      ]
    },
    {
      "cell_type": "code",
      "metadata": {
        "id": "bd9hcmRKhfYA"
      },
      "source": [
        "# 필드.build_vocab : 단어 집합 생성\n",
        "TEXT.build_vocab(train_data, min_freq=10, max_size=10000)"
      ],
      "execution_count": null,
      "outputs": []
    },
    {
      "cell_type": "code",
      "metadata": {
        "colab": {
          "base_uri": "https://localhost:8080/"
        },
        "id": "Di1drko2hog2",
        "outputId": "8b43e898-2681-41fe-e678-9027f195c030"
      },
      "source": [
        "print('단어 집합의 크기 : {}'.format(len(TEXT.vocab)))\n",
        "print(TEXT.vocab.stoi)"
      ],
      "execution_count": null,
      "outputs": [
        {
          "output_type": "stream",
          "text": [
            "단어 집합의 크기 : 10002\n",
            "defaultdict(<bound method Vocab._default_unk_index of <torchtext.legacy.vocab.Vocab object at 0x7f07186d7510>>, {'<unk>': 0, '<pad>': 1, '.': 2, '이': 3, '는': 4, '영화': 5, '다': 6, '고': 7, '하': 8, '도': 9, '의': 10, '가': 11, '은': 12, '에': 13, '을': 14, '보': 15, '한': 16,...}
          ],
          "name": "stdout"
        }
      ]
    },
    {
      "cell_type": "markdown",
      "metadata": {
        "id": "rGwN3DzDcoix"
      },
      "source": [
        "### 2.1.5 DataLoader"
      ]
    },
    {
      "cell_type": "code",
      "metadata": {
        "id": "uVu5gfNBhz2i"
      },
      "source": [
        "from torchtext.legacy.data import Iterator"
      ],
      "execution_count": null,
      "outputs": []
    },
    {
      "cell_type": "code",
      "metadata": {
        "colab": {
          "base_uri": "https://localhost:8080/"
        },
        "id": "GX5Qa4YZh2Qm",
        "outputId": "93880ad2-3e82-470a-b7bb-e8d7954ee2ba"
      },
      "source": [
        "batch_size = 5\n",
        "\n",
        "train_loader = Iterator(dataset=train_data, batch_size = batch_size)\n",
        "test_loader = Iterator(dataset=test_data, batch_size = batch_size)\n",
        "\n",
        "print('훈련 데이터의 미니 배치 수 : {}'.format(len(train_loader))) # 150000 / 5\n",
        "print('테스트 데이터의 미니 배치 수 : {}'.format(len(test_loader))) # 50000 / 5"
      ],
      "execution_count": null,
      "outputs": [
        {
          "output_type": "stream",
          "text": [
            "훈련 데이터의 미니 배치 수 : 30000\n",
            "테스트 데이터의 미니 배치 수 : 10000\n"
          ],
          "name": "stdout"
        }
      ]
    },
    {
      "cell_type": "code",
      "metadata": {
        "colab": {
          "base_uri": "https://localhost:8080/"
        },
        "id": "X_8F2C5-iFVd",
        "outputId": "4acaa64f-26e8-4152-ec45-aba19f8e0304"
      },
      "source": [
        "batch = next(iter(train_loader)) # 첫번째 미니배치\n",
        "print(batch.text) # 필드명으로 첫번째 미니배치의 데이터 호출"
      ],
      "execution_count": null,
      "outputs": [
        {
          "output_type": "stream",
          "text": [
            "tensor([[ 733,   50,  281,   66,   31,  108,   74,   40,   46,  241, 1241,    6,\n",
            "          138, 3825,   50,  129,    7,  344, 2038,    4],\n",
            "        [ 195,  286,    5,  111,   67,   11,   65,   37, 1748,    4,  459,   21,\n",
            "           21,  128,  595,   50,   78,   66,   31, 3010],\n",
            "        [ 189,    0,    1,    1,    1,    1,    1,    1,    1,    1,    1,    1,\n",
            "            1,    1,    1,    1,    1,    1,    1,    1],\n",
            "        [   0,    0,  771,    0,   16,  769,    2,    1,    1,    1,    1,    1,\n",
            "            1,    1,    1,    1,    1,    1,    1,    1],\n",
            "        [  69,  428,   45, 1528,  185,   43,   52,    1,    1,    1,    1,    1,\n",
            "            1,    1,    1,    1,    1,    1,    1,    1]])\n"
          ],
          "name": "stdout"
        }
      ]
    },
    {
      "cell_type": "markdown",
      "metadata": {
        "id": "jG0BYiDQiSLz"
      },
      "source": [
        "* 기존 샘플 길이가 20보다 작았던 샘플들은 뒤에 <pad> 토큰의 번호인 숫자 1로 패딩되었음"
      ]
    },
    {
      "cell_type": "markdown",
      "metadata": {
        "id": "tSKC7Sw2aZcO"
      },
      "source": [
        "## 2.3 batch_first"
      ]
    },
    {
      "cell_type": "markdown",
      "metadata": {
        "id": "7kr1V1Vti7GV"
      },
      "source": [
        "torchtext에서 Field를 정의할 때 배치퍼스트(batch_first)를 True로 한 경우와 False를 한 경우 비교"
      ]
    },
    {
      "cell_type": "markdown",
      "metadata": {
        "id": "-m1IP6O2m-ar"
      },
      "source": [
        "* batch_first = True 인 경우"
      ]
    },
    {
      "cell_type": "code",
      "metadata": {
        "id": "daVXi0QKagya",
        "colab": {
          "base_uri": "https://localhost:8080/"
        },
        "outputId": "065d4604-d83a-413d-df8b-424596dca437"
      },
      "source": [
        "import urllib.request\n",
        "import pandas as pd\n",
        "from torchtext.legacy import data\n",
        "from torchtext.legacy.data import TabularDataset\n",
        "from torchtext.legacy.data import Iterator\n",
        "\n",
        "# data download\n",
        "urllib.request.urlretrieve(\"https://raw.githubusercontent.com/LawrenceDuan/IMDb-Review-Analysis/master/IMDb_Reviews.csv\", filename=\"IMDb_Reviews.csv\")\n",
        "df = pd.read_csv('IMDb_Reviews.csv', encoding='latin1')\n",
        "\n",
        "# 전체 샘플의 개수 : 50000\n",
        "train_df = df[:25000]\n",
        "test_df = df[25000:]\n",
        "\n",
        "# csv로 저장\n",
        "train_df.to_csv(\"train_data.csv\", index=False)\n",
        "test_df.to_csv(\"test_data.csv\", index=False)\n",
        "\n",
        "# 필드 정의\n",
        "TEXT = data.Field(sequential=True,\n",
        "                  use_vocab=True,\n",
        "                  tokenize=str.split,\n",
        "                  lower=True,\n",
        "                  batch_first=True, # <== False가 기본값\n",
        "                  fix_length=20)\n",
        "\n",
        "LABEL = data.Field(sequential=False,\n",
        "                   use_vocab=False,\n",
        "                   batch_first=False,\n",
        "                   is_target=True)\n",
        "\n",
        "# TabularDataset: 데이터를 불러오면서 필드에서 정의했던 토큰화 방법으로 토큰화 수행\n",
        "train_data, test_data = TabularDataset.splits(\n",
        "                            path='.', \n",
        "                            train='train_data.csv', \n",
        "                            test='test_data.csv', \n",
        "                            format='csv',\n",
        "                            fields=[('text', TEXT), ('label', LABEL)], \n",
        "                            skip_header=True)\n",
        "\n",
        "# [정의한 필드].build_vocab(): 단어 집합을 생성\n",
        "TEXT.build_vocab(train_data, min_freq=10, max_size=10000) # 10,000개의 단어를 가진 단어 집합 생성\n",
        "\n",
        "# 배치 크기를 정하고 첫번째 배치 출력\n",
        "batch_size = 5\n",
        "\n",
        "train_loader = Iterator(dataset=train_data, batch_size = batch_size)\n",
        "batch = next(iter(train_loader)) # 첫번째 미니배치\n",
        "print(batch.text) # 필드명으로 첫번째 미니배치 데이터 호출\n",
        "print(batch.text.shape) # (5, 20) => (배치 크기 × fix_length)"
      ],
      "execution_count": null,
      "outputs": [
        {
          "output_type": "stream",
          "text": [
            "tensor([[   9,   82,  202,   10,   20,    8,    2,  993,   50,    9,   14, 1559,\n",
            "          182,  174,    4,   11,  126,    0,   88,  938],\n",
            "        [  19,    2,  111,  154,   34,    0,    0,    0,    0,   36,  726,    0,\n",
            "         1084,  278,    5,  195, 4176,    0,    0,    5],\n",
            "        [   9,  266,  979,    6,   74,    5,   10,   20,   50,    9,  358,   72,\n",
            "            2,  993,   18,    9,   64,   71, 1020,   16],\n",
            "        [   0,    0,  263, 5831,    3,    0,  403,  174,  302,   35,   41,  443,\n",
            "           45,  529,    4,  607,   11,  261,    6, 5790],\n",
            "        [   9,  202,   10,   19,    2,    0,   29,    2, 2946,  327,    4,    9,\n",
            "           26, 1417,  287,  395,   38,    9,  350,  145]])\n",
            "torch.Size([5, 20])\n"
          ],
          "name": "stdout"
        }
      ]
    },
    {
      "cell_type": "markdown",
      "metadata": {
        "id": "xi8NG0jUoBx7"
      },
      "source": [
        "* batch_first = False 인 경우"
      ]
    },
    {
      "cell_type": "code",
      "metadata": {
        "colab": {
          "base_uri": "https://localhost:8080/"
        },
        "id": "fhl7qAGtoFa2",
        "outputId": "e92913b0-0416-4d25-ddf3-8f00e0d48e6b"
      },
      "source": [
        "# 필드 재정의\n",
        "TEXT = data.Field(sequential=True,\n",
        "                  use_vocab=True,\n",
        "                  tokenize=str.split,\n",
        "                  lower=True,\n",
        "                  batch_first=False, # <== False로 변경\n",
        "                  fix_length=20)\n",
        "\n",
        "LABEL = data.Field(sequential=False,\n",
        "                   use_vocab=False,\n",
        "                   batch_first=False,\n",
        "                   is_target=True)\n",
        "\n",
        "# TabularDataset: 데이터를 불러오면서 필드에서 정의했던 토큰화 방법으로 토큰화 수행\n",
        "train_data, test_data = TabularDataset.splits(\n",
        "                            path='.', \n",
        "                            train='train_data.csv', \n",
        "                            test='test_data.csv', \n",
        "                            format='csv',\n",
        "                            fields=[('text', TEXT), ('label', LABEL)], \n",
        "                            skip_header=True)\n",
        "\n",
        "# [정의한 필드].build_vocab(): 단어 집합을 생성\n",
        "TEXT.build_vocab(train_data, min_freq=10, max_size=10000) # 10,000개의 단어를 가진 단어 집합 생성\n",
        "\n",
        "# 배치 크기를 정하고 첫번째 배치 출력\n",
        "batch_size = 5\n",
        "\n",
        "train_loader = Iterator(dataset=train_data, batch_size = batch_size)\n",
        "batch = next(iter(train_loader)) # 첫번째 미니배치\n",
        "print(batch.text) # 필드명으로 첫번째 미니배치 데이터 호출\n",
        "print(batch.text.shape) # (20, 5) => (fix_length × 배치 크기)"
      ],
      "execution_count": null,
      "outputs": [
        {
          "output_type": "stream",
          "text": [
            "tensor([[   9,   19,    9,    0,    9],\n",
            "        [  82,    2,  266,    0,  202],\n",
            "        [ 202,  111,  979,  263,   10],\n",
            "        [  10,  154,    6, 5831,   19],\n",
            "        [  20,   34,   74,    3,    2],\n",
            "        [   8,    0,    5,    0,    0],\n",
            "        [   2,    0,   10,  403,   29],\n",
            "        [ 993,    0,   20,  174,    2],\n",
            "        [  50,    0,   50,  302, 2946],\n",
            "        [   9,   36,    9,   35,  327],\n",
            "        [  14,  726,  358,   41,    4],\n",
            "        [1559,    0,   72,  443,    9],\n",
            "        [ 182, 1084,    2,   45,   26],\n",
            "        [ 174,  278,  993,  529, 1417],\n",
            "        [   4,    5,   18,    4,  287],\n",
            "        [  11,  195,    9,  607,  395],\n",
            "        [ 126, 4176,   64,   11,   38],\n",
            "        [   0,    0,   71,  261,    9],\n",
            "        [  88,    0, 1020,    6,  350],\n",
            "        [ 938,    5,   16, 5790,  145]])\n",
            "torch.Size([20, 5])\n"
          ],
          "name": "stdout"
        }
      ]
    }
  ]
}
