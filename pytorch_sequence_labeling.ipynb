{
  "nbformat": 4,
  "nbformat_minor": 0,
  "metadata": {
    "colab": {
      "name": "pytorch_sequence_labeling.ipynb",
      "provenance": [],
      "collapsed_sections": [],
      "authorship_tag": "ABX9TyPPZdXhkBbS8HwQrNNIp5ZE",
      "include_colab_link": true
    },
    "kernelspec": {
      "name": "python3",
      "display_name": "Python 3"
    },
    "language_info": {
      "name": "python"
    },
    "accelerator": "GPU"
  },
  "cells": [
    {
      "cell_type": "markdown",
      "metadata": {
        "id": "view-in-github",
        "colab_type": "text"
      },
      "source": [
        "<a href=\"https://colab.research.google.com/github/injoon-pij/pytorch-learning/blob/master/pytorch_sequence_labeling.ipynb\" target=\"_parent\"><img src=\"https://colab.research.google.com/assets/colab-badge.svg\" alt=\"Open In Colab\"/></a>"
      ]
    },
    {
      "cell_type": "markdown",
      "metadata": {
        "id": "q-xFRu3OE0EI"
      },
      "source": [
        "# 1) Sequence Labeling"
      ]
    },
    {
      "cell_type": "markdown",
      "metadata": {
        "id": "LG1o7KvERiVU"
      },
      "source": [
        "## Tagging"
      ]
    },
    {
      "cell_type": "markdown",
      "metadata": {
        "id": "24sq9ii1RfZA"
      },
      "source": [
        " * 입력 시퀀스 X에 대하여 레이블 시퀀스 y를 각각 부여하는 작업을 시퀀스 레이블링 작업(Sequence Labeling Task)이라고 합\n",
        " * 태깅 작업은 대표적인 시퀀스 레이블링 작업 \n",
        " * 태깅을 해야하는 단어 데이터를 X, 레이블에 해당되는 태깅 정보 데이터는 y라고 할 때 X와 y데이터의 쌍(pair)은 병렬 구조를 가짐"
      ]
    },
    {
      "cell_type": "markdown",
      "metadata": {
        "id": "NqEUd3C4QXNp"
      },
      "source": [
        "* 구축할 모델의 특징\n",
        " * RNN의 다-대-다(Many-to-Many) 모델\n",
        " * 앞뒤 시점의 입력을 모두 참고하는 양방향 RNN(Bidirectional RNN)을 사용\n",
        " * X와 y의 각 샘플의 길이가 같다"
      ]
    },
    {
      "cell_type": "markdown",
      "metadata": {
        "id": "57t8o2KcQrzN"
      },
      "source": [
        "![image.png](data:image/png;base64,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)"
      ]
    },
    {
      "cell_type": "markdown",
      "metadata": {
        "id": "53WI9AXGSr77"
      },
      "source": [
        "# 2) Pos Tagging by Bi-directional RNN"
      ]
    },
    {
      "cell_type": "markdown",
      "metadata": {
        "id": "xSvcOmDfbLfM"
      },
      "source": [
        "## 2.1 Data preprocessing"
      ]
    },
    {
      "cell_type": "code",
      "metadata": {
        "id": "HoWROmupEttc"
      },
      "source": [
        "# setting\n",
        "import torch\n",
        "import torch.nn as nn\n",
        "import torch.nn.functional as F\n",
        "import torch.optim as optim\n",
        "from torchtext.legacy import data\n",
        "from torchtext.legacy import datasets\n",
        "import time\n",
        "import random\n",
        "\n",
        "# seed\n",
        "SEED = 1234\n",
        "random.seed(SEED)\n",
        "torch.manual_seed(SEED)\n",
        "\n",
        "# device\n",
        "device = torch.device('cuda' if torch.cuda.is_available() else 'cpu')"
      ],
      "execution_count": 1,
      "outputs": []
    },
    {
      "cell_type": "markdown",
      "metadata": {
        "id": "VsajstcQbRQP"
      },
      "source": [
        "### 2.1.1 Data Field"
      ]
    },
    {
      "cell_type": "code",
      "metadata": {
        "id": "mntBao87bTez"
      },
      "source": [
        "TEXT = data.Field(lower = True)\n",
        "UD_TAGS = data.Field(unk_token = None)\n",
        "PTB_TAGS = data.Field(unk_token = None)\n",
        "\n",
        "fields = ((\"text\", TEXT), (\"udtags\", UD_TAGS), (\"ptbtags\", PTB_TAGS))"
      ],
      "execution_count": 2,
      "outputs": []
    },
    {
      "cell_type": "markdown",
      "metadata": {
        "id": "gF4H3JpFbrDd"
      },
      "source": [
        "### 2.1.2 Data Load"
      ]
    },
    {
      "cell_type": "code",
      "metadata": {
        "id": "t7tc6YX0bn7R"
      },
      "source": [
        "train_data, valid_data, test_data = datasets.UDPOS.splits(fields)"
      ],
      "execution_count": 3,
      "outputs": []
    },
    {
      "cell_type": "code",
      "metadata": {
        "colab": {
          "base_uri": "https://localhost:8080/"
        },
        "id": "QLs64G6Sb0fq",
        "outputId": "98032ae6-e68a-4b74-f75f-c3a39f5d5999"
      },
      "source": [
        "print(f\"훈련 샘플의 개수 : {len(train_data)}\")\n",
        "print(f\"검증 샘플의 개수 : {len(valid_data)}\")\n",
        "print(f\"테스트 샘플의 개수 : {len(test_data)}\")"
      ],
      "execution_count": 4,
      "outputs": [
        {
          "output_type": "stream",
          "name": "stdout",
          "text": [
            "훈련 샘플의 개수 : 12543\n",
            "검증 샘플의 개수 : 2002\n",
            "테스트 샘플의 개수 : 2077\n"
          ]
        }
      ]
    },
    {
      "cell_type": "code",
      "metadata": {
        "colab": {
          "base_uri": "https://localhost:8080/"
        },
        "id": "S9Viu7U6b0v6",
        "outputId": "dc0280bd-a0e0-4e53-f1b6-037f0c2239ad"
      },
      "source": [
        "# 데이터 확인\n",
        "print(vars(train_data.examples[0])['text']) # 입력 시퀀스\n",
        "print(vars(train_data.examples[0])['udtags']) # 레이블 시퀀스\n",
        "print(vars(train_data.examples[0])['ptbtags']) # 레이블 시퀀스로 사용되지 않을 예정"
      ],
      "execution_count": 5,
      "outputs": [
        {
          "output_type": "stream",
          "name": "stdout",
          "text": [
            "['al', '-', 'zaman', ':', 'american', 'forces', 'killed', 'shaikh', 'abdullah', 'al', '-', 'ani', ',', 'the', 'preacher', 'at', 'the', 'mosque', 'in', 'the', 'town', 'of', 'qaim', ',', 'near', 'the', 'syrian', 'border', '.']\n",
            "['PROPN', 'PUNCT', 'PROPN', 'PUNCT', 'ADJ', 'NOUN', 'VERB', 'PROPN', 'PROPN', 'PROPN', 'PUNCT', 'PROPN', 'PUNCT', 'DET', 'NOUN', 'ADP', 'DET', 'NOUN', 'ADP', 'DET', 'NOUN', 'ADP', 'PROPN', 'PUNCT', 'ADP', 'DET', 'ADJ', 'NOUN', 'PUNCT']\n",
            "['NNP', 'HYPH', 'NNP', ':', 'JJ', 'NNS', 'VBD', 'NNP', 'NNP', 'NNP', 'HYPH', 'NNP', ',', 'DT', 'NN', 'IN', 'DT', 'NN', 'IN', 'DT', 'NN', 'IN', 'NNP', ',', 'IN', 'DT', 'JJ', 'NN', '.']\n"
          ]
        }
      ]
    },
    {
      "cell_type": "markdown",
      "metadata": {
        "id": "dgzar7Jxdtg_"
      },
      "source": [
        "### 2.1.3 Vocabulary"
      ]
    },
    {
      "cell_type": "markdown",
      "metadata": {
        "id": "jMsveKGxiPTE"
      },
      "source": [
        "단어 집합 생성 시 사전 훈련된 워드 임베딩인 GloVe를 사용"
      ]
    },
    {
      "cell_type": "code",
      "metadata": {
        "id": "V92u2hx6dvRi"
      },
      "source": [
        "# 최소 허용 빈도\n",
        "MIN_FREQ = 5\n",
        "\n",
        "# 사전 훈련된 워드 임베딩 GloVe 다운로드\n",
        "TEXT.build_vocab(train_data, min_freq = MIN_FREQ, vectors = \"glove.6B.100d\")\n",
        "UD_TAGS.build_vocab(train_data)\n",
        "PTB_TAGS.build_vocab(train_data)"
      ],
      "execution_count": 6,
      "outputs": []
    },
    {
      "cell_type": "code",
      "metadata": {
        "colab": {
          "base_uri": "https://localhost:8080/"
        },
        "id": "ynyWrSmLiY8U",
        "outputId": "34984a81-e39e-4f30-daee-a2c419fa8c0c"
      },
      "source": [
        "# 상위 빈도수 20개 단어\n",
        "print(TEXT.vocab.freqs.most_common(20))"
      ],
      "execution_count": 7,
      "outputs": [
        {
          "output_type": "stream",
          "name": "stdout",
          "text": [
            "[('the', 9076), ('.', 8640), (',', 7021), ('to', 5137), ('and', 5002), ('a', 3782), ('of', 3622), ('i', 3379), ('in', 3112), ('is', 2239), ('you', 2156), ('that', 2036), ('it', 1850), ('for', 1842), ('-', 1426), ('have', 1359), ('\"', 1296), ('on', 1273), ('was', 1244), ('with', 1216)]\n"
          ]
        }
      ]
    },
    {
      "cell_type": "code",
      "metadata": {
        "colab": {
          "base_uri": "https://localhost:8080/"
        },
        "id": "NnC7jO11ic5c",
        "outputId": "2599ec22-926d-45c1-cd4c-519d2ad877df"
      },
      "source": [
        "print('단어집합의 크기 : {}'.format(len(TEXT.vocab.itos)))\n",
        "print(TEXT.vocab.itos[:10])"
      ],
      "execution_count": 8,
      "outputs": [
        {
          "output_type": "stream",
          "name": "stdout",
          "text": [
            "단어집합의 크기 : 3921\n",
            "['<unk>', '<pad>', 'the', '.', ',', 'to', 'and', 'a', 'of', 'i']\n"
          ]
        }
      ]
    },
    {
      "cell_type": "markdown",
      "metadata": {
        "id": "h5jFOHK0obog"
      },
      "source": [
        "* TEXT.vocab.stoi : token-index list\n",
        "\n",
        "* TEXT.vocab.itos : token-index dictionary\n",
        "\n",
        " * s = str, i = index"
      ]
    },
    {
      "cell_type": "code",
      "metadata": {
        "colab": {
          "base_uri": "https://localhost:8080/"
        },
        "id": "O5pHNONbpKpf",
        "outputId": "13cdf922-fb2e-4c27-dfa7-8f20d7e0117d"
      },
      "source": [
        "# 상위 빈도수 20개 태그 레이블\n",
        "print(UD_TAGS.vocab.freqs.most_common())"
      ],
      "execution_count": 9,
      "outputs": [
        {
          "output_type": "stream",
          "name": "stdout",
          "text": [
            "[('NOUN', 34781), ('PUNCT', 23679), ('VERB', 23081), ('PRON', 18577), ('ADP', 17638), ('DET', 16285), ('PROPN', 12946), ('ADJ', 12477), ('AUX', 12343), ('ADV', 10548), ('CCONJ', 6707), ('PART', 5567), ('NUM', 3999), ('SCONJ', 3843), ('X', 847), ('INTJ', 688), ('SYM', 599)]\n"
          ]
        }
      ]
    },
    {
      "cell_type": "code",
      "metadata": {
        "colab": {
          "base_uri": "https://localhost:8080/"
        },
        "id": "btlC2pO8pSbB",
        "outputId": "7fb395bf-e5b5-4c15-f83e-ce9fbcb9cbd2"
      },
      "source": [
        "print('태그 레이블 단어집합의 크기 : {}'.format(len(UD_TAGS.vocab.itos)))\n",
        "print(UD_TAGS.vocab.itos[:10])"
      ],
      "execution_count": 10,
      "outputs": [
        {
          "output_type": "stream",
          "name": "stdout",
          "text": [
            "태그 레이블 단어집합의 크기 : 18\n",
            "['<pad>', 'NOUN', 'PUNCT', 'VERB', 'PRON', 'ADP', 'DET', 'PROPN', 'ADJ', 'AUX']\n"
          ]
        }
      ]
    },
    {
      "cell_type": "code",
      "metadata": {
        "id": "av6L9ObypZQZ"
      },
      "source": [
        "# 태그 레이블의 분포를 확인하는 함수\n",
        "def tag_percentage(tag_counts):\n",
        "    total_count = sum([count for tag, count in tag_counts])\n",
        "    tag_counts_percentages = [(tag, count, count/total_count) for tag, count in tag_counts]\n",
        "\n",
        "    return tag_counts_percentages"
      ],
      "execution_count": 11,
      "outputs": []
    },
    {
      "cell_type": "code",
      "metadata": {
        "colab": {
          "base_uri": "https://localhost:8080/"
        },
        "id": "x22_9xWssPq0",
        "outputId": "1eb7e66b-26da-4f69-b1cd-41f29a8e2c54"
      },
      "source": [
        "print(\"Tag  Occurences Percentage\\n\")\n",
        "for tag, count, percent in tag_percentage(UD_TAGS.vocab.freqs.most_common()):\n",
        "    print(f\"{tag}\\t{count}\\t{percent*100:4.1f}%\")"
      ],
      "execution_count": 12,
      "outputs": [
        {
          "output_type": "stream",
          "name": "stdout",
          "text": [
            "Tag  Occurences Percentage\n",
            "\n",
            "NOUN\t34781\t17.0%\n",
            "PUNCT\t23679\t11.6%\n",
            "VERB\t23081\t11.3%\n",
            "PRON\t18577\t 9.1%\n",
            "ADP\t17638\t 8.6%\n",
            "DET\t16285\t 8.0%\n",
            "PROPN\t12946\t 6.3%\n",
            "ADJ\t12477\t 6.1%\n",
            "AUX\t12343\t 6.0%\n",
            "ADV\t10548\t 5.2%\n",
            "CCONJ\t6707\t 3.3%\n",
            "PART\t5567\t 2.7%\n",
            "NUM\t3999\t 2.0%\n",
            "SCONJ\t3843\t 1.9%\n",
            "X\t847\t 0.4%\n",
            "INTJ\t688\t 0.3%\n",
            "SYM\t599\t 0.3%\n"
          ]
        }
      ]
    },
    {
      "cell_type": "markdown",
      "metadata": {
        "id": "9FFHW3FwskPO"
      },
      "source": [
        "### 2.1.4 DataLoader"
      ]
    },
    {
      "cell_type": "code",
      "metadata": {
        "id": "-FUim6wxsqfT"
      },
      "source": [
        "BATCH_SIZE = 64\n",
        "\n",
        "train_iterator, valid_iterator, test_iterator = data.BucketIterator.splits(\n",
        "    (train_data, valid_data, test_data), \n",
        "    batch_size = BATCH_SIZE,\n",
        "    device = device)"
      ],
      "execution_count": 13,
      "outputs": []
    },
    {
      "cell_type": "code",
      "metadata": {
        "id": "HbkIBCIsuHwZ"
      },
      "source": [
        "# 데이터 확인\n",
        "batch = next(iter(train_iterator))"
      ],
      "execution_count": 14,
      "outputs": []
    },
    {
      "cell_type": "code",
      "metadata": {
        "colab": {
          "base_uri": "https://localhost:8080/"
        },
        "id": "JJYqnDAPuLhq",
        "outputId": "0667e597-bed1-4748-a22c-8bafbd564b8d"
      },
      "source": [
        "print(batch)\n",
        "print(batch.text.shape)\n",
        "print(batch.text)"
      ],
      "execution_count": 15,
      "outputs": [
        {
          "output_type": "stream",
          "name": "stdout",
          "text": [
            "\n",
            "[torchtext.legacy.data.batch.Batch of size 64 from UDPOS]\n",
            "\t[.text]:[torch.cuda.LongTensor of size 46x64 (GPU 0)]\n",
            "\t[.udtags]:[torch.cuda.LongTensor of size 46x64 (GPU 0)]\n",
            "\t[.ptbtags]:[torch.cuda.LongTensor of size 46x64 (GPU 0)]\n",
            "torch.Size([46, 64])\n",
            "tensor([[ 732,  167,    2,  ...,    2,   59,  668],\n",
            "        [  16,  196,  133,  ..., 2991,   46,    1],\n",
            "        [   1,   29,   48,  ..., 1582,   12,    1],\n",
            "        ...,\n",
            "        [   1,    1,    1,  ...,    1,    1,    1],\n",
            "        [   1,    1,    1,  ...,    1,    1,    1],\n",
            "        [   1,    1,    1,  ...,    1,    1,    1]], device='cuda:0')\n"
          ]
        }
      ]
    },
    {
      "cell_type": "markdown",
      "metadata": {
        "id": "V4q2a2W3u9dH"
      },
      "source": [
        "앞서 Field를 정의했을 때, batch_first(default = False)를 True로 설정하지 않았기 때문에 배치크기가 데이터의 두번째 차원이 되었음 "
      ]
    },
    {
      "cell_type": "markdown",
      "metadata": {
        "id": "GyFZRIv0sstN"
      },
      "source": [
        "## 2.2 Modeling"
      ]
    },
    {
      "cell_type": "markdown",
      "metadata": {
        "id": "iyi7laYFvV6G"
      },
      "source": [
        "### 2.2.1 Define class"
      ]
    },
    {
      "cell_type": "code",
      "metadata": {
        "id": "4W4byr8kvSW0"
      },
      "source": [
        "class RNNPOSTagger(nn.Module):\n",
        "    def __init__(self, vocab_size, embedding_dim, hidden_dim, output_dim, n_layers, bidirectional, dropout): \n",
        "        super().__init__()\n",
        "\n",
        "        self.embedding = nn.Embedding(vocab_size, embedding_dim)\n",
        "        self.rnn = nn.LSTM(embedding_dim, hidden_dim, num_layers = n_layers, bidirectional = bidirectional)\n",
        "        self.fc = nn.Linear(hidden_dim * 2 if bidirectional else hidden_dim, output_dim)        \n",
        "        self.dropout = nn.Dropout(dropout)\n",
        "\n",
        "    def forward(self, text):\n",
        "        # text = [sequence len, batch size]\n",
        "        embedded = self.dropout(self.embedding(text))\n",
        "\n",
        "        # embedded = [sequence len, batch size, emb dim] -> batch_fist = False\n",
        "        outputs, (hidden, cell) = self.rnn(embedded)\n",
        "\n",
        "        # output = [sequence len, batch size, hid dim * n directions]\n",
        "        # hidden/cell = [n layers * n directions, batch size, hid dim]\n",
        "        predictions = self.fc(self.dropout(outputs))\n",
        "\n",
        "        # predictions = [sequence len, batch size, output dim]\n",
        "        return predictions"
      ],
      "execution_count": 16,
      "outputs": []
    },
    {
      "cell_type": "code",
      "metadata": {
        "id": "jpC_V0xwveUr"
      },
      "source": [
        "INPUT_DIM = len(TEXT.vocab)\n",
        "EMBEDDING_DIM = 100\n",
        "HIDDEN_DIM = 128\n",
        "OUTPUT_DIM = len(UD_TAGS.vocab)\n",
        "N_LAYERS = 2\n",
        "BIDIRECTIONAL = True\n",
        "DROPOUT = 0.25\n",
        "\n",
        "model = RNNPOSTagger(vocab_size = INPUT_DIM, \n",
        "                     embedding_dim = EMBEDDING_DIM, \n",
        "                     hidden_dim = HIDDEN_DIM, \n",
        "                     output_dim = OUTPUT_DIM, \n",
        "                     n_layers = N_LAYERS, \n",
        "                     bidirectional = BIDIRECTIONAL, \n",
        "                     dropout = DROPOUT)"
      ],
      "execution_count": 17,
      "outputs": []
    },
    {
      "cell_type": "code",
      "metadata": {
        "colab": {
          "base_uri": "https://localhost:8080/"
        },
        "id": "NA4HRaj2ve5w",
        "outputId": "df296576-d4b2-4a61-e916-82eadb323057"
      },
      "source": [
        "# 파라미터 개수 출력\n",
        "def count_parameters(model):\n",
        "    return sum(p.numel() for p in model.parameters() if p.requires_grad)\n",
        "\n",
        "print(f'The model has {count_parameters(model):,} trainable parameters')"
      ],
      "execution_count": 18,
      "outputs": [
        {
          "output_type": "stream",
          "name": "stdout",
          "text": [
            "The model has 1,027,510 trainable parameters\n"
          ]
        }
      ]
    },
    {
      "cell_type": "markdown",
      "metadata": {
        "id": "qFVzGZfr3MW-"
      },
      "source": [
        "* torch.numel() : Returns the total number of elements in the input tensor."
      ]
    },
    {
      "cell_type": "markdown",
      "metadata": {
        "id": "vwgzLf3fvgd7"
      },
      "source": [
        "### 2.2.2 Embedding Layer(Pretrained Vectors)"
      ]
    },
    {
      "cell_type": "code",
      "metadata": {
        "colab": {
          "base_uri": "https://localhost:8080/"
        },
        "id": "aAK0GsJQvpgL",
        "outputId": "1b9ca8fb-503a-4708-cb8c-ae0366cef13f"
      },
      "source": [
        "pretrained_embeddings = TEXT.vocab.vectors\n",
        "print(pretrained_embeddings.shape)"
      ],
      "execution_count": 19,
      "outputs": [
        {
          "output_type": "stream",
          "name": "stdout",
          "text": [
            "torch.Size([3921, 100])\n"
          ]
        }
      ]
    },
    {
      "cell_type": "markdown",
      "metadata": {
        "id": "0EH21B9u4Blm"
      },
      "source": [
        "* 단어 집합에 존재하는 총 3,921개의 단어에 대해서 100차원의 벡터로 임베딩되어 있음"
      ]
    },
    {
      "cell_type": "code",
      "metadata": {
        "colab": {
          "base_uri": "https://localhost:8080/"
        },
        "id": "ASdvbFWO4GVU",
        "outputId": "801d7e18-5a2e-4438-e9d7-c86b1948bfa0"
      },
      "source": [
        "# 임베딩 벡터값 copy하여 모델의 embedding layer에 연결\n",
        "model.embedding.weight.data.copy_(pretrained_embeddings)"
      ],
      "execution_count": 20,
      "outputs": [
        {
          "output_type": "execute_result",
          "data": {
            "text/plain": [
              "tensor([[ 0.0000,  0.0000,  0.0000,  ...,  0.0000,  0.0000,  0.0000],\n",
              "        [ 0.0000,  0.0000,  0.0000,  ...,  0.0000,  0.0000,  0.0000],\n",
              "        [-0.0382, -0.2449,  0.7281,  ..., -0.1459,  0.8278,  0.2706],\n",
              "        ...,\n",
              "        [-0.1020,  0.7700,  0.1169,  ..., -0.1416, -0.1932, -0.4225],\n",
              "        [-0.0263,  0.0179, -0.5016,  ..., -0.8688,  0.9409, -0.2882],\n",
              "        [ 0.1519,  0.4712,  0.0895,  ..., -0.4702, -0.3127,  0.1078]])"
            ]
          },
          "metadata": {},
          "execution_count": 20
        }
      ]
    },
    {
      "cell_type": "markdown",
      "metadata": {
        "id": "110fMIx59U5i"
      },
      "source": [
        "* 첫번째 임베딩 벡터와 두번째 임베딩 벡터는 각각 <unk> 토큰과 <pad> 토큰\n",
        " * 만약 두 임베딩 벡터가 제로벡터가 아니라면 제로벡터로 변환해주어야 함"
      ]
    },
    {
      "cell_type": "markdown",
      "metadata": {
        "id": "zQPcmBP2vqCP"
      },
      "source": [
        "### 2.2.3 Optimizer/Cost Function"
      ]
    },
    {
      "cell_type": "code",
      "metadata": {
        "id": "Y-zGCiSEvxxy"
      },
      "source": [
        "# optimizer\n",
        "optimizer = optim.Adam(model.parameters())\n",
        "\n",
        "# Cost Function\n",
        "TAG_PAD_IDX = UD_TAGS.vocab.stoi[UD_TAGS.pad_token]\n",
        "criterion = nn.CrossEntropyLoss(ignore_index = TAG_PAD_IDX).to(device)"
      ],
      "execution_count": 21,
      "outputs": []
    },
    {
      "cell_type": "markdown",
      "metadata": {
        "id": "rCb7TIs4A1C3"
      },
      "source": [
        "* 레이블 시퀀스에 속해있는 패딩 토큰은 비용 함수의 연산에 포함시키지 않도록 이를 무시하라고 지정함\n",
        " * ```nn.CrossEntropyLoss(ignore_index =)``` : Specifies a target value that is ignored and does not contribute to the input gradient"
      ]
    },
    {
      "cell_type": "code",
      "metadata": {
        "colab": {
          "base_uri": "https://localhost:8080/"
        },
        "id": "uYNuId72CESP",
        "outputId": "328f265a-bd25-4fa3-aa65-4fe1aca892f6"
      },
      "source": [
        "# 출력(예측값) 크기 확인\n",
        "model = model.to(device)\n",
        "prediction = model(batch.text)\n",
        "print(prediction.shape) # (시퀀스 길이 × 배치 크기 × 레이블 단어집합의 크기)\n",
        "\n",
        "prediction = prediction.view(-1, prediction.shape[-1])\n",
        "print(prediction.shape)"
      ],
      "execution_count": 22,
      "outputs": [
        {
          "output_type": "stream",
          "name": "stdout",
          "text": [
            "torch.Size([46, 64, 18])\n",
            "torch.Size([2944, 18])\n"
          ]
        }
      ]
    },
    {
      "cell_type": "code",
      "metadata": {
        "colab": {
          "base_uri": "https://localhost:8080/"
        },
        "id": "i1D7RzrJHGR7",
        "outputId": "efa7148f-f54d-4170-b377-8a4c7a9a2ce4"
      },
      "source": [
        "# 해당 배치에 대한 레이블 데이터 크기 확인\n",
        "print(batch.udtags.shape)\n",
        "print(batch.udtags.view(-1).shape)"
      ],
      "execution_count": 23,
      "outputs": [
        {
          "output_type": "stream",
          "name": "stdout",
          "text": [
            "torch.Size([46, 64])\n",
            "torch.Size([2944])\n"
          ]
        }
      ]
    },
    {
      "cell_type": "code",
      "metadata": {
        "id": "Un8aIOLCMdcL"
      },
      "source": [
        "# iterator 재설정\n",
        "train_iterator, valid_iterator, test_iterator = data.BucketIterator.splits(\n",
        "    (train_data, valid_data, test_data), \n",
        "    batch_size = BATCH_SIZE,\n",
        "    device = device)"
      ],
      "execution_count": 24,
      "outputs": []
    },
    {
      "cell_type": "markdown",
      "metadata": {
        "id": "4HD31tjvvycq"
      },
      "source": [
        "### 2.2.4 Train & Evaluate"
      ]
    },
    {
      "cell_type": "code",
      "metadata": {
        "id": "TdJlTHiPHZkQ"
      },
      "source": [
        "def categorical_accuracy(preds, y, tag_pad_idx, device):\n",
        "    \"\"\"\n",
        "    미니 배치에 대한 정확도 출력\n",
        "    \"\"\"\n",
        "\n",
        "    # preds [sequence len * batch size, output dim] -> max_preds [sequence len * batch size, 1]\n",
        "    max_preds = preds.argmax(dim = 1, keepdim = True) # get the index of the max probability\n",
        "\n",
        "    # y [sequence len * batch size]\n",
        "    non_pad_elements = (y != tag_pad_idx).nonzero()\n",
        "    correct = max_preds[non_pad_elements].squeeze(dim = 1).eq(y[non_pad_elements])\n",
        "    return correct.sum() / torch.FloatTensor([y[non_pad_elements].shape[0]]).to(device)"
      ],
      "execution_count": 25,
      "outputs": []
    },
    {
      "cell_type": "markdown",
      "metadata": {
        "id": "tnDXrfDjSo0h"
      },
      "source": [
        "* ```nonzero()``` : 입력 텐서값들 중 값이 0이 아닌 데이터들의 인덱스를 반환\n",
        "\n",
        "```python\n",
        "torch.Tensor([1,2,3,0,0]).nonzero()\n",
        "\n",
        ">>> tensor([[0],\n",
        "            [1],\n",
        "            [2]])\n",
        "\n",
        "torch.Tensor([[1,2,3,0,0],\n",
        "             [0,0,0,2,3]]).nonzero()\n",
        "\n",
        ">>> tensor([[0, 0],\n",
        "            [0, 1],\n",
        "            [0, 2],\n",
        "            [1, 3],\n",
        "            [1, 4]])\n",
        "```\n",
        "\n",
        "* ```squeeze(dim = 1)``` : 지정한 차원에 대해서만 squeeze 연산을 행함. 만약 차원의 크기가 1인 차원이 있다고 하더라도, 지정한 차원이 아니면 squeeze 연산이 실행되지 않음\n",
        "\n",
        "```python\n",
        "torch.tensor([[1],\n",
        "              [2],\n",
        "              [3]]).squeeze(dim = 0)\n",
        "\n",
        ">>> tensor([[1],\n",
        "            [2],\n",
        "            [3]])\n",
        "\n",
        "torch.tensor([[1],\n",
        "              [2],\n",
        "              [3]]).squeeze(dim = 1)\n",
        "\n",
        ">>> tensor([1, 2, 3])\n",
        "```"
      ]
    },
    {
      "cell_type": "markdown",
      "metadata": {
        "id": "lkdbo8hahu-Q"
      },
      "source": [
        "#### def categorical_accuracy() 이해"
      ]
    },
    {
      "cell_type": "markdown",
      "metadata": {
        "id": "4oMG59y3RTlA"
      },
      "source": [
        "함수의 이해를 돕기 위해 예시 데이터를 뽑아서 확인 "
      ]
    },
    {
      "cell_type": "code",
      "metadata": {
        "id": "gwiEwtQXYIUH"
      },
      "source": [
        "# 예시 데이터\n",
        "batch = next(iter(train_iterator))\n",
        "tag_pad_idx = 0\n",
        "\n",
        "model = model.to(device)\n",
        "prediction = model(batch.text)\n",
        "tag = batch.udtags\n",
        "\n",
        "# Flatten\n",
        "prediction = prediction.view(-1, prediction.shape[-1]) #prediction = [sequence len * batch size, output dim]\n",
        "tag = tag.view(-1) # tag = [sequence len * batch_size]"
      ],
      "execution_count": 26,
      "outputs": []
    },
    {
      "cell_type": "markdown",
      "metadata": {
        "id": "gQimvLseUveo"
      },
      "source": [
        "* max_preds = preds.argmax(dim = 1, keepdim = True) 확인\n",
        " * ```keepdim = True``` : 입력 데이터 차원이 유지됨"
      ]
    },
    {
      "cell_type": "code",
      "metadata": {
        "colab": {
          "base_uri": "https://localhost:8080/"
        },
        "id": "yRKoQCuiRO2v",
        "outputId": "f17d73aa-9377-4261-bfcc-9c26919b49e7"
      },
      "source": [
        "max_pred = prediction.argmax(dim = 1, keepdim = True)\n",
        "\n",
        "# 입력 데이터 차원이 유지된 것을 확인\n",
        "print('prediction 크기 : {}'.format(prediction.shape))\n",
        "print('max_pred 크기 : {}'.format(max_pred.shape))\n",
        "print('tag 크기 : {}'.format(tag.shape))"
      ],
      "execution_count": 27,
      "outputs": [
        {
          "output_type": "stream",
          "name": "stdout",
          "text": [
            "prediction 크기 : torch.Size([2944, 18])\n",
            "max_pred 크기 : torch.Size([2944, 1])\n",
            "tag 크기 : torch.Size([2944])\n"
          ]
        }
      ]
    },
    {
      "cell_type": "markdown",
      "metadata": {
        "id": "yRiJFHWoVHnC"
      },
      "source": [
        "* non_pad_elements = (y != tag_pad_idx).nonzero() 확인\n",
        " * y의 데이터들 중 값이 tag_pad_idx(= 0)와 다른 데이터들의 인덱스들을 차례대로 반환"
      ]
    },
    {
      "cell_type": "code",
      "metadata": {
        "colab": {
          "base_uri": "https://localhost:8080/"
        },
        "id": "e7GI67XPUt9Y",
        "outputId": "2d811f1c-c796-4884-e9ac-bfe55c8a9021"
      },
      "source": [
        "non_pad_elements = (tag != tag_pad_idx).nonzero()\n",
        "\n",
        "# non_pad_elements의 최종차원(1065)과, 최종차원의 인덱스 데이터(2847)가 다른 것을 확인\n",
        "print('non_pad_elements[-5:-1] : {}'.format(non_pad_elements[-5:-1]))\n",
        "print('non_pad_elements 크기 : {}'.format(non_pad_elements.shape))"
      ],
      "execution_count": 28,
      "outputs": [
        {
          "output_type": "stream",
          "name": "stdout",
          "text": [
            "non_pad_elements[-5:-1] : tensor([[2655],\n",
            "        [2719],\n",
            "        [2783],\n",
            "        [2847]], device='cuda:0')\n",
            "non_pad_elements 크기 : torch.Size([1065, 1])\n"
          ]
        }
      ]
    },
    {
      "cell_type": "markdown",
      "metadata": {
        "id": "OHhY-HR3YnuP"
      },
      "source": [
        "* correct = max_preds[non_pad_elements].squeeze(dim = 1).eq(y[non_pad_elements]) 확인\n",
        " * 앞서 구한 인덱스 데이터를 각각 max_preds와 y의 데이터 인덱싱에 사용하여 두 데이터의 형상을 같게 만든 뒤 비교"
      ]
    },
    {
      "cell_type": "code",
      "metadata": {
        "colab": {
          "base_uri": "https://localhost:8080/"
        },
        "id": "67iptMWzYpbn",
        "outputId": "e4bc47e4-1e66-4047-e94d-280e8d88db49"
      },
      "source": [
        "# max_pred[non_pad_elements]가 한 차원 더 많아 데이터 크기가 다르므로, squeeze로 줄여줘야 함\n",
        "print('max_pred[non_pad_elements] 크기 : {}'.format(max_pred[non_pad_elements].shape))\n",
        "print('tag[non_pad_elements] 크기 : {}'.format(tag[non_pad_elements].shape))\n",
        "\n",
        "correct = max_pred[non_pad_elements].squeeze(dim = 1).eq(tag[non_pad_elements])\n",
        "print('correct 크기 : {}'.format(correct.shape))"
      ],
      "execution_count": 29,
      "outputs": [
        {
          "output_type": "stream",
          "name": "stdout",
          "text": [
            "max_pred[non_pad_elements] 크기 : torch.Size([1065, 1, 1])\n",
            "tag[non_pad_elements] 크기 : torch.Size([1065, 1])\n",
            "correct 크기 : torch.Size([1065, 1])\n"
          ]
        }
      ]
    },
    {
      "cell_type": "code",
      "metadata": {
        "id": "8FCdiItwR1E0"
      },
      "source": [
        "# iterator 재설정\n",
        "train_iterator, valid_iterator, test_iterator = data.BucketIterator.splits(\n",
        "    (train_data, valid_data, test_data), \n",
        "    batch_size = BATCH_SIZE,\n",
        "    device = device)"
      ],
      "execution_count": 30,
      "outputs": []
    },
    {
      "cell_type": "markdown",
      "metadata": {
        "id": "IhE3g7eqh7L9"
      },
      "source": [
        "---"
      ]
    },
    {
      "cell_type": "code",
      "metadata": {
        "id": "sRUIpanYIlRz"
      },
      "source": [
        "def train(model, iterator, optimizer, criterion, tag_pad_idx, device):\n",
        "\n",
        "    epoch_loss = 0\n",
        "    epoch_acc = 0\n",
        "\n",
        "    model = model.to(device)\n",
        "    model.train()\n",
        "\n",
        "    for batch in iterator:\n",
        "\n",
        "        text = batch.text\n",
        "        tags = batch.udtags\n",
        "\n",
        "        optimizer.zero_grad()\n",
        "\n",
        "        #text = [sequence len, batch size]     \n",
        "        predictions = model(text)\n",
        "\n",
        "        #predictions = [sequence len, batch size, output dim]\n",
        "        #tags = [sequence len, batch size]\n",
        "        predictions = predictions.view(-1, predictions.shape[-1]) # #predictions = [sequence len * batch size, output dim]\n",
        "        tags = tags.view(-1) # tags = [sequence len * batch_size]\n",
        "\n",
        "        #predictions = [sequence len * batch size, output dim]\n",
        "        #tags = [sequence len * batch size]\n",
        "        loss = criterion(predictions, tags)\n",
        "\n",
        "        acc = categorical_accuracy(predictions, tags, tag_pad_idx, device)\n",
        "\n",
        "        loss.backward()\n",
        "\n",
        "        optimizer.step()\n",
        "\n",
        "        epoch_loss += loss.item()\n",
        "        epoch_acc += acc.item()\n",
        "\n",
        "    return epoch_loss / len(iterator), epoch_acc / len(iterator)"
      ],
      "execution_count": 31,
      "outputs": []
    },
    {
      "cell_type": "code",
      "metadata": {
        "id": "7-X7Hw6_InZD"
      },
      "source": [
        "def evaluate(model, iterator, criterion, tag_pad_idx, device):\n",
        "\n",
        "    epoch_loss = 0\n",
        "    epoch_acc = 0\n",
        "\n",
        "    model = model.to(device)\n",
        "    model.eval()\n",
        "\n",
        "    with torch.no_grad():\n",
        "\n",
        "        for batch in iterator:\n",
        "\n",
        "            text = batch.text\n",
        "            tags = batch.udtags\n",
        "\n",
        "            predictions = model(text)\n",
        "\n",
        "            predictions = predictions.view(-1, predictions.shape[-1])\n",
        "            tags = tags.view(-1)\n",
        "\n",
        "            loss = criterion(predictions, tags)\n",
        "\n",
        "            acc = categorical_accuracy(predictions, tags, tag_pad_idx, device)\n",
        "\n",
        "            epoch_loss += loss.item()\n",
        "            epoch_acc += acc.item()\n",
        "\n",
        "    return epoch_loss / len(iterator), epoch_acc / len(iterator)"
      ],
      "execution_count": 32,
      "outputs": []
    },
    {
      "cell_type": "code",
      "metadata": {
        "colab": {
          "base_uri": "https://localhost:8080/"
        },
        "id": "cPVNZmG7IpQp",
        "outputId": "ac7fd9cf-e41c-49ad-f8ed-6119a8e8e945"
      },
      "source": [
        "N_EPOCHS = 10\n",
        "\n",
        "best_valid_loss = float('inf')\n",
        "\n",
        "for epoch in range(N_EPOCHS):\n",
        "\n",
        "    train_loss, train_acc = train(model, train_iterator, optimizer, criterion, TAG_PAD_IDX, device)\n",
        "    valid_loss, valid_acc = evaluate(model, valid_iterator, criterion, TAG_PAD_IDX, device)\n",
        "\n",
        "    if valid_loss < best_valid_loss:\n",
        "        best_valid_loss = valid_loss\n",
        "        torch.save(model.state_dict(), 'tut1-model.pt')\n",
        "\n",
        "    print(f'Epoch: {epoch+1:02}')\n",
        "    print(f'\\tTrain Loss: {train_loss:.3f} | Train Acc: {train_acc*100:.2f}%')\n",
        "    print(f'\\t Val. Loss: {valid_loss:.3f} |  Val. Acc: {valid_acc*100:.2f}%')"
      ],
      "execution_count": 33,
      "outputs": [
        {
          "output_type": "stream",
          "name": "stdout",
          "text": [
            "Epoch: 01\n",
            "\tTrain Loss: 1.107 | Train Acc: 65.47%\n",
            "\t Val. Loss: 0.663 |  Val. Acc: 80.06%\n",
            "Epoch: 02\n",
            "\tTrain Loss: 0.386 | Train Acc: 87.77%\n",
            "\t Val. Loss: 0.533 |  Val. Acc: 83.53%\n",
            "Epoch: 03\n",
            "\tTrain Loss: 0.303 | Train Acc: 90.18%\n",
            "\t Val. Loss: 0.489 |  Val. Acc: 84.55%\n",
            "Epoch: 04\n",
            "\tTrain Loss: 0.264 | Train Acc: 91.36%\n",
            "\t Val. Loss: 0.466 |  Val. Acc: 85.20%\n",
            "Epoch: 05\n",
            "\tTrain Loss: 0.237 | Train Acc: 92.20%\n",
            "\t Val. Loss: 0.449 |  Val. Acc: 85.60%\n",
            "Epoch: 06\n",
            "\tTrain Loss: 0.219 | Train Acc: 92.78%\n",
            "\t Val. Loss: 0.436 |  Val. Acc: 85.57%\n",
            "Epoch: 07\n",
            "\tTrain Loss: 0.204 | Train Acc: 93.31%\n",
            "\t Val. Loss: 0.428 |  Val. Acc: 85.88%\n",
            "Epoch: 08\n",
            "\tTrain Loss: 0.191 | Train Acc: 93.71%\n",
            "\t Val. Loss: 0.411 |  Val. Acc: 86.39%\n",
            "Epoch: 09\n",
            "\tTrain Loss: 0.180 | Train Acc: 94.03%\n",
            "\t Val. Loss: 0.413 |  Val. Acc: 86.44%\n",
            "Epoch: 10\n",
            "\tTrain Loss: 0.170 | Train Acc: 94.35%\n",
            "\t Val. Loss: 0.417 |  Val. Acc: 86.44%\n"
          ]
        }
      ]
    }
  ]
}