{
  "nbformat": 4,
  "nbformat_minor": 0,
  "metadata": {
    "colab": {
      "name": "pytorch_softmax_regression.ipynb",
      "provenance": [],
      "collapsed_sections": [],
      "authorship_tag": "ABX9TyMhgGjLvsqi58pH4WruDmXA",
      "include_colab_link": true
    },
    "kernelspec": {
      "name": "python3",
      "display_name": "Python 3"
    },
    "language_info": {
      "name": "python"
    },
    "accelerator": "GPU",
    "widgets": {
      "application/vnd.jupyter.widget-state+json": {
        "facc41ac31b5413c83b8ee88b29b875e": {
          "model_module": "@jupyter-widgets/controls",
          "model_name": "HBoxModel",
          "state": {
            "_view_name": "HBoxView",
            "_dom_classes": [],
            "_model_name": "HBoxModel",
            "_view_module": "@jupyter-widgets/controls",
            "_model_module_version": "1.5.0",
            "_view_count": null,
            "_view_module_version": "1.5.0",
            "box_style": "",
            "layout": "IPY_MODEL_12e6a0ea6d4449d39f8187d65c4ffbdc",
            "_model_module": "@jupyter-widgets/controls",
            "children": [
              "IPY_MODEL_750c1dded1e34cc684450ea168de976a",
              "IPY_MODEL_8c4ba4f156f34d20b7e0a157ad1d254b"
            ]
          }
        },
        "12e6a0ea6d4449d39f8187d65c4ffbdc": {
          "model_module": "@jupyter-widgets/base",
          "model_name": "LayoutModel",
          "state": {
            "_view_name": "LayoutView",
            "grid_template_rows": null,
            "right": null,
            "justify_content": null,
            "_view_module": "@jupyter-widgets/base",
            "overflow": null,
            "_model_module_version": "1.2.0",
            "_view_count": null,
            "flex_flow": null,
            "width": null,
            "min_width": null,
            "border": null,
            "align_items": null,
            "bottom": null,
            "_model_module": "@jupyter-widgets/base",
            "top": null,
            "grid_column": null,
            "overflow_y": null,
            "overflow_x": null,
            "grid_auto_flow": null,
            "grid_area": null,
            "grid_template_columns": null,
            "flex": null,
            "_model_name": "LayoutModel",
            "justify_items": null,
            "grid_row": null,
            "max_height": null,
            "align_content": null,
            "visibility": null,
            "align_self": null,
            "height": null,
            "min_height": null,
            "padding": null,
            "grid_auto_rows": null,
            "grid_gap": null,
            "max_width": null,
            "order": null,
            "_view_module_version": "1.2.0",
            "grid_template_areas": null,
            "object_position": null,
            "object_fit": null,
            "grid_auto_columns": null,
            "margin": null,
            "display": null,
            "left": null
          }
        },
        "750c1dded1e34cc684450ea168de976a": {
          "model_module": "@jupyter-widgets/controls",
          "model_name": "FloatProgressModel",
          "state": {
            "_view_name": "ProgressView",
            "style": "IPY_MODEL_2e211ce4b8804fbda27eedaac5e0886c",
            "_dom_classes": [],
            "description": "",
            "_model_name": "FloatProgressModel",
            "bar_style": "success",
            "max": 9912422,
            "_view_module": "@jupyter-widgets/controls",
            "_model_module_version": "1.5.0",
            "value": 9912422,
            "_view_count": null,
            "_view_module_version": "1.5.0",
            "orientation": "horizontal",
            "min": 0,
            "description_tooltip": null,
            "_model_module": "@jupyter-widgets/controls",
            "layout": "IPY_MODEL_faeb3400d08a49f2a92a26d109f9e7f4"
          }
        },
        "8c4ba4f156f34d20b7e0a157ad1d254b": {
          "model_module": "@jupyter-widgets/controls",
          "model_name": "HTMLModel",
          "state": {
            "_view_name": "HTMLView",
            "style": "IPY_MODEL_9e26327474f549b9a066b1f565c9fe24",
            "_dom_classes": [],
            "description": "",
            "_model_name": "HTMLModel",
            "placeholder": "​",
            "_view_module": "@jupyter-widgets/controls",
            "_model_module_version": "1.5.0",
            "value": " 9913344/? [20:08&lt;00:00, 8200.52it/s]",
            "_view_count": null,
            "_view_module_version": "1.5.0",
            "description_tooltip": null,
            "_model_module": "@jupyter-widgets/controls",
            "layout": "IPY_MODEL_04f12aaf5d2a4c02abc2231427cb252d"
          }
        },
        "2e211ce4b8804fbda27eedaac5e0886c": {
          "model_module": "@jupyter-widgets/controls",
          "model_name": "ProgressStyleModel",
          "state": {
            "_view_name": "StyleView",
            "_model_name": "ProgressStyleModel",
            "description_width": "initial",
            "_view_module": "@jupyter-widgets/base",
            "_model_module_version": "1.5.0",
            "_view_count": null,
            "_view_module_version": "1.2.0",
            "bar_color": null,
            "_model_module": "@jupyter-widgets/controls"
          }
        },
        "faeb3400d08a49f2a92a26d109f9e7f4": {
          "model_module": "@jupyter-widgets/base",
          "model_name": "LayoutModel",
          "state": {
            "_view_name": "LayoutView",
            "grid_template_rows": null,
            "right": null,
            "justify_content": null,
            "_view_module": "@jupyter-widgets/base",
            "overflow": null,
            "_model_module_version": "1.2.0",
            "_view_count": null,
            "flex_flow": null,
            "width": null,
            "min_width": null,
            "border": null,
            "align_items": null,
            "bottom": null,
            "_model_module": "@jupyter-widgets/base",
            "top": null,
            "grid_column": null,
            "overflow_y": null,
            "overflow_x": null,
            "grid_auto_flow": null,
            "grid_area": null,
            "grid_template_columns": null,
            "flex": null,
            "_model_name": "LayoutModel",
            "justify_items": null,
            "grid_row": null,
            "max_height": null,
            "align_content": null,
            "visibility": null,
            "align_self": null,
            "height": null,
            "min_height": null,
            "padding": null,
            "grid_auto_rows": null,
            "grid_gap": null,
            "max_width": null,
            "order": null,
            "_view_module_version": "1.2.0",
            "grid_template_areas": null,
            "object_position": null,
            "object_fit": null,
            "grid_auto_columns": null,
            "margin": null,
            "display": null,
            "left": null
          }
        },
        "9e26327474f549b9a066b1f565c9fe24": {
          "model_module": "@jupyter-widgets/controls",
          "model_name": "DescriptionStyleModel",
          "state": {
            "_view_name": "StyleView",
            "_model_name": "DescriptionStyleModel",
            "description_width": "",
            "_view_module": "@jupyter-widgets/base",
            "_model_module_version": "1.5.0",
            "_view_count": null,
            "_view_module_version": "1.2.0",
            "_model_module": "@jupyter-widgets/controls"
          }
        },
        "04f12aaf5d2a4c02abc2231427cb252d": {
          "model_module": "@jupyter-widgets/base",
          "model_name": "LayoutModel",
          "state": {
            "_view_name": "LayoutView",
            "grid_template_rows": null,
            "right": null,
            "justify_content": null,
            "_view_module": "@jupyter-widgets/base",
            "overflow": null,
            "_model_module_version": "1.2.0",
            "_view_count": null,
            "flex_flow": null,
            "width": null,
            "min_width": null,
            "border": null,
            "align_items": null,
            "bottom": null,
            "_model_module": "@jupyter-widgets/base",
            "top": null,
            "grid_column": null,
            "overflow_y": null,
            "overflow_x": null,
            "grid_auto_flow": null,
            "grid_area": null,
            "grid_template_columns": null,
            "flex": null,
            "_model_name": "LayoutModel",
            "justify_items": null,
            "grid_row": null,
            "max_height": null,
            "align_content": null,
            "visibility": null,
            "align_self": null,
            "height": null,
            "min_height": null,
            "padding": null,
            "grid_auto_rows": null,
            "grid_gap": null,
            "max_width": null,
            "order": null,
            "_view_module_version": "1.2.0",
            "grid_template_areas": null,
            "object_position": null,
            "object_fit": null,
            "grid_auto_columns": null,
            "margin": null,
            "display": null,
            "left": null
          }
        },
        "5e4a43c920ff47eab1c153cafb91a5bf": {
          "model_module": "@jupyter-widgets/controls",
          "model_name": "HBoxModel",
          "state": {
            "_view_name": "HBoxView",
            "_dom_classes": [],
            "_model_name": "HBoxModel",
            "_view_module": "@jupyter-widgets/controls",
            "_model_module_version": "1.5.0",
            "_view_count": null,
            "_view_module_version": "1.5.0",
            "box_style": "",
            "layout": "IPY_MODEL_6f279750737442569f0d8b2c88b442d8",
            "_model_module": "@jupyter-widgets/controls",
            "children": [
              "IPY_MODEL_46691f19a0554226ae3dd3bca9cd3247",
              "IPY_MODEL_12c42f810b714709b0c221aa22c87dec"
            ]
          }
        },
        "6f279750737442569f0d8b2c88b442d8": {
          "model_module": "@jupyter-widgets/base",
          "model_name": "LayoutModel",
          "state": {
            "_view_name": "LayoutView",
            "grid_template_rows": null,
            "right": null,
            "justify_content": null,
            "_view_module": "@jupyter-widgets/base",
            "overflow": null,
            "_model_module_version": "1.2.0",
            "_view_count": null,
            "flex_flow": null,
            "width": null,
            "min_width": null,
            "border": null,
            "align_items": null,
            "bottom": null,
            "_model_module": "@jupyter-widgets/base",
            "top": null,
            "grid_column": null,
            "overflow_y": null,
            "overflow_x": null,
            "grid_auto_flow": null,
            "grid_area": null,
            "grid_template_columns": null,
            "flex": null,
            "_model_name": "LayoutModel",
            "justify_items": null,
            "grid_row": null,
            "max_height": null,
            "align_content": null,
            "visibility": null,
            "align_self": null,
            "height": null,
            "min_height": null,
            "padding": null,
            "grid_auto_rows": null,
            "grid_gap": null,
            "max_width": null,
            "order": null,
            "_view_module_version": "1.2.0",
            "grid_template_areas": null,
            "object_position": null,
            "object_fit": null,
            "grid_auto_columns": null,
            "margin": null,
            "display": null,
            "left": null
          }
        },
        "46691f19a0554226ae3dd3bca9cd3247": {
          "model_module": "@jupyter-widgets/controls",
          "model_name": "FloatProgressModel",
          "state": {
            "_view_name": "ProgressView",
            "style": "IPY_MODEL_a7417aa9f06846c7b9f0b7197045cd18",
            "_dom_classes": [],
            "description": "",
            "_model_name": "FloatProgressModel",
            "bar_style": "success",
            "max": 28881,
            "_view_module": "@jupyter-widgets/controls",
            "_model_module_version": "1.5.0",
            "value": 28881,
            "_view_count": null,
            "_view_module_version": "1.5.0",
            "orientation": "horizontal",
            "min": 0,
            "description_tooltip": null,
            "_model_module": "@jupyter-widgets/controls",
            "layout": "IPY_MODEL_1dd4d5c69b0541739884aadbecaad79b"
          }
        },
        "12c42f810b714709b0c221aa22c87dec": {
          "model_module": "@jupyter-widgets/controls",
          "model_name": "HTMLModel",
          "state": {
            "_view_name": "HTMLView",
            "style": "IPY_MODEL_f01231f7d2a94731a2884d702301d5c6",
            "_dom_classes": [],
            "description": "",
            "_model_name": "HTMLModel",
            "placeholder": "​",
            "_view_module": "@jupyter-widgets/controls",
            "_model_module_version": "1.5.0",
            "value": " 29696/? [19:19&lt;00:00, 25.60it/s]",
            "_view_count": null,
            "_view_module_version": "1.5.0",
            "description_tooltip": null,
            "_model_module": "@jupyter-widgets/controls",
            "layout": "IPY_MODEL_f271322a6101410f900ae67df90983d7"
          }
        },
        "a7417aa9f06846c7b9f0b7197045cd18": {
          "model_module": "@jupyter-widgets/controls",
          "model_name": "ProgressStyleModel",
          "state": {
            "_view_name": "StyleView",
            "_model_name": "ProgressStyleModel",
            "description_width": "initial",
            "_view_module": "@jupyter-widgets/base",
            "_model_module_version": "1.5.0",
            "_view_count": null,
            "_view_module_version": "1.2.0",
            "bar_color": null,
            "_model_module": "@jupyter-widgets/controls"
          }
        },
        "1dd4d5c69b0541739884aadbecaad79b": {
          "model_module": "@jupyter-widgets/base",
          "model_name": "LayoutModel",
          "state": {
            "_view_name": "LayoutView",
            "grid_template_rows": null,
            "right": null,
            "justify_content": null,
            "_view_module": "@jupyter-widgets/base",
            "overflow": null,
            "_model_module_version": "1.2.0",
            "_view_count": null,
            "flex_flow": null,
            "width": null,
            "min_width": null,
            "border": null,
            "align_items": null,
            "bottom": null,
            "_model_module": "@jupyter-widgets/base",
            "top": null,
            "grid_column": null,
            "overflow_y": null,
            "overflow_x": null,
            "grid_auto_flow": null,
            "grid_area": null,
            "grid_template_columns": null,
            "flex": null,
            "_model_name": "LayoutModel",
            "justify_items": null,
            "grid_row": null,
            "max_height": null,
            "align_content": null,
            "visibility": null,
            "align_self": null,
            "height": null,
            "min_height": null,
            "padding": null,
            "grid_auto_rows": null,
            "grid_gap": null,
            "max_width": null,
            "order": null,
            "_view_module_version": "1.2.0",
            "grid_template_areas": null,
            "object_position": null,
            "object_fit": null,
            "grid_auto_columns": null,
            "margin": null,
            "display": null,
            "left": null
          }
        },
        "f01231f7d2a94731a2884d702301d5c6": {
          "model_module": "@jupyter-widgets/controls",
          "model_name": "DescriptionStyleModel",
          "state": {
            "_view_name": "StyleView",
            "_model_name": "DescriptionStyleModel",
            "description_width": "",
            "_view_module": "@jupyter-widgets/base",
            "_model_module_version": "1.5.0",
            "_view_count": null,
            "_view_module_version": "1.2.0",
            "_model_module": "@jupyter-widgets/controls"
          }
        },
        "f271322a6101410f900ae67df90983d7": {
          "model_module": "@jupyter-widgets/base",
          "model_name": "LayoutModel",
          "state": {
            "_view_name": "LayoutView",
            "grid_template_rows": null,
            "right": null,
            "justify_content": null,
            "_view_module": "@jupyter-widgets/base",
            "overflow": null,
            "_model_module_version": "1.2.0",
            "_view_count": null,
            "flex_flow": null,
            "width": null,
            "min_width": null,
            "border": null,
            "align_items": null,
            "bottom": null,
            "_model_module": "@jupyter-widgets/base",
            "top": null,
            "grid_column": null,
            "overflow_y": null,
            "overflow_x": null,
            "grid_auto_flow": null,
            "grid_area": null,
            "grid_template_columns": null,
            "flex": null,
            "_model_name": "LayoutModel",
            "justify_items": null,
            "grid_row": null,
            "max_height": null,
            "align_content": null,
            "visibility": null,
            "align_self": null,
            "height": null,
            "min_height": null,
            "padding": null,
            "grid_auto_rows": null,
            "grid_gap": null,
            "max_width": null,
            "order": null,
            "_view_module_version": "1.2.0",
            "grid_template_areas": null,
            "object_position": null,
            "object_fit": null,
            "grid_auto_columns": null,
            "margin": null,
            "display": null,
            "left": null
          }
        },
        "41227bb7245f41c2be5bdb060109b9b3": {
          "model_module": "@jupyter-widgets/controls",
          "model_name": "HBoxModel",
          "state": {
            "_view_name": "HBoxView",
            "_dom_classes": [],
            "_model_name": "HBoxModel",
            "_view_module": "@jupyter-widgets/controls",
            "_model_module_version": "1.5.0",
            "_view_count": null,
            "_view_module_version": "1.5.0",
            "box_style": "",
            "layout": "IPY_MODEL_cff4d447a34341298b6d3d26586c682f",
            "_model_module": "@jupyter-widgets/controls",
            "children": [
              "IPY_MODEL_fbaff8f2620e434f8bba94598cd99970",
              "IPY_MODEL_707b58220afd47ca8adfc23facecfa3a"
            ]
          }
        },
        "cff4d447a34341298b6d3d26586c682f": {
          "model_module": "@jupyter-widgets/base",
          "model_name": "LayoutModel",
          "state": {
            "_view_name": "LayoutView",
            "grid_template_rows": null,
            "right": null,
            "justify_content": null,
            "_view_module": "@jupyter-widgets/base",
            "overflow": null,
            "_model_module_version": "1.2.0",
            "_view_count": null,
            "flex_flow": null,
            "width": null,
            "min_width": null,
            "border": null,
            "align_items": null,
            "bottom": null,
            "_model_module": "@jupyter-widgets/base",
            "top": null,
            "grid_column": null,
            "overflow_y": null,
            "overflow_x": null,
            "grid_auto_flow": null,
            "grid_area": null,
            "grid_template_columns": null,
            "flex": null,
            "_model_name": "LayoutModel",
            "justify_items": null,
            "grid_row": null,
            "max_height": null,
            "align_content": null,
            "visibility": null,
            "align_self": null,
            "height": null,
            "min_height": null,
            "padding": null,
            "grid_auto_rows": null,
            "grid_gap": null,
            "max_width": null,
            "order": null,
            "_view_module_version": "1.2.0",
            "grid_template_areas": null,
            "object_position": null,
            "object_fit": null,
            "grid_auto_columns": null,
            "margin": null,
            "display": null,
            "left": null
          }
        },
        "fbaff8f2620e434f8bba94598cd99970": {
          "model_module": "@jupyter-widgets/controls",
          "model_name": "FloatProgressModel",
          "state": {
            "_view_name": "ProgressView",
            "style": "IPY_MODEL_f16b9eea0bc946bd9384e7dd5e8a1ea0",
            "_dom_classes": [],
            "description": "",
            "_model_name": "FloatProgressModel",
            "bar_style": "success",
            "max": 1648877,
            "_view_module": "@jupyter-widgets/controls",
            "_model_module_version": "1.5.0",
            "value": 1648877,
            "_view_count": null,
            "_view_module_version": "1.5.0",
            "orientation": "horizontal",
            "min": 0,
            "description_tooltip": null,
            "_model_module": "@jupyter-widgets/controls",
            "layout": "IPY_MODEL_f6d03a95931b4d83b98ed5946d24c627"
          }
        },
        "707b58220afd47ca8adfc23facecfa3a": {
          "model_module": "@jupyter-widgets/controls",
          "model_name": "HTMLModel",
          "state": {
            "_view_name": "HTMLView",
            "style": "IPY_MODEL_efbd4346e8d74ba0a02f5bff22593a86",
            "_dom_classes": [],
            "description": "",
            "_model_name": "HTMLModel",
            "placeholder": "​",
            "_view_module": "@jupyter-widgets/controls",
            "_model_module_version": "1.5.0",
            "value": " 1649664/? [00:09&lt;00:00, 165563.03it/s]",
            "_view_count": null,
            "_view_module_version": "1.5.0",
            "description_tooltip": null,
            "_model_module": "@jupyter-widgets/controls",
            "layout": "IPY_MODEL_3d6ec5c9f2ae4934968f0e50ec1c4833"
          }
        },
        "f16b9eea0bc946bd9384e7dd5e8a1ea0": {
          "model_module": "@jupyter-widgets/controls",
          "model_name": "ProgressStyleModel",
          "state": {
            "_view_name": "StyleView",
            "_model_name": "ProgressStyleModel",
            "description_width": "initial",
            "_view_module": "@jupyter-widgets/base",
            "_model_module_version": "1.5.0",
            "_view_count": null,
            "_view_module_version": "1.2.0",
            "bar_color": null,
            "_model_module": "@jupyter-widgets/controls"
          }
        },
        "f6d03a95931b4d83b98ed5946d24c627": {
          "model_module": "@jupyter-widgets/base",
          "model_name": "LayoutModel",
          "state": {
            "_view_name": "LayoutView",
            "grid_template_rows": null,
            "right": null,
            "justify_content": null,
            "_view_module": "@jupyter-widgets/base",
            "overflow": null,
            "_model_module_version": "1.2.0",
            "_view_count": null,
            "flex_flow": null,
            "width": null,
            "min_width": null,
            "border": null,
            "align_items": null,
            "bottom": null,
            "_model_module": "@jupyter-widgets/base",
            "top": null,
            "grid_column": null,
            "overflow_y": null,
            "overflow_x": null,
            "grid_auto_flow": null,
            "grid_area": null,
            "grid_template_columns": null,
            "flex": null,
            "_model_name": "LayoutModel",
            "justify_items": null,
            "grid_row": null,
            "max_height": null,
            "align_content": null,
            "visibility": null,
            "align_self": null,
            "height": null,
            "min_height": null,
            "padding": null,
            "grid_auto_rows": null,
            "grid_gap": null,
            "max_width": null,
            "order": null,
            "_view_module_version": "1.2.0",
            "grid_template_areas": null,
            "object_position": null,
            "object_fit": null,
            "grid_auto_columns": null,
            "margin": null,
            "display": null,
            "left": null
          }
        },
        "efbd4346e8d74ba0a02f5bff22593a86": {
          "model_module": "@jupyter-widgets/controls",
          "model_name": "DescriptionStyleModel",
          "state": {
            "_view_name": "StyleView",
            "_model_name": "DescriptionStyleModel",
            "description_width": "",
            "_view_module": "@jupyter-widgets/base",
            "_model_module_version": "1.5.0",
            "_view_count": null,
            "_view_module_version": "1.2.0",
            "_model_module": "@jupyter-widgets/controls"
          }
        },
        "3d6ec5c9f2ae4934968f0e50ec1c4833": {
          "model_module": "@jupyter-widgets/base",
          "model_name": "LayoutModel",
          "state": {
            "_view_name": "LayoutView",
            "grid_template_rows": null,
            "right": null,
            "justify_content": null,
            "_view_module": "@jupyter-widgets/base",
            "overflow": null,
            "_model_module_version": "1.2.0",
            "_view_count": null,
            "flex_flow": null,
            "width": null,
            "min_width": null,
            "border": null,
            "align_items": null,
            "bottom": null,
            "_model_module": "@jupyter-widgets/base",
            "top": null,
            "grid_column": null,
            "overflow_y": null,
            "overflow_x": null,
            "grid_auto_flow": null,
            "grid_area": null,
            "grid_template_columns": null,
            "flex": null,
            "_model_name": "LayoutModel",
            "justify_items": null,
            "grid_row": null,
            "max_height": null,
            "align_content": null,
            "visibility": null,
            "align_self": null,
            "height": null,
            "min_height": null,
            "padding": null,
            "grid_auto_rows": null,
            "grid_gap": null,
            "max_width": null,
            "order": null,
            "_view_module_version": "1.2.0",
            "grid_template_areas": null,
            "object_position": null,
            "object_fit": null,
            "grid_auto_columns": null,
            "margin": null,
            "display": null,
            "left": null
          }
        },
        "fd1c4bd533b948cf9ab809d847bee70e": {
          "model_module": "@jupyter-widgets/controls",
          "model_name": "HBoxModel",
          "state": {
            "_view_name": "HBoxView",
            "_dom_classes": [],
            "_model_name": "HBoxModel",
            "_view_module": "@jupyter-widgets/controls",
            "_model_module_version": "1.5.0",
            "_view_count": null,
            "_view_module_version": "1.5.0",
            "box_style": "",
            "layout": "IPY_MODEL_f341ddd99d5f4acfaa46755ba2a80690",
            "_model_module": "@jupyter-widgets/controls",
            "children": [
              "IPY_MODEL_fd08e0cf20a448fbb21059473ea6b197",
              "IPY_MODEL_f23629799763475fa96df2a53036b093"
            ]
          }
        },
        "f341ddd99d5f4acfaa46755ba2a80690": {
          "model_module": "@jupyter-widgets/base",
          "model_name": "LayoutModel",
          "state": {
            "_view_name": "LayoutView",
            "grid_template_rows": null,
            "right": null,
            "justify_content": null,
            "_view_module": "@jupyter-widgets/base",
            "overflow": null,
            "_model_module_version": "1.2.0",
            "_view_count": null,
            "flex_flow": null,
            "width": null,
            "min_width": null,
            "border": null,
            "align_items": null,
            "bottom": null,
            "_model_module": "@jupyter-widgets/base",
            "top": null,
            "grid_column": null,
            "overflow_y": null,
            "overflow_x": null,
            "grid_auto_flow": null,
            "grid_area": null,
            "grid_template_columns": null,
            "flex": null,
            "_model_name": "LayoutModel",
            "justify_items": null,
            "grid_row": null,
            "max_height": null,
            "align_content": null,
            "visibility": null,
            "align_self": null,
            "height": null,
            "min_height": null,
            "padding": null,
            "grid_auto_rows": null,
            "grid_gap": null,
            "max_width": null,
            "order": null,
            "_view_module_version": "1.2.0",
            "grid_template_areas": null,
            "object_position": null,
            "object_fit": null,
            "grid_auto_columns": null,
            "margin": null,
            "display": null,
            "left": null
          }
        },
        "fd08e0cf20a448fbb21059473ea6b197": {
          "model_module": "@jupyter-widgets/controls",
          "model_name": "FloatProgressModel",
          "state": {
            "_view_name": "ProgressView",
            "style": "IPY_MODEL_f505853e557048e2b3e83181cfa3a496",
            "_dom_classes": [],
            "description": "",
            "_model_name": "FloatProgressModel",
            "bar_style": "success",
            "max": 4542,
            "_view_module": "@jupyter-widgets/controls",
            "_model_module_version": "1.5.0",
            "value": 4542,
            "_view_count": null,
            "_view_module_version": "1.5.0",
            "orientation": "horizontal",
            "min": 0,
            "description_tooltip": null,
            "_model_module": "@jupyter-widgets/controls",
            "layout": "IPY_MODEL_af4301021dac42cf9357f6a34da25794"
          }
        },
        "f23629799763475fa96df2a53036b093": {
          "model_module": "@jupyter-widgets/controls",
          "model_name": "HTMLModel",
          "state": {
            "_view_name": "HTMLView",
            "style": "IPY_MODEL_8120fb5e2309480eba4f72a5aedb0b37",
            "_dom_classes": [],
            "description": "",
            "_model_name": "HTMLModel",
            "placeholder": "​",
            "_view_module": "@jupyter-widgets/controls",
            "_model_module_version": "1.5.0",
            "value": " 5120/? [00:00&lt;00:00, 39860.63it/s]",
            "_view_count": null,
            "_view_module_version": "1.5.0",
            "description_tooltip": null,
            "_model_module": "@jupyter-widgets/controls",
            "layout": "IPY_MODEL_7289ecc972b84a3eb7e136376c2c5b6f"
          }
        },
        "f505853e557048e2b3e83181cfa3a496": {
          "model_module": "@jupyter-widgets/controls",
          "model_name": "ProgressStyleModel",
          "state": {
            "_view_name": "StyleView",
            "_model_name": "ProgressStyleModel",
            "description_width": "initial",
            "_view_module": "@jupyter-widgets/base",
            "_model_module_version": "1.5.0",
            "_view_count": null,
            "_view_module_version": "1.2.0",
            "bar_color": null,
            "_model_module": "@jupyter-widgets/controls"
          }
        },
        "af4301021dac42cf9357f6a34da25794": {
          "model_module": "@jupyter-widgets/base",
          "model_name": "LayoutModel",
          "state": {
            "_view_name": "LayoutView",
            "grid_template_rows": null,
            "right": null,
            "justify_content": null,
            "_view_module": "@jupyter-widgets/base",
            "overflow": null,
            "_model_module_version": "1.2.0",
            "_view_count": null,
            "flex_flow": null,
            "width": null,
            "min_width": null,
            "border": null,
            "align_items": null,
            "bottom": null,
            "_model_module": "@jupyter-widgets/base",
            "top": null,
            "grid_column": null,
            "overflow_y": null,
            "overflow_x": null,
            "grid_auto_flow": null,
            "grid_area": null,
            "grid_template_columns": null,
            "flex": null,
            "_model_name": "LayoutModel",
            "justify_items": null,
            "grid_row": null,
            "max_height": null,
            "align_content": null,
            "visibility": null,
            "align_self": null,
            "height": null,
            "min_height": null,
            "padding": null,
            "grid_auto_rows": null,
            "grid_gap": null,
            "max_width": null,
            "order": null,
            "_view_module_version": "1.2.0",
            "grid_template_areas": null,
            "object_position": null,
            "object_fit": null,
            "grid_auto_columns": null,
            "margin": null,
            "display": null,
            "left": null
          }
        },
        "8120fb5e2309480eba4f72a5aedb0b37": {
          "model_module": "@jupyter-widgets/controls",
          "model_name": "DescriptionStyleModel",
          "state": {
            "_view_name": "StyleView",
            "_model_name": "DescriptionStyleModel",
            "description_width": "",
            "_view_module": "@jupyter-widgets/base",
            "_model_module_version": "1.5.0",
            "_view_count": null,
            "_view_module_version": "1.2.0",
            "_model_module": "@jupyter-widgets/controls"
          }
        },
        "7289ecc972b84a3eb7e136376c2c5b6f": {
          "model_module": "@jupyter-widgets/base",
          "model_name": "LayoutModel",
          "state": {
            "_view_name": "LayoutView",
            "grid_template_rows": null,
            "right": null,
            "justify_content": null,
            "_view_module": "@jupyter-widgets/base",
            "overflow": null,
            "_model_module_version": "1.2.0",
            "_view_count": null,
            "flex_flow": null,
            "width": null,
            "min_width": null,
            "border": null,
            "align_items": null,
            "bottom": null,
            "_model_module": "@jupyter-widgets/base",
            "top": null,
            "grid_column": null,
            "overflow_y": null,
            "overflow_x": null,
            "grid_auto_flow": null,
            "grid_area": null,
            "grid_template_columns": null,
            "flex": null,
            "_model_name": "LayoutModel",
            "justify_items": null,
            "grid_row": null,
            "max_height": null,
            "align_content": null,
            "visibility": null,
            "align_self": null,
            "height": null,
            "min_height": null,
            "padding": null,
            "grid_auto_rows": null,
            "grid_gap": null,
            "max_width": null,
            "order": null,
            "_view_module_version": "1.2.0",
            "grid_template_areas": null,
            "object_position": null,
            "object_fit": null,
            "grid_auto_columns": null,
            "margin": null,
            "display": null,
            "left": null
          }
        }
      }
    }
  },
  "cells": [
    {
      "cell_type": "markdown",
      "metadata": {
        "id": "view-in-github",
        "colab_type": "text"
      },
      "source": [
        "<a href=\"https://colab.research.google.com/github/injoon-pij/pytorch-learning/blob/master/pytorch_softmax_regression.ipynb\" target=\"_parent\"><img src=\"https://colab.research.google.com/assets/colab-badge.svg\" alt=\"Open In Colab\"/></a>"
      ]
    },
    {
      "cell_type": "markdown",
      "metadata": {
        "id": "Jw42oc5mR7hW"
      },
      "source": [
        "# 1) One-hot encoding "
      ]
    },
    {
      "cell_type": "markdown",
      "metadata": {
        "id": "Gi_EqkU6R_fv"
      },
      "source": [
        "대부분의 다중 클래스 분류 문제가 각 클래스 간의 관계가 균등하다는 점에서 one-hot encoding 벡터는 정수 encoding 벡터보다 이러한 점을 표현할 수 있는 적절한 표현 방법이다.\n",
        "* 예를 들어 세 개의 카테고리에 대해서 one-hot encoding을 통해 레이블을 인코딩했을 때, 각 클래스 간의 제곱 오차가 균등하다.\n",
        "\n",
        " * $((1,0,0)-(0,1,0))^{2} = (1-0)^{2} + (0-1)^{2} + (0-0)^{2} = 2$\n",
        "\n",
        " * $((1,0,0)-(0,0,1))^{2} = (1-0)^{2} + (0-0)^{2} + (0-1)^{2} = 2$"
      ]
    },
    {
      "cell_type": "markdown",
      "metadata": {
        "id": "zYZ1C39rc9Q2"
      },
      "source": [
        "# 2) Softmax Regression 이해하기"
      ]
    },
    {
      "cell_type": "markdown",
      "metadata": {
        "id": "Ec2kpmQZfRB8"
      },
      "source": [
        "다중 클래스 분류(Multi-Class Classification)를 풀기 위한 대표적인 알고리즘\n",
        "* 활성화함수 : softmax function\n",
        " * $softmax(z)=[\\frac{e^{z_{1}}}{\\sum_{j=1}^{3} e^{z_{j}}}\\ \\frac{e^{z_{2}}}{\\sum_{j=1}^{3} e^{z_{j}}}\\ \\frac{e^{z_{3}}}{\\sum_{j=1}^{3} e^{z_{j}}}] = [p_{1}, p_{2}, p_{3}] = \\hat{y} = \\text{예측값}$\n",
        "* 손실함수 : cross entropy\n",
        " * $cost(W) = -\\frac{1}{n} \\sum_{i=1}^{n} \\sum_{j=1}^{k}y_{j}^{(i)}\\ log(p_{j}^{(i)})$\n",
        "   * 이 때 $y_{j}^{(i)}$는 one-hot vector"
      ]
    },
    {
      "cell_type": "markdown",
      "metadata": {
        "id": "P5tIMJZfdlKa"
      },
      "source": [
        "## 2.1 Softmax Function"
      ]
    },
    {
      "cell_type": "markdown",
      "metadata": {
        "id": "2yaBv9eHdVXH"
      },
      "source": [
        "![image.png](data:image/png;base64,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)"
      ]
    },
    {
      "cell_type": "markdown",
      "metadata": {
        "id": "o8_MJc7rdxAB"
      },
      "source": [
        "$softmax(z)=[\\frac{e^{z_{1}}}{\\sum_{j=1}^{3} e^{z_{j}}}\\ \\frac{e^{z_{2}}}{\\sum_{j=1}^{3} e^{z_{j}}}\\ \\frac{e^{z_{3}}}{\\sum_{j=1}^{3} e^{z_{j}}}] = [p_{1}, p_{2}, p_{3}] = \\hat{y} = \\text{예측값}$"
      ]
    },
    {
      "cell_type": "markdown",
      "metadata": {
        "id": "WoJePRZDdW_G"
      },
      "source": [
        "분류하고자 하는 클래스가 k개일 때, k차원의 벡터를 입력받아서 모든 벡터 원소의 값을 0과 1사이의 값으로 값을 변경하여 다시 k차원의 벡터를 리턴"
      ]
    },
    {
      "cell_type": "markdown",
      "metadata": {
        "id": "zh-6Wmtad2nk"
      },
      "source": [
        "## 2.2 Cost Function"
      ]
    },
    {
      "cell_type": "markdown",
      "metadata": {
        "id": "MBcJAJuzeAEI"
      },
      "source": [
        "이진 분류에 관련된 logistic regression에서 쓰인 손실함수인 **Binary Cross Entropy Function**를 다중 클래스 분류로 일반화한 **Cross Entropy Function**이 손실함수로 사용됨.\n",
        "* 소프트맥스 함수의 최종 손실 함수에서 $k$가 2라고 가정하면 결국 로지스틱 회귀의 비용 함수와 같음"
      ]
    },
    {
      "cell_type": "markdown",
      "metadata": {
        "id": "LWQuDO_WgECA"
      },
      "source": [
        "$cost(W) = -\\frac{1}{n} \\sum_{i=1}^{n} \\sum_{j=1}^{k}y_{j}^{(i)}\\ log(p_{j}^{(i)}) = -\\frac{1}{n} \\sum_{i=1}^{n} [y^{(i)}log(p^{(i)}) + (1-y^{(i)})log(1-p^{(i)})]$"
      ]
    },
    {
      "cell_type": "markdown",
      "metadata": {
        "id": "8843hy9JgdNJ"
      },
      "source": [
        "# 3) Softmax Regression by pytorch"
      ]
    },
    {
      "cell_type": "markdown",
      "metadata": {
        "id": "rKHG-8ve7Sle"
      },
      "source": [
        "## 3.1.1 Modeling cost function (Low-level)"
      ]
    },
    {
      "cell_type": "code",
      "metadata": {
        "colab": {
          "base_uri": "https://localhost:8080/"
        },
        "id": "8pn5k5-PR1oX",
        "outputId": "e41a4374-d503-481a-e377-43f4d731ef51"
      },
      "source": [
        "import torch\n",
        "import torch.nn.functional as F\n",
        "\n",
        "torch.manual_seed(1)"
      ],
      "execution_count": null,
      "outputs": [
        {
          "output_type": "execute_result",
          "data": {
            "text/plain": [
              "<torch._C.Generator at 0x7f768d7b0a10>"
            ]
          },
          "metadata": {
            "tags": []
          },
          "execution_count": 2
        }
      ]
    },
    {
      "cell_type": "code",
      "metadata": {
        "colab": {
          "base_uri": "https://localhost:8080/"
        },
        "id": "xRVZ6rYvscIz",
        "outputId": "923cd28d-00d2-4470-9765-154641735c6d"
      },
      "source": [
        "# z : 신경망의 마지막 층을 통과한 출력값 (3개의 데이터, 5개의 label)\n",
        "z = torch.rand(3, 5, requires_grad=True)\n",
        "print(z)\n",
        "print()\n",
        "\n",
        "# hypothesis : 출력값 z를 softmax함수에 통과시킨 값 \n",
        "hypothesis = F.softmax(z, dim=1)\n",
        "print(hypothesis)\n",
        "print()\n",
        "\n",
        "# y : 각 데이터들의 정답 레이블\n",
        "y = torch.randint(5, (3,)).long()\n",
        "print(y)\n",
        "print()\n",
        "\n",
        "# y_one_hot : y를 one-hot 벡터로 표현\n",
        "y_one_hot = torch.zeros_like(hypothesis) \n",
        "y_one_hot.scatter_(1, y.unsqueeze(1), 1)\n",
        "print(y_one_hot)\n",
        "print()\n",
        "\n",
        "# cost function\n",
        "cost = (y_one_hot * -torch.log(hypothesis)).sum(dim=1).mean()\n",
        "print(cost)"
      ],
      "execution_count": null,
      "outputs": [
        {
          "output_type": "stream",
          "text": [
            "tensor([[0.2079, 0.2861, 0.8555, 0.3366, 0.1264],\n",
            "        [0.6924, 0.6601, 0.8238, 0.2413, 0.6084],\n",
            "        [0.3180, 0.3877, 0.1015, 0.2721, 0.3469]], requires_grad=True)\n",
            "\n",
            "tensor([[0.1653, 0.1787, 0.3158, 0.1880, 0.1523],\n",
            "        [0.2144, 0.2075, 0.2445, 0.1365, 0.1971],\n",
            "        [0.2057, 0.2205, 0.1656, 0.1965, 0.2117]], grad_fn=<SoftmaxBackward>)\n",
            "\n",
            "tensor([0, 2, 2])\n",
            "\n",
            "tensor([[1., 0., 0., 0., 0.],\n",
            "        [0., 0., 1., 0., 0.],\n",
            "        [0., 0., 1., 0., 0.]])\n",
            "\n",
            "tensor(1.6689, grad_fn=<MeanBackward0>)\n"
          ],
          "name": "stdout"
        }
      ]
    },
    {
      "cell_type": "markdown",
      "metadata": {
        "id": "Xa8uOh2OCrXP"
      },
      "source": [
        "## 3.1.2 Modeling cost function (High-level)"
      ]
    },
    {
      "cell_type": "markdown",
      "metadata": {
        "id": "BvX22FxLD_KB"
      },
      "source": [
        "앞서 구현한 cost function 코드를 좀 더 발전시켜보기\n",
        "\n",
        "\n",
        "```\n",
        "cost = (y_one_hot * -torch.log(hypothesis)).sum(dim=1).mean()\n",
        "```\n",
        "\n"
      ]
    },
    {
      "cell_type": "markdown",
      "metadata": {
        "id": "7jC64oQZDzqu"
      },
      "source": [
        "__1. F.softmax() + torch.log() = F.log_softmax()__\n",
        "\n",
        " * __torch.log(hypothesis)__ 는 출력값 z에 softmax 함수를 적용하고, 뒤이어 그 결과값에 log 함수를 적용한 것. 이 둘을 결합한 기능을 가진 __F.log_softmax()__로 대체할 수 있다.\n"
      ]
    },
    {
      "cell_type": "code",
      "metadata": {
        "colab": {
          "base_uri": "https://localhost:8080/"
        },
        "id": "p07P0G0EF41A",
        "outputId": "018526c8-1a48-4bc5-ef10-21716fd2cc38"
      },
      "source": [
        "# 결과값 동일\n",
        "\n",
        "print(torch.log(F.softmax(z, dim=1)))\n",
        "print() \n",
        "print(F.log_softmax(z, dim=1))"
      ],
      "execution_count": null,
      "outputs": [
        {
          "output_type": "stream",
          "text": [
            "tensor([[-1.8003, -1.7220, -1.1527, -1.6716, -1.8818],\n",
            "        [-1.5401, -1.5724, -1.4086, -1.9912, -1.6241],\n",
            "        [-1.5815, -1.5118, -1.7979, -1.6273, -1.5526]], grad_fn=<LogBackward>)\n",
            "tensor([[-1.8003, -1.7220, -1.1527, -1.6716, -1.8818],\n",
            "        [-1.5401, -1.5724, -1.4086, -1.9912, -1.6241],\n",
            "        [-1.5815, -1.5118, -1.7979, -1.6273, -1.5526]],\n",
            "       grad_fn=<LogSoftmaxBackward>)\n"
          ],
          "name": "stdout"
        }
      ]
    },
    {
      "cell_type": "markdown",
      "metadata": {
        "id": "0FIdlnJFF2Uo"
      },
      "source": [
        "__2. F.log_softmax() + F.nll_loss() = F.cross_entropy()__\n",
        "* __F.nll.loss()__는 ver.1에서 __F.log_softmax()__를 수행한 후에 남은 수식들을 수행함. 그리고 이 때는 정답 데이터를 one-hot vector로 encoding한 형태가 아닌 정답 레이블 벡터 그대로 사용함.\n",
        "* __F.cross_entropy()__는 __F.log_softmax()__와 __F.nll_loss()__를 포함. 즉, __F.cross_entropy()__는 내부에 손실함수뿐만 아니라 __소프트맥스 함수__도 포함.  __(모델 구현 시 혼동 주의)__"
      ]
    },
    {
      "cell_type": "code",
      "metadata": {
        "colab": {
          "base_uri": "https://localhost:8080/"
        },
        "id": "0Tg9jZvHGlSE",
        "outputId": "f18e90e9-1dbb-4ca0-d8c9-7f5cbf0207a1"
      },
      "source": [
        "# 결과값 동일\n",
        "\n",
        "# ver.1\n",
        "print((y_one_hot * - F.log_softmax(z, dim=1)).sum(dim=1).mean())\n",
        "\n",
        "# ver.2\n",
        "print(F.nll_loss(F.log_softmax(z, dim=1), y))\n",
        "\n",
        "# ver.3\n",
        "print(F.cross_entropy(z, y))"
      ],
      "execution_count": null,
      "outputs": [
        {
          "output_type": "stream",
          "text": [
            "tensor(1.6689, grad_fn=<MeanBackward0>)\n",
            "tensor(1.6689, grad_fn=<NllLossBackward>)\n",
            "tensor(1.6689, grad_fn=<NllLossBackward>)\n"
          ],
          "name": "stdout"
        }
      ]
    },
    {
      "cell_type": "markdown",
      "metadata": {
        "id": "koUaX_EHKOL1"
      },
      "source": [
        "## 3.2.1 Modeling Softmax Regression (Low-level)"
      ]
    },
    {
      "cell_type": "code",
      "metadata": {
        "colab": {
          "base_uri": "https://localhost:8080/"
        },
        "id": "pY5iW3b8KN6G",
        "outputId": "4fcedb55-1df7-4b4a-df3b-0fc784981067"
      },
      "source": [
        "import torch\n",
        "import torch.nn as nn\n",
        "import torch.nn.functional as F\n",
        "import torch.optim as optim\n",
        "\n",
        "torch.manual_seed(1)\n",
        "\n",
        "# data (정답 레이블 개수 3개 (0~2))\n",
        "x_train = [[1, 2, 1, 1],\n",
        "           [2, 1, 3, 2],\n",
        "           [3, 1, 3, 4],\n",
        "           [4, 1, 5, 5],\n",
        "           [1, 7, 5, 5],\n",
        "           [1, 2, 5, 6],\n",
        "           [1, 6, 6, 6],\n",
        "           [1, 7, 7, 7]]\n",
        "y_train = [2, 2, 2, 1, 1, 1, 0, 0]\n",
        "x_train = torch.FloatTensor(x_train)\n",
        "y_train = torch.LongTensor(y_train)\n",
        "\n",
        "# data preparation\n",
        "y_one_hot = torch.zeros(8, 3) # 데이터 개수 8개, 정답 레이블 개수 3개이므로\n",
        "y_one_hot.scatter_(1, y_train.unsqueeze(1), 1)"
      ],
      "execution_count": null,
      "outputs": [
        {
          "output_type": "execute_result",
          "data": {
            "text/plain": [
              "tensor([[0., 0., 1.],\n",
              "        [0., 0., 1.],\n",
              "        [0., 0., 1.],\n",
              "        [0., 1., 0.],\n",
              "        [0., 1., 0.],\n",
              "        [0., 1., 0.],\n",
              "        [1., 0., 0.],\n",
              "        [1., 0., 0.]])"
            ]
          },
          "metadata": {
            "tags": []
          },
          "execution_count": 38
        }
      ]
    },
    {
      "cell_type": "markdown",
      "metadata": {
        "id": "y7_T--9qQQBQ"
      },
      "source": [
        "입력 데이터 x_train의 크기가 (8,4)이고, one-hot encoding된 정답 레이블 데이터의 크기가 (8,3)이므로 가중치 W는 (4,3)"
      ]
    },
    {
      "cell_type": "code",
      "metadata": {
        "colab": {
          "base_uri": "https://localhost:8080/"
        },
        "id": "YFRnhnXXOWGy",
        "outputId": "f6c05e56-c658-4227-8c99-6ac95827c913"
      },
      "source": [
        "# model setting\n",
        "W = torch.zeros((4, 3), requires_grad=True)\n",
        "b = torch.zeros(1, requires_grad=True)\n",
        "\n",
        "# optimizer\n",
        "optimizer = optim.SGD([W, b], lr=0.1)\n",
        "\n",
        "nb_epochs = 1000\n",
        "for epoch in range(nb_epochs + 1):\n",
        "\n",
        "    # forward\n",
        "    hypothesis = F.softmax(x_train.matmul(W) + b, dim=1) \n",
        "\n",
        "    # cost function\n",
        "    cost = (y_one_hot * -torch.log(hypothesis)).sum(dim=1).mean()\n",
        "\n",
        "    # update\n",
        "    optimizer.zero_grad()\n",
        "    cost.backward()\n",
        "    optimizer.step()\n",
        "\n",
        "    if epoch % 100 == 0:\n",
        "        print('Epoch {:4d}/{} Cost: {:.6f}'.format(\n",
        "            epoch, nb_epochs, cost.item()\n",
        "        ))"
      ],
      "execution_count": null,
      "outputs": [
        {
          "output_type": "stream",
          "text": [
            "Epoch    0/1000 Cost: 1.098612\n",
            "Epoch  100/1000 Cost: 0.761050\n",
            "Epoch  200/1000 Cost: 0.689991\n",
            "Epoch  300/1000 Cost: 0.643229\n",
            "Epoch  400/1000 Cost: 0.604117\n",
            "Epoch  500/1000 Cost: 0.568255\n",
            "Epoch  600/1000 Cost: 0.533922\n",
            "Epoch  700/1000 Cost: 0.500291\n",
            "Epoch  800/1000 Cost: 0.466908\n",
            "Epoch  900/1000 Cost: 0.433507\n",
            "Epoch 1000/1000 Cost: 0.399962\n"
          ],
          "name": "stdout"
        }
      ]
    },
    {
      "cell_type": "markdown",
      "metadata": {
        "id": "tqySNs4dKYzh"
      },
      "source": [
        "## 3.2.2 Modeling Softmax Regression (High-level)"
      ]
    },
    {
      "cell_type": "markdown",
      "metadata": {
        "id": "5rV6V9f-Xgpr"
      },
      "source": [
        "dataset은 low-level 과정과 동일"
      ]
    },
    {
      "cell_type": "code",
      "metadata": {
        "colab": {
          "base_uri": "https://localhost:8080/"
        },
        "id": "v8ASTzu1KeRb",
        "outputId": "2fc843d1-c589-409c-ddaf-f49c89390f5b"
      },
      "source": [
        "# model setting\n",
        "W = torch.zeros((4, 3), requires_grad=True)\n",
        "b = torch.zeros(1, requires_grad=True)\n",
        "\n",
        "# optimizer\n",
        "optimizer = optim.SGD([W, b], lr=0.1)\n",
        "\n",
        "nb_epochs = 1000\n",
        "for epoch in range(nb_epochs + 1):\n",
        "\n",
        "    # forward (softmax 미포함 => F.cross_entropy 내부에 softmax가 포함되므로)\n",
        "    z = x_train.matmul(W) + b\n",
        "\n",
        "    # cost function (softmax 포함)\n",
        "    cost = F.cross_entropy(z, y_train) # y_train을 one-hot encoding하지 않음\n",
        "\n",
        "    # update\n",
        "    optimizer.zero_grad()\n",
        "    cost.backward()\n",
        "    optimizer.step()\n",
        "\n",
        "    if epoch % 100 == 0:\n",
        "        print('Epoch {:4d}/{} Cost: {:.6f}'.format(\n",
        "            epoch, nb_epochs, cost.item()\n",
        "        ))"
      ],
      "execution_count": null,
      "outputs": [
        {
          "output_type": "stream",
          "text": [
            "Epoch    0/1000 Cost: 1.098612\n",
            "Epoch  100/1000 Cost: 0.761050\n",
            "Epoch  200/1000 Cost: 0.689991\n",
            "Epoch  300/1000 Cost: 0.643229\n",
            "Epoch  400/1000 Cost: 0.604117\n",
            "Epoch  500/1000 Cost: 0.568256\n",
            "Epoch  600/1000 Cost: 0.533922\n",
            "Epoch  700/1000 Cost: 0.500291\n",
            "Epoch  800/1000 Cost: 0.466908\n",
            "Epoch  900/1000 Cost: 0.433507\n",
            "Epoch 1000/1000 Cost: 0.399962\n"
          ],
          "name": "stdout"
        }
      ]
    },
    {
      "cell_type": "markdown",
      "metadata": {
        "id": "MJiqhqL4Kstp"
      },
      "source": [
        "## 3.3. Softmax Regression by pytorch nn.Module"
      ]
    },
    {
      "cell_type": "code",
      "metadata": {
        "colab": {
          "base_uri": "https://localhost:8080/"
        },
        "id": "HWyvDyrqKySz",
        "outputId": "4adf2c79-f136-4a90-8181-a96cc204eb54"
      },
      "source": [
        "# model setting => 4개의 특성을 가지고 3개의 클래스로 분류하므로 input_dim=4, output_dim=3.\n",
        "model = nn.Linear(4, 3)\n",
        "\n",
        "# optimizer\n",
        "optimizer = optim.SGD(model.parameters(), lr=0.1)\n",
        "\n",
        "nb_epochs = 1000\n",
        "for epoch in range(nb_epochs + 1):\n",
        "\n",
        "    # forward\n",
        "    prediction = model(x_train)\n",
        "\n",
        "    # cost function\n",
        "    cost = F.cross_entropy(prediction, y_train)\n",
        "\n",
        "    # update\n",
        "    optimizer.zero_grad()\n",
        "    cost.backward()\n",
        "    optimizer.step()\n",
        "\n",
        "    if epoch % 100 == 0:\n",
        "        print('Epoch {:4d}/{} Cost: {:.6f}'.format(\n",
        "            epoch, nb_epochs, cost.item()\n",
        "        ))"
      ],
      "execution_count": null,
      "outputs": [
        {
          "output_type": "stream",
          "text": [
            "Epoch    0/1000 Cost: 1.366217\n",
            "Epoch  100/1000 Cost: 0.722726\n",
            "Epoch  200/1000 Cost: 0.637564\n",
            "Epoch  300/1000 Cost: 0.578576\n",
            "Epoch  400/1000 Cost: 0.527363\n",
            "Epoch  500/1000 Cost: 0.479315\n",
            "Epoch  600/1000 Cost: 0.432700\n",
            "Epoch  700/1000 Cost: 0.386693\n",
            "Epoch  800/1000 Cost: 0.340930\n",
            "Epoch  900/1000 Cost: 0.295757\n",
            "Epoch 1000/1000 Cost: 0.255350\n"
          ],
          "name": "stdout"
        }
      ]
    },
    {
      "cell_type": "markdown",
      "metadata": {
        "id": "PL90rJwxKzA7"
      },
      "source": [
        "## 3.4 Modeling Softmax Regression by Class"
      ]
    },
    {
      "cell_type": "code",
      "metadata": {
        "colab": {
          "base_uri": "https://localhost:8080/"
        },
        "id": "LYJsl6cWK6Wi",
        "outputId": "7c094d75-c3c8-4325-d7cb-7acbc21f1458"
      },
      "source": [
        "class SoftmaxClassifierModel(nn.Module):\n",
        "    def __init__(self):\n",
        "        super().__init__()\n",
        "        self.linear = nn.Linear(4, 3)\n",
        "\n",
        "    def forward(self, x):\n",
        "        return self.linear(x)\n",
        "\n",
        "model = SoftmaxClassifierModel()\n",
        "list(model.parameters())"
      ],
      "execution_count": null,
      "outputs": [
        {
          "output_type": "execute_result",
          "data": {
            "text/plain": [
              "[Parameter containing:\n",
              " tensor([[-0.0450,  0.0725, -0.0020,  0.4371],\n",
              "         [ 0.1556, -0.1862, -0.3020, -0.0838],\n",
              "         [-0.2157, -0.1602,  0.0239,  0.2981]], requires_grad=True),\n",
              " Parameter containing:\n",
              " tensor([ 0.2718, -0.4888,  0.3100], requires_grad=True)]"
            ]
          },
          "metadata": {
            "tags": []
          },
          "execution_count": 44
        }
      ]
    },
    {
      "cell_type": "markdown",
      "metadata": {
        "id": "lza_k0EvMRhI"
      },
      "source": [
        "## 3.5 Linear vs. Logistic vs. Softmax"
      ]
    },
    {
      "cell_type": "markdown",
      "metadata": {
        "id": "4rNQ63z6QgFs"
      },
      "source": [
        "* __Linear Regression__\n",
        " * 선형회귀\n",
        " * $H(x)= Wx+b$\n",
        " * $cost(W, b) = \\frac{1}{n} \\sum_{i=1}^{n} \\left[y^{(i)} - H(x^{(i)})\\right]^2$\n",
        " \n",
        "```python\n",
        "# nn.Module\n",
        "model = nn.Linear(input_dim, output_dim)\n",
        "prediction = model(x_train)\n",
        "cost = F.mse_loss(prediction, y_train)\n",
        "```\n",
        "\n",
        "```python\n",
        "# class\n",
        "class LinearRegressionModel(nn.Module): \n",
        "  def __init__(self):\n",
        "    super().__init__()\n",
        "    self.linear = nn.Linear(input_dim, output_dim)\n",
        "\n",
        "  def forward(self, x):\n",
        "    return self.linear(x)\n",
        "    \n",
        "model = LinearRegressionModel()\n",
        "prediction = model(x_train)\n",
        "cost = F.mse_loss(prediction, y_train)\n",
        "```\n",
        "\n"
      ]
    },
    {
      "cell_type": "markdown",
      "metadata": {
        "id": "71MpzFgXS348"
      },
      "source": [
        "---"
      ]
    },
    {
      "cell_type": "markdown",
      "metadata": {
        "id": "FpngdGcyS4--"
      },
      "source": [
        "* __Logistic Regression__\n",
        " * 이진분류\n",
        " * $H(x) = sigmoid(Wx + b) = \\frac{1}{1 + e^{-(Wx + b)}} = σ(Wx + b)$\n",
        " * $cost(W) = -\\frac{1}{n} \\sum_{i=1}^{n} [y^{(i)}logH(x^{(i)}) + (1-y^{(i)})log(1-H(x^{(i)}))]$\n",
        "\n",
        "```python\n",
        "# nn.Module\n",
        "model = nn.Sequential(\n",
        "       nn.Linear(input_dim, output_dim),\n",
        "       nn.Sigmoid()\n",
        "   )\n",
        "prediction = model(x_train)\n",
        "cost = F.binary_cross_entropy(prediction, y_train)\n",
        "```\n",
        "\n",
        "```python\n",
        "# class\n",
        "class BinaryClassifier(nn.Module):\n",
        "    def __init__(self):\n",
        "        super().__init__()\n",
        "        self.linear = nn.Linear(input_dim, output_dim)\n",
        "        self.sigmoid = nn.Sigmoid()\n",
        "\n",
        "    def forward(self, x):\n",
        "        return self.sigmoid(self.linear(x))\n",
        "\n",
        "model = BinaryClassifier()\n",
        "prediction = model(x_train)\n",
        "cost = F.binary_cross_entropy(prediction, y_train)\n",
        "```"
      ]
    },
    {
      "cell_type": "markdown",
      "metadata": {
        "id": "ZdZRkvFYTP60"
      },
      "source": [
        "---"
      ]
    },
    {
      "cell_type": "markdown",
      "metadata": {
        "id": "--vR7Z6yVRPL"
      },
      "source": [
        "* __Softmax Regression__\n",
        " * 다중분류\n",
        " * $H(x) = softmax(Wx + b) = softmax(z)=[\\frac{e^{z_{1}}}{\\sum_{j=1}^{3} e^{z_{j}}}\\ \\frac{e^{z_{2}}}{\\sum_{j=1}^{3} e^{z_{j}}}\\ \\frac{e^{z_{3}}}{\\sum_{j=1}^{3} e^{z_{j}}}] = [p_{1}, p_{2}, p_{3}] = \\hat{y} = \\text{예측값}$\n",
        " * $cost(W) = -\\frac{1}{n} \\sum_{i=1}^{n} \\sum_{j=1}^{k}y_{j}^{(i)}\\ log(p_{j}^{(i)})$\n",
        "   * 이 때 $y_{j}^{(i)}$(정답 데이터)는 one-hot vector\n",
        "\n",
        "```python\n",
        "# nn.Module\n",
        "model = nn.Linear(input_dim, output_dim)\n",
        "prediction = model(x_train)\n",
        "cost = F.cross_entropy(prediction, y_train)\n",
        "```\n",
        "\n",
        "```python\n",
        "# class\n",
        "class SoftmaxClassifierModel(nn.Module):\n",
        "    def __init__(self):\n",
        "        super().__init__()\n",
        "        self.linear = nn.Linear(input_dim, output_dim)\n",
        "\n",
        "    def forward(self, x):\n",
        "        return self.linear(x)\n",
        "\n",
        "model = SoftmaxClassifierModel()\n",
        "prediction = model(x_train)\n",
        "cost = F.cross_entropy(prediction, y_train)\n",
        "```"
      ]
    },
    {
      "cell_type": "markdown",
      "metadata": {
        "id": "H17BOZQpMYqv"
      },
      "source": [
        "# 4) Classifying MNIST dataset by Softmax Regression "
      ]
    },
    {
      "cell_type": "code",
      "metadata": {
        "id": "0Pi1omJcDIlM"
      },
      "source": [
        "import torch\n",
        "import torchvision.datasets as dsets\n",
        "import torchvision.transforms as transforms\n",
        "from torch.utils.data import DataLoader\n",
        "import torch.nn as nn\n",
        "import matplotlib.pyplot as plt\n",
        "import random"
      ],
      "execution_count": null,
      "outputs": []
    },
    {
      "cell_type": "code",
      "metadata": {
        "colab": {
          "base_uri": "https://localhost:8080/"
        },
        "id": "qiZfZMgVDQfI",
        "outputId": "1532bf05-4902-4d78-85e6-07391221c00b"
      },
      "source": [
        "USE_CUDA = torch.cuda.is_available() # GPU를 사용가능하면 True, 아니라면 False를 리턴\n",
        "device = torch.device(\"cuda\" if USE_CUDA else \"cpu\") # GPU 사용 가능하면 사용하고 아니면 CPU 사용\n",
        "print(\"다음 기기로 학습합니다:\", device)"
      ],
      "execution_count": null,
      "outputs": [
        {
          "output_type": "stream",
          "text": [
            "다음 기기로 학습합니다: cuda\n"
          ],
          "name": "stdout"
        }
      ]
    },
    {
      "cell_type": "code",
      "metadata": {
        "id": "DPm1KES0DlfB"
      },
      "source": [
        "# seed\n",
        "if device == 'cuda':\n",
        "    torch.cuda.manual_seed_all(777)\n",
        "\n",
        "# hyperparameters\n",
        "training_epochs = 15\n",
        "batch_size = 100"
      ],
      "execution_count": null,
      "outputs": []
    },
    {
      "cell_type": "code",
      "metadata": {
        "colab": {
          "base_uri": "https://localhost:8080/",
          "height": 561,
          "referenced_widgets": [
            "facc41ac31b5413c83b8ee88b29b875e",
            "12e6a0ea6d4449d39f8187d65c4ffbdc",
            "750c1dded1e34cc684450ea168de976a",
            "8c4ba4f156f34d20b7e0a157ad1d254b",
            "2e211ce4b8804fbda27eedaac5e0886c",
            "faeb3400d08a49f2a92a26d109f9e7f4",
            "9e26327474f549b9a066b1f565c9fe24",
            "04f12aaf5d2a4c02abc2231427cb252d",
            "5e4a43c920ff47eab1c153cafb91a5bf",
            "6f279750737442569f0d8b2c88b442d8",
            "46691f19a0554226ae3dd3bca9cd3247",
            "12c42f810b714709b0c221aa22c87dec",
            "a7417aa9f06846c7b9f0b7197045cd18",
            "1dd4d5c69b0541739884aadbecaad79b",
            "f01231f7d2a94731a2884d702301d5c6",
            "f271322a6101410f900ae67df90983d7",
            "41227bb7245f41c2be5bdb060109b9b3",
            "cff4d447a34341298b6d3d26586c682f",
            "fbaff8f2620e434f8bba94598cd99970",
            "707b58220afd47ca8adfc23facecfa3a",
            "f16b9eea0bc946bd9384e7dd5e8a1ea0",
            "f6d03a95931b4d83b98ed5946d24c627",
            "efbd4346e8d74ba0a02f5bff22593a86",
            "3d6ec5c9f2ae4934968f0e50ec1c4833",
            "fd1c4bd533b948cf9ab809d847bee70e",
            "f341ddd99d5f4acfaa46755ba2a80690",
            "fd08e0cf20a448fbb21059473ea6b197",
            "f23629799763475fa96df2a53036b093",
            "f505853e557048e2b3e83181cfa3a496",
            "af4301021dac42cf9357f6a34da25794",
            "8120fb5e2309480eba4f72a5aedb0b37",
            "7289ecc972b84a3eb7e136376c2c5b6f"
          ]
        },
        "id": "jek-TPYhDzBF",
        "outputId": "2b46b8b0-54ef-4304-f177-841ab5f0b39f"
      },
      "source": [
        "# MNIST dataset\n",
        "mnist_train = dsets.MNIST(root='MNIST_data/', # 다운로드 경로\n",
        "                          train=True, # train or test\n",
        "                          transform=transforms.ToTensor(),\n",
        "                          download=True) # 다운로드 경로에 데이터가 없다면 새로 다운로드 실행\n",
        "\n",
        "mnist_test = dsets.MNIST(root='MNIST_data/',\n",
        "                         train=False,\n",
        "                         transform=transforms.ToTensor(),\n",
        "                         download=True)"
      ],
      "execution_count": null,
      "outputs": [
        {
          "output_type": "stream",
          "text": [
            "Downloading http://yann.lecun.com/exdb/mnist/train-images-idx3-ubyte.gz\n",
            "Downloading http://yann.lecun.com/exdb/mnist/train-images-idx3-ubyte.gz to MNIST_data/MNIST/raw/train-images-idx3-ubyte.gz\n"
          ],
          "name": "stdout"
        },
        {
          "output_type": "display_data",
          "data": {
            "application/vnd.jupyter.widget-view+json": {
              "model_id": "facc41ac31b5413c83b8ee88b29b875e",
              "version_minor": 0,
              "version_major": 2
            },
            "text/plain": [
              "HBox(children=(FloatProgress(value=0.0, max=9912422.0), HTML(value='')))"
            ]
          },
          "metadata": {
            "tags": []
          }
        },
        {
          "output_type": "stream",
          "text": [
            "\n",
            "Extracting MNIST_data/MNIST/raw/train-images-idx3-ubyte.gz to MNIST_data/MNIST/raw\n",
            "\n",
            "Downloading http://yann.lecun.com/exdb/mnist/train-labels-idx1-ubyte.gz\n",
            "Downloading http://yann.lecun.com/exdb/mnist/train-labels-idx1-ubyte.gz to MNIST_data/MNIST/raw/train-labels-idx1-ubyte.gz\n"
          ],
          "name": "stdout"
        },
        {
          "output_type": "display_data",
          "data": {
            "application/vnd.jupyter.widget-view+json": {
              "model_id": "5e4a43c920ff47eab1c153cafb91a5bf",
              "version_minor": 0,
              "version_major": 2
            },
            "text/plain": [
              "HBox(children=(FloatProgress(value=0.0, max=28881.0), HTML(value='')))"
            ]
          },
          "metadata": {
            "tags": []
          }
        },
        {
          "output_type": "stream",
          "text": [
            "\n",
            "Extracting MNIST_data/MNIST/raw/train-labels-idx1-ubyte.gz to MNIST_data/MNIST/raw\n",
            "\n",
            "Downloading http://yann.lecun.com/exdb/mnist/t10k-images-idx3-ubyte.gz\n",
            "Downloading http://yann.lecun.com/exdb/mnist/t10k-images-idx3-ubyte.gz to MNIST_data/MNIST/raw/t10k-images-idx3-ubyte.gz\n"
          ],
          "name": "stdout"
        },
        {
          "output_type": "display_data",
          "data": {
            "application/vnd.jupyter.widget-view+json": {
              "model_id": "41227bb7245f41c2be5bdb060109b9b3",
              "version_minor": 0,
              "version_major": 2
            },
            "text/plain": [
              "HBox(children=(FloatProgress(value=0.0, max=1648877.0), HTML(value='')))"
            ]
          },
          "metadata": {
            "tags": []
          }
        },
        {
          "output_type": "stream",
          "text": [
            "\n",
            "Extracting MNIST_data/MNIST/raw/t10k-images-idx3-ubyte.gz to MNIST_data/MNIST/raw\n",
            "\n",
            "Downloading http://yann.lecun.com/exdb/mnist/t10k-labels-idx1-ubyte.gz\n",
            "Downloading http://yann.lecun.com/exdb/mnist/t10k-labels-idx1-ubyte.gz to MNIST_data/MNIST/raw/t10k-labels-idx1-ubyte.gz\n"
          ],
          "name": "stdout"
        },
        {
          "output_type": "display_data",
          "data": {
            "application/vnd.jupyter.widget-view+json": {
              "model_id": "fd1c4bd533b948cf9ab809d847bee70e",
              "version_minor": 0,
              "version_major": 2
            },
            "text/plain": [
              "HBox(children=(FloatProgress(value=0.0, max=4542.0), HTML(value='')))"
            ]
          },
          "metadata": {
            "tags": []
          }
        },
        {
          "output_type": "stream",
          "text": [
            "\n",
            "Extracting MNIST_data/MNIST/raw/t10k-labels-idx1-ubyte.gz to MNIST_data/MNIST/raw\n",
            "\n"
          ],
          "name": "stdout"
        },
        {
          "output_type": "stream",
          "text": [
            "/usr/local/lib/python3.7/dist-packages/torchvision/datasets/mnist.py:498: UserWarning: The given NumPy array is not writeable, and PyTorch does not support non-writeable tensors. This means you can write to the underlying (supposedly non-writeable) NumPy array using the tensor. You may want to copy the array to protect its data or make it writeable before converting it to a tensor. This type of warning will be suppressed for the rest of this program. (Triggered internally at  /pytorch/torch/csrc/utils/tensor_numpy.cpp:180.)\n",
            "  return torch.from_numpy(parsed.astype(m[2], copy=False)).view(*s)\n"
          ],
          "name": "stderr"
        }
      ]
    },
    {
      "cell_type": "code",
      "metadata": {
        "id": "vujxzg7xEA-J"
      },
      "source": [
        "# dataset loader\n",
        "data_loader = DataLoader(dataset=mnist_train,\n",
        "                         batch_size=batch_size, # batch_size = 100\n",
        "                         shuffle=True,\n",
        "                         drop_last=True) # 마지막 batch를 버림"
      ],
      "execution_count": null,
      "outputs": []
    },
    {
      "cell_type": "code",
      "metadata": {
        "colab": {
          "base_uri": "https://localhost:8080/"
        },
        "id": "6uN9osSrJjX6",
        "outputId": "21a6c43b-067a-487c-9545-efc541e85fc5"
      },
      "source": [
        "# X_1\n",
        "data_loader.dataset[0][0].shape"
      ],
      "execution_count": null,
      "outputs": [
        {
          "output_type": "execute_result",
          "data": {
            "text/plain": [
              "torch.Size([1, 28, 28])"
            ]
          },
          "metadata": {
            "tags": []
          },
          "execution_count": 18
        }
      ]
    },
    {
      "cell_type": "code",
      "metadata": {
        "colab": {
          "base_uri": "https://localhost:8080/"
        },
        "id": "aLZGUpOdJ9YU",
        "outputId": "cfc713fb-e6d0-4d9e-e47e-a83111dddb55"
      },
      "source": [
        "# Y_1\n",
        "data_loader.dataset[0][1]"
      ],
      "execution_count": null,
      "outputs": [
        {
          "output_type": "execute_result",
          "data": {
            "text/plain": [
              "5"
            ]
          },
          "metadata": {
            "tags": []
          },
          "execution_count": 19
        }
      ]
    },
    {
      "cell_type": "markdown",
      "metadata": {
        "id": "nSUbwlUCFI-U"
      },
      "source": [
        "* drop_last를 하는 이유를 이해하기 위해서 1,000개의 데이터가 있다고 했을 때, 배치 크기가 128이라고 해봅시다. 1,000을 128로 나누면 총 7개가 나오고 나머지로 104개가 남습니다. 이때 104개를 마지막 배치로 한다고 하였을 때 128개를 충족하지 못하였으므로 104개를 그냥 버릴 수도 있습니다. 이때 마지막 배치를 버리려면 drop_last=True를 해주면 됩니다. 이는 다른 미니 배치보다 개수가 적은 마지막 배치를 경사 하강법에 사용하여 마지막 배치가 상대적으로 과대 평가되는 현상을 막아줍니다"
      ]
    },
    {
      "cell_type": "code",
      "metadata": {
        "id": "ARGdFIgUFA8d"
      },
      "source": [
        "# model set\n",
        "\n",
        "# MNIST data image of shape 28 * 28 = 784\n",
        "linear = nn.Linear(784, 10, bias=True).to(device) \n",
        "\n",
        "# cost function & optimizer\n",
        "criterion = nn.CrossEntropyLoss().to(device) # contain Softmax function\n",
        "optimizer = torch.optim.SGD(linear.parameters(), lr=0.1)"
      ],
      "execution_count": null,
      "outputs": []
    },
    {
      "cell_type": "markdown",
      "metadata": {
        "id": "PrDktvOGFwH8"
      },
      "source": [
        "* __to()__ : 연산을 어디서 수행할지를 정한다. to() 함수는 모델의 매개변수를 지정한 장치의 메모리로 보낸다. CPU를 사용할 경우에는 필요가 없지만, GPU를 사용하려면 to('cuda')를 해 줄 필요가 있다. 아무것도 지정하지 않은 경우에는 CPU 연산.\n",
        "\n",
        "* __bias =__ : 편향을 사용할 것인지 지정. 기본값은 True.\n",
        "\n",
        "* 앞서 배운 __torch.nn.functional.cross_entropy()__와 여기서 쓰인 __torch.nn.CrossEntropyLoss()__는 기능 동일"
      ]
    },
    {
      "cell_type": "code",
      "metadata": {
        "colab": {
          "base_uri": "https://localhost:8080/"
        },
        "id": "ynd2qB58Gdut",
        "outputId": "9d257f34-12ba-4128-badb-c95b0c255fa3"
      },
      "source": [
        "# model train\n",
        "for epoch in range(training_epochs): # training_epochs = 15\n",
        "    avg_cost = 0\n",
        "    total_batch = len(data_loader) # 600\n",
        "\n",
        "    for X, Y in data_loader:\n",
        "        # 배치 크기가 100이므로 아래의 연산에서 X는 (100, 784)의 텐서가 된다.\n",
        "        X = X.view(-1, 28 * 28).to(device)\n",
        "        # 레이블은 원-핫 인코딩이 된 상태가 아니라 0 ~ 9의 정수.\n",
        "        Y = Y.to(device)\n",
        "\n",
        "        optimizer.zero_grad()\n",
        "        hypothesis = linear(X)\n",
        "        cost = criterion(hypothesis, Y)\n",
        "        cost.backward()\n",
        "        optimizer.step()\n",
        "\n",
        "        avg_cost += cost / total_batch\n",
        "\n",
        "    print('Epoch:', '%02d' % (epoch + 1), 'cost =', '{:.9f}'.format(avg_cost))\n",
        "\n",
        "print('Learning finished')"
      ],
      "execution_count": null,
      "outputs": [
        {
          "output_type": "stream",
          "text": [
            "Epoch: 01 cost = 0.272932380\n",
            "Epoch: 02 cost = 0.271593004\n",
            "Epoch: 03 cost = 0.270377278\n",
            "Epoch: 04 cost = 0.269331962\n",
            "Epoch: 05 cost = 0.268465757\n",
            "Epoch: 06 cost = 0.267272115\n",
            "Epoch: 07 cost = 0.266291946\n",
            "Epoch: 08 cost = 0.265587240\n",
            "Epoch: 09 cost = 0.264523178\n",
            "Epoch: 10 cost = 0.263796926\n",
            "Epoch: 11 cost = 0.263177514\n",
            "Epoch: 12 cost = 0.262558430\n",
            "Epoch: 13 cost = 0.261730760\n",
            "Epoch: 14 cost = 0.261236936\n",
            "Epoch: 15 cost = 0.260820210\n",
            "Learning finished\n"
          ],
          "name": "stdout"
        }
      ]
    },
    {
      "cell_type": "code",
      "metadata": {
        "colab": {
          "base_uri": "https://localhost:8080/",
          "height": 391
        },
        "id": "xFOsmOnbGgzY",
        "outputId": "ebe452d8-47d1-4047-8168-a9f29cfd1f20"
      },
      "source": [
        "# model test\n",
        "with torch.no_grad(): # torch.no_grad()를 하면 gradient 계산을 수행하지 않는다. (메모리 절약)\n",
        "    X_test = mnist_test.test_data.view(-1, 28 * 28).float().to(device)\n",
        "    Y_test = mnist_test.test_labels.to(device)\n",
        "\n",
        "    prediction = linear(X_test)\n",
        "    correct_prediction = torch.argmax(prediction, 1) == Y_test\n",
        "    accuracy = correct_prediction.float().mean()\n",
        "    print('Accuracy:', accuracy.item())\n",
        "\n",
        "    # MNIST 테스트 데이터에서 무작위로 하나를 뽑아서 예측을 해본다\n",
        "    r = random.randint(0, len(mnist_test) - 1)\n",
        "    X_single_data = mnist_test.test_data[r:r + 1].view(-1, 28 * 28).float().to(device)\n",
        "    Y_single_data = mnist_test.test_labels[r:r + 1].to(device)\n",
        "\n",
        "    print('Label: ', Y_single_data.item())\n",
        "    single_prediction = linear(X_single_data)\n",
        "    print('Prediction: ', torch.argmax(single_prediction, 1).item())\n",
        "\n",
        "    plt.imshow(mnist_test.test_data[r:r + 1].view(28, 28), cmap='Greys', interpolation='nearest')\n",
        "    plt.show()"
      ],
      "execution_count": null,
      "outputs": [
        {
          "output_type": "stream",
          "text": [
            "Accuracy: 0.8729999661445618\n",
            "Label:  8\n",
            "Prediction:  8\n"
          ],
          "name": "stdout"
        },
        {
          "output_type": "stream",
          "text": [
            "/usr/local/lib/python3.7/dist-packages/torchvision/datasets/mnist.py:67: UserWarning: test_data has been renamed data\n",
            "  warnings.warn(\"test_data has been renamed data\")\n",
            "/usr/local/lib/python3.7/dist-packages/torchvision/datasets/mnist.py:57: UserWarning: test_labels has been renamed targets\n",
            "  warnings.warn(\"test_labels has been renamed targets\")\n"
          ],
          "name": "stderr"
        },
        {
          "output_type": "display_data",
          "data": {
            "image/png": "[encoded data removed]",
            "text/plain": [
              "<Figure size 432x288 with 1 Axes>"
            ]
          },
          "metadata": {
            "tags": [],
            "needs_background": "light"
          }
        }
      ]
    }
  ]
}