{
  "nbformat": 4,
  "nbformat_minor": 0,
  "metadata": {
    "colab": {
      "name": "pytorch_linear_regression.ipynb",
      "provenance": [],
      "collapsed_sections": [],
      "authorship_tag": "ABX9TyNoWKRavM1SRsaxNvU5WQw6",
      "include_colab_link": true
    },
    "kernelspec": {
      "name": "python3",
      "display_name": "Python 3"
    },
    "language_info": {
      "name": "python"
    }
  },
  "cells": [
    {
      "cell_type": "markdown",
      "metadata": {
        "id": "view-in-github",
        "colab_type": "text"
      },
      "source": [
        "<a href=\"https://colab.research.google.com/github/injoon-pij/pytorch-learning/blob/master/pytorch_linear_regression.ipynb\" target=\"_parent\"><img src=\"https://colab.research.google.com/assets/colab-badge.svg\" alt=\"Open In Colab\"/></a>"
      ]
    },
    {
      "cell_type": "markdown",
      "metadata": {
        "id": "IVVIKoMZbJp5"
      },
      "source": [
        "# 1) Simple Linear Regression by pytorch"
      ]
    },
    {
      "cell_type": "markdown",
      "metadata": {
        "id": "aeKxkPLWbWPr"
      },
      "source": [
        "## 1.1 기본 setting"
      ]
    },
    {
      "cell_type": "code",
      "metadata": {
        "id": "Dcpr4kfhZvKN"
      },
      "source": [
        "import torch\n",
        "import torch.nn as nn\n",
        "import torch.nn.functional as F\n",
        "import torch.optim as optim"
      ],
      "execution_count": null,
      "outputs": []
    },
    {
      "cell_type": "code",
      "metadata": {
        "colab": {
          "base_uri": "https://localhost:8080/"
        },
        "id": "ndkTUHfbboWr",
        "outputId": "920b897f-bc64-4e7d-d827-242bbe5a1526"
      },
      "source": [
        "# 실습이 반복되어도 같은 결과를 얻기 위해 random seed 지정\n",
        "\n",
        "torch.manual_seed(1)"
      ],
      "execution_count": null,
      "outputs": [
        {
          "output_type": "execute_result",
          "data": {
            "text/plain": [
              "<torch._C.Generator at 0x7f28ae550a10>"
            ]
          },
          "metadata": {
            "tags": []
          },
          "execution_count": 4
        }
      ]
    },
    {
      "cell_type": "markdown",
      "metadata": {
        "id": "aXs8WODcb8q2"
      },
      "source": [
        "## 1.2 변수 선언"
      ]
    },
    {
      "cell_type": "code",
      "metadata": {
        "colab": {
          "base_uri": "https://localhost:8080/"
        },
        "id": "Rt8ldU5Lb-mM",
        "outputId": "4de7606c-0a0c-418f-ce41-e2f665eb87cd"
      },
      "source": [
        "x_train = torch.FloatTensor([[1], [2], [3]])\n",
        "y_train = torch.FloatTensor([[2], [4], [6]])\n",
        "\n",
        "print(x_train)\n",
        "print(x_train.shape)\n",
        "print()\n",
        "print(y_train)\n",
        "print(y_train.shape)"
      ],
      "execution_count": null,
      "outputs": [
        {
          "output_type": "stream",
          "text": [
            "tensor([[1.],\n",
            "        [2.],\n",
            "        [3.]])\n",
            "torch.Size([3, 1])\n",
            "\n",
            "tensor([[2.],\n",
            "        [4.],\n",
            "        [6.]])\n",
            "torch.Size([3, 1])\n"
          ],
          "name": "stdout"
        }
      ]
    },
    {
      "cell_type": "markdown",
      "metadata": {
        "id": "bQTugXzucWWW"
      },
      "source": [
        "## 1.3 가중치와 편향 초기화"
      ]
    },
    {
      "cell_type": "code",
      "metadata": {
        "colab": {
          "base_uri": "https://localhost:8080/"
        },
        "id": "x4Y45DJscUSq",
        "outputId": "c593ba48-6a51-4e97-ec59-ded397fd8201"
      },
      "source": [
        "# 가중치를 0으로 초기화\n",
        "# requires_grad = True : 학습을 통해 변경되는 변수임을 나타냄. 그리고 이때 변경되는 텐서에 대한 기울기는 누적됨\n",
        "\n",
        "W = torch.zeros(1, requires_grad=True) \n",
        "print(W)\n",
        "\n",
        "b = torch.zeros(1, requires_grad=True)\n",
        "print(b)"
      ],
      "execution_count": null,
      "outputs": [
        {
          "output_type": "stream",
          "text": [
            "tensor([0.], requires_grad=True)\n",
            "tensor([0.], requires_grad=True)\n"
          ],
          "name": "stdout"
        }
      ]
    },
    {
      "cell_type": "markdown",
      "metadata": {
        "id": "L9wFh49cdKiB"
      },
      "source": [
        "## 1.4 가설 세우기"
      ]
    },
    {
      "cell_type": "markdown",
      "metadata": {
        "id": "nKS_wQnQd7dO"
      },
      "source": [
        "$$H(x)= Wx+b$$"
      ]
    },
    {
      "cell_type": "code",
      "metadata": {
        "colab": {
          "base_uri": "https://localhost:8080/"
        },
        "id": "ggfeKLCkc9MD",
        "outputId": "d8d979c6-16c7-4626-c940-4fefa5255192"
      },
      "source": [
        "# 직선 방정식에 해당되는 가설 수립\n",
        "\n",
        "hyp = x_train * W + b\n",
        "print(hyp)"
      ],
      "execution_count": null,
      "outputs": [
        {
          "output_type": "stream",
          "text": [
            "tensor([[0.],\n",
            "        [0.],\n",
            "        [0.]], grad_fn=<AddBackward0>)\n"
          ],
          "name": "stdout"
        }
      ]
    },
    {
      "cell_type": "markdown",
      "metadata": {
        "id": "SCpL_-PUdY_O"
      },
      "source": [
        "## 1.5 비용 함수 선언하기"
      ]
    },
    {
      "cell_type": "markdown",
      "metadata": {
        "id": "T8Rd-l3Ldl4y"
      },
      "source": [
        "$$cost(W, b) = \\frac{1}{n} \\sum_{i=1}^{n} \\left[y^{(i)} - H(x^{(i)})\\right]^2$$"
      ]
    },
    {
      "cell_type": "code",
      "metadata": {
        "colab": {
          "base_uri": "https://localhost:8080/"
        },
        "id": "_I-iID40dUya",
        "outputId": "b164f5d2-c76c-45a0-ffa8-cc8ef47fc684"
      },
      "source": [
        "cost = torch.mean((hyp - y_train) ** 2)\n",
        "print(cost)"
      ],
      "execution_count": null,
      "outputs": [
        {
          "output_type": "stream",
          "text": [
            "tensor(18.6667, grad_fn=<MeanBackward0>)\n"
          ],
          "name": "stdout"
        }
      ]
    },
    {
      "cell_type": "markdown",
      "metadata": {
        "id": "M3AubnwDek8Z"
      },
      "source": [
        "## 1.6 경사 하강법 구현하기"
      ]
    },
    {
      "cell_type": "code",
      "metadata": {
        "id": "CfbRYqsceeJs"
      },
      "source": [
        "optimizer = optim.SGD([W, b], lr = 0.01)\n",
        "\n",
        "# W와 b의 gradient를 0으로 초기화\n",
        "optimizer.zero_grad()\n",
        "\n",
        "# cost function을 미분하여 W와 b의 gradient 계산\n",
        "cost.backward()\n",
        "\n",
        "# 계산된 gradient로 SGD를 통해 W와 b 값 업데이트\n",
        "optimizer.step()"
      ],
      "execution_count": null,
      "outputs": []
    },
    {
      "cell_type": "markdown",
      "metadata": {
        "id": "H9I8F3D6lfLe"
      },
      "source": [
        "* optimizer.zero_grad() : 파이토치는 미분을 통해 얻은 기울기를 누적하여 저장함. 따라서 W.grad와 b.grad에 이전 비용함수를 통해 구한 미분값이 남아있으면, 현재 비용함수를 통해 구해진 미분값에 이전값이 누적된 미분값으로 변수가 잘못 갱신됨 "
      ]
    },
    {
      "cell_type": "code",
      "metadata": {
        "colab": {
          "base_uri": "https://localhost:8080/"
        },
        "id": "FxFzvhYIoeZM",
        "outputId": "cec36c74-6270-428b-fdbc-fad1351143a7"
      },
      "source": [
        "import torch\n",
        "w = torch.tensor(2.0, requires_grad=True)\n",
        "\n",
        "nb_epochs = 10\n",
        "for epoch in range(nb_epochs + 1):\n",
        "\n",
        "  z = 2*w\n",
        "\n",
        "  z.backward()\n",
        "  print('수식을 w로 미분한 값 : {}'.format(w.grad))"
      ],
      "execution_count": null,
      "outputs": [
        {
          "output_type": "stream",
          "text": [
            "수식을 w로 미분한 값 : 2.0\n",
            "수식을 w로 미분한 값 : 4.0\n",
            "수식을 w로 미분한 값 : 6.0\n",
            "수식을 w로 미분한 값 : 8.0\n",
            "수식을 w로 미분한 값 : 10.0\n",
            "수식을 w로 미분한 값 : 12.0\n",
            "수식을 w로 미분한 값 : 14.0\n",
            "수식을 w로 미분한 값 : 16.0\n",
            "수식을 w로 미분한 값 : 18.0\n",
            "수식을 w로 미분한 값 : 20.0\n",
            "수식을 w로 미분한 값 : 22.0\n"
          ],
          "name": "stdout"
        }
      ]
    },
    {
      "cell_type": "markdown",
      "metadata": {
        "id": "zlRCADfGotyM"
      },
      "source": [
        "## 1.7 전체 코드"
      ]
    },
    {
      "cell_type": "code",
      "metadata": {
        "colab": {
          "base_uri": "https://localhost:8080/"
        },
        "id": "DGFbjjXOotha",
        "outputId": "889170a7-b94d-4adb-9892-b11b7d9b85f5"
      },
      "source": [
        "# 데이터\n",
        "x_train = torch.FloatTensor([[1], [2], [3]])\n",
        "y_train = torch.FloatTensor([[2], [4], [6]])\n",
        "\n",
        "# 모델 초기화\n",
        "W = torch.zeros(1, requires_grad=True)\n",
        "b = torch.zeros(1, requires_grad=True)\n",
        "\n",
        "# optimizer 설정\n",
        "optimizer = optim.SGD([W, b], lr=0.01)\n",
        "\n",
        "#\n",
        "nb_epochs = 2000 # 원하는만큼 경사 하강법을 반복\n",
        "for epoch in range(nb_epochs + 1):\n",
        "\n",
        "    # H(x) 계산\n",
        "    hypothesis = x_train * W + b\n",
        "\n",
        "    # cost 계산\n",
        "    cost = torch.mean((hypothesis - y_train) ** 2)\n",
        "\n",
        "    # cost로 H(x) 개선(W, b)\n",
        "    optimizer.zero_grad()\n",
        "    cost.backward()\n",
        "    optimizer.step()\n",
        "\n",
        "    # 100번마다 로그 출력\n",
        "    if epoch % 100 == 0:\n",
        "        print('Epoch {:4d}/{} W: {:.3f}, b: {:.3f} Cost: {:.6f}'.format(\n",
        "            epoch, nb_epochs, W.item(), b.item(), cost.item()\n",
        "        ))"
      ],
      "execution_count": null,
      "outputs": [
        {
          "output_type": "stream",
          "text": [
            "Epoch    0/2000 W: 0.187, b: 0.080 Cost: 18.666666\n",
            "Epoch  100/2000 W: 1.746, b: 0.578 Cost: 0.048171\n",
            "Epoch  200/2000 W: 1.800, b: 0.454 Cost: 0.029767\n",
            "Epoch  300/2000 W: 1.843, b: 0.357 Cost: 0.018394\n",
            "Epoch  400/2000 W: 1.876, b: 0.281 Cost: 0.011366\n",
            "Epoch  500/2000 W: 1.903, b: 0.221 Cost: 0.007024\n",
            "Epoch  600/2000 W: 1.924, b: 0.174 Cost: 0.004340\n",
            "Epoch  700/2000 W: 1.940, b: 0.136 Cost: 0.002682\n",
            "Epoch  800/2000 W: 1.953, b: 0.107 Cost: 0.001657\n",
            "Epoch  900/2000 W: 1.963, b: 0.084 Cost: 0.001024\n",
            "Epoch 1000/2000 W: 1.971, b: 0.066 Cost: 0.000633\n",
            "Epoch 1100/2000 W: 1.977, b: 0.052 Cost: 0.000391\n",
            "Epoch 1200/2000 W: 1.982, b: 0.041 Cost: 0.000242\n",
            "Epoch 1300/2000 W: 1.986, b: 0.032 Cost: 0.000149\n",
            "Epoch 1400/2000 W: 1.989, b: 0.025 Cost: 0.000092\n",
            "Epoch 1500/2000 W: 1.991, b: 0.020 Cost: 0.000057\n",
            "Epoch 1600/2000 W: 1.993, b: 0.016 Cost: 0.000035\n",
            "Epoch 1700/2000 W: 1.995, b: 0.012 Cost: 0.000022\n",
            "Epoch 1800/2000 W: 1.996, b: 0.010 Cost: 0.000013\n",
            "Epoch 1900/2000 W: 1.997, b: 0.008 Cost: 0.000008\n",
            "Epoch 2000/2000 W: 1.997, b: 0.006 Cost: 0.000005\n"
          ],
          "name": "stdout"
        }
      ]
    },
    {
      "cell_type": "markdown",
      "metadata": {
        "id": "QuRnz6BrqnfE"
      },
      "source": [
        "# 2) Multivariate Linear Regression by pytorch"
      ]
    },
    {
      "cell_type": "markdown",
      "metadata": {
        "id": "s6_zlBGjqxpO"
      },
      "source": [
        "## 2.1 기본 setting"
      ]
    },
    {
      "cell_type": "code",
      "metadata": {
        "colab": {
          "base_uri": "https://localhost:8080/"
        },
        "id": "SS3EQMR7TLba",
        "outputId": "157b0c38-a672-4dbe-bf2f-fbce8d8c365c"
      },
      "source": [
        "import torch\n",
        "import torch.nn as nn\n",
        "import torch.nn.functional as F\n",
        "import torch.optim as optim\n",
        "\n",
        "torch.manual_seed(1)"
      ],
      "execution_count": null,
      "outputs": [
        {
          "output_type": "execute_result",
          "data": {
            "text/plain": [
              "<torch._C.Generator at 0x7f27bd3eaad0>"
            ]
          },
          "metadata": {
            "tags": []
          },
          "execution_count": 34
        }
      ]
    },
    {
      "cell_type": "markdown",
      "metadata": {
        "id": "NYWNtKUrVW86"
      },
      "source": [
        "multivariate linear regression에서는 변수가 많으므로 simple linear regression에서처럼 변수를 하나하나의 값으로 선언하여 계산하면 연산이 비효율적. 따라서 데이터와 가중치, 편향을 행렬로 선언하여 연산을 **행렬 연산**으로 하는 것이 효율적."
      ]
    },
    {
      "cell_type": "markdown",
      "metadata": {
        "id": "5vEF3qhiW4Im"
      },
      "source": [
        "$$\\left(\n",
        "    \\begin{array}{c}\n",
        "      x_{11}\\ x_{12}\\ x_{13}\\ \\\\\n",
        "      x_{21}\\ x_{22}\\ x_{23}\\ \\\\\n",
        "      x_{31}\\ x_{32}\\ x_{33}\\ \\\\\n",
        "      x_{41}\\ x_{42}\\ x_{43}\\ \\\\\n",
        "      x_{51}\\ x_{52}\\ x_{53}\\ \\\\\n",
        "    \\end{array}\n",
        "  \\right)\n",
        "\\left(\n",
        "    \\begin{array}{c}\n",
        "      w_{1} \\\\\n",
        "      w_{2} \\\\\n",
        "      w_{3} \\\\\n",
        "    \\end{array}\n",
        "  \\right)\n",
        "+\n",
        "\\left(\n",
        "    \\begin{array}{c}\n",
        "      b \\\\\n",
        "      b \\\\\n",
        "      b \\\\\n",
        "      b \\\\\n",
        "      b \\\\\n",
        "    \\end{array}\n",
        "  \\right)\n",
        " \\ =\n",
        "\\left(\n",
        "    \\begin{array}{c}\n",
        "      x_{11}w_{1}+ x_{12}w_{2}+ x_{13}w_{3} + b\\ \\\\\n",
        "      x_{21}w_{1}+ x_{22}w_{2}+ x_{23}w_{3} + b\\ \\\\\n",
        "      x_{31}w_{1}+ x_{32}w_{2}+ x_{33}w_{3} + b\\ \\\\\n",
        "      x_{41}w_{1}+ x_{42}w_{2}+ x_{43}w_{3} + b\\ \\\\\n",
        "      x_{51}w_{1}+ x_{52}w_{2}+ x_{53}w_{3} + b\\ \\\\\n",
        "    \\end{array}\n",
        "  \\right)$$"
      ]
    },
    {
      "cell_type": "code",
      "metadata": {
        "id": "tAXC8OUPTcDq"
      },
      "source": [
        "# 훈련 데이터\n",
        "\n",
        "x_train  =  torch.FloatTensor([[73,  80,  75], \n",
        "                               [93,  88,  93], \n",
        "                               [89,  91,  80], \n",
        "                               [96,  98,  100],   \n",
        "                               [73,  66,  70]])  \n",
        "y_train  =  torch.FloatTensor([[152],  [185],  [180],  [196],  [142]])"
      ],
      "execution_count": null,
      "outputs": []
    },
    {
      "cell_type": "markdown",
      "metadata": {
        "id": "3N9mgSfeTq3S"
      },
      "source": [
        "## 2.2 가중치와 편향 초기화"
      ]
    },
    {
      "cell_type": "code",
      "metadata": {
        "id": "S9H3KUECTe2c"
      },
      "source": [
        "# 가중치 w와 편향 b 초기화\n",
        "\n",
        "W = torch.zeros((3,1), requires_grad=True)\n",
        "b = torch.zeros(1, requires_grad=True) # broadcasting"
      ],
      "execution_count": null,
      "outputs": []
    },
    {
      "cell_type": "markdown",
      "metadata": {
        "id": "Ax5J3liMT2mq"
      },
      "source": [
        "## 2.3 경사 하강법 구현"
      ]
    },
    {
      "cell_type": "code",
      "metadata": {
        "colab": {
          "base_uri": "https://localhost:8080/"
        },
        "id": "_aq9kOLEUNiv",
        "outputId": "47647a63-45f7-4657-d174-9f9ed56f7294"
      },
      "source": [
        "# optimizer 설정\n",
        "\n",
        "optimizer = optim.SGD([W, b], lr = 1e-5)\n",
        "\n",
        "nb_epochs = 2000\n",
        "for epoch in range(nb_epochs+1):\n",
        "\n",
        "  # H(x) 계산\n",
        "  hyp = x_train.matmul(W) + b\n",
        "\n",
        "  # cost function 계산\n",
        "  cost = torch.mean((hyp - y_train) ** 2)\n",
        "\n",
        "  # 계산된 cost로 가중치와 편향 개선\n",
        "  optimizer.zero_grad()\n",
        "  cost.backward()\n",
        "  optimizer.step()\n",
        "\n",
        "  if epoch % 100 == 0:\n",
        "    print('Epoch {:4d}/{} hyp: {} Cost: {:.6f}'.format(\n",
        "      epoch, nb_epochs, hyp.squeeze().detach(), cost.item()\n",
        "    ))"
      ],
      "execution_count": null,
      "outputs": [
        {
          "output_type": "stream",
          "text": [
            "Epoch    0/2000 hyp: tensor([0., 0., 0., 0., 0.]) Cost: 29661.800781\n",
            "Epoch  100/2000 hyp: tensor([154.0433, 185.0925, 175.8312, 198.5701, 141.2221]) Cost: 5.754573\n",
            "Epoch  200/2000 hyp: tensor([154.0278, 185.0649, 175.9335, 198.5128, 141.2284]) Cost: 5.512386\n",
            "Epoch  300/2000 hyp: tensor([154.0120, 185.0385, 176.0329, 198.4569, 141.2353]) Cost: 5.281667\n",
            "Epoch  400/2000 hyp: tensor([153.9960, 185.0133, 176.1295, 198.4022, 141.2426]) Cost: 5.061907\n",
            "Epoch  500/2000 hyp: tensor([153.9797, 184.9892, 176.2233, 198.3488, 141.2504]) Cost: 4.852424\n",
            "Epoch  600/2000 hyp: tensor([153.9632, 184.9662, 176.3143, 198.2966, 141.2586]) Cost: 4.652731\n",
            "Epoch  700/2000 hyp: tensor([153.9465, 184.9442, 176.4029, 198.2456, 141.2672]) Cost: 4.462265\n",
            "Epoch  800/2000 hyp: tensor([153.9296, 184.9232, 176.4888, 198.1958, 141.2762]) Cost: 4.280604\n",
            "Epoch  900/2000 hyp: tensor([153.9126, 184.9032, 176.5724, 198.1471, 141.2855]) Cost: 4.107261\n",
            "Epoch 1000/2000 hyp: tensor([153.8955, 184.8841, 176.6536, 198.0995, 141.2951]) Cost: 3.941853\n",
            "Epoch 1100/2000 hyp: tensor([153.8782, 184.8659, 176.7325, 198.0529, 141.3051]) Cost: 3.783899\n",
            "Epoch 1200/2000 hyp: tensor([153.8608, 184.8486, 176.8092, 198.0075, 141.3153]) Cost: 3.633053\n",
            "Epoch 1300/2000 hyp: tensor([153.8434, 184.8320, 176.8838, 197.9630, 141.3257]) Cost: 3.488978\n",
            "Epoch 1400/2000 hyp: tensor([153.8259, 184.8163, 176.9563, 197.9195, 141.3364]) Cost: 3.351316\n",
            "Epoch 1500/2000 hyp: tensor([153.8083, 184.8013, 177.0268, 197.8770, 141.3473]) Cost: 3.219726\n",
            "Epoch 1600/2000 hyp: tensor([153.7908, 184.7870, 177.0953, 197.8355, 141.3584]) Cost: 3.093974\n",
            "Epoch 1700/2000 hyp: tensor([153.7732, 184.7734, 177.1620, 197.7948, 141.3697]) Cost: 2.973701\n",
            "Epoch 1800/2000 hyp: tensor([153.7556, 184.7604, 177.2268, 197.7551, 141.3811]) Cost: 2.858673\n",
            "Epoch 1900/2000 hyp: tensor([153.7380, 184.7481, 177.2898, 197.7162, 141.3927]) Cost: 2.748659\n",
            "Epoch 2000/2000 hyp: tensor([153.7204, 184.7364, 177.3512, 197.6782, 141.4043]) Cost: 2.643340\n"
          ],
          "name": "stdout"
        }
      ]
    },
    {
      "cell_type": "markdown",
      "metadata": {
        "id": "4IEXz-y1b_tM"
      },
      "source": [
        "\\+ 추가"
      ]
    },
    {
      "cell_type": "markdown",
      "metadata": {
        "id": "-OfaiBwLc6Ol"
      },
      "source": [
        "```python\n",
        "hyp\n",
        "\n",
        ">>> tensor([[153.7204],\n",
        "        [184.7364],\n",
        "        [177.3512],\n",
        "        [197.6782],\n",
        "        [141.4043]], grad_fn=<AddBackward0>)\n",
        "\n",
        "# 1인 차원 제거\n",
        "hyp.squeeze()\n",
        "\n",
        ">>> tensor([153.7204, 184.7364, 177.3512, 197.6782, 141.4043],\n",
        "       grad_fn=<SqueezeBackward0>)\n",
        "\n",
        "# tensor value만 추출\n",
        "hyp.squeeze().detach() # tensor 크기가 1일 때는 .item()\n",
        "\n",
        ">>> tensor([153.7204, 184.7364, 177.3512, 197.6782, 141.4043])\n",
        "\n",
        "```\n",
        "\n"
      ]
    },
    {
      "cell_type": "markdown",
      "metadata": {
        "id": "5J9Qf9A_d-a2"
      },
      "source": [
        "# 3) Linear Regression by pytorch nn.Module"
      ]
    },
    {
      "cell_type": "markdown",
      "metadata": {
        "id": "Z2fdALYvexQ4"
      },
      "source": [
        "cost function을 직접 정의해서 linear regression model을 구현하는 것이 아닌, pytorch에 이미 구현되어 제공되어 있는 함수들로 linear regression model을 구현 "
      ]
    },
    {
      "cell_type": "markdown",
      "metadata": {
        "id": "V9fbqvMt4Aan"
      },
      "source": [
        "\n",
        "\n",
        "```\n",
        "import torch.nn as nn\n",
        "model = nn.Linear(input_dim, output_dim)\n",
        "\n",
        "import torch.nn.functional as F\n",
        "cost = F.mse_loss(prediction, y_train)\n",
        "```\n",
        "\n"
      ]
    },
    {
      "cell_type": "markdown",
      "metadata": {
        "id": "Pxa2nF_K3ue6"
      },
      "source": [
        "## 3.1 Simple Linear Regression"
      ]
    },
    {
      "cell_type": "code",
      "metadata": {
        "id": "DHc1zf-WjoVM",
        "colab": {
          "base_uri": "https://localhost:8080/"
        },
        "outputId": "62babc76-9229-4a6c-f774-3307dae043f1"
      },
      "source": [
        "import torch\n",
        "import torch.nn as nn\n",
        "import torch.nn.functional as F\n",
        "\n",
        "torch.manual_seed(1)"
      ],
      "execution_count": null,
      "outputs": [
        {
          "output_type": "execute_result",
          "data": {
            "text/plain": [
              "<torch._C.Generator at 0x7f96baf5bad0>"
            ]
          },
          "metadata": {
            "tags": []
          },
          "execution_count": 8
        }
      ]
    },
    {
      "cell_type": "code",
      "metadata": {
        "colab": {
          "base_uri": "https://localhost:8080/"
        },
        "id": "HPhwdquO36Cf",
        "outputId": "07f2cf34-3b6a-4790-e527-c5946c6ad517"
      },
      "source": [
        "# data\n",
        "x_train = torch.FloatTensor([[1], [2], [3]])\n",
        "y_train = torch.FloatTensor([[2], [4], [6]])\n",
        "\n",
        "# model : 단순선형회귀모델이므로 input_dim=1, output_dim=1\n",
        "model = nn.Linear(1,1)\n",
        "\n",
        "# model는 랜덤으로 초기화된 weight와 bias를 parameter로 가짐\n",
        "# 두 값 모두 학습 대상이므로 requires_grad=True\n",
        "list(model.parameters())"
      ],
      "execution_count": null,
      "outputs": [
        {
          "output_type": "execute_result",
          "data": {
            "text/plain": [
              "[Parameter containing:\n",
              " tensor([[0.5153]], requires_grad=True), Parameter containing:\n",
              " tensor([-0.4414], requires_grad=True)]"
            ]
          },
          "metadata": {
            "tags": []
          },
          "execution_count": 9
        }
      ]
    },
    {
      "cell_type": "code",
      "metadata": {
        "colab": {
          "base_uri": "https://localhost:8080/"
        },
        "id": "cj6EMAaC5flZ",
        "outputId": "be3d8cee-620a-4e7c-c7f3-9a8e868a9718"
      },
      "source": [
        "# optimizer setting\n",
        "optimizer = torch.optim.SGD(model.parameters(), lr=0.01) \n",
        "\n",
        "# SGD\n",
        "nb_epochs = 2000\n",
        "for epoch in range(nb_epochs+1):\n",
        "\n",
        "    # forward 연산\n",
        "    prediction = model(x_train)\n",
        "\n",
        "    # cost 계산\n",
        "    cost = F.mse_loss(prediction, y_train) # <== 파이토치에서 제공하는 평균 제곱 오차 함수\n",
        "\n",
        "    # 계산된 cost로 optimizer을 활용하여 W,b 업데이트 \n",
        "    \n",
        "    # gradient를 0으로 초기화\n",
        "    optimizer.zero_grad()\n",
        "\n",
        "    # 비용 함수를 미분하여 gradient 계산\n",
        "    cost.backward() # backward 연산\n",
        "\n",
        "    # 계산된 gradient로 W와 b를 업데이트\n",
        "    optimizer.step()\n",
        "\n",
        "    if epoch % 100 == 0:\n",
        "    # 100번마다 로그 출력\n",
        "      print('Epoch {:4d}/{} Cost: {:.6f}'.format(\n",
        "          epoch, nb_epochs, cost.item()\n",
        "      ))"
      ],
      "execution_count": null,
      "outputs": [
        {
          "output_type": "stream",
          "text": [
            "Epoch    0/2000 Cost: 13.103541\n",
            "Epoch  100/2000 Cost: 0.002791\n",
            "Epoch  200/2000 Cost: 0.001724\n",
            "Epoch  300/2000 Cost: 0.001066\n",
            "Epoch  400/2000 Cost: 0.000658\n",
            "Epoch  500/2000 Cost: 0.000407\n",
            "Epoch  600/2000 Cost: 0.000251\n",
            "Epoch  700/2000 Cost: 0.000155\n",
            "Epoch  800/2000 Cost: 0.000096\n",
            "Epoch  900/2000 Cost: 0.000059\n",
            "Epoch 1000/2000 Cost: 0.000037\n",
            "Epoch 1100/2000 Cost: 0.000023\n",
            "Epoch 1200/2000 Cost: 0.000014\n",
            "Epoch 1300/2000 Cost: 0.000009\n",
            "Epoch 1400/2000 Cost: 0.000005\n",
            "Epoch 1500/2000 Cost: 0.000003\n",
            "Epoch 1600/2000 Cost: 0.000002\n",
            "Epoch 1700/2000 Cost: 0.000001\n",
            "Epoch 1800/2000 Cost: 0.000001\n",
            "Epoch 1900/2000 Cost: 0.000000\n",
            "Epoch 2000/2000 Cost: 0.000000\n"
          ],
          "name": "stdout"
        }
      ]
    },
    {
      "cell_type": "code",
      "metadata": {
        "colab": {
          "base_uri": "https://localhost:8080/"
        },
        "id": "AWRmBxyg9F-7",
        "outputId": "a654da7f-2366-4ce3-e2c5-8a1be22d5a35"
      },
      "source": [
        "# test\n",
        "new_var = torch.FloatTensor([[4.0]])\n",
        "pred_y = model(new_var) # forward 연산\n",
        "\n",
        "print(pred_y) # model 훈련 뒤 새로운 데이터에 대한 예측값\n",
        "print(list(model.parameters())) # W, b"
      ],
      "execution_count": null,
      "outputs": [
        {
          "output_type": "stream",
          "text": [
            "tensor([[7.9989]], grad_fn=<AddmmBackward>)\n",
            "[Parameter containing:\n",
            "tensor([[1.9994]], requires_grad=True), Parameter containing:\n",
            "tensor([0.0014], requires_grad=True)]\n"
          ],
          "name": "stdout"
        }
      ]
    },
    {
      "cell_type": "markdown",
      "metadata": {
        "id": "EhmaVr-I9vtr"
      },
      "source": [
        "**요약**\n",
        "\n",
        "* 입력값 $x$로부터 예측값 $y$를 얻는 것을 forward 연산\n",
        " * ```python\n",
        "   prediction = model(x_train)\n",
        "   ```\n",
        " * ```python\n",
        "   pred_y = model(new_var)\n",
        "   ```\n",
        "* 학습 과정에서 비용 함수를 미분하여 기울기를 구하는 것을 backward 연산\n",
        " * ```python\n",
        "   cost.backward()\n",
        "   ```"
      ]
    },
    {
      "cell_type": "markdown",
      "metadata": {
        "id": "sYeZoPgj_Fj4"
      },
      "source": [
        "## 3.2 Multivaraite Linear Regression"
      ]
    },
    {
      "cell_type": "code",
      "metadata": {
        "colab": {
          "base_uri": "https://localhost:8080/"
        },
        "id": "UI18DMxA_qg3",
        "outputId": "05c7cd84-da6b-4d27-ba1e-948f452797ae"
      },
      "source": [
        "import torch\n",
        "import torch.nn as nn\n",
        "import torch.nn.functional as F\n",
        "\n",
        "torch.manual_seed(1)"
      ],
      "execution_count": null,
      "outputs": [
        {
          "output_type": "execute_result",
          "data": {
            "text/plain": [
              "<torch._C.Generator at 0x7f96baf5bad0>"
            ]
          },
          "metadata": {
            "tags": []
          },
          "execution_count": 13
        }
      ]
    },
    {
      "cell_type": "code",
      "metadata": {
        "colab": {
          "base_uri": "https://localhost:8080/"
        },
        "id": "jJXubCt__rXC",
        "outputId": "e2231d36-0f3c-4f59-c6a8-863496f0d9ba"
      },
      "source": [
        "# data\n",
        "x_train = torch.FloatTensor([[73, 80, 75],\n",
        "                             [93, 88, 93],\n",
        "                             [89, 91, 90],\n",
        "                             [96, 98, 100],\n",
        "                             [73, 66, 70]])\n",
        "y_train = torch.FloatTensor([[152], [185], [180], [196], [142]])\n",
        "\n",
        "# # model : 다중선형회귀모델이므로 input_dim=3, output_dim=1\n",
        "model = nn.Linear(3,1)\n",
        "list(model.parameters())"
      ],
      "execution_count": null,
      "outputs": [
        {
          "output_type": "execute_result",
          "data": {
            "text/plain": [
              "[Parameter containing:\n",
              " tensor([[ 0.2975, -0.2548, -0.1119]], requires_grad=True),\n",
              " Parameter containing:\n",
              " tensor([0.2710], requires_grad=True)]"
            ]
          },
          "metadata": {
            "tags": []
          },
          "execution_count": 14
        }
      ]
    },
    {
      "cell_type": "code",
      "metadata": {
        "colab": {
          "base_uri": "https://localhost:8080/"
        },
        "id": "r45CAMrX_8qs",
        "outputId": "dabb12c4-c847-4b4a-8d86-117317e0df95"
      },
      "source": [
        "optimizer = torch.optim.SGD(model.parameters(), lr=1e-5) \n",
        "\n",
        "nb_epochs = 2000\n",
        "for epoch in range(nb_epochs+1):\n",
        "\n",
        "    # forward\n",
        "    prediction = model(x_train)\n",
        "    # model(x_train)은 model.forward(x_train)와 동일\n",
        "\n",
        "    # cost\n",
        "    cost = F.mse_loss(prediction, y_train)\n",
        "\n",
        "    optimizer.zero_grad()\n",
        "    cost.backward() # backward\n",
        "    # update W,b\n",
        "    optimizer.step()\n",
        "\n",
        "    if epoch % 100 == 0:\n",
        "      print('Epoch {:4d}/{} Cost: {:.6f}'.format(\n",
        "          epoch, nb_epochs, cost.item()\n",
        "      ))"
      ],
      "execution_count": null,
      "outputs": [
        {
          "output_type": "stream",
          "text": [
            "Epoch    0/2000 Cost: 31667.597656\n",
            "Epoch  100/2000 Cost: 0.225988\n",
            "Epoch  200/2000 Cost: 0.223910\n",
            "Epoch  300/2000 Cost: 0.221930\n",
            "Epoch  400/2000 Cost: 0.220059\n",
            "Epoch  500/2000 Cost: 0.218270\n",
            "Epoch  600/2000 Cost: 0.216571\n",
            "Epoch  700/2000 Cost: 0.214955\n",
            "Epoch  800/2000 Cost: 0.213413\n",
            "Epoch  900/2000 Cost: 0.211949\n",
            "Epoch 1000/2000 Cost: 0.210558\n",
            "Epoch 1100/2000 Cost: 0.209237\n",
            "Epoch 1200/2000 Cost: 0.207971\n",
            "Epoch 1300/2000 Cost: 0.206764\n",
            "Epoch 1400/2000 Cost: 0.205616\n",
            "Epoch 1500/2000 Cost: 0.204527\n",
            "Epoch 1600/2000 Cost: 0.203479\n",
            "Epoch 1700/2000 Cost: 0.202487\n",
            "Epoch 1800/2000 Cost: 0.201542\n",
            "Epoch 1900/2000 Cost: 0.200638\n",
            "Epoch 2000/2000 Cost: 0.199769\n"
          ],
          "name": "stdout"
        }
      ]
    },
    {
      "cell_type": "code",
      "metadata": {
        "colab": {
          "base_uri": "https://localhost:8080/"
        },
        "id": "bIawSeAQAWMH",
        "outputId": "dba29a3a-843d-4b27-92c6-f919741777ad"
      },
      "source": [
        "# test\n",
        "new_var =  torch.FloatTensor([[73, 80, 75]]) \n",
        "pred_y = model(new_var) \n",
        "print(pred_y)\n",
        "print(list(model.parameters()))"
      ],
      "execution_count": null,
      "outputs": [
        {
          "output_type": "stream",
          "text": [
            "tensor([[151.2305]], grad_fn=<AddmmBackward>)\n",
            "[Parameter containing:\n",
            "tensor([[0.9778, 0.4539, 0.5768]], requires_grad=True), Parameter containing:\n",
            "tensor([0.2802], requires_grad=True)]\n"
          ],
          "name": "stdout"
        }
      ]
    },
    {
      "cell_type": "markdown",
      "metadata": {
        "id": "P2foSQ-0Agbv"
      },
      "source": [
        "# 4) Modeling Linear Regression by Class"
      ]
    },
    {
      "cell_type": "markdown",
      "metadata": {
        "id": "jETc60N1BLY4"
      },
      "source": [
        "모델을 클래스로 구현하는 것 외의 과정은 앞선 코드와 모두 동일함"
      ]
    },
    {
      "cell_type": "markdown",
      "metadata": {
        "id": "RhU56dB6CU3q"
      },
      "source": [
        "```python\n",
        "# Class 선언을 통해 사용하고자 하는 neural network 직접 구현\n",
        "\n",
        "class my_network(nn.Module):\n",
        "  def __init__(self):\n",
        "\n",
        "    super(my_network, self).__init__() \n",
        "    # 또는 super().__init__()\n",
        "\n",
        "    self.my_func = (사용할 함수)\n",
        "    # 사용할 함수들을 정의할 장소를 지정\n",
        "\n",
        "  def forward(self, x): # 변수 개수는 임의로 조정가능\n",
        "    # 함수들을 사용하여 network의 forward를 정의하는 장소\n",
        "    return (network의 forward를 모두 통과한 결과값)\n",
        "```\n",
        "\n"
      ]
    },
    {
      "cell_type": "code",
      "metadata": {
        "id": "0FS0aYjdA6RL"
      },
      "source": [
        "class LinearRegressionModel(nn.Module): # torch.nn.Module을 상속받는 파이썬 클래스\n",
        "    def __init__(self):\n",
        "        super().__init__()\n",
        "        self.linear = nn.Linear(1, 1)\n",
        "\n",
        "    def forward(self, x):\n",
        "        return self.linear(x)"
      ],
      "execution_count": null,
      "outputs": []
    },
    {
      "cell_type": "code",
      "metadata": {
        "colab": {
          "base_uri": "https://localhost:8080/"
        },
        "id": "2aRi9rn3A8Ju",
        "outputId": "2ff15127-bc94-499d-c6d6-82db4bb078ff"
      },
      "source": [
        "model = LinearRegressionModel()\n",
        "list(model.parameters())"
      ],
      "execution_count": null,
      "outputs": [
        {
          "output_type": "execute_result",
          "data": {
            "text/plain": [
              "[Parameter containing:\n",
              " tensor([[0.8742]], requires_grad=True), Parameter containing:\n",
              " tensor([0.3112], requires_grad=True)]"
            ]
          },
          "metadata": {
            "tags": []
          },
          "execution_count": 30
        }
      ]
    },
    {
      "cell_type": "code",
      "metadata": {
        "id": "WG46x99wBd0t"
      },
      "source": [
        "class MultivariateLinearRegressionModel(nn.Module):\n",
        "    def __init__(self):\n",
        "        super().__init__()\n",
        "        self.linear = nn.Linear(3, 1)\n",
        "\n",
        "    def forward(self, x):\n",
        "        return self.linear(x)"
      ],
      "execution_count": null,
      "outputs": []
    },
    {
      "cell_type": "code",
      "metadata": {
        "colab": {
          "base_uri": "https://localhost:8080/"
        },
        "id": "no-iaeYdBikx",
        "outputId": "5a31dd46-06a5-4807-fbe7-48fd3c2b8b72"
      },
      "source": [
        "model = MultivariateLinearRegressionModel()\n",
        "list(model.parameters())"
      ],
      "execution_count": null,
      "outputs": [
        {
          "output_type": "execute_result",
          "data": {
            "text/plain": [
              "[Parameter containing:\n",
              " tensor([[-0.2150, -0.3487, -0.0968]], requires_grad=True),\n",
              " Parameter containing:\n",
              " tensor([-0.2490], requires_grad=True)]"
            ]
          },
          "metadata": {
            "tags": []
          },
          "execution_count": 32
        }
      ]
    },
    {
      "cell_type": "markdown",
      "metadata": {
        "id": "J4QVRjEhFH--"
      },
      "source": [
        "# 5) Mini batch and Data Load"
      ]
    },
    {
      "cell_type": "markdown",
      "metadata": {
        "id": "55zCbp0LFOOq"
      },
      "source": [
        "![image.png](data:image/png;base64,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)"
      ]
    },
    {
      "cell_type": "markdown",
      "metadata": {
        "id": "n8b81cK0F3Hw"
      },
      "source": [
        "미니 배치 학습을 하게되면 미니 배치만큼만 가져가서 미니 배치에 대한 대한 비용(cost)를 계산하고, 경사 하강법을 수행합니다. 그리고 다음 미니 배치를 가져가서 경사 하강법을 수행하고 마지막 미니 배치까지 이를 반복합니다. 이렇게 전체 데이터에 대한 학습이 1회 끝나면 1 에포크(Epoch)가 끝나게 됩니다."
      ]
    },
    {
      "cell_type": "markdown",
      "metadata": {
        "id": "WQ9eeNyzGNyj"
      },
      "source": [
        "![image.png](data:image/png;base64,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)"
      ]
    },
    {
      "cell_type": "markdown",
      "metadata": {
        "id": "dsNyku4GGSpK"
      },
      "source": [
        "* iteration 수 = 매개변수가 업데이트되는 횟수 "
      ]
    },
    {
      "cell_type": "markdown",
      "metadata": {
        "id": "gEOt-EYaGmB5"
      },
      "source": [
        "## 5.1 Dataset & DataLoader"
      ]
    },
    {
      "cell_type": "code",
      "metadata": {
        "id": "o726ypgJGgte"
      },
      "source": [
        "import torch\n",
        "import torch.nn as nn\n",
        "import torch.nn.functional as F\n",
        "\n",
        "from torch.utils.data import TensorDataset # 입력된 텐서를 Dataset 형태로 변환\n",
        "from torch.utils.data import DataLoader"
      ],
      "execution_count": 29,
      "outputs": []
    },
    {
      "cell_type": "code",
      "metadata": {
        "id": "7Hk4y9HCHzqn",
        "colab": {
          "base_uri": "https://localhost:8080/"
        },
        "outputId": "c9824033-923e-45ca-b8cf-7ea759cecc7c"
      },
      "source": [
        "# Dataset 만들기\n",
        "\n",
        "x_train  =  torch.FloatTensor([[73,  80,  75], \n",
        "                               [93,  88,  93], \n",
        "                               [89,  91,  90], \n",
        "                               [96,  98,  100],   \n",
        "                               [73,  66,  70]])  \n",
        "y_train  =  torch.FloatTensor([[152],  [185],  [180],  [196],  [142]])\n",
        "\n",
        "dataset = TensorDataset(x_train, y_train)\n",
        "list(dataset)"
      ],
      "execution_count": 30,
      "outputs": [
        {
          "output_type": "execute_result",
          "data": {
            "text/plain": [
              "[(tensor([73., 80., 75.]), tensor([152.])),\n",
              " (tensor([93., 88., 93.]), tensor([185.])),\n",
              " (tensor([89., 91., 90.]), tensor([180.])),\n",
              " (tensor([ 96.,  98., 100.]), tensor([196.])),\n",
              " (tensor([73., 66., 70.]), tensor([142.]))]"
            ]
          },
          "metadata": {
            "tags": []
          },
          "execution_count": 30
        }
      ]
    },
    {
      "cell_type": "code",
      "metadata": {
        "id": "JbguiuQdKNSF"
      },
      "source": [
        "dataloader = DataLoader(dataset, batch_size=2, shuffle=True)"
      ],
      "execution_count": 31,
      "outputs": []
    },
    {
      "cell_type": "code",
      "metadata": {
        "colab": {
          "base_uri": "https://localhost:8080/"
        },
        "id": "xtcv19u7KbJP",
        "outputId": "9635c235-b95b-4aed-f539-7c2bf9aa05e8"
      },
      "source": [
        "print(list(dataloader)[0])\n",
        "print(list(dataloader)[1])\n",
        "print(list(dataloader)[2])"
      ],
      "execution_count": 32,
      "outputs": [
        {
          "output_type": "stream",
          "text": [
            "[tensor([[89., 91., 90.],\n",
            "        [73., 66., 70.]]), tensor([[180.],\n",
            "        [142.]])]\n",
            "[tensor([[73., 80., 75.],\n",
            "        [93., 88., 93.]]), tensor([[152.],\n",
            "        [185.]])]\n",
            "[tensor([[73., 66., 70.]]), tensor([[142.]])]\n"
          ],
          "name": "stdout"
        }
      ]
    },
    {
      "cell_type": "code",
      "metadata": {
        "colab": {
          "base_uri": "https://localhost:8080/"
        },
        "id": "41XbS8R1Ld4e",
        "outputId": "68a37360-0fe2-4dad-bd23-8f86a9d03e90"
      },
      "source": [
        "# modeling\n",
        "\n",
        "model = nn.Linear(3,1)\n",
        "optimizer = torch.optim.SGD(model.parameters(), lr=1e-5) \n",
        "\n",
        "# train\n",
        "\n",
        "nb_epochs = 30\n",
        "for epoch in range(nb_epochs + 1):\n",
        "  for batch_idx, samples in enumerate(dataloader):\n",
        "    #print(batch_idx)\n",
        "    #print(samples)\n",
        "\n",
        "    # dataloader을 통해 shuffle된 dataset을 미니배치로 순서대로 sampling\n",
        "    x_train, y_train = samples\n",
        "    # forward\n",
        "    prediction = model(x_train)\n",
        "\n",
        "    # cost function\n",
        "    cost = F.mse_loss(prediction, y_train)\n",
        "\n",
        "    # backward & update \n",
        "    optimizer.zero_grad()\n",
        "    cost.backward()\n",
        "    optimizer.step()\n",
        "\n",
        "    print('Epoch {:4d}/{} Batch {}/{} Cost: {:.6f}'.format(\n",
        "        epoch, nb_epochs, batch_idx+1, len(dataloader),\n",
        "        cost.item()\n",
        "        ))"
      ],
      "execution_count": 54,
      "outputs": [
        {
          "output_type": "stream",
          "text": [
            "Epoch    0/30 Batch 1/3 Cost: 50970.523438\n",
            "Epoch    0/30 Batch 2/3 Cost: 15343.379883\n",
            "Epoch    0/30 Batch 3/3 Cost: 8575.118164\n",
            "Epoch    1/30 Batch 1/3 Cost: 1159.425171\n",
            "Epoch    1/30 Batch 2/3 Cost: 381.801697\n",
            "Epoch    1/30 Batch 3/3 Cost: 119.684319\n",
            "Epoch    2/30 Batch 1/3 Cost: 34.586109\n",
            "Epoch    2/30 Batch 2/3 Cost: 12.147625\n",
            "Epoch    2/30 Batch 3/3 Cost: 4.660673\n",
            "Epoch    3/30 Batch 1/3 Cost: 1.913091\n",
            "Epoch    3/30 Batch 2/3 Cost: 0.078794\n",
            "Epoch    3/30 Batch 3/3 Cost: 0.120049\n",
            "Epoch    4/30 Batch 1/3 Cost: 0.163583\n",
            "Epoch    4/30 Batch 2/3 Cost: 0.180801\n",
            "Epoch    4/30 Batch 3/3 Cost: 0.526342\n",
            "Epoch    5/30 Batch 1/3 Cost: 0.095182\n",
            "Epoch    5/30 Batch 2/3 Cost: 0.557623\n",
            "Epoch    5/30 Batch 3/3 Cost: 0.000521\n",
            "Epoch    6/30 Batch 1/3 Cost: 0.153809\n",
            "Epoch    6/30 Batch 2/3 Cost: 0.324544\n",
            "Epoch    6/30 Batch 3/3 Cost: 0.004249\n",
            "Epoch    7/30 Batch 1/3 Cost: 0.000819\n",
            "Epoch    7/30 Batch 2/3 Cost: 0.258905\n",
            "Epoch    7/30 Batch 3/3 Cost: 0.420630\n",
            "Epoch    8/30 Batch 1/3 Cost: 0.123559\n",
            "Epoch    8/30 Batch 2/3 Cost: 0.362431\n",
            "Epoch    8/30 Batch 3/3 Cost: 0.151173\n",
            "Epoch    9/30 Batch 1/3 Cost: 0.046770\n",
            "Epoch    9/30 Batch 2/3 Cost: 0.312590\n",
            "Epoch    9/30 Batch 3/3 Cost: 0.399988\n",
            "Epoch   10/30 Batch 1/3 Cost: 0.095768\n",
            "Epoch   10/30 Batch 2/3 Cost: 0.452533\n",
            "Epoch   10/30 Batch 3/3 Cost: 0.168930\n",
            "Epoch   11/30 Batch 1/3 Cost: 0.031310\n",
            "Epoch   11/30 Batch 2/3 Cost: 0.291072\n",
            "Epoch   11/30 Batch 3/3 Cost: 0.365226\n",
            "Epoch   12/30 Batch 1/3 Cost: 0.442540\n",
            "Epoch   12/30 Batch 2/3 Cost: 0.014736\n",
            "Epoch   12/30 Batch 3/3 Cost: 0.103109\n",
            "Epoch   13/30 Batch 1/3 Cost: 0.358665\n",
            "Epoch   13/30 Batch 2/3 Cost: 0.151912\n",
            "Epoch   13/30 Batch 3/3 Cost: 0.046302\n",
            "Epoch   14/30 Batch 1/3 Cost: 0.157849\n",
            "Epoch   14/30 Batch 2/3 Cost: 0.313125\n",
            "Epoch   14/30 Batch 3/3 Cost: 0.000139\n",
            "Epoch   15/30 Batch 1/3 Cost: 0.369451\n",
            "Epoch   15/30 Batch 2/3 Cost: 0.078718\n",
            "Epoch   15/30 Batch 3/3 Cost: 0.001295\n",
            "Epoch   16/30 Batch 1/3 Cost: 0.055565\n",
            "Epoch   16/30 Batch 2/3 Cost: 0.390555\n",
            "Epoch   16/30 Batch 3/3 Cost: 0.000045\n",
            "Epoch   17/30 Batch 1/3 Cost: 0.058931\n",
            "Epoch   17/30 Batch 2/3 Cost: 0.392754\n",
            "Epoch   17/30 Batch 3/3 Cost: 0.007046\n",
            "Epoch   18/30 Batch 1/3 Cost: 0.188628\n",
            "Epoch   18/30 Batch 2/3 Cost: 0.398422\n",
            "Epoch   18/30 Batch 3/3 Cost: 0.032695\n",
            "Epoch   19/30 Batch 1/3 Cost: 0.061879\n",
            "Epoch   19/30 Batch 2/3 Cost: 0.386901\n",
            "Epoch   19/30 Batch 3/3 Cost: 0.000001\n",
            "Epoch   20/30 Batch 1/3 Cost: 0.371270\n",
            "Epoch   20/30 Batch 2/3 Cost: 0.076243\n",
            "Epoch   20/30 Batch 3/3 Cost: 0.019086\n",
            "Epoch   21/30 Batch 1/3 Cost: 0.203245\n",
            "Epoch   21/30 Batch 2/3 Cost: 0.271077\n",
            "Epoch   21/30 Batch 3/3 Cost: 0.126293\n",
            "Epoch   22/30 Batch 1/3 Cost: 0.123802\n",
            "Epoch   22/30 Batch 2/3 Cost: 0.361184\n",
            "Epoch   22/30 Batch 3/3 Cost: 0.000395\n",
            "Epoch   23/30 Batch 1/3 Cost: 0.374364\n",
            "Epoch   23/30 Batch 2/3 Cost: 0.072145\n",
            "Epoch   23/30 Batch 3/3 Cost: 0.020938\n",
            "Epoch   24/30 Batch 1/3 Cost: 0.168578\n",
            "Epoch   24/30 Batch 2/3 Cost: 0.034900\n",
            "Epoch   24/30 Batch 3/3 Cost: 0.621970\n",
            "Epoch   25/30 Batch 1/3 Cost: 0.035586\n",
            "Epoch   25/30 Batch 2/3 Cost: 0.373950\n",
            "Epoch   25/30 Batch 3/3 Cost: 0.577105\n",
            "Epoch   26/30 Batch 1/3 Cost: 0.328369\n",
            "Epoch   26/30 Batch 2/3 Cost: 0.173409\n",
            "Epoch   26/30 Batch 3/3 Cost: 0.307391\n",
            "Epoch   27/30 Batch 1/3 Cost: 0.295299\n",
            "Epoch   27/30 Batch 2/3 Cost: 0.000874\n",
            "Epoch   27/30 Batch 3/3 Cost: 0.363734\n",
            "Epoch   28/30 Batch 1/3 Cost: 0.409848\n",
            "Epoch   28/30 Batch 2/3 Cost: 0.203949\n",
            "Epoch   28/30 Batch 3/3 Cost: 0.080706\n",
            "Epoch   29/30 Batch 1/3 Cost: 0.055444\n",
            "Epoch   29/30 Batch 2/3 Cost: 0.150710\n",
            "Epoch   29/30 Batch 3/3 Cost: 0.818747\n",
            "Epoch   30/30 Batch 1/3 Cost: 0.403157\n",
            "Epoch   30/30 Batch 2/3 Cost: 0.280284\n",
            "Epoch   30/30 Batch 3/3 Cost: 0.001202\n"
          ],
          "name": "stdout"
        }
      ]
    },
    {
      "cell_type": "code",
      "metadata": {
        "colab": {
          "base_uri": "https://localhost:8080/"
        },
        "id": "2JRHb9tDMHPK",
        "outputId": "697cdcb9-a2e3-4e59-e532-09abcbb24ed9"
      },
      "source": [
        "# test\n",
        "\n",
        "new_var =  torch.FloatTensor([[73, 80, 75]]) \n",
        "pred_y = model(new_var)\n",
        "print(pred_y)"
      ],
      "execution_count": 55,
      "outputs": [
        {
          "output_type": "stream",
          "text": [
            "tensor([[151.3637]], grad_fn=<AddmmBackward>)\n"
          ],
          "name": "stdout"
        }
      ]
    },
    {
      "cell_type": "markdown",
      "metadata": {
        "id": "DkdTQoqKObU8"
      },
      "source": [
        "## 5.2 Custom Dataset"
      ]
    },
    {
      "cell_type": "markdown",
      "metadata": {
        "id": "BMxCn8CrOjBc"
      },
      "source": [
        "torch.utils.data.Dataset을 상속받아 직접 커스텀 데이터셋(Custom Dataset)을 만들 수 있다. 이는 pytorch의 Dataset class를 상속받아 몇가지 기본적인 define을 오버라이드하여 커스텀 데이터셋을 만든다."
      ]
    },
    {
      "cell_type": "markdown",
      "metadata": {
        "id": "whQrhbvDO6xn"
      },
      "source": [
        "```python\n",
        "class CustomDataset(torch.utils.data.Dataset): \n",
        "  def __init__(self):\n",
        "  데이터셋의 전처리를 해주는 부분\n",
        "\n",
        "  def __len__(self):\n",
        "  데이터셋의 길이. 즉, 총 샘플의 수를 적어주는 부분\n",
        "  # len(dataset)을 했을 때 데이터셋의 크기를 리턴할 len\n",
        "\n",
        "  def __getitem__(self, idx): \n",
        "  데이터셋에서 특정 1개의 샘플을 가져오는 함수\n",
        "  # dataset[i]을 했을 때 i번째 샘플을 가져오도록 하는 인덱싱을 위한 get_item\n",
        "```"
      ]
    },
    {
      "cell_type": "code",
      "metadata": {
        "id": "BmRIb_iCOdQO"
      },
      "source": [
        "# 5.1 multivariate linear regression dataset 예제\n",
        "\n",
        "# Dataset 상속\n",
        "\n",
        "import torch\n",
        "import torch.nn.functional as F\n",
        "from torch.utils.data import Dataset\n",
        "from torch.utils.data import DataLoader\n",
        "\n",
        "class CustomDataset(Dataset): \n",
        "  def __init__(self):\n",
        "    self.x_data = [[73, 80, 75],\n",
        "                   [93, 88, 93],\n",
        "                   [89, 91, 90],\n",
        "                   [96, 98, 100],\n",
        "                   [73, 66, 70]]\n",
        "    self.y_data = [[152], [185], [180], [196], [142]]\n",
        "\n",
        "  # 총 데이터의 개수를 리턴\n",
        "  def __len__(self): \n",
        "    return len(self.x_data)\n",
        "\n",
        "  # 인덱스를 입력받아 그에 맵핑되는 입출력 데이터를 파이토치의 Tensor 형태로 리턴\n",
        "  def __getitem__(self, idx): \n",
        "    x = torch.FloatTensor(self.x_data[idx])\n",
        "    y = torch.FloatTensor(self.y_data[idx])\n",
        "    return x, y"
      ],
      "execution_count": 57,
      "outputs": []
    },
    {
      "cell_type": "code",
      "metadata": {
        "colab": {
          "base_uri": "https://localhost:8080/"
        },
        "id": "i43T3PRSP9UM",
        "outputId": "63f7dcbd-1851-479f-9806-60d325a65c5a"
      },
      "source": [
        "dataset = CustomDataset()\n",
        "\n",
        "print(len(dataset))\n",
        "print(dataset[0])\n",
        "\n",
        "# dataloader\n",
        "dataloader = DataLoader(dataset, batch_size=2, shuffle=True)"
      ],
      "execution_count": 60,
      "outputs": [
        {
          "output_type": "stream",
          "text": [
            "5\n",
            "(tensor([73., 80., 75.]), tensor([152.]))\n"
          ],
          "name": "stdout"
        }
      ]
    }
  ]
}