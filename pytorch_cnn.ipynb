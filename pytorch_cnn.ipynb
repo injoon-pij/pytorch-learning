{
  "nbformat": 4,
  "nbformat_minor": 0,
  "metadata": {
    "colab": {
      "name": "pytorch_cnn.ipynb",
      "provenance": [],
      "collapsed_sections": [],
      "authorship_tag": "ABX9TyMMPUGf3v/3f/F8+oW+hF+E",
      "include_colab_link": true
    },
    "kernelspec": {
      "name": "python3",
      "display_name": "Python 3"
    },
    "language_info": {
      "name": "python"
    },
    "accelerator": "GPU",
    "widgets": {
      "application/vnd.jupyter.widget-state+json": {
        "3782aca1a17747edba403e1a1df0a7ca": {
          "model_module": "@jupyter-widgets/controls",
          "model_name": "HBoxModel",
          "model_module_version": "1.5.0",
          "state": {
            "_view_name": "HBoxView",
            "_dom_classes": [],
            "_model_name": "HBoxModel",
            "_view_module": "@jupyter-widgets/controls",
            "_model_module_version": "1.5.0",
            "_view_count": null,
            "_view_module_version": "1.5.0",
            "box_style": "",
            "layout": "IPY_MODEL_4772184e59704972a174838fe89b4bb8",
            "_model_module": "@jupyter-widgets/controls",
            "children": [
              "IPY_MODEL_492f8531951944d592f7e213954cc35a",
              "IPY_MODEL_adc951dd46df41609f53edbe886c3aa9",
              "IPY_MODEL_1fecfba9fcbf4ab196df4cfa9742a965"
            ]
          }
        },
        "4772184e59704972a174838fe89b4bb8": {
          "model_module": "@jupyter-widgets/base",
          "model_name": "LayoutModel",
          "model_module_version": "1.2.0",
          "state": {
            "_view_name": "LayoutView",
            "grid_template_rows": null,
            "right": null,
            "justify_content": null,
            "_view_module": "@jupyter-widgets/base",
            "overflow": null,
            "_model_module_version": "1.2.0",
            "_view_count": null,
            "flex_flow": null,
            "width": null,
            "min_width": null,
            "border": null,
            "align_items": null,
            "bottom": null,
            "_model_module": "@jupyter-widgets/base",
            "top": null,
            "grid_column": null,
            "overflow_y": null,
            "overflow_x": null,
            "grid_auto_flow": null,
            "grid_area": null,
            "grid_template_columns": null,
            "flex": null,
            "_model_name": "LayoutModel",
            "justify_items": null,
            "grid_row": null,
            "max_height": null,
            "align_content": null,
            "visibility": null,
            "align_self": null,
            "height": null,
            "min_height": null,
            "padding": null,
            "grid_auto_rows": null,
            "grid_gap": null,
            "max_width": null,
            "order": null,
            "_view_module_version": "1.2.0",
            "grid_template_areas": null,
            "object_position": null,
            "object_fit": null,
            "grid_auto_columns": null,
            "margin": null,
            "display": null,
            "left": null
          }
        },
        "492f8531951944d592f7e213954cc35a": {
          "model_module": "@jupyter-widgets/controls",
          "model_name": "HTMLModel",
          "model_module_version": "1.5.0",
          "state": {
            "_view_name": "HTMLView",
            "style": "IPY_MODEL_1950bde05ee748d0aa8ac423a12e0058",
            "_dom_classes": [],
            "description": "",
            "_model_name": "HTMLModel",
            "placeholder": "​",
            "_view_module": "@jupyter-widgets/controls",
            "_model_module_version": "1.5.0",
            "value": "",
            "_view_count": null,
            "_view_module_version": "1.5.0",
            "description_tooltip": null,
            "_model_module": "@jupyter-widgets/controls",
            "layout": "IPY_MODEL_7d6a1bd322b64933b47a5b2e56415fab"
          }
        },
        "adc951dd46df41609f53edbe886c3aa9": {
          "model_module": "@jupyter-widgets/controls",
          "model_name": "FloatProgressModel",
          "model_module_version": "1.5.0",
          "state": {
            "_view_name": "ProgressView",
            "style": "IPY_MODEL_bc84260b9c054562bde9e8292da74505",
            "_dom_classes": [],
            "description": "",
            "_model_name": "FloatProgressModel",
            "bar_style": "success",
            "max": 9912422,
            "_view_module": "@jupyter-widgets/controls",
            "_model_module_version": "1.5.0",
            "value": 9912422,
            "_view_count": null,
            "_view_module_version": "1.5.0",
            "orientation": "horizontal",
            "min": 0,
            "description_tooltip": null,
            "_model_module": "@jupyter-widgets/controls",
            "layout": "IPY_MODEL_96f50b60aa2240bfa254ec8d35a26c84"
          }
        },
        "1fecfba9fcbf4ab196df4cfa9742a965": {
          "model_module": "@jupyter-widgets/controls",
          "model_name": "HTMLModel",
          "model_module_version": "1.5.0",
          "state": {
            "_view_name": "HTMLView",
            "style": "IPY_MODEL_47cc3f2a630c4f9490abd49092f1585f",
            "_dom_classes": [],
            "description": "",
            "_model_name": "HTMLModel",
            "placeholder": "​",
            "_view_module": "@jupyter-widgets/controls",
            "_model_module_version": "1.5.0",
            "value": " 9913344/? [00:02&lt;00:00, 9867682.54it/s]",
            "_view_count": null,
            "_view_module_version": "1.5.0",
            "description_tooltip": null,
            "_model_module": "@jupyter-widgets/controls",
            "layout": "IPY_MODEL_b8d988ab65f0484b99a0cacd48a049d1"
          }
        },
        "1950bde05ee748d0aa8ac423a12e0058": {
          "model_module": "@jupyter-widgets/controls",
          "model_name": "DescriptionStyleModel",
          "model_module_version": "1.5.0",
          "state": {
            "_view_name": "StyleView",
            "_model_name": "DescriptionStyleModel",
            "description_width": "",
            "_view_module": "@jupyter-widgets/base",
            "_model_module_version": "1.5.0",
            "_view_count": null,
            "_view_module_version": "1.2.0",
            "_model_module": "@jupyter-widgets/controls"
          }
        },
        "7d6a1bd322b64933b47a5b2e56415fab": {
          "model_module": "@jupyter-widgets/base",
          "model_name": "LayoutModel",
          "model_module_version": "1.2.0",
          "state": {
            "_view_name": "LayoutView",
            "grid_template_rows": null,
            "right": null,
            "justify_content": null,
            "_view_module": "@jupyter-widgets/base",
            "overflow": null,
            "_model_module_version": "1.2.0",
            "_view_count": null,
            "flex_flow": null,
            "width": null,
            "min_width": null,
            "border": null,
            "align_items": null,
            "bottom": null,
            "_model_module": "@jupyter-widgets/base",
            "top": null,
            "grid_column": null,
            "overflow_y": null,
            "overflow_x": null,
            "grid_auto_flow": null,
            "grid_area": null,
            "grid_template_columns": null,
            "flex": null,
            "_model_name": "LayoutModel",
            "justify_items": null,
            "grid_row": null,
            "max_height": null,
            "align_content": null,
            "visibility": null,
            "align_self": null,
            "height": null,
            "min_height": null,
            "padding": null,
            "grid_auto_rows": null,
            "grid_gap": null,
            "max_width": null,
            "order": null,
            "_view_module_version": "1.2.0",
            "grid_template_areas": null,
            "object_position": null,
            "object_fit": null,
            "grid_auto_columns": null,
            "margin": null,
            "display": null,
            "left": null
          }
        },
        "bc84260b9c054562bde9e8292da74505": {
          "model_module": "@jupyter-widgets/controls",
          "model_name": "ProgressStyleModel",
          "model_module_version": "1.5.0",
          "state": {
            "_view_name": "StyleView",
            "_model_name": "ProgressStyleModel",
            "description_width": "",
            "_view_module": "@jupyter-widgets/base",
            "_model_module_version": "1.5.0",
            "_view_count": null,
            "_view_module_version": "1.2.0",
            "bar_color": null,
            "_model_module": "@jupyter-widgets/controls"
          }
        },
        "96f50b60aa2240bfa254ec8d35a26c84": {
          "model_module": "@jupyter-widgets/base",
          "model_name": "LayoutModel",
          "model_module_version": "1.2.0",
          "state": {
            "_view_name": "LayoutView",
            "grid_template_rows": null,
            "right": null,
            "justify_content": null,
            "_view_module": "@jupyter-widgets/base",
            "overflow": null,
            "_model_module_version": "1.2.0",
            "_view_count": null,
            "flex_flow": null,
            "width": null,
            "min_width": null,
            "border": null,
            "align_items": null,
            "bottom": null,
            "_model_module": "@jupyter-widgets/base",
            "top": null,
            "grid_column": null,
            "overflow_y": null,
            "overflow_x": null,
            "grid_auto_flow": null,
            "grid_area": null,
            "grid_template_columns": null,
            "flex": null,
            "_model_name": "LayoutModel",
            "justify_items": null,
            "grid_row": null,
            "max_height": null,
            "align_content": null,
            "visibility": null,
            "align_self": null,
            "height": null,
            "min_height": null,
            "padding": null,
            "grid_auto_rows": null,
            "grid_gap": null,
            "max_width": null,
            "order": null,
            "_view_module_version": "1.2.0",
            "grid_template_areas": null,
            "object_position": null,
            "object_fit": null,
            "grid_auto_columns": null,
            "margin": null,
            "display": null,
            "left": null
          }
        },
        "47cc3f2a630c4f9490abd49092f1585f": {
          "model_module": "@jupyter-widgets/controls",
          "model_name": "DescriptionStyleModel",
          "model_module_version": "1.5.0",
          "state": {
            "_view_name": "StyleView",
            "_model_name": "DescriptionStyleModel",
            "description_width": "",
            "_view_module": "@jupyter-widgets/base",
            "_model_module_version": "1.5.0",
            "_view_count": null,
            "_view_module_version": "1.2.0",
            "_model_module": "@jupyter-widgets/controls"
          }
        },
        "b8d988ab65f0484b99a0cacd48a049d1": {
          "model_module": "@jupyter-widgets/base",
          "model_name": "LayoutModel",
          "model_module_version": "1.2.0",
          "state": {
            "_view_name": "LayoutView",
            "grid_template_rows": null,
            "right": null,
            "justify_content": null,
            "_view_module": "@jupyter-widgets/base",
            "overflow": null,
            "_model_module_version": "1.2.0",
            "_view_count": null,
            "flex_flow": null,
            "width": null,
            "min_width": null,
            "border": null,
            "align_items": null,
            "bottom": null,
            "_model_module": "@jupyter-widgets/base",
            "top": null,
            "grid_column": null,
            "overflow_y": null,
            "overflow_x": null,
            "grid_auto_flow": null,
            "grid_area": null,
            "grid_template_columns": null,
            "flex": null,
            "_model_name": "LayoutModel",
            "justify_items": null,
            "grid_row": null,
            "max_height": null,
            "align_content": null,
            "visibility": null,
            "align_self": null,
            "height": null,
            "min_height": null,
            "padding": null,
            "grid_auto_rows": null,
            "grid_gap": null,
            "max_width": null,
            "order": null,
            "_view_module_version": "1.2.0",
            "grid_template_areas": null,
            "object_position": null,
            "object_fit": null,
            "grid_auto_columns": null,
            "margin": null,
            "display": null,
            "left": null
          }
        },
        "95bffa935f464f94b8c9ea9d3b0d811b": {
          "model_module": "@jupyter-widgets/controls",
          "model_name": "HBoxModel",
          "model_module_version": "1.5.0",
          "state": {
            "_view_name": "HBoxView",
            "_dom_classes": [],
            "_model_name": "HBoxModel",
            "_view_module": "@jupyter-widgets/controls",
            "_model_module_version": "1.5.0",
            "_view_count": null,
            "_view_module_version": "1.5.0",
            "box_style": "",
            "layout": "IPY_MODEL_4856015819be4865b5eca7499c3648bf",
            "_model_module": "@jupyter-widgets/controls",
            "children": [
              "IPY_MODEL_5ac5ae5370ca446dbe4dde5af88e3ecb",
              "IPY_MODEL_7b5de553106a4e26aacdf736c8ff1dce",
              "IPY_MODEL_71e726cf42074cc98dc219dc97a154f9"
            ]
          }
        },
        "4856015819be4865b5eca7499c3648bf": {
          "model_module": "@jupyter-widgets/base",
          "model_name": "LayoutModel",
          "model_module_version": "1.2.0",
          "state": {
            "_view_name": "LayoutView",
            "grid_template_rows": null,
            "right": null,
            "justify_content": null,
            "_view_module": "@jupyter-widgets/base",
            "overflow": null,
            "_model_module_version": "1.2.0",
            "_view_count": null,
            "flex_flow": null,
            "width": null,
            "min_width": null,
            "border": null,
            "align_items": null,
            "bottom": null,
            "_model_module": "@jupyter-widgets/base",
            "top": null,
            "grid_column": null,
            "overflow_y": null,
            "overflow_x": null,
            "grid_auto_flow": null,
            "grid_area": null,
            "grid_template_columns": null,
            "flex": null,
            "_model_name": "LayoutModel",
            "justify_items": null,
            "grid_row": null,
            "max_height": null,
            "align_content": null,
            "visibility": null,
            "align_self": null,
            "height": null,
            "min_height": null,
            "padding": null,
            "grid_auto_rows": null,
            "grid_gap": null,
            "max_width": null,
            "order": null,
            "_view_module_version": "1.2.0",
            "grid_template_areas": null,
            "object_position": null,
            "object_fit": null,
            "grid_auto_columns": null,
            "margin": null,
            "display": null,
            "left": null
          }
        },
        "5ac5ae5370ca446dbe4dde5af88e3ecb": {
          "model_module": "@jupyter-widgets/controls",
          "model_name": "HTMLModel",
          "model_module_version": "1.5.0",
          "state": {
            "_view_name": "HTMLView",
            "style": "IPY_MODEL_779cbdb5aa1e400aa721c88b4b2a0494",
            "_dom_classes": [],
            "description": "",
            "_model_name": "HTMLModel",
            "placeholder": "​",
            "_view_module": "@jupyter-widgets/controls",
            "_model_module_version": "1.5.0",
            "value": "",
            "_view_count": null,
            "_view_module_version": "1.5.0",
            "description_tooltip": null,
            "_model_module": "@jupyter-widgets/controls",
            "layout": "IPY_MODEL_5d4aadd865a14eb2b8b07a40f92a2115"
          }
        },
        "7b5de553106a4e26aacdf736c8ff1dce": {
          "model_module": "@jupyter-widgets/controls",
          "model_name": "FloatProgressModel",
          "model_module_version": "1.5.0",
          "state": {
            "_view_name": "ProgressView",
            "style": "IPY_MODEL_3d4092e58d484f0c8747f286940ebca5",
            "_dom_classes": [],
            "description": "",
            "_model_name": "FloatProgressModel",
            "bar_style": "success",
            "max": 28881,
            "_view_module": "@jupyter-widgets/controls",
            "_model_module_version": "1.5.0",
            "value": 28881,
            "_view_count": null,
            "_view_module_version": "1.5.0",
            "orientation": "horizontal",
            "min": 0,
            "description_tooltip": null,
            "_model_module": "@jupyter-widgets/controls",
            "layout": "IPY_MODEL_ea86b9a9487c405d89d1d8e085367091"
          }
        },
        "71e726cf42074cc98dc219dc97a154f9": {
          "model_module": "@jupyter-widgets/controls",
          "model_name": "HTMLModel",
          "model_module_version": "1.5.0",
          "state": {
            "_view_name": "HTMLView",
            "style": "IPY_MODEL_04dde2a3fc724533a7aad6cb4260fa0f",
            "_dom_classes": [],
            "description": "",
            "_model_name": "HTMLModel",
            "placeholder": "​",
            "_view_module": "@jupyter-widgets/controls",
            "_model_module_version": "1.5.0",
            "value": " 29696/? [00:00&lt;00:00, 63410.33it/s]",
            "_view_count": null,
            "_view_module_version": "1.5.0",
            "description_tooltip": null,
            "_model_module": "@jupyter-widgets/controls",
            "layout": "IPY_MODEL_b1d0a6d2d7a0431b875e44ea9faf9544"
          }
        },
        "779cbdb5aa1e400aa721c88b4b2a0494": {
          "model_module": "@jupyter-widgets/controls",
          "model_name": "DescriptionStyleModel",
          "model_module_version": "1.5.0",
          "state": {
            "_view_name": "StyleView",
            "_model_name": "DescriptionStyleModel",
            "description_width": "",
            "_view_module": "@jupyter-widgets/base",
            "_model_module_version": "1.5.0",
            "_view_count": null,
            "_view_module_version": "1.2.0",
            "_model_module": "@jupyter-widgets/controls"
          }
        },
        "5d4aadd865a14eb2b8b07a40f92a2115": {
          "model_module": "@jupyter-widgets/base",
          "model_name": "LayoutModel",
          "model_module_version": "1.2.0",
          "state": {
            "_view_name": "LayoutView",
            "grid_template_rows": null,
            "right": null,
            "justify_content": null,
            "_view_module": "@jupyter-widgets/base",
            "overflow": null,
            "_model_module_version": "1.2.0",
            "_view_count": null,
            "flex_flow": null,
            "width": null,
            "min_width": null,
            "border": null,
            "align_items": null,
            "bottom": null,
            "_model_module": "@jupyter-widgets/base",
            "top": null,
            "grid_column": null,
            "overflow_y": null,
            "overflow_x": null,
            "grid_auto_flow": null,
            "grid_area": null,
            "grid_template_columns": null,
            "flex": null,
            "_model_name": "LayoutModel",
            "justify_items": null,
            "grid_row": null,
            "max_height": null,
            "align_content": null,
            "visibility": null,
            "align_self": null,
            "height": null,
            "min_height": null,
            "padding": null,
            "grid_auto_rows": null,
            "grid_gap": null,
            "max_width": null,
            "order": null,
            "_view_module_version": "1.2.0",
            "grid_template_areas": null,
            "object_position": null,
            "object_fit": null,
            "grid_auto_columns": null,
            "margin": null,
            "display": null,
            "left": null
          }
        },
        "3d4092e58d484f0c8747f286940ebca5": {
          "model_module": "@jupyter-widgets/controls",
          "model_name": "ProgressStyleModel",
          "model_module_version": "1.5.0",
          "state": {
            "_view_name": "StyleView",
            "_model_name": "ProgressStyleModel",
            "description_width": "",
            "_view_module": "@jupyter-widgets/base",
            "_model_module_version": "1.5.0",
            "_view_count": null,
            "_view_module_version": "1.2.0",
            "bar_color": null,
            "_model_module": "@jupyter-widgets/controls"
          }
        },
        "ea86b9a9487c405d89d1d8e085367091": {
          "model_module": "@jupyter-widgets/base",
          "model_name": "LayoutModel",
          "model_module_version": "1.2.0",
          "state": {
            "_view_name": "LayoutView",
            "grid_template_rows": null,
            "right": null,
            "justify_content": null,
            "_view_module": "@jupyter-widgets/base",
            "overflow": null,
            "_model_module_version": "1.2.0",
            "_view_count": null,
            "flex_flow": null,
            "width": null,
            "min_width": null,
            "border": null,
            "align_items": null,
            "bottom": null,
            "_model_module": "@jupyter-widgets/base",
            "top": null,
            "grid_column": null,
            "overflow_y": null,
            "overflow_x": null,
            "grid_auto_flow": null,
            "grid_area": null,
            "grid_template_columns": null,
            "flex": null,
            "_model_name": "LayoutModel",
            "justify_items": null,
            "grid_row": null,
            "max_height": null,
            "align_content": null,
            "visibility": null,
            "align_self": null,
            "height": null,
            "min_height": null,
            "padding": null,
            "grid_auto_rows": null,
            "grid_gap": null,
            "max_width": null,
            "order": null,
            "_view_module_version": "1.2.0",
            "grid_template_areas": null,
            "object_position": null,
            "object_fit": null,
            "grid_auto_columns": null,
            "margin": null,
            "display": null,
            "left": null
          }
        },
        "04dde2a3fc724533a7aad6cb4260fa0f": {
          "model_module": "@jupyter-widgets/controls",
          "model_name": "DescriptionStyleModel",
          "model_module_version": "1.5.0",
          "state": {
            "_view_name": "StyleView",
            "_model_name": "DescriptionStyleModel",
            "description_width": "",
            "_view_module": "@jupyter-widgets/base",
            "_model_module_version": "1.5.0",
            "_view_count": null,
            "_view_module_version": "1.2.0",
            "_model_module": "@jupyter-widgets/controls"
          }
        },
        "b1d0a6d2d7a0431b875e44ea9faf9544": {
          "model_module": "@jupyter-widgets/base",
          "model_name": "LayoutModel",
          "model_module_version": "1.2.0",
          "state": {
            "_view_name": "LayoutView",
            "grid_template_rows": null,
            "right": null,
            "justify_content": null,
            "_view_module": "@jupyter-widgets/base",
            "overflow": null,
            "_model_module_version": "1.2.0",
            "_view_count": null,
            "flex_flow": null,
            "width": null,
            "min_width": null,
            "border": null,
            "align_items": null,
            "bottom": null,
            "_model_module": "@jupyter-widgets/base",
            "top": null,
            "grid_column": null,
            "overflow_y": null,
            "overflow_x": null,
            "grid_auto_flow": null,
            "grid_area": null,
            "grid_template_columns": null,
            "flex": null,
            "_model_name": "LayoutModel",
            "justify_items": null,
            "grid_row": null,
            "max_height": null,
            "align_content": null,
            "visibility": null,
            "align_self": null,
            "height": null,
            "min_height": null,
            "padding": null,
            "grid_auto_rows": null,
            "grid_gap": null,
            "max_width": null,
            "order": null,
            "_view_module_version": "1.2.0",
            "grid_template_areas": null,
            "object_position": null,
            "object_fit": null,
            "grid_auto_columns": null,
            "margin": null,
            "display": null,
            "left": null
          }
        },
        "f61c0371f84444e7911788cf6df49ac6": {
          "model_module": "@jupyter-widgets/controls",
          "model_name": "HBoxModel",
          "model_module_version": "1.5.0",
          "state": {
            "_view_name": "HBoxView",
            "_dom_classes": [],
            "_model_name": "HBoxModel",
            "_view_module": "@jupyter-widgets/controls",
            "_model_module_version": "1.5.0",
            "_view_count": null,
            "_view_module_version": "1.5.0",
            "box_style": "",
            "layout": "IPY_MODEL_16c01c9bd1b24dbaa4866555d4facd59",
            "_model_module": "@jupyter-widgets/controls",
            "children": [
              "IPY_MODEL_8a2332f1ed6943ed86ef74048ec9b419",
              "IPY_MODEL_8422cb9bef594f7bb6cc5788e868f3b3",
              "IPY_MODEL_a897fc9248f34009a7fcadf563d3db4b"
            ]
          }
        },
        "16c01c9bd1b24dbaa4866555d4facd59": {
          "model_module": "@jupyter-widgets/base",
          "model_name": "LayoutModel",
          "model_module_version": "1.2.0",
          "state": {
            "_view_name": "LayoutView",
            "grid_template_rows": null,
            "right": null,
            "justify_content": null,
            "_view_module": "@jupyter-widgets/base",
            "overflow": null,
            "_model_module_version": "1.2.0",
            "_view_count": null,
            "flex_flow": null,
            "width": null,
            "min_width": null,
            "border": null,
            "align_items": null,
            "bottom": null,
            "_model_module": "@jupyter-widgets/base",
            "top": null,
            "grid_column": null,
            "overflow_y": null,
            "overflow_x": null,
            "grid_auto_flow": null,
            "grid_area": null,
            "grid_template_columns": null,
            "flex": null,
            "_model_name": "LayoutModel",
            "justify_items": null,
            "grid_row": null,
            "max_height": null,
            "align_content": null,
            "visibility": null,
            "align_self": null,
            "height": null,
            "min_height": null,
            "padding": null,
            "grid_auto_rows": null,
            "grid_gap": null,
            "max_width": null,
            "order": null,
            "_view_module_version": "1.2.0",
            "grid_template_areas": null,
            "object_position": null,
            "object_fit": null,
            "grid_auto_columns": null,
            "margin": null,
            "display": null,
            "left": null
          }
        },
        "8a2332f1ed6943ed86ef74048ec9b419": {
          "model_module": "@jupyter-widgets/controls",
          "model_name": "HTMLModel",
          "model_module_version": "1.5.0",
          "state": {
            "_view_name": "HTMLView",
            "style": "IPY_MODEL_c9d9560c24cb448a9ad6175867b88ded",
            "_dom_classes": [],
            "description": "",
            "_model_name": "HTMLModel",
            "placeholder": "​",
            "_view_module": "@jupyter-widgets/controls",
            "_model_module_version": "1.5.0",
            "value": "",
            "_view_count": null,
            "_view_module_version": "1.5.0",
            "description_tooltip": null,
            "_model_module": "@jupyter-widgets/controls",
            "layout": "IPY_MODEL_be13f986c7a44966841a86210814608e"
          }
        },
        "8422cb9bef594f7bb6cc5788e868f3b3": {
          "model_module": "@jupyter-widgets/controls",
          "model_name": "FloatProgressModel",
          "model_module_version": "1.5.0",
          "state": {
            "_view_name": "ProgressView",
            "style": "IPY_MODEL_b24f5cac3c0646809ae50dc4c01854b7",
            "_dom_classes": [],
            "description": "",
            "_model_name": "FloatProgressModel",
            "bar_style": "success",
            "max": 1648877,
            "_view_module": "@jupyter-widgets/controls",
            "_model_module_version": "1.5.0",
            "value": 1648877,
            "_view_count": null,
            "_view_module_version": "1.5.0",
            "orientation": "horizontal",
            "min": 0,
            "description_tooltip": null,
            "_model_module": "@jupyter-widgets/controls",
            "layout": "IPY_MODEL_9a31469e4df749d890549183b1d555d7"
          }
        },
        "a897fc9248f34009a7fcadf563d3db4b": {
          "model_module": "@jupyter-widgets/controls",
          "model_name": "HTMLModel",
          "model_module_version": "1.5.0",
          "state": {
            "_view_name": "HTMLView",
            "style": "IPY_MODEL_40985159894b47959b8e3f3523c0f3a8",
            "_dom_classes": [],
            "description": "",
            "_model_name": "HTMLModel",
            "placeholder": "​",
            "_view_module": "@jupyter-widgets/controls",
            "_model_module_version": "1.5.0",
            "value": " 1649664/? [00:01&lt;00:00, 2125825.40it/s]",
            "_view_count": null,
            "_view_module_version": "1.5.0",
            "description_tooltip": null,
            "_model_module": "@jupyter-widgets/controls",
            "layout": "IPY_MODEL_4aa31ab1216c461e8157411d7c52d069"
          }
        },
        "c9d9560c24cb448a9ad6175867b88ded": {
          "model_module": "@jupyter-widgets/controls",
          "model_name": "DescriptionStyleModel",
          "model_module_version": "1.5.0",
          "state": {
            "_view_name": "StyleView",
            "_model_name": "DescriptionStyleModel",
            "description_width": "",
            "_view_module": "@jupyter-widgets/base",
            "_model_module_version": "1.5.0",
            "_view_count": null,
            "_view_module_version": "1.2.0",
            "_model_module": "@jupyter-widgets/controls"
          }
        },
        "be13f986c7a44966841a86210814608e": {
          "model_module": "@jupyter-widgets/base",
          "model_name": "LayoutModel",
          "model_module_version": "1.2.0",
          "state": {
            "_view_name": "LayoutView",
            "grid_template_rows": null,
            "right": null,
            "justify_content": null,
            "_view_module": "@jupyter-widgets/base",
            "overflow": null,
            "_model_module_version": "1.2.0",
            "_view_count": null,
            "flex_flow": null,
            "width": null,
            "min_width": null,
            "border": null,
            "align_items": null,
            "bottom": null,
            "_model_module": "@jupyter-widgets/base",
            "top": null,
            "grid_column": null,
            "overflow_y": null,
            "overflow_x": null,
            "grid_auto_flow": null,
            "grid_area": null,
            "grid_template_columns": null,
            "flex": null,
            "_model_name": "LayoutModel",
            "justify_items": null,
            "grid_row": null,
            "max_height": null,
            "align_content": null,
            "visibility": null,
            "align_self": null,
            "height": null,
            "min_height": null,
            "padding": null,
            "grid_auto_rows": null,
            "grid_gap": null,
            "max_width": null,
            "order": null,
            "_view_module_version": "1.2.0",
            "grid_template_areas": null,
            "object_position": null,
            "object_fit": null,
            "grid_auto_columns": null,
            "margin": null,
            "display": null,
            "left": null
          }
        },
        "b24f5cac3c0646809ae50dc4c01854b7": {
          "model_module": "@jupyter-widgets/controls",
          "model_name": "ProgressStyleModel",
          "model_module_version": "1.5.0",
          "state": {
            "_view_name": "StyleView",
            "_model_name": "ProgressStyleModel",
            "description_width": "",
            "_view_module": "@jupyter-widgets/base",
            "_model_module_version": "1.5.0",
            "_view_count": null,
            "_view_module_version": "1.2.0",
            "bar_color": null,
            "_model_module": "@jupyter-widgets/controls"
          }
        },
        "9a31469e4df749d890549183b1d555d7": {
          "model_module": "@jupyter-widgets/base",
          "model_name": "LayoutModel",
          "model_module_version": "1.2.0",
          "state": {
            "_view_name": "LayoutView",
            "grid_template_rows": null,
            "right": null,
            "justify_content": null,
            "_view_module": "@jupyter-widgets/base",
            "overflow": null,
            "_model_module_version": "1.2.0",
            "_view_count": null,
            "flex_flow": null,
            "width": null,
            "min_width": null,
            "border": null,
            "align_items": null,
            "bottom": null,
            "_model_module": "@jupyter-widgets/base",
            "top": null,
            "grid_column": null,
            "overflow_y": null,
            "overflow_x": null,
            "grid_auto_flow": null,
            "grid_area": null,
            "grid_template_columns": null,
            "flex": null,
            "_model_name": "LayoutModel",
            "justify_items": null,
            "grid_row": null,
            "max_height": null,
            "align_content": null,
            "visibility": null,
            "align_self": null,
            "height": null,
            "min_height": null,
            "padding": null,
            "grid_auto_rows": null,
            "grid_gap": null,
            "max_width": null,
            "order": null,
            "_view_module_version": "1.2.0",
            "grid_template_areas": null,
            "object_position": null,
            "object_fit": null,
            "grid_auto_columns": null,
            "margin": null,
            "display": null,
            "left": null
          }
        },
        "40985159894b47959b8e3f3523c0f3a8": {
          "model_module": "@jupyter-widgets/controls",
          "model_name": "DescriptionStyleModel",
          "model_module_version": "1.5.0",
          "state": {
            "_view_name": "StyleView",
            "_model_name": "DescriptionStyleModel",
            "description_width": "",
            "_view_module": "@jupyter-widgets/base",
            "_model_module_version": "1.5.0",
            "_view_count": null,
            "_view_module_version": "1.2.0",
            "_model_module": "@jupyter-widgets/controls"
          }
        },
        "4aa31ab1216c461e8157411d7c52d069": {
          "model_module": "@jupyter-widgets/base",
          "model_name": "LayoutModel",
          "model_module_version": "1.2.0",
          "state": {
            "_view_name": "LayoutView",
            "grid_template_rows": null,
            "right": null,
            "justify_content": null,
            "_view_module": "@jupyter-widgets/base",
            "overflow": null,
            "_model_module_version": "1.2.0",
            "_view_count": null,
            "flex_flow": null,
            "width": null,
            "min_width": null,
            "border": null,
            "align_items": null,
            "bottom": null,
            "_model_module": "@jupyter-widgets/base",
            "top": null,
            "grid_column": null,
            "overflow_y": null,
            "overflow_x": null,
            "grid_auto_flow": null,
            "grid_area": null,
            "grid_template_columns": null,
            "flex": null,
            "_model_name": "LayoutModel",
            "justify_items": null,
            "grid_row": null,
            "max_height": null,
            "align_content": null,
            "visibility": null,
            "align_self": null,
            "height": null,
            "min_height": null,
            "padding": null,
            "grid_auto_rows": null,
            "grid_gap": null,
            "max_width": null,
            "order": null,
            "_view_module_version": "1.2.0",
            "grid_template_areas": null,
            "object_position": null,
            "object_fit": null,
            "grid_auto_columns": null,
            "margin": null,
            "display": null,
            "left": null
          }
        },
        "e02cdf5bde8d4c658c777ce7164f0844": {
          "model_module": "@jupyter-widgets/controls",
          "model_name": "HBoxModel",
          "model_module_version": "1.5.0",
          "state": {
            "_view_name": "HBoxView",
            "_dom_classes": [],
            "_model_name": "HBoxModel",
            "_view_module": "@jupyter-widgets/controls",
            "_model_module_version": "1.5.0",
            "_view_count": null,
            "_view_module_version": "1.5.0",
            "box_style": "",
            "layout": "IPY_MODEL_536e272d71ad452ba10b59d63ce4b4a4",
            "_model_module": "@jupyter-widgets/controls",
            "children": [
              "IPY_MODEL_ffe930c26dc24be8827fefa67753f391",
              "IPY_MODEL_fe50500d1bda48e7a2303f6d528781b7",
              "IPY_MODEL_2039b9523d1943ea9f2913a0f039596e"
            ]
          }
        },
        "536e272d71ad452ba10b59d63ce4b4a4": {
          "model_module": "@jupyter-widgets/base",
          "model_name": "LayoutModel",
          "model_module_version": "1.2.0",
          "state": {
            "_view_name": "LayoutView",
            "grid_template_rows": null,
            "right": null,
            "justify_content": null,
            "_view_module": "@jupyter-widgets/base",
            "overflow": null,
            "_model_module_version": "1.2.0",
            "_view_count": null,
            "flex_flow": null,
            "width": null,
            "min_width": null,
            "border": null,
            "align_items": null,
            "bottom": null,
            "_model_module": "@jupyter-widgets/base",
            "top": null,
            "grid_column": null,
            "overflow_y": null,
            "overflow_x": null,
            "grid_auto_flow": null,
            "grid_area": null,
            "grid_template_columns": null,
            "flex": null,
            "_model_name": "LayoutModel",
            "justify_items": null,
            "grid_row": null,
            "max_height": null,
            "align_content": null,
            "visibility": null,
            "align_self": null,
            "height": null,
            "min_height": null,
            "padding": null,
            "grid_auto_rows": null,
            "grid_gap": null,
            "max_width": null,
            "order": null,
            "_view_module_version": "1.2.0",
            "grid_template_areas": null,
            "object_position": null,
            "object_fit": null,
            "grid_auto_columns": null,
            "margin": null,
            "display": null,
            "left": null
          }
        },
        "ffe930c26dc24be8827fefa67753f391": {
          "model_module": "@jupyter-widgets/controls",
          "model_name": "HTMLModel",
          "model_module_version": "1.5.0",
          "state": {
            "_view_name": "HTMLView",
            "style": "IPY_MODEL_ebc803fa027c4282b33b4bb035a98be2",
            "_dom_classes": [],
            "description": "",
            "_model_name": "HTMLModel",
            "placeholder": "​",
            "_view_module": "@jupyter-widgets/controls",
            "_model_module_version": "1.5.0",
            "value": "",
            "_view_count": null,
            "_view_module_version": "1.5.0",
            "description_tooltip": null,
            "_model_module": "@jupyter-widgets/controls",
            "layout": "IPY_MODEL_4356b86105ea48268019a6df35a9ba4a"
          }
        },
        "fe50500d1bda48e7a2303f6d528781b7": {
          "model_module": "@jupyter-widgets/controls",
          "model_name": "FloatProgressModel",
          "model_module_version": "1.5.0",
          "state": {
            "_view_name": "ProgressView",
            "style": "IPY_MODEL_c262fd09726d4e1888f0f5f645ce5452",
            "_dom_classes": [],
            "description": "",
            "_model_name": "FloatProgressModel",
            "bar_style": "success",
            "max": 4542,
            "_view_module": "@jupyter-widgets/controls",
            "_model_module_version": "1.5.0",
            "value": 4542,
            "_view_count": null,
            "_view_module_version": "1.5.0",
            "orientation": "horizontal",
            "min": 0,
            "description_tooltip": null,
            "_model_module": "@jupyter-widgets/controls",
            "layout": "IPY_MODEL_566c6ff5f6c345af8c7448be49ccf5f9"
          }
        },
        "2039b9523d1943ea9f2913a0f039596e": {
          "model_module": "@jupyter-widgets/controls",
          "model_name": "HTMLModel",
          "model_module_version": "1.5.0",
          "state": {
            "_view_name": "HTMLView",
            "style": "IPY_MODEL_44e0d2b474fe44aa83a38f1c9efb84ff",
            "_dom_classes": [],
            "description": "",
            "_model_name": "HTMLModel",
            "placeholder": "​",
            "_view_module": "@jupyter-widgets/controls",
            "_model_module_version": "1.5.0",
            "value": " 5120/? [00:00&lt;00:00, 149745.39it/s]",
            "_view_count": null,
            "_view_module_version": "1.5.0",
            "description_tooltip": null,
            "_model_module": "@jupyter-widgets/controls",
            "layout": "IPY_MODEL_738dbc7fe33b41dfafd37f12b251a7ae"
          }
        },
        "ebc803fa027c4282b33b4bb035a98be2": {
          "model_module": "@jupyter-widgets/controls",
          "model_name": "DescriptionStyleModel",
          "model_module_version": "1.5.0",
          "state": {
            "_view_name": "StyleView",
            "_model_name": "DescriptionStyleModel",
            "description_width": "",
            "_view_module": "@jupyter-widgets/base",
            "_model_module_version": "1.5.0",
            "_view_count": null,
            "_view_module_version": "1.2.0",
            "_model_module": "@jupyter-widgets/controls"
          }
        },
        "4356b86105ea48268019a6df35a9ba4a": {
          "model_module": "@jupyter-widgets/base",
          "model_name": "LayoutModel",
          "model_module_version": "1.2.0",
          "state": {
            "_view_name": "LayoutView",
            "grid_template_rows": null,
            "right": null,
            "justify_content": null,
            "_view_module": "@jupyter-widgets/base",
            "overflow": null,
            "_model_module_version": "1.2.0",
            "_view_count": null,
            "flex_flow": null,
            "width": null,
            "min_width": null,
            "border": null,
            "align_items": null,
            "bottom": null,
            "_model_module": "@jupyter-widgets/base",
            "top": null,
            "grid_column": null,
            "overflow_y": null,
            "overflow_x": null,
            "grid_auto_flow": null,
            "grid_area": null,
            "grid_template_columns": null,
            "flex": null,
            "_model_name": "LayoutModel",
            "justify_items": null,
            "grid_row": null,
            "max_height": null,
            "align_content": null,
            "visibility": null,
            "align_self": null,
            "height": null,
            "min_height": null,
            "padding": null,
            "grid_auto_rows": null,
            "grid_gap": null,
            "max_width": null,
            "order": null,
            "_view_module_version": "1.2.0",
            "grid_template_areas": null,
            "object_position": null,
            "object_fit": null,
            "grid_auto_columns": null,
            "margin": null,
            "display": null,
            "left": null
          }
        },
        "c262fd09726d4e1888f0f5f645ce5452": {
          "model_module": "@jupyter-widgets/controls",
          "model_name": "ProgressStyleModel",
          "model_module_version": "1.5.0",
          "state": {
            "_view_name": "StyleView",
            "_model_name": "ProgressStyleModel",
            "description_width": "",
            "_view_module": "@jupyter-widgets/base",
            "_model_module_version": "1.5.0",
            "_view_count": null,
            "_view_module_version": "1.2.0",
            "bar_color": null,
            "_model_module": "@jupyter-widgets/controls"
          }
        },
        "566c6ff5f6c345af8c7448be49ccf5f9": {
          "model_module": "@jupyter-widgets/base",
          "model_name": "LayoutModel",
          "model_module_version": "1.2.0",
          "state": {
            "_view_name": "LayoutView",
            "grid_template_rows": null,
            "right": null,
            "justify_content": null,
            "_view_module": "@jupyter-widgets/base",
            "overflow": null,
            "_model_module_version": "1.2.0",
            "_view_count": null,
            "flex_flow": null,
            "width": null,
            "min_width": null,
            "border": null,
            "align_items": null,
            "bottom": null,
            "_model_module": "@jupyter-widgets/base",
            "top": null,
            "grid_column": null,
            "overflow_y": null,
            "overflow_x": null,
            "grid_auto_flow": null,
            "grid_area": null,
            "grid_template_columns": null,
            "flex": null,
            "_model_name": "LayoutModel",
            "justify_items": null,
            "grid_row": null,
            "max_height": null,
            "align_content": null,
            "visibility": null,
            "align_self": null,
            "height": null,
            "min_height": null,
            "padding": null,
            "grid_auto_rows": null,
            "grid_gap": null,
            "max_width": null,
            "order": null,
            "_view_module_version": "1.2.0",
            "grid_template_areas": null,
            "object_position": null,
            "object_fit": null,
            "grid_auto_columns": null,
            "margin": null,
            "display": null,
            "left": null
          }
        },
        "44e0d2b474fe44aa83a38f1c9efb84ff": {
          "model_module": "@jupyter-widgets/controls",
          "model_name": "DescriptionStyleModel",
          "model_module_version": "1.5.0",
          "state": {
            "_view_name": "StyleView",
            "_model_name": "DescriptionStyleModel",
            "description_width": "",
            "_view_module": "@jupyter-widgets/base",
            "_model_module_version": "1.5.0",
            "_view_count": null,
            "_view_module_version": "1.2.0",
            "_model_module": "@jupyter-widgets/controls"
          }
        },
        "738dbc7fe33b41dfafd37f12b251a7ae": {
          "model_module": "@jupyter-widgets/base",
          "model_name": "LayoutModel",
          "model_module_version": "1.2.0",
          "state": {
            "_view_name": "LayoutView",
            "grid_template_rows": null,
            "right": null,
            "justify_content": null,
            "_view_module": "@jupyter-widgets/base",
            "overflow": null,
            "_model_module_version": "1.2.0",
            "_view_count": null,
            "flex_flow": null,
            "width": null,
            "min_width": null,
            "border": null,
            "align_items": null,
            "bottom": null,
            "_model_module": "@jupyter-widgets/base",
            "top": null,
            "grid_column": null,
            "overflow_y": null,
            "overflow_x": null,
            "grid_auto_flow": null,
            "grid_area": null,
            "grid_template_columns": null,
            "flex": null,
            "_model_name": "LayoutModel",
            "justify_items": null,
            "grid_row": null,
            "max_height": null,
            "align_content": null,
            "visibility": null,
            "align_self": null,
            "height": null,
            "min_height": null,
            "padding": null,
            "grid_auto_rows": null,
            "grid_gap": null,
            "max_width": null,
            "order": null,
            "_view_module_version": "1.2.0",
            "grid_template_areas": null,
            "object_position": null,
            "object_fit": null,
            "grid_auto_columns": null,
            "margin": null,
            "display": null,
            "left": null
          }
        }
      }
    }
  },
  "cells": [
    {
      "cell_type": "markdown",
      "metadata": {
        "id": "view-in-github",
        "colab_type": "text"
      },
      "source": [
        "<a href=\"https://colab.research.google.com/github/injoon-pij/pytorch-learning/blob/master/pytorch_cnn.ipynb\" target=\"_parent\"><img src=\"https://colab.research.google.com/assets/colab-badge.svg\" alt=\"Open In Colab\"/></a>"
      ]
    },
    {
      "cell_type": "markdown",
      "metadata": {
        "id": "ufH48e_HwrQo"
      },
      "source": [
        "# 1) What is CNN : Convolution and Pooling"
      ]
    },
    {
      "cell_type": "markdown",
      "metadata": {
        "id": "qz3aBxLz2tgH"
      },
      "source": [
        "* 합성곱 신경망(Convolutional Neural Network)은 크게 합성곱층(Convolution layer)과 풀링층(Pooling layer)으로 구성됨\n",
        "* __데이터의 형상이 무시__된다는 다층 퍼셉트론의 한계와 달리 데이터의 형상을 고려하며 학습할 수 있는 방식\n",
        " * 이미지 처리의 예로, 이미지를 다층 퍼셉트론의 입력으로 사용하려면 이미지를 1차원 텐서인 벡터로 변환해야 하는데, 그러면 그 벡터는 __해당 이미지가 가지는 고유한 공간적 구조 정보가 유실된 상태__가 됨\n",
        " * 공간적인 구조 정보라는 것은 픽셀 간 거리에 따른 연관성, RGB 채널 간 관계 등 3차원 속에서 의미를 가지는 본질적인 패턴을 뜻함"
      ]
    },
    {
      "cell_type": "markdown",
      "metadata": {
        "id": "Uf3HINtb2_8I"
      },
      "source": [
        "## 1.1 Channel"
      ]
    },
    {
      "cell_type": "markdown",
      "metadata": {
        "id": "pmJo8zcD5NiA"
      },
      "source": [
        "* 이미지는 __(높이, 너비, 채널)__ 이라는 3차원 텐서\n",
        " * 높이 : 이미지의 세로 방향 픽셀 수\n",
        " * 너비 : 이미지의 가로 방향 픽셀 수\n",
        " * 채널 : 색 성분\n",
        "   * 흑백 이미지 : 채널 수 1, 각 픽셀은 0부터 255 사이의 값\n",
        "   * 컬러 이미지 : 채널 수 3(RGB), 각 픽셀은 0부터 255 사이의 값"
      ]
    },
    {
      "cell_type": "markdown",
      "metadata": {
        "id": "_L9StUpd50PD"
      },
      "source": [
        "[흑백 이미지] =>  (28 × 28 × 1)의 크기를 가지는 3차원 텐서"
      ]
    },
    {
      "cell_type": "markdown",
      "metadata": {
        "id": "3GIl27us5vP7"
      },
      "source": [
        "![image.png](data:image/png;base64,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)"
      ]
    },
    {
      "cell_type": "markdown",
      "metadata": {
        "id": "zXa3N9tl58U5"
      },
      "source": [
        "[컬러 이미지] =>  (28 × 28 × 3)의 크기를 가지는 3차원 텐서"
      ]
    },
    {
      "cell_type": "markdown",
      "metadata": {
        "id": "2D-sExhJ6D5x"
      },
      "source": [
        "![image.png](data:image/png;base64,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)"
      ]
    },
    {
      "cell_type": "markdown",
      "metadata": {
        "id": "9RblWr0r6L9J"
      },
      "source": [
        "## 1.2 Convolution operation"
      ]
    },
    {
      "cell_type": "markdown",
      "metadata": {
        "id": "baH0L9aW6VpV"
      },
      "source": [
        "합성곱층은 합성곱 연산을 통해서 이미지의 특징을 추출하는 역할\n",
        "* 합성곱 : 커널(kernel) 또는 필터(filter)라고 불리는 행렬로 이미지의 가장 왼쪽 위부터 가장 오른쪽까지 순차적으로 훑고 지나가면서, 겹쳐지는 부분의 각 이미지와 커널의 원소의 값을 곱해서 모두 더한 값을 출력으로 하는 것\n",
        "* 커널(필터) : 일반적으로 크기가 3 × 3 또는 5 × 5인 행렬을 사용\n",
        "* 스트라이드(stride) : 커널의 이동 범위\n",
        "* 특성 맵(feature map) : 커널을 사용하여 합성곱 연산을 통해 나온 결과"
      ]
    },
    {
      "cell_type": "markdown",
      "metadata": {
        "id": "Qdtbtb7y_gIH"
      },
      "source": [
        "---"
      ]
    },
    {
      "cell_type": "markdown",
      "metadata": {
        "id": "c6IHbbsB_DBs"
      },
      "source": [
        "아래의 그림들은  3 × 3 크기의 커널로  5 × 5 이미지 행렬에 합성곱 연산(스트라이드 = 1)을 수행하는 과정을 시각화하였음 "
      ]
    },
    {
      "cell_type": "markdown",
      "metadata": {
        "id": "KCX0fZ_7-5lG"
      },
      "source": [
        "__[첫번째 스텝]__"
      ]
    },
    {
      "cell_type": "markdown",
      "metadata": {
        "id": "cK8PJs0t_jyS"
      },
      "source": [
        "![image.png](data:image/png;base64,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)"
      ]
    },
    {
      "cell_type": "markdown",
      "metadata": {
        "id": "jeoCPBkh_pTc"
      },
      "source": [
        "__[두번째 스텝]__"
      ]
    },
    {
      "cell_type": "markdown",
      "metadata": {
        "id": "fbzw-sFt_vlS"
      },
      "source": [
        "![image.png](data:image/png;base64,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)"
      ]
    },
    {
      "cell_type": "markdown",
      "metadata": {
        "id": "BbcMC0CM_xrl"
      },
      "source": [
        "__[세번째 스텝]__"
      ]
    },
    {
      "cell_type": "markdown",
      "metadata": {
        "id": "XPvUiZWK_0RJ"
      },
      "source": [
        "![image.png](data:image/png;base64,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)"
      ]
    },
    {
      "cell_type": "markdown",
      "metadata": {
        "id": "QFoiPEhg_2GV"
      },
      "source": [
        "__[네번째 스텝]__"
      ]
    },
    {
      "cell_type": "markdown",
      "metadata": {
        "id": "aiqKW_UQ_4G8"
      },
      "source": [
        "![image.png](data:image/png;base64,iVBORw0KGgoAAAANSUhEUgAAAZoAAACXCAYAAAAs750JAAAgAElEQVR4Ae2dD7AW1X3370ycjhOdKWPAmvTWUrHTm7zU0IpThtFA0FFHfQO2OuKIgtUUHbTXIIomZCilGWJvZugbRnEkiMprb18Ziw0aVCQYbwwqFVQQxhC8MRqJgZQ4mJJI0t87n11+j+fu3X2ec/Z5du/z53dmnmf/nT+73z17Pvv7nbO7XWLBFDAFTAFTwBQoUIEu8r7mmmvk0ksvlTlz5hT2I//JkycXlr/u+/jx4wsvg+MoQ69p06YVfixnnXVWgdXLsjYFTAFTQCQCzcyZM6W/v18GBwcL+5H/ZZddVlj+uu/d3d2Fl8FxlKFXb29v4ceCXhZMAVPAFChSgQg0WANbtmwpspwof8opOowdO7boIiIrowy9Fi9eXPixlKFX4QdhBZgCpkBTK2CgyXF6ygKzgSbHybEkpoAp0HQKGGhynBIDTQ7RLIkpYAp0rAIGmhyn3kCTQzRLYgqYAh2rgIEmx6k30OQQzZKYAqZAxypgoMlx6g00OUSzJKaAKdCxChhocpx6A00O0SyJKWAKdKwCuUEzbtw4GRgY8BaO4cA00L7hggsukK6urugXUk7IcN277rqrUgbzviEPaPbt2xeVxdQnoJfvqDPNW/W68cYbfYqI4oTo5Z2pRTQFTAFTwFEgGDTaOAOCEACEgIaHITVvGlGg5htCGk4XLjTSviEPaGj8OY6iQMP5yBNC9MqTv6UxBdpFAa4xbv6K/k2fPl0WLlxYWDlz586V2bNnF5a/6jNjxozKqQ8Gjaak4VQY6Lpq0xDQJPMpCjRaDo1/SEMdChoFZ1Gg4TyEWDF63EwNNK4aNm8KZCswevRoWbNmTeG/np4e6evrK6yc6667ToBZ0ccyZsyYiphNDxqsDtfyqOx5xkxIw6nWWQjIKDYENEBMIVAkaNRtxtTXauJYQvTKkNxWmwIdoUBZ18rUqVOjV08VJSqA8XXL17MPrl5NDRoaaG2kfQ/YPTjfNDTMIQ10CGhciBUFGvc4sZ5CrLM8ernl2bwp0CkKlHWtGGicGgUAinSd0SjTaIaGvJUh5Hh8QaMWk2tt+AItZDBAUiMXbsltyeW8eiXzsWVToN0VKOtaMdA4NSmkYSZZSB8NDXQeyFCOb2UAki4ofQFAGb6gceSKZouyaFzXolk0SdVt2RRojAK+bUu9pRloHAWLBA1557EC2L2QykDDr+W40HEOM3W22UCjrj89ltSdzlgZoldGFrbaFOgIBcq6Vgw0dVSnEIumjmKCQJO3nLygCSmvHtdZSDllXTwh+2RxTYFmVKCsa8VAU8fZN9CEiWegCdPLYpsCRStgoAlT2NUr96izsCLD+mhC83bjuwfnrm/kvFk0jVTT8jIFWkOB0LaF/lJ1Z4f0OYdYNIwwDS3Dd3gzeaftN33CdG/UCq5eBppaaqVsN9CkiGKrTIE2V8BtOGsdqvabary0Blu3Jae+oKHB14FAyfKSebrLtUCjgEyCRstgvYHGPuXs1qma8yEXT83MLIIp0MYKhFwrNMQhcHFl8wUNZbiDmJLLbp7ufC3QaFwglnYMlGmgMdBoPfGahlw8XhlaJFOgTRUIuVb0OcBQtxbS+YLGtWhIR5kueLJOg4EmS5mA9SGVISDbIVHNdTZEDlswBTpCgZC2hUZf7/rV5eQrki9oyM99RAOXVlODRv78z8V+4RpwZ1DUj7e3lv3iO98LweKZAp2oQAhoaPQBjIbksq5Pm4aAxk3vW8aIWTQRZD75SZHf+z2RE04Q6e4WOe00kVNOief/7M9EPvMZkU9/2oDk6LSeN6DOni2bzj1XmF/e2yvLFi6UvltvrfsV3LzGe8qUKXXno6/szpqedNJJbl21eVPAFMhQIAQ0rlsL4GB5+AZf0GC9KMwoTy2oWuWMLGiwal57TeTJJ0V27BD5938XmTdP5PLLRVasEFmyROQTnxA57jiRr30tXnfppSLXXivy2GOMX47TbN0qAskPHhzye23LFvmXr351yLpknEYsX8c3EBJlN3y5pwebVWRwUGTTJpEFC0RmzRJZs0akr09k9OhYp+XL43Vsu+OOWCO0Jc2ePSKHDmXWCXuOJlMa22AKjIgCIaBhB123lgLBZ8d9QeOWEQKykQeNTwP9s5/FIKHBXLlS5Otfj0EDjM4+W+RP/iSG0Ny5Ip/6lMjEiSKPPCI/XrpUfjB1arxt2zaRN96Ifz5lBsQpBTTqaqxWa44ejUECjADQsmUxwJlHh9NPj9cvXiwyfrzIeeeJ8MXS9esjWO3+8pcjy0gOHBAhr4JC6MVT0G5YtqZA0ytQ1rUSApo8ovmCJk/ebhpXr+g5mkr/TECD7mUlAKPHHxfZvTsCzYvnnCNy5ZXxOkD0+78f3/nff78I1s7554tcfXV85086rKpnnhF56y1vK6VpQOMqXm0ekOzdGx/z/v0xaBYskPemTZO1V10lcsstIqNGiZx4osi6dTGw+CQ2FhL6AiesSfI4fLhaSanb3MqQGsFWmgKmQKRAWdeKgaYOEGW6zt55JwYJDeZDD8WuJxpO3E5YSFgPgAhA/dEfiUyaFFtQuKhuvz2OpxbSvn3ScqDJuIiHuc6OHIlBsnNnbAktXRqDBqtSLSRAdP31sYV04YUiuDFZh5Z8cgFXHWBzQlkXj1OkzZoCLalAWdeKgaYI0PjmictOLST6gP71X2PQACAgxfTkk+XDj30s7mfCYrroorgPiXSPPBKDjD4o4OZbblo8H9dZnZfSMND45odVxPFu2CDCPK46rKLLLovXz5wp0tUVD/LYulXuw6rEQlq0KO5zIi2AwuUH3CyYAqZApICBJqwiuHoV6zpzGulMi8aJU1fjfyyfikWDVYQlRB8Sjeedd8auuQkTYhB97nMfWUjEZbADFhJ9Tbt3f/RL279mBo1vXcC6OXJELmUUHTCirwi43HRT3K/Gg68ABzCh2SWXxAMYiIuFhKWUYiH5Fm/xTIFWU8BtOIvcd7No0hpdz3Wlg6bWfmHVACBGzGEh4bYDNFhGgIYRdQxm4O4fENF39IUvxK4phnqfempsNeC2K6CzPrdFE3gF1Lx43n5bhGNUC2nVqhhGjO4DTLjt0Agw4dbDOuIHuAARsGJ9wmUXuJsW3RQYcQVqXisN2kMDzcGDsn/XLvnfkydHvy/+9V97u6DygObR++6Te+iLqAUNZ3vFonHWZaV/bv36yrHULAeXGxYSQ7sBDUOY6Qfhbp/GmFFkNLaMssNlhSuKxhYL4PBhuaS7W15icINnCAVN3qGUDbl4AC3QYQqUgZGCBosITdAGneh3YxkLCfhgQaIRIMNVZ0DyrCEWrWwFGnKteOy0gebgwSENPyDgl9WQu+tDQKMwW3zTTUPKc/PLmg8BDcDUfIDm6889V1nW9anTNNcZjSSNLXfwzNN4LlokOydOlNFdXfLCmDHy6zFj4rt/4tHQ8uPunzt/XFEbN8ZW1rFPX/OQpU/gYS0dp89DXDwh7BvKungq+6MaMYybUXIM+0YDoA2gATfPagEmdAFUDHBQcKFvjWeQKmXZjCnQQAW6HpshZf4GBweliF9fX5/09vYWkre7v908+H8s1NVHg0VQBGi0cafhr2lpJCwXX9Ak9z25rPuQOk0DjSqaMR32ZlXu/GlsARJBG1ueqSF0dclhhjTT8BJuuCFubBllRsCdhYWQCACnqUGT2N/URbWQ2IilwzErdHneiAdm0YYAkBiJiCuPwGjEtWtjy4pls5BiXey/bgXKhAxlYdkU8evp6Ym+RFxE3m6eJ/CWmWOhLtBgBWB9pDbGCQCEWDSaX5GgAZDAJVdZjQCNnoGMKa4zXmUTAYU4uJhobLm7JwAgXhFE/wgBQF14oWzt6Ylf7Q3AsJDoH6kSSrdoquxLrk1YSIw6xCIkMMIOK4i+IwLPIKmFxDJAJ46CC+BjIeV4BikuwP6bXYEjv/tQBn/1nhw+ekR2vv+WbDmwM/rt//UhGTi4W5b98FFZvKdfdvzyTVn146dl5rZvyNTvL5KN722XW3aulrFP/130U9D89P198uJ7/ylPvfOc7PnFLnl48DuybPdamf/KPdH62169VyZ/b4H0PHODbHh7SzTf/eS1Mn7zvCjNna+tkmu2/XMlPvkQjzz3HXqjYjUVpWtLPbCJ28nb1XTwoBhohn47olYlCu2jYWDDV848U57glUFYBDSo6p7jrh4gASb6SFhm+6JFsoC+Jlx9DIzAddWOQd2a6AKAsXoYOYcO+gwS2gAbrCXWMfoO150+g4TLjvSss1CaAgd+875sO7R3CBjWvLVZ+vauj8CwcvBJmbP9m9FPodHzzLwIDOt++ny0/rj/+JvKMlABIgoSwLJg1wPS+9q35N/eGZCNP9sut+16UL608365deca2f7LfXL76w/KpOcWVgAARELAAZhCfgq0okRuCdAAF7dvQy2CWtNmA03SVZZcrno8JVk0vn00VEi+e1HzFeG42gAKDSoN7tKlsoI7fgCjHfYMaiAeFhP9JrzHTePjxqLBbdegLjssJI4VqOgzSFhJ6ILL7vjjhwE7ctcBNCwk3tLAfAcGwID1ABzUYgAM/PZ+8K6sf/cFuenV+4aAgUZ//Hf/XhQM2tCSBghMfHbBEDAAFtZjgQAXN/89h9+JrBbWP39wT7QPWDAAybVaKHPCli9FZc54cZl0P3VdtA/EXfHmE3L9jruj+BwLlg3rdb9CoJEnrpZTVPVpCdCEjDRzG+tmA40OONB9DHEDVl7ZE1AThvXR1EgbYtGE5u0Wneo6o8HVIc36vAx3+Dz0SYNLQ4qFRGefNsDHLKRKg0t63Frk1W4B8AIdQASwccMxypB1WEM6+hCXHC5N1gFstZDQFOA3QVAwqGuJhnrTz18ZAgYaaOCgFoNrEdDg00jTOCoYcDUBBxpoLAbX4gA0NOQKHsqjEcelhWsrKxz9n99W3F/sB/lmgYPyFBy6DwoOhRPHCAyrlZncFwVAHniEpNFykuU3arklQKNDm3XKyDBtrKtNmw007Cv9NHocvoMaomNsMouGzn/9kp9OfStlKmh8EwMS+oCwiLTBZRQZDaw2uHTeYwXpkGa2k44+pyZqcH0POSieuiSxcugv47i5Xhi4gKWELlhIuO0ANroBbMBF/yFgIm0C2NroHvrwg8hKoKHGGqARpQGlAebHehr2WS8vr1gEgAEQnPj4zCFgYB154Fo67/nFFYuD9OQFHLBIFAzkjcUCqEIaa9VPj4G0aeBgH4CVWjmu+wvINAIcui++UwVACDTyxNVyfPcrNF5LgKYaTKptywOaavllbfMddZaV3mt9DtCEVoYQiyY0bzd+XaBxM6o2T4OLhUPjqQ0uo+i0weWzCdqHlGxw1YWV0uBWK7LZttEgAwZ+2ueAFRF1QO9+TBZvWyVbdn9X1j30jzLn/r+VSx6+VtZ8b7WsmXuujL/3Qhm7dros37xCFs+fFlkPY9ddIctfekDW3P9lmfrYDTLj6TsiqAAAFzTkj/XggkGtl0ZqpODQ41OLQ2Gn4Fj+o29H1hGNKXAjXv87AxHY2O96LI5GHk9aXgqAPPAISaPlpO1DI9YZaBIj1bwa/UQaA01YVSwFNL67hOsJ64ipPvRJxz0gYhADLingxDJ9SFhNxMMNxRBoQKYjyBrUR0LDScNMg6lg0D4BGkXWMzIJdw13/2w7e+DOqBGlUV20++EIDKOeuEpY5kffAO4n4pKGtGqBKBhYT3laJtNDh38RW0EcJ/1IHDfAZtAHVhAWoo6w40Fn4ugzSIAabbFA0dcjRGUeO35gQD9HGjj0GAEHx5d2TLiwtv7XGxFoPYpuyigKgBBo5Imr5RQlgoEmAQ0Djd8Dm/VUyKYCje+B0EeChQRwkg0urjltcEeNkp/c8kXZvPn/yrrnH5bXX3tOtm5/SpY/801Z8Pg/yFMvro/Wz1x3k/AjzupnvyVn3D9Dxt53fhSP5bPXXlnZThrS/uNTd0V5kd+q794n93/7nij/t3f/Z7Se6ft7X4/dXri+GvD7+UsvyW9/9KPaeeGS275d5Nln43f99fbG09WrRf7iL+K+Nfrb7rknXubzHLwT8IknRFavlr7v3xtbTW0ODt/qpvEUAHngEZJGy9FyGz010BhoKnWqrVxnlaMqeebAAdk1e3psCWH9FPQ7MmmS7GD0XkH5a76UQVm6XMgUq3H+/JJPVGsUpwCoBY2LrzhXNm3dMGRI8xe/dLWcOeV/Rb/ktmR+Wk5RqhhoDDSVumWgqUhR34wOUqgvl6qpee0GT0QXHSiDsgoNuODQzMIwBRQASTDo8oo1fRFIgIoLk397/AFZ9PUFEXhYD4g0TdpUyxm2Aw1aYaAx0FSqkoGmIkV9MwaaMP0MNJl6KQDS4OCuAyouaADPy288X4FLctlNy7yWk7kjdW4w0BhoKlXIQFORor4ZA02YfgaaTL0UAEkwJJeToElaMMntyfRaTuaO1LnBQGOgqVQhA01FivpmDDRh+hloMvVSACTBkFxOgsRAIzLkpZoMDS7qd83FF8vl06YVlr/u94xzzim8DH0zACO2ivqdcsopMmrUqMLy1/0+nteptHMw0ISdXQNNpl55QZN0lSWXk6DScjJ3pM4NZtGYRVOpQmbRVKSob8ZAE6afgSZTLwVAEgzJ5aRFwyAB1hGPvhtAk0zjLms5mTtS5wYDjYGmUoUMNBUp6psx0ITpZ6DJ1EsB4EIhbT4JGuLgPtPhze7AgLT0Wk7mjtS5wUBjoKlUIQNNRYr6Zgw0YfoZaDL1UgCkwaGR67SczB2pc4OBxkBTqUIGmooU9c3kAA0vKe3v7/cuN/Q5Gj69rS8/Zd435HmOhnL0M99e5RhoMmVSADQSKml5aTmZO1LnBgONgaZShQw0FSnqmwkADXChYS4SNDT648aNqxxTCAhCQMOnI/RYDDQVueuaUQCkwaGR67Scuna2SmIDjYGmUj0MNBUp6psJAI0WhJVRlEWTzDu5rPuQNg0BjaYHmgYaVaO+qQKgkVBJy0vLqW9vs1MbaAw0ldphoKlIUd9Mk4Em+ZE6gObrPjPQ1FcV6k2tAEiDQyPXaTn17m9WegONgaZSNww0FSnqmzHQmEVTXw2qpFYANBIqaXlpOZWCGzzTEqDRTyDzZcqQzzqHfvjsnqVLK1+/fI7vb3hCKPR7NK8/91zQcUT7kePDZ/jlB3ilvWcIBY37lc2QclryMwGeGkbRmgw0SVdZcrnaoZlFU02d4rcpANLg0Mh1Wk5RR9QSoHE/eQwMfCEQAhoaf/1EtIKtCNAASsoJAWYoaGhItFM2BAAhoMH9gkuGQBluZ3OtymqgGa5QSONP6pBRZ8nzQ93wDQYaX6WKiacAKGvK+S7i19PTE71xpIi83TxPOOGEyokY8goa38Zc49FIAwJdrjYNAQ0AAzaaX3JZ16dNQy0a8igSNKp00jev67OmIaBJdvgml7PKYL2BZrg6RYKG0nREGJAJGXTARRz6mYCQuhApYcObh1UIvg56x+sPVd6qXBZohu1Ig1a0hEWjFgauMxcGaY2+uy4ENEmAYUX5Wk6dCJqkBRMCNQNN/VdviEVTT2l5QBNcnoEmkmz/rw/J0f/5rZy+6UaZ+OyC6DPWRV4rfA6cT2HzGeyiz3NLgMaFB0BwXWnutuS8gebGwvpoDDRVmtMcfTRVckvdZKBJlaUlV2K9XPLCP8moJ66SwV+9F/30QBoNGkDWt3e9LP/Rt2XHL9+UI7/7MCrKQJPokMeiwa2VhEracghokq6y5HJa/rquEy2apHskuawXStq00RdPWhkjus5AEyZ/B1o0AAXXGNYEjf6atzbL4aNHhunWyGuFMrGWgBrzbjDQHDw4xIIBAEVYNLjJsJaAB666kD6UTgQNfQruYABA4xsaefH4lllqPANNmNwdAhqsh53vvyVrf/KsnLJxjizY9YDsOfxOVa0aca0AlVkvLxdcc5t+/kpqeQaaY6Chf4afrzUDMEIsGuIDGi0npC+oE0FDbcV9Rucyv5AnwRtx8aReLc2y0kATdibaHDQHfvO+3PTqfTL6O9dEU4CDC8sn1HutrHjzicglt/SNRypusrRyDTQJ15m6q3ymoaDxyTMtTh7QpOVTdV2O52jSKlS1dSGjzqrlU2tbvRdPrfxHfLuBJuwUtCFocIPhDsNNBWgW7+mXt//7YJgudYzQpN+HvpiBg7tl7wfv1izXQGOgifujDDQ1L5amiWCgCTsVbQSarf/1hhz68AOZsOVLMuPFZbJh/zZv6yVNtNCbMsqm3J5n5gmw8Q0GGgONgcb3ammSeK/Nny8PjB1byINvNAj8Jk2aFH12W5eLmvJpb8oqKn/yRSs0a+XQ/86AjP/u30ed7Yzm8nWN1TpmX9DgjlOriT6g0PI5D6HPS9Xad3d7yw1vrupeSkDJXGfuqa49b66z2hp5xTCLxkumSqQWtWjoWL/spX8W+j+2HNgZuakqx9SgGR/QYDV1P3VdtC953HPsqoEmAQ8DTYNqcEo2BpoUUfKsMtCEqdZCoGHkFi4pIIMFQ2c77qqiQjXQ0PdC+dsO7c0cTea7XwYaA425znyvlmaJZ6AJOxMtABpgog9V3vDKyrDjqyN2GmhwizE0mlFsPIPTiGCgMdAYaBpxJZWZh4EmTO0mBY0+VIlbCkuGfpi0hyrDDjYsdhI09L/wLA6AYZ8aFdoeNF+eO1eK+vXOmiXXXHxxYfnrfv/N1KmFlyHHRp1RIYr6TZgwofQ3rDbqQmmqfAw0YaejiUBDpzpAoUN/5rZvRE/v13qoMuxgw2IraNiHswfujNx17FujQ9uD5r3du6WoH0/7f/222wrLX/f72i98ofAyFDSMDCnqx1t9e3t7C8tf97u7u7vR10lz5WegCTsfTQAaBQzuqAt/sCTq9wg7iGJin/rpcbLqx09H4MOKCR1N5rtXbQ+akM790Lg26sy3msXxbDBAmF6ZsQ00mdKkbhgh0OAGoxHHUpiz/ZvDXmiZuq8lrsRN9rGHLpbrd9xdGGD0cAw01kdjfTR6NbTK1EATdqZKBg2jtHhqHncUDzfyYsuiLIUwIeLYuMb4Lfvho/LJcz6dJ4vgNAYaA42BJviyGeEEOUDDS0lDPkiGG5LGwTfoV1d5Lx3zviFPAxT67jspATS8Bgb3GNYLT83TiDdboHMf6wX3HfAjaB9N0fua5zyH7JM9sFkHyNSVZ+86C6ly5V08YXvVwNgBoAEuNMxFgoYXnrrfDwoBQUgDpF/xDPlkRKR6gaDhlTB06vOtF6wEn/d+NbAmeGWFNcUABEa58fJNoKjBQKNK+E1dver6lLM27j5T66PxOzkay/poVIk6pwGg0ZKK/JRzMu/ksu5D2jQENJp+pEHD0/FYLPpiyaIfqtTjzjMFhHxNE0sr7cFPt+HMk79vmjzn2Tdv4plFYxZNpb4YaCpS1DfTZKBJfmYbK8rXfZanARoJ0GAVYBHwxmSsF1xQRQwDrq9ifJQaq4X94/U1DEjICgaaLGXS17t6mUWTB2729ub0mtWMaw00Qd8nqqePBiuAl0nyUCUjx1imL6ZZA0BcOfhk1A/j00/kNpxFHlOeG4qQ/Wkpi4avXoZ8kCyv64wPoPl+xRMXXmgfDccQ8gXPyE2YAzT45QcGBrzrQ6hFYx8+y5C2yUCTdJUllzOOIlqdpwEq2qLRZ154JQxgWbT74Zpfqqx2jGVtw02G1cVzOr7WloEm7Oy4egVbNDT6fPkSABQNGv2kc1GgATAcR5GgoSHRDuaiQEMZ+lVNyqBx8Q1uZfBN01Lxmgw0nJ/kYABfPZsJNAxH5tkXvvVCY73up8831bDkLE2BCwMS+Hxz6GAEPtOwePHiwn9ckzysXVRZ06dPlylTphSWv+73SSedVDkNwaDRjn8+41w0aCgDyBQFGj2WIkGjSid987o+axpq0Wg+AMdAo2pEPZ8SuYOcVbVmQ6wM8god3qwjwrgBCRlG3Qyg4TX4k753e9RQYxU0s2vMPc+4yQALT/Tf8fpDud6TNm/evKgjHddTkb/58+fLvffeW1gZ1O8lS5YUlr9qc+utt1ZOQdOCBksDEBhoKufKa4ZGLKTxMovGS9aqkUJBUzWzKhvzgKZKdumbUoY381Alb0mm/4VX8jfbQ5XpB/LRWv2MAP1GFkZGgaYEjWstGWj8KwaWDHcrIcFAE6JWetx2BA0jsfRbL/pQZd4PeaWrVvxa3GQcB8OV9aHL4ku1EtIUaDrQ7N+1K+oDoh/I/fm6z0IHA2A1tYPrDDdMSB+QVgYDjSqRf9puoPnWP1wVDUsu81sv+dUfnhJ3HkOVGVqNNWNh5BVoOtBov4lOzaKpXUlC+3/cHA00rhr55tsNNAPfuD31gcV86pSbCquL53cYoBDa2V/unnZWaQaaNrBocJlh0bg/32psoPFVKjteu4FGGKnXYgE3GS/l5Ml+C82nQG7QqMXhO837HI1v/hovj+tM03pPczxHE3rq8446Cy3HQBOq2PD4BprhmpS1BjcZw6zph8Fd1iqj4MrSp1nKMdDYmwGapS4Wsx85nqMJ3REDTahijYnPszunb7qx6mtjGlOS5VKvAgYaA029daip07+1ZIlsKfjhNB6uwzLUB9WKmlJGkQ/ysd9ohWbNHLBathzYGX1igJFxFppfAQONgab5a2kde/jeXXfJjunTC304ra+vT3p6egotg4fgKIOy9IG4IqZohWbNGHCR8YqbsU//XeQu4yFMC62hgIHGQNMaNTXvXprrLEy5lAc2wzIoJjaQYSQZr4/ho2QWWksBA42BprVqbOjeGmjCFGsy0PBOtfOeX5z7tTFhB2+xi1JgKGh0NJVNRXw0KOqsiIiNOmuQuAaaMCGbBDT6bjIeuuzbu74lXtgZJnRnxTbQ+AAlI87mm2+WjQsXyotXXinMr+vrk4fvvlseXL26bj/6woULhbesFuGHd/McM2ZMe9d4A03Y+W0C0PApZfW/ilQAAA5pSURBVPphePgy7UuXYQdksZtBgQg006ZNk4fPOksOjB4tg2PHSv8VV8ia2bNl07nnyvrp02V5b68sW7hQlnz1q7lH1syePVsmTJiQO73vSJ4yXuV90Wc+I8suuEBWzp0rD159tTw/ebK8esYZkVYbeUV/V5f86uMfF+bRctvEibL585+P4qPl/7n5Zln6la9U1QK9yn6VdzNUyIbvg4EmTNIRBs2CXQ9ED10OHNwdtt8Wu6kViEAzZ86cyFUjb78tsnUr7z0X2bRJZMECkVmz+Mi0yPLlUQMqo0fH8+vXi9xwg8jSpSI7dsRpSEseKQFXEOUUHcp4ALGiV7WD2b9f5NAhkW3bRFasELnjDvxhsXZjx4ocd1w8z7ZLLhG5/vpYRz6OtmWLvPjgg/K1O++sVkJDtpWhV0N2NG8mBpow5UYANFgtN716n8x6eXlkwdhosrBT1gqxh4LGZ4+1AQVGXMTLlsWNaV+fyMSJIqecEjegAOjss0VmzhQZGJCdS5fKt1jeuFGEPAoKZTScXqDxPb49e0Q2bBBZuTIGDdOpU+W///AP5f9dfnkM+/HjRS68MNJRADxwIg06HjjgW1JqvDL0Si24rJUGmjClSwYNkOEjZLzA09xkYaeqlWKHg8b36GgAuYNfu1Zk794INAOnny5y3nkxbLCUTjxRhHXAZ9Wq+ANVNLR794rQAAOzo0d9S4zildFwNhQ0GUdXGQwATLAY0Qhd1q2LLUnAgwWJldjVJdLdHccBQrfcEt8AkHbnzqo6lqFXxiGWszoQNHk+iZ3nzQB8MyjkA3WIFfI9Gj6Ap+++c7/oWVP0kkDDR9N4LxnTVvv8QE0NLcIwBYoDTaKoVNcZriWAQoMIlKjkuJBwH2ERqYuJu/hFi2IXE+46Gt5jLqao8T1ypFJaGQ1nqaCpHFmNGaCMDgAJNyduT7TlA3LoCIzQGAjNmBHDanBQrvqDP4jXAzFHxxqltc7mANDwLR/9nk8ICEJBAwCATJGgIW/9bARv99bjqnniSgDNysEnZfR3rrFXx9Q8Ge0TYWRBE6IjcFG3EY0qLrupU+NGlDt7LKWxY2Xb8cfHIKKBocHt74/7Sup0Mbm72pSgcXew2jx9RlhFWD6Dg/Ivo0YN1RFLacKEGOrAB4sULYEUNwb8WikEgCZ5559czjrsUNCQT+gnt0nja9Ek804uZx1HtL4g0NDvAmAueeGfogcuzU1W9Sy03cbWAU0t6bkbHxyUmfQR0RjiiuNu/rLLYvBwF89dPXf3gIltuJ24sAAXIOPnAaSWBk1Cx2EWIIM5gBFQP3w4hjVWJiBHJ/rhcHnSb4QliuXEjz464qMh8Zol1AEarAIa6Vqh2UCDJYMV4wZfaEbXA5o1MACZSd+7XaZ+f5HsfP+tBuZsWbWKAu0DmmOKD2s4k2eCRhAocYeu/UKAiT4jGk/u8GksaVixmIAR8KHv6Nid/RevvjoepZfMu4HLlT6aBuaZllVNvdIS0W+GjkyxGLEuccmhEyPo6C8C6sRhMAiwZzs6M4gBt6emT8u/kesMNJGaIwEaXhUzZ/s3ZcP+bQaYRtbpFswrGDTc4eXpZEzto6khGH7l5J1ZjSTRW3RrxXG3c/eXehHiNmKINw0Vd+r0GQGjqVOl94or5Nc86MhQb9xM3NnTh0QcjQ+sjg31Vr2Y+oZQ0HD3reWob96nrFyg8clY4wAVYITFQwA8kybFliW6AneWsTgJxMNdx40AoV5XXR2gSa0X8V4N+W82iybpKksuD9n55EKDXGfAhaf6b9m52kaTJTXuwOVg0LgNv9t5Wku7ENAozGg83fJqlcH2kIaThoQyfBsULb/iOgMwAAULiQYN2GABcafPUG7ceF1d8ujq1dGd/u7PflY2n3FGnA39JHpnrxk70xDQ0HGtOmWC08nbnQ3Ry03XsHksG1yZ6EGgoUNDrEkCFiY/gE5gG88k0cdEwM3HecgKAaBBQ+00dzXNylrXNxto2C/qtN5wcFwcj1eoEzQ8aMmLLw/85n3hPWUWTAEUCAaNKxuVVy9Md33afAhoND0Xijaguq7WNE/DmRs0tXbm2AUfReMOvb9fln3iE3Eq3El6Z88aHep9rIEdnD1bNlx8cexqYnuVvqNkX0JyOS4w/T+PXuk5Fbj2WP9bBHDAgeVIHxvWDgDCsgRGWEjoh+VJHJZvvjmGl+fuqVUYYn02I2i4dvRYqA/eoQ7QXL/jbul+6jpZ/+4L3sVZxM5QoC7Q0EBjffiETgRNmssiE2o0mgxHBkhHjwqgefkv/zLu80BgGlJG1OFqouGlL4Sh3osXxxYZ6XD3HT4cwVnvZmudm5YATa2D0O3a94brjT414IyGNJ4FhjygybM7vqPO8uRdSRMIGjr6l/3wUVn7k2cFa4bX+VswBZIK5AYNd0u+jRmFGmhi6TNBkzgzqa4zGlL6fZjqUO/ly2UiI+m4k+fh154eufPqq+WDP/3T+G0CjAgDYjrUGzeVE9oKNM5xVWYDXGeVNIEznQoaRpD1PDMv+k7M3g/eDVTNoneSAsGgUZM8VKROBA0aJcGSXM7SMRU0GZGTrrKLzj9f3mZ0Fz/6PgCNDvWmMx7Lh4EJ3d3y1Mc/Ht/5MyqMjnjiAzL6nqq46zJ2pflWG2jCzomHRcOT/Lwyhn6YdT99Pix/i92RCgSDxrehTKrZqaABAtoRGzp4gjdW+wTy1b4sbgS8ffKDg3LRpz4V92UAGawf+jZw4elQb/pAABMWEx3xuKTofAditTrifXa+6DgGmjCFa4BmxZtPRE/1L97TL0d+92FY3ha7YxUIBo12MOrUt1HrVNDoCDr0CoF0iEVD7SVvPSe+/Wak83KdYRHRB0SjTf8HIKKPCAhhIbGNDnnghGXESDJtsIARFhId8yMRDDRhqut5S6Ta+N52WfPWZtlyYKcM/uq9xFZbNAWqKxAMmurZZW/NA5rs3LK3eDWc2cm9tlSGN3vFzhcpFDT5SvEEjU/mOtQblxsWkA71xkri/Ws8xMmABt4yQD+RPsQJCEirQ70DX6Jac9cMNDUlGhIhARoeurzwB0uivhggY8EUyKOAgSaHagaaHKJpEvp9AIs+xMmgBkDEc0cMasA9Rz+RPsTJ2xuAFy474mJNhQQDTYhaFUuU0WOLdj8cvZeMd5TZN2LCZLTYQxUw0AzVw2vJQOMlU/5I7lBvLB1AgyWEu47X3QAfPhwHmBhNh+tOH+IkPiADSLjr7r1XpLc3dufh0ivg9/bAgMwEjAXk7eZJGZTlrmv4fG+vbFizNHoehgcvsWgsmAL1KmCgyaGggSaHaI1OQr8PLjoad7V4cNdhDWEtMdSb544+//loyPcvJk+U/ZM+K7+d8rl4YAODGxr0+83kybIX12CD8svKhzIoK2u71/opU0T+6q9ii/HMM0UYBv/Hfxz3r/X0iJx0kmxafpts+vkrjT5jll8HK2CgyXHyDTQ5RLMkpoAp0LEKGGhynHoDTQ7RLIkpYAp0rAIGmhyn3kCTQzRLYgqYAh2rgIEmx6k30OQQzZKYAqZAxyoQgYaHLidOnBh9KpYX9xXxI//TTjutkLzd/T355JMLL4PjKEOvnp6ewo/l1FNP7djKbwduCpgC5SgQgaacoqwUU8AUMAVMgU5UwEDTiWfdjtkUMAVMgRIVMNCUKLYVZQqYAqZAJypgoOnEs27HbAqYAqZAiQoYaEoU24oyBUwBU6ATFTDQdOJZt2M2BUwBU6BEBQw0JYptRZkCpoAp0IkKGGg68azbMZsCpoApUKICBpoSxbaiTAFTwBToRAUMNJ141u2YTQFTwBQoUQEDTYliW1GmgClgCnSiAgaaTjzrdsymgClgCpSoQMeCpqurS3iZaEjo7+8X0jG1YAqEKkB9o/6EhLvuuitKM8AnnC10tAKNan9uvPHGqE7t27evND3Dan1pu1V/QXpSuLD5Ia4bWOeCBtE1bnKq6TRPA40qYlNVQCGSrDtuHdM4mobpuHHjhtRDdxvzBpqkIp2zzM1Fsj6lLbs3IdpGJeO59dBA06A6pGIrEBQiLmw4Ea74aUVrw6AXu548zTctja0zBVAgrc5pfXIVMtC4ath8lgJan7QNYtk3aFun9S9PHr5lZcVrS4uGi5efG5Tiuk7F1+XkidSTwVRDEmC63qamQFIBrSvcpGjQC12XmaaBxq17Ou/etbrpbb79FdC2S2+Uk8uuAlrvtN7olLqnQdOHwErT5p1+1IrmzaEJ09UDGrdh0EMzi0aVsGmaAlkXNxe5ezH7gsYtQ+uegcZVpf3nXbeZCwn3yBUYbj3TuphWX7T+KXzcuunmW8R8W4JGL05EJ6i1oncErENs9wRqnDTQqPB6EjVfXW9TU8BVQOsf9Y2bHr2wderGTbNo3O2aV1rD4cazeVMABbSNqlZfFFAGmgbUGRVcL24XMmSfBRqN704VLJqnLjdgNy2LNlPAvRNNHpreUbrr00CkdY+8DDSuWp0zrzDQulBrqu2btlFp8RUsmrcul6FqW1o0ZQhnZZgCSQXUKuYiT7uI00CTzMOWTYEsBRQirXij29ag4cLmjjEt0Bi4rjONoycz7Y5A17Xiidbjs2kxClSzZLTELNC4abWOJafEsdB5ClSzeKkjWe2bWi3JeuQup90MFaWwgSZAWW0QDDQBonVAVL05UfdF1iFngSYrPus1bwNNNZU6cxuQyQJNNUXUHWugqaZSwDa9sF2Ku/NpFk217A001dSxbbUU0PqYjKf1yq2byXkDTVK1zljOa9FUU8dAU02dHNu4sLOIz4VsoMkhqiXJrUAt0NAAWDAFXAXyWi1uHsl5A01SkTqX9cJO3h3qsoGmToEteZACWh+TiXwsmlpuuWSettweCtSyaGjLQl1gBpr2qBt2FKaAKWAKmAKOAm09GMA5Tps1BUwBU8AUGCEF/j8spLFXAvlMKgAAAABJRU5ErkJggg==)"
      ]
    },
    {
      "cell_type": "markdown",
      "metadata": {
        "id": "WH_jtpDU_7Qr"
      },
      "source": [
        "__[아홉번째 스텝까지 마쳤을 때의 결과]__"
      ]
    },
    {
      "cell_type": "markdown",
      "metadata": {
        "id": "QtO2i8_vAGoD"
      },
      "source": [
        "![image.png](data:image/png;base64,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)"
      ]
    },
    {
      "cell_type": "markdown",
      "metadata": {
        "id": "2u26kEigARGQ"
      },
      "source": [
        "---"
      ]
    },
    {
      "cell_type": "markdown",
      "metadata": {
        "id": "HRypHkiGARjm"
      },
      "source": [
        "아래의 그림들은  3 × 3 크기의 커널로  5 × 5 이미지 행렬에 합성곱 연산(스트라이드 = 2)을 수행하는 과정을 시각화하였음\n",
        " * 특성맵 사이즈 = 2 × 2"
      ]
    },
    {
      "cell_type": "markdown",
      "metadata": {
        "id": "B0BZG9kxAavj"
      },
      "source": [
        "![image.png](data:image/png;base64,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)"
      ]
    },
    {
      "cell_type": "markdown",
      "metadata": {
        "id": "5SaCD1wPAc_Y"
      },
      "source": [
        "## 1.3 Padding"
      ]
    },
    {
      "cell_type": "markdown",
      "metadata": {
        "id": "JPEETywGBNF_"
      },
      "source": [
        "합성곱 연산의 결과로 얻은 특성 맵은 입력보다 크기가 작아진다는 특징이 있어 만약 합성곱 층을 여러개 쌓았다면 최종적으로 얻은 특성 맵은 초기 입력보다 매우 작아진 상태가 되버림.\n",
        "\n",
        "이에 합성곱 연산 이후에도 특성 맵의 크기가 입력의 크기와 동일하게 유지되도록 하려면 __패딩(padding)__을 사용함"
      ]
    },
    {
      "cell_type": "markdown",
      "metadata": {
        "id": "3HiKQzaJBcSG"
      },
      "source": [
        "![image.png](data:image/png;base64,iVBORw0KGgoAAAANSUhEUgAAAVcAAACvCAYAAABJh53YAAAgAElEQVR4Ae2d0asuV3nGcylNwGiTVvEQU5OWU0KoNDUcw5EEU5pYL45HEk6aUhMIrZwqHBWqabwIwQuR0B4vpAhFchGoetE7ob0o9cLSgBdSWwIGFKU3vSr0P/jK822evddes2bmeWevd3/z7e8Z+Fgza2beteZZ7/rNO2vmm7lj48kKWAErYAW6K3BHd4s2aAV2oMDt27c3t27d2rz66qvdf5/97Gc3L7zwQne7qOtXvvKVzY0bN1Jsw/5TTz2VZvvatWtptqH3vrbnyy+/vO0BhusOQOAi+yuw7Yhff2Xz/R+82f33l1/4882zz1/vbhd1/dZ3/nbzxJMfS7EN+/f+xj1pth96+HKabej96p625/Xr1w3X/l3cFnelAKI0wOS//++d7r+/+buvb7748ue720Vd//0//3Xz7POfTrEN+5fu+0Ca7Y9efTTNNvTe1/Z88cUXDdddgcDl9lfAcG2fVAzXoS7ZJ0vDtX//tsUdKmC4DiHiyLWtieG6w47qovdPAcO1DRJHrkNdDNf969+u8Q4VMFyHEHHk2tbEcN1hR3XR+6eA4doGiSPXoS6G6/71b9d4hwpE4PrB37pvc8cdd2x///Yf/zJ7xzvSGR9/8uqx7X/853+YtR15WuCvX/urY9uYR2Q691PhirpSExzDnF2sV58WgMa0De0V25GnBdbWnr6htUMQuOj+CqhwBZQIJjxjqoBEhSvs/dlLf7KFB2ClgESFKwBV2gOslBODClfYpj1ogmOZg6AKV9jjiQb6UP8p+ypc19iehmv//m2LO1RAhWsJKHTuernV4VW4AiIEFOzUyy3bKlwBkRJ49XLLNvIUuAJ8PClgn3p5zLYCV+gBHWijXmZ+napwrduvXq7tYjm7PQ3XHYLARfdXYClcFQCqnbHu2AAWI7ZWJ0eeCtfaFkCrRIAKXGtbKgAVuLZAXevU0mYpXNfQnoZr//5tiztUwHBtj78arkNdsk+WhusOQeCi+yuwFK5KFKV2xjpqqpdbEZoaudbDAPVyyzbyFLjW0WW9PGZbiVzrKLheHrO9NHJdQ3sarv37ty3uUAEVruUNFVwOl2ONYx1dhSuAR3sAFOA6ZpP5KlxhrwQHbmjRxlSqwBX7lzfIUG+UN2UX6xS4YjvUm/agTzl2PFaGCtc1tqfhukMQuOj+CqhwRWfmY0EqoFS4EiS0jyhtDB7MV+GK7QES2lYAhX1UuMIebfMEwTqOpSpcAVbaVk44KE+FK7albaRjdS3zs9vTcO3fv21xhwpE4Fp2NGU+0hkVe+U2EbiW+6nzKlxVe+V2KlzLfdT5CFxVm9wuuz0N1x2CwEX3V8BwHd64AUwM16Euhmv//meLF1gBw3UIEcO1rYnheoFB4EPrr4Dh2gaJI9ehLoZr//5nixdYAcN1CBFHrm1NDNcLDAIfWn8F8BFBfOsKHaf377nPPLP5o08+2d0u6vnVr31585Erj6TYhv33/Pp70mw/+NsfSrMNvW9+4S9S7Ge35yc+8Ymtg/sDhf37uS3uQIFsuOJLp2+88Ub33+uvv765evVqd7us6z333JNm+/Lly2m2oTe+jMvj6Jm+9NJLqSdLw3UHAHCReQpkDwvAfsb0y1/+csNHdzLs33///RlmtzafeOKJNNvQ+4c//GGKfYAaj3rx0ayeKR6tY3s6ck1pPhs9bwUM17bihutQF8N1qIlzrMCoAoZrWxrDdaiL4TrUxDlWYFQBw7UtjeE61MVwHWriHCswqoDh2pbGcB3qYrgONXGOFRhVwHBtS2O4DnUxXIeaOMcKjCoQgStegcc3KSlvrsLzorCvTjdv3tx84xvfkDaPPC0Au6z3d7/7Xcm+ClfYo22Uo0zRpwV+9KMfbctQbENv5WkB2mTdFd0jcMVbvGibr02cerrATwsorett9koBFa545yp+6CB4zZ7yCjwVruzoTz31VHe4wnYJVHR4ZVLhWkLpgQce2PziF7+YNR+FK08Os4Y3m+3JTIWrejJguSpc4R98/SLAWr5PdwywhitVdnphFFDhWneQernVaVS4UkxAsIQV81tpJHIt9wcAlUmFa2lLtR2BK/QAsNWTghq5RrTmMapwxYm3vLKpl1u+MoDr9773vc0LL7ywPVvgoHr/bt26lW7/xo0b3etNHfBPkUz7KAf/SGF5GemnPvUp+taFTKHZ93/w5uyD4TVMlQ6zNrgCKGq0psIVNnn5qzqICldE3TzZZMCV9VZtq3CtfQVR7NzQwACuOPCsv/fhQACnbPuZfyHM/osiNMr8KyHs33vvvWqf2cvtDgWu6KsYdlAnFa6lPUAKQJybFLgiWi3rqwIQ7akMC5R1hDbKSedc4YrCcDBZE0TKts+/nGUcw9JLt0hdFEeN2Ku3XdLJahtrXl4K1zo6aV3qrSVyjYzlsq2WtDsghUh2blJ8luOsZXSpAHYJXGuQj9VfhWt9VVMvt3xlELkarmPNcJRvuE7rs4a1KlxxaVfe0OINi1ZHYd4a4LpkbBHtosAVUCphijHXXpFr7RsKWLGPClecCDj1jlyXfnCSgd72lqPhyuZpp4ZrW5c15apwBTDLKIoAnUrXAFeAo6w35hUAKnBFOyIqpv0StFNtrESu9f4oQ5lUuEID1lu9EadGrvAJXNnQfnlza8xfHLkqrVtsY7gWYqx0NgLXsY4xlh+Fa0SibN9S4RqpM7ddAlfuO5eqcJ2z01ofgeuYT4zlG64txSfysjsAis50VNjP7GQT0p3bKsO1LXVmu2f6rOHabs9Brm9oDSQZZGQ6KgrL7GSDg9lBhuHaFj2z3TN91nBtt+cg13AdSDLIyHRUFJbZyQYHs4MMw7Utema7Z/rswcI18k8LNHkEruUAdfl8XNt1jnJhn3foprbDuiX2lwwLUCOkyqQ6Km42cIAdqXrzIbOTKceXvY3h2lY4s91Vn23XbDr3IOEK4OGunHpnDhJG4Fo+BIx5BR4RuJaPbuBYlDuuS+CKukOjDLiWxzDtoidrMzvZSSm7m8O/AF/9+ivbf2nhn1o9f/jwIf7BCD/r/YN/P/30093tsp7ve9/70mx/+MMfTrMNvW/fvp1iH39qevb56119hP72re/c3ly/fn3bERY/ipUF17J7AiK94VraV48hClfUGdDOgKuqSXmcmL/ocEVnRIfBt5F6//Al0scffzzl78k4KQBSiNQyfnfffXeKXdQVPpVRZ9iE3ll/yce/Ra9cfbS7n8DvXrr5mc3HP/7xbfdbNVxx2atMkci1HBZQo8oIXGGT0XcWXDksoJ4cDgGu6JDKuwXGHqGZyvejWO1e6GGBdwbvsujyKFakYwN+cH51AqAAEBV+EbiWdcAxKJFxBK6lLphXj2GJowLi6hDBRY9cDdfSs0/mM9t9ic+e1Gx6Du2Jfp0xrf451xIicwJE4ArYRWyj7KVwRVkKnFS4whajyjJVALvEURGFM0qea4PMTjZX9nmsN1zbKme2+xKfbddymGu4DjVp5kTgGgUrCozAtYQpbmj1jlxLATIi17L+jlxP1DZcT7Qo5wzXUo2j+YOMXDkcUEZ9SmQWgSvs0X4JqmETnOSokevJHkdzGXDFyYD1Vx9VQ20yO1l93LtYNlzbqme2uyPXpDHXdlO2cyORa9vCdG4ErtOW2muXwrVtrZ2b6agoMbOTtY/ofHMN17beme2e6bMHPSzQbsp2ruHa1qXMzXRUlJPZycrj2NV8BK7RNx1FnhbA1QqvLJSx9uiJG1cuGVcs5VM0qv2oz0IXRRP4UASu1BupMkWGBfAOV9qf+woBnjjp8rSAchDcxnClEuNp1FHHLbXXGK5Hl3CZHyjEMBPhAVgpkIrAFZ0cNhW79AK13cshLNhX7kWoPsuhONilPqzfWKrCtRw2RJ3L5THbKly7fKAQheFgsibDdV5Z1VHnLbW3UDtZe+/156qRa/3lgXq59bxrJHKlUoCIAsEIXGFbtct6KO1eP3VSL9NWnUZ9NgOuZZ3Ueqtwrb88UC+3fMWRa9kiwny0AwgmB5tEHXVgYCZD6WQzJla9eilclQ6zBK6IoJToL+pbGXBFPcubu2oZUZ/NhivsA7BzkwrX+sS76AOFjlynmyPaAaattddGHbVtZTzXcD0aFqg7TAZc0clLWI23ymYT9S0VfCxTafeLAFcMaygnM+hyrnCFI2R/nTXbvr/++sbWaeA4rZ+//tqGaw3b1qVeJHLFuKgSPRF+a4BrfTldL7OudRoNCDIiV5xsoDlSdVLhWp946+WWrwyGBV577bW0F1Pgcg0vYMh68QXtZ778IvvlGjgGRBhIs37vfe97Vd/by+2gm/JugcwPFGIoIAJWCL0GuKIeJaDUy+s1wDUCbDq2Cld/oDD4Dy0KHEmjHSBim9tGHZX7qalyeajaWuN2KlwRbQAk/LWijzpPjVzR0WmX6ZxWUd/KGBZAHXFJzTord9yxT9RnIyBEe+JG+NxUPvqG+mN5blLhCj/AlQ118QcK55RdsD7aARYUEXbUaBmG6/DfNDVEx5ZVuEbbBNtn+1Zmu0fhGtFHhWvEJreNwHXMJ8byB8MCKAwHkzX5Uax5ZTMdFaVndrL5o8vfIhK5jnWMsXzDtd1+mT5ruLY1H+QargNJBhmZjorCDFdHrgOnO2NGps8armLjGK7zQmU6Kko3XA3XeS+MbZHps4ar2BaG67xQmY6K0g1Xw3XeC2NbZPqs4Sq2heE6L1Smo6L0iw5XfHQO/wXHDYXev69+7csbPI6Hm0+9f3h065lnnulul/W8dOlSmu0rV66k2YbeeIKBx9Ezff3117ffuurtJ7CHl7s899xz2w4f/obWkkc2lsAVjz+oDwbDvvppbT50rD62AZXQsKp9YhSPhESeeVThuqT+hwDXGzdubJ548mObZ5//dPffR648sv2IIHyg9w9gffDBB7vbZT3vuuuuNNv4sizL6Z3iuXV8Fbe3XdjDH44eevh3u/sJfO+Prz29eeyxx5bBtXwGTn3YOAJX2Af4Is/EReBa1hllKX9TjMAV9lj/DLiW+qMspf6HAFdcRip/Ihh7ImAq308LMGQ4naoBwem9tKWDHxZAR1cAEoErpc+Aa/0Adr3Msus0Alfuq2rD7Zc4Kq4iDNcjBQ1XetLpNHM4aInPnq7d+NJBwxVgUv4NAfnWAlecCMrID3VTjmGtcEXd0Q7KlNnJlPKztzFc2wpntrvhOrxJinFXDD1gCo+5YidACpe+6mS4zisVdVTor1w1sOTMTsYydpkarm31M9s96rPtGrZzDzJyxWUoLtkj01rgWg8D1Mtjx7SmyDV6YuMxZXYylrHL1HBtq5/Z7oZrx8hVhVHdzGuBK+pV3sXHEAHGLeemNcFVGcZoHU9mJ2uVd955hmtb8cx2N1w7wpVREy5J+VNuqKwJruUxqBH4muBK3Zmqx5DZydrd+nxzI3CNvuko8rQATn5sG2U8POJb6Gu0rfQ7tECk3VFf2FenKFxhW9EE5UeGBaKaR17cgne4UnN/oFD1jMB2kQ4QMHtq06ijntpZWIh0MsHc6jZR4Zr5gUJcBREemK9vnrZEU30LdsurFhVUarvjJA37ZRmt+pZ5qs9CB9QXZVCf0k5rXoUrTjI80UBzJdhQ4eoPFPp9ri3fHOSpnWyw455kqHCtvzxQL7eed41ErpQLHb7nkFNtr15muXUabfcMuLJOGXCt61svs+wyVeFaf3mgXm75ypmfFigrqswvGRZQ7HIb2OfjD8zrmarRxVnKVKOApWVEO9nScna131K4Kh0mAld0bkRpjKbm9FB9C9Ff+XQIwK2UEW13BU48pqjPngdclTJUuNYnXn+gkC3fMVU7wFmKjDpqtKxoJ4va3/X2a4ErdQD4lEtU1bcMVyp7Oq1PBobraX3OvOTIdV5Cw/Xozm4djdTLrUu9SORatkTd8ct1nFfhWg8D1Mu0V6fRdlfqzDKiAYECPtpWx1zr+tbLtFemauRaX9XUyy1f8bBAqbQwr3YAwdToJlFHHTU0siLayUbMrDZbjVwzP1BYXqarN1dU38KQQAkODD0oU7TdyzLm7Ed9NgOuiOipOzTH8tykwrXLBwq/+c1vbr/Qiggw43f79u10+3iDTkbdYRONlmkfZeAtQFn1h933v//9cz631+tVuCLaAJj4a0UfdZ4auZaP+amQUuGKxgE4WG/4pDJddLhCA2qCVJlUuMIPcGVD+4s+UPjKK6+kvVINN5oAJsAD8xk/2M98bVv2a+GgSebr22D/3e9+t+J3e7tNBK41POeWVbguES8C1yX2o3CNlBGNXCO21WGBiE1uG4HrnG/U6z0sQJXFNLsDoBqZjgr7mZ1MlHHzT//1v+qm4e0M17Zkme2e6bOGa7s9B7m4LIVYWRPsIzrLmgzXPsr+6d+/nQZYw7XdRobrUBdHrkNNRnMM11FpjldkdrLjQmZmANcswBqubfEz292Ra8d3C7Sbbz7Xkeu8RpmOitIzO9n80R1tQbhmANZwbbdCZrtn+izaE9zImBy5BlR15DovVmYnmy/9aIsSrr0Ba7i2WyGz3Q1XR65trwvkesw1INbEpjVcewL22rVrm4cevrz56NVHu/8e+J0PbSN/wKT3D19QxZMive3S3rve9a4023fffXeabZwU8IQRj6Nnevny5c2l+z7Q3U/ge7//B7+3eeSRR7a9YPtgGMJknPmzJg8LzCsL58mcekQwLTj2yOvxFIEj17b39Gj3tuXcJ1wOclgADy/zoVrl3xBomAhc8Uoy2lcfxF4yLIAy1NefLYlcUffyRRtjDsr8CFypD1J16tHJeoB0zMZZAWu4tj2hR7u3LRuu9TOuWD7Tc678qxkEB0AUQEXgir/IEUrlX9vGGhj5EbjyXy6Rv+JF4Ap9AL3yOKbqznUqXFF//jsHZaknuB6dbAyMvfLPAljDlZ50Ou3R7qctniypPnuyhz53kJFrKU8ksoRYcxNADShxqpeZX6cRuHLfLLjSPqDHkwTzplLVUWvN6+WxMnp0sl4QnbKzFLCGa7vle7R727Ij1+6RazksMCZ6na9GroBRHYkp8DgUuLZONoo+aI8enWwKij3XLQGs4Vr3uqPlHu3etmy4dodrKTQuf5XozHAtVWvPK5HrocAVoI4C1nBt+5XhOtRlL55zxZgfx/+Gh3CSo8K1hke9fGLx9NyhRK446jpSrZdPK3Oy1KOT9YxO52y9+db/nFRemIvANfqmo+iLW3D1Vd6bmKp+ZDyfdmC/vsLjujqNtDv6W+QmqRIQlPWBbZShTGhP9Gtlgl3+lO0jcMU7XGk79QOFEKaEKTp2z8gVwpQ24UBleWPCHRJcMVZMTdCB1U4c6WRjOs8Bsdf6KFhRXxWumR8oRF9AR0Qbqe0ShSvKgP3ecIVN9D31ZA3NVbiirtSlN1xLHdAvyuUxP1bheu4fKEQjkOTs5GMHwXw1csX2dFA2Bm1MpYcEV0YX0CfSEfYFrkvACt9Q4Vp/eaBebo2jRSNX9IssuAIeKkSgS7TdIz6lwpV9F+zoDVfaRgp29IRr/eWBernlK2d6FKs8GHU+AlfVZrndEriW+8/NR6OLOXut9VFHbdmYyot2spatXpHpmJ2lYEVdl8JV6TBrgSvAwatHBSLQJdru+wxXwBuAnZvUyLU+8foDhXPKLlhvuB6JNgbFHvlnAStqd9HhikiYV4qOXIedGCcF6jNcezrHcD2tx+SSI9dJebYroxFMy2IPiLZsnBWsqOtSuNbRSetSbw2RK4fiylSJXqPtvm+RK4fJ1OEG+IoK1/qqpl5u+YqHBVrkmMhz5DohTmBVFlhRBRWumR8opBSIoLLGXFGGI1cqvdne3IuAFXuqcO3ygUIUBufMmjzmOq/sPoy5zh/F9BY1XHtErCxRhSuijTL6a0Ufdd4aIlceJ1LD9UQNRNpleyqRtwpX+AGubGh/0QcKDdeTxmrNOXJtqRLPK+HaE6yoSQSuNTznlqNwjSiT7VvRYYFI3TMDArQngrKMKQLXOd+o1w+GBb797W9vbt26tUFDZ/xwps22jy+0ZtQdNnEHMtM+ysB7PbPqD7uXLl3K8NOQTcK1N1hRCcO13RSG61CXc4Xrl770pbSXAePshpfeopExn/GD/cwXDme/0BiaZL54GPbvvPPOoZedcw7gmgFWHIbh2m5Mw3Woy7nC1cMCwwYocxD5ZX5dFmUBgJlTZidT650FVpRvuLZbIbPdM332wgwLGK5tx2Su4Uol1psaru22MVyHujhyHWoymuPnXEelOV6R2cmOC9nhjOHaFj+z3R25+gOFba8L5DpyDYi1o039gcL2/Qx/oHCoiz9QGOikjlznxcqMYOZLz9/CkWtb48x2d+TqyLXtdYFcR64BsXa0qeHaFt5wHeriMdehJqM5jlxHpTlekdnJjgvZ4Yzh2hY/s90duSZErnxZQrs5h7mAH5w/MvG9rso+S+CKv7Sp/0leErnib3jK6894fKqjUnvUX/mrH+1ndjKWscvUcG2rn9nuqs+2azadi/ZEv86YVhu5Lnlj+RK44o0/AIgyReBKu5EX90bgihd2oN7quyV5fKqjlm9CQlnqC0IyOxmPYZep4dpWP7PdVZ9t12w69yDhSkkiUVMUrgAGIzSWN5VG4Eo7WXClfUAwI3KlfaSRty9ldrKyTruaN1zbyme2u+GaMCyAZsyCK4DEaCwjcqULXgS4og3UoY3MTkZNd5karm31M9vdcN0juAIUgB4nw5VKDFNoE4mMMzvZsHbnnxOBa/Q1cpG3YuGEh7bBTznxRYacoCquVso+Mqd0pN0jV4soV4Ur7UITNSiLDAtENY+MueIF2WzP1K+/lg2pioR91GEBjofyYJiW5bbmD2lYAECFLtEp0smittewvQrXzK+/cjgLeqCdFAhG4Ip2h03FLttEbXfYRJ+O9GsVrrDNQAB9nFemrGMrVeEKW7SnnnhUuJ77118pRKQRVLjSNlMVIocE14ju1BGp2snKffZpXoVr/VmXerl+PyeWI5ErNauvwphfpxG4Yl/VLsuJtnvEvxS41vWtl1nPOlXhWte3Xq7tYlmFa/1Zl3q55SuD97miMBxMZFIOgvYMVyoxniqOir0ZzTNVo5hoJxuv6TrXLIWr0mGWwBURGiKpuemiwxURK7QoJ4UdS+GK/gCAT00qXOsTr7/+OqXqwnXRDrCkGBWuS2xjH8P16OZD3WEy4IoOzkvVufaK+pYa+bHcaLsr4KNtxWcN1wWRKwVW0qWRq2Ib2ywZFlBtY7toB4jY5raKo3LbJWm0ky0pY5f7LI1ca9i2LvUikSuuKDi+qOgR9a19g2td33p5TKOlkatyclAj1/rEWy+3fKXLsMCYKK18w7Wlyuk8w/W0HtElFa6ZX3/F5W8ErDjGiw5XHCOAR13U4RIVrrDHqwQMw9RDEC0/UuHqr786cm35zyDPkevJM4kcr0baij7qPDVyxXBAaRvzc9MhwBVgpS7qPQIVrtCXthW9sb0KV/gBrmxo319/nfPmBeujHWBBEfIzg0tsYx/D9QSuNTznllW4LmmbbN/KbPfMq60IXKO6R+A65xv1eg8LBFsjuwOgOpmOCvuZnSwoZ8rm6rBA3RmUZcO13WSZPmu4tjUf5HrMdSDJICPTUVGY4erIdeB0Z8zI9NkLA9fPfe5z2087owNm/PDZa3w6OsM2bML+XXfdlWb/0qVLqfZxDPgcR5Y+tH/GvrTq3R25tpsHbZ81Ga7DE7aHBYLe5mGBoGA72NxwbYtuuA518ZjrUJPRHD/nOirN8YrMTnZcyA5n/IHC4Yf4EFn6A4VDXfyBwkBHNVznxbrocM2OXL/48uelx7aUG2TlNriMfPb5T6fYRjmX7vtAmu2PXn00zTb0/v4P3kyxjxuUme354osvbjvk9kE8hMlwzqzJN7Tmlc0cv0LphutwfKyE3NR8dmc0XIdtY7jOM2O7heE6L5ThOq/R1BaOXIeAcuTa1iT7ZOnIdaqnVut8Q6sSZIWLhmsbJB4WGOpiuAY6sMdc58XysMCwk00NBZTrsjujhwWGbXOQwwJ4OQL/a6u8JAHdfsmwAMrAG3SUaQlcI/ajkSv1QapOkWGBJfYN12EHLgE6NW+4trXzDa2hLmd6zrUEKl7CwLfdTEEkAlfYBzxgOwOuS+xH4Ar7fEky3tZT6jWlkQrXpfYN12FHmAJquc5wbWtnuA51ORNcS0Cgo/eGK+1nwXWJ/Qhc6/dJ1sssv05VuNb26uXaLpcN15OOEH3TUQSueOcnryzUD9qpwwJ4BR5tY748AYzNq2OuqCtt4xjG7JX5KlzxNinaVt6fizIiwwJra88z39BCVKl27EjkShjsI1xbLwJWNVLgehb7husRXJd+oFB5LnLpB+0UuAJQJZgAK+UVeCpcYZv2AFccSwnS1rwKV9jjiaZ8n27LJvNUuK6xPc8EV76fkSCcSw3XOYW0t2IZruM6qk8LlIBCR66X2bnLVI1cARECCvvXy6VNzqt/IgBESuDVy7RXpwpcAT5Aj/vWy8yvUwWu0AM6cN96mfl1qsK1br96ubaL5ez2XAxXjCMiqoxMhwJXaFJHqvXymG5K5HoW+45cjyLXuvMpAFQ7Y21b/aCdErnWtgBaALYFjzJPgWttSwWgAtcWqGudyvpyfilc19Cei+DaipzGYFHmHxJcceIpb2jxExSlHq15Fa5L7RuuhivBVaeG68l4fKlNfRKoT3DltpxffEOLwwEcnEaqwOOQ4IoTEPVRo1bAVoXrUvuGaxuudQdiJylTNXKto6Z6ubTJeQ8LtMG2NHJdQ3suilxbEZeStwSuil1uA/s8IOb1TCNPCywtV4XrUvuG61EnRvTBy2lEbFgm6MZSFa6wS3u4HAZcx2wyX4Ur7JXgwAmcNqZSZVgA+8Mex4tRb5Q3ZRfrlGEBbId60x70ge5ztlW4rrE9ySK/uEWgleEqiLTjTdQbWujUvLJQAafFddkAAARxSURBVKXClSChfcJqCiQqXGEDIKFtBVDYR4Ur7NE2TxBT9cY6Fa4AK20rJxzYVuGKbWkb6VydsT67PQ3XAAwM14BYO9o0AlelA5bbRDpjuZ8yH4GrYq/eRoVrvZ+yrMJVsVVvE4Frve/ccnZ7Gq4BCBiuAbF2tKnh2h67NFyHuhiugU7qMdd5sTzmOuxkcxEO12d3RuVRLNYlmhquw3bPbk9HrvM8Ot7CkeuxFKudceQ6hAhAbLgOdTFcA93Ykeu8WI5ch51MjQKzO6Mj12HbXJgxV39ae/qT4v609jy8d73FjRs3Nk/84ce236MCrHr+PnLlkc1DD/9uV5us3yevPb25/0MfTLGNMu6889fSbN/7m/ek2Ybe+9qejz322LY76C8c3XXvcflWYEKBX/3qV5uf/exnGwzh9P69/fbbm5/+9Kfd7aKeP//5zzc/+clPUmzD/ltvvZVm+8c//nGabei9r+35zjvvbD3VcJ3osF5lBayAFViqgOG6VDnvZwWsgBWYUMBwnRDHq6yAFbACSxUwXJcq5/2sgBWwAhMKGK4T4niVFbACVmCpAobrUuW8nxWwAlZgQgHDdUIcr7ICVsAKLFXAcF2qnPezAlbACkwoYLhOiONVVsAKWIGlChiuS5XzflbACliBCQX2Hq78rhfTmzdvHh8u88o3lWOeX6/FhwSxjO3GpjEb5X6wR5tjdpxvBc5TAX5rDT6Ob7mV/jnm09xG6RetY8H+ke/GtWxcpLy9gSsarYYklktHwHILrtimNZX7ttbXeWPOg3w6Zr2Pl61ApgLwu6l+AR8fg+tZ+wU+Ttoqu8w75H6xN3Adc1CehZlmwhVO2jozG65jreP8XSmgRK5nheuujm1fyt0ruDIyJUiRlvNcT/G5rocT0RbKgOPSeXmWPuQzNPV2uhsFGJnSJ+Hv5TzXs3b05R79AjbHomeWd6jpXsEVToLIlM6BtJzPhCvKHgOpI9dD7T7rOG76XwnUcj4TrgRrrcRYfr3dRV7ea7jCgQhXgq81LMB1ZYp9ceZGHmyMTXRSbIcxJpZXlkPnHrPhfCuQqQD9j74KH+U8fR7bcKIPc12Zqv2CtsYgOpbP/Q4h3Uu4EopwBDoK0xJ6cw1IO9h3bKKTlNvQcemwSDk/Zsf5ViBLAfof+wBS+ih8vI5c5+qh9IvSBsovAc35cptDnD8YuNLx2PBMezQ6nbuHLduwAlEF6H/08QhcuQ/7A9NoHbz9UIG9gCvPwmz4MkWkimU6SSty5ZkYl/XlxH1hf26ifdiqJzp3ne9lK5CtQNkXynn69lTkepZ+QftlmWPziJwPcdoLuE41DKHHtAVXOkJth9CuoVtvh2Xab8G1tb3zrMAuFaBvT8G1R78ojxFBxqGCtNSB8wcB17OcoSmU4UolnO6DAgpce/SLUgvDtVRjszkIuOKQCcf60uW0HONLY/vTns/Y49p5zfkroMAVtRrz6yU1NlxPq7b3cD19OF6yAlbACqxDAcN1He3gWlgBK3DBFPh/YFHVd7KtGCkAAAAASUVORK5CYII=)"
      ]
    },
    {
      "cell_type": "markdown",
      "metadata": {
        "id": "Wf4-lnHbBg0X"
      },
      "source": [
        "* 주로 값을 0으로 채우는 제로 패딩(zero padding)을 사용\n",
        "* 위 그림의 경우 3 × 3 크기의 커널을 사용한다면 특성 맵의 크기가 입력 이미지의 크기와 동일하게 유지됨\n",
        " * 5 × 5 크기의 커널을 사용한다면 폭을 하나 더 추가해야 유지됨"
      ]
    },
    {
      "cell_type": "markdown",
      "metadata": {
        "id": "0nARX2JdB8BL"
      },
      "source": [
        "## 1.4 Weight and Bias"
      ]
    },
    {
      "cell_type": "markdown",
      "metadata": {
        "id": "kgMwi6QFEhB6"
      },
      "source": [
        "[다층 퍼셉트론] (비교)\n",
        "* 가중치 수 :  9 × 4 = 36"
      ]
    },
    {
      "cell_type": "markdown",
      "metadata": {
        "id": "lSb-pXTlEeOL"
      },
      "source": [
        "![image.png](data:image/png;base64,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)"
      ]
    },
    {
      "cell_type": "markdown",
      "metadata": {
        "id": "kIwBb5gUE0cG"
      },
      "source": [
        "[합성곱 신경망]\n",
        "* 가중치 수 : 4\n",
        "* 편향 : 편향은 하나의 값만 존재하며, 이미지에 커널을 적용한 결과의 모든 원소에 더해짐(브로드캐스팅)"
      ]
    },
    {
      "cell_type": "markdown",
      "metadata": {
        "id": "mREOkTVxFLwU"
      },
      "source": [
        "![image.png](data:image/png;base64,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)"
      ]
    },
    {
      "cell_type": "markdown",
      "metadata": {
        "id": "sZcBJbmwE632"
      },
      "source": [
        "---"
      ]
    },
    {
      "cell_type": "markdown",
      "metadata": {
        "id": "372_t8uNCUDj"
      },
      "source": [
        "* 동일한 이미지를 처리한다고 가정했을 때, 합성곱 신경망은 __다층 퍼셉트론보다 훨씬 적은 수의 가중치를 사용__하며 공간적 구조 정보를 보존한다는 특징이 있음\n",
        "* 합성곱 연산을 통해 얻은 특성 맵은 다층 퍼셉트론때와 마찬가지로 비선형성 추가를 위해서 활성화 함수를 지나게 됨\n",
        " * 활성화 함수는 ReLU 함수나 ReLU 함수의 변형들을 주로 사용\n",
        " * 합성곱 연산을 통해서 특성 맵을 얻고, 활성화 함수를 지나는 연산을 하는 합성곱 신경망의 은닉층을 합성곱 신경망에서는 __합성곱 층(convolution layer)__이라 함"
      ]
    },
    {
      "cell_type": "markdown",
      "metadata": {
        "id": "FoO1K6htGqjA"
      },
      "source": [
        "## 1.5 Feature map size"
      ]
    },
    {
      "cell_type": "markdown",
      "metadata": {
        "id": "fZBxJHzUHk-4"
      },
      "source": [
        "[특성 맵 크기 계산 식]"
      ]
    },
    {
      "cell_type": "markdown",
      "metadata": {
        "id": "CoPp7Mu2HWlr"
      },
      "source": [
        "$$O_{h} = floor(\\frac{I_{h} - K_{h} + 2P}{S}+1)$$\n",
        "$$O_{w} = floor(\\frac{I_{w} - K_{w} + 2P}{S}+1)$$"
      ]
    },
    {
      "cell_type": "markdown",
      "metadata": {
        "id": "nJPT4UWbHmyV"
      },
      "source": [
        "* $I_{h}$ : 입력의 높이\n",
        "* $I_{w}$ : 입력의 너비\n",
        "* $K_{h}$ : 커널의 높이\n",
        "* $K_{w}$ : 커널의 너비\n",
        "* $S$ : 스트라이드\n",
        "* $O_{h}$ : 특성 맵의 높이\n",
        "* $O_{w}$ : 특성 맵의 너비\n",
        "* $P$ : 패딩의 폭 (없으면 0)\n",
        "* $floor()$ : 소수점 발생 시 소수점 이하를 버림"
      ]
    },
    {
      "cell_type": "markdown",
      "metadata": {
        "id": "3IwglB6PI1M-"
      },
      "source": [
        "## 1.6 Convolution operation of three dimensional tensor"
      ]
    },
    {
      "cell_type": "markdown",
      "metadata": {
        "id": "yJ7cXxuDz57i"
      },
      "source": [
        "이미지의 채널(깊이)를 고려한 합성곱 연산\n",
        "* 커널의 채널 수가 입력 데이터의 채널 수와 같아야 하고 커널의 각 채널의 크기는 같아야 함\n",
        "* 합성곱 연산을 채널마다 수행하고, 그 결과를 모두 더하여 최종 특성 맵을 구함"
      ]
    },
    {
      "cell_type": "markdown",
      "metadata": {
        "id": "l6hPSrVIz0xl"
      },
      "source": [
        "![image.png](data:image/png;base64,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)"
      ]
    },
    {
      "cell_type": "markdown",
      "metadata": {
        "id": "2D_90yKj1GDX"
      },
      "source": [
        "* 위의 연산에서 사용되는 커널은 3개의 커널이 아니라 3개의 채널을 가진 1개의 커널임"
      ]
    },
    {
      "cell_type": "markdown",
      "metadata": {
        "id": "aV8bM12b1QAe"
      },
      "source": [
        "---\n",
        "\n",
        "3차원 텐서의 합성곱 연산을 시각화하면 아래와 같음"
      ]
    },
    {
      "cell_type": "markdown",
      "metadata": {
        "id": "550fYzvM4BO-"
      },
      "source": [
        "[커널 1개 사용]"
      ]
    },
    {
      "cell_type": "markdown",
      "metadata": {
        "id": "Q2TsxU4n3vOB"
      },
      "source": [
        "![image.png](data:image/png;base64,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)"
      ]
    },
    {
      "cell_type": "markdown",
      "metadata": {
        "id": "vgGgE_ZM4FSq"
      },
      "source": [
        "[커널 여러개 사용]"
      ]
    },
    {
      "cell_type": "markdown",
      "metadata": {
        "id": "N2Un9qTU4Ki2"
      },
      "source": [
        "![image.png](data:image/png;base64,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)"
      ]
    },
    {
      "cell_type": "markdown",
      "metadata": {
        "id": "XJhnPG8033h0"
      },
      "source": [
        "* $I_{h}$ : 입력의 높이\n",
        "* $I_{w}$ : 입력의 너비\n",
        "* $K_{h}$ : 커널의 높이\n",
        "* $K_{w}$ : 커널의 너비\n",
        "* $O_{h}$ : 특성 맵의 높이\n",
        "* $O_{w}$ : 특성 맵의 너비\n",
        "* $C_{i}$ : 입력 데이터의 채널(= 커널의 채널)\n",
        "* $C_{o}$ : 커널의 수\n"
      ]
    },
    {
      "cell_type": "markdown",
      "metadata": {
        "id": "fOMv7F0TJnEk"
      },
      "source": [
        "## 1.7 Pooling"
      ]
    },
    {
      "cell_type": "markdown",
      "metadata": {
        "id": "pXp0hggUJo4o"
      },
      "source": [
        "일반적으로 합성곱 층(합성곱 연산 + 활성화 함수) 다음에는 풀링 층을 추가\n",
        " * 풀링 층 : 특성 맵을 다운샘플링하여 특성 맵의 크기를 줄이는 풀링 연산 진행\n",
        " * 풀링 연산 : 일반적으로 최대 풀링(max pooling)과 평균 풀링(average pooling)이 사용됩\n",
        " * 학습해야 할 가중치가 없으며 연산 후에 채널 수가 변하지 않는다는 점에서 합성곱 연산과 다름"
      ]
    },
    {
      "cell_type": "markdown",
      "metadata": {
        "id": "ou8ECnDz4x7y"
      },
      "source": [
        "[최대 풀링 시각화]"
      ]
    },
    {
      "cell_type": "markdown",
      "metadata": {
        "id": "MbA-frl844vD"
      },
      "source": [
        "* 스트라이드가 2일 때, 2 x 2 크기 커널로 특성 맵을 맥스 풀링 연산한 결과"
      ]
    },
    {
      "cell_type": "markdown",
      "metadata": {
        "id": "RrhIt2bs40Ts"
      },
      "source": [
        "![image.png](data:image/png;base64,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)"
      ]
    },
    {
      "cell_type": "markdown",
      "metadata": {
        "id": "YZ9xYj2Mw23s"
      },
      "source": [
        "# 2) MNIST Data Classification by CNN"
      ]
    },
    {
      "cell_type": "markdown",
      "metadata": {
        "id": "hMnN_n7O_w0g"
      },
      "source": [
        "## 2.1 CNN 모델 이해"
      ]
    },
    {
      "cell_type": "markdown",
      "metadata": {
        "id": "hn3ivTnL_6dl"
      },
      "source": [
        "* 합성곱(nn.Conv2d) + 활성화 함수(nn.ReLU) + 맥스풀링(nn.MaxPoold2d)을 하나의 합성곱 층으로 보기로 가정\n",
        " * 합성곱(nn.Cov2d) + 활성화 함수(nn.ReLU)를 하나의 합성곱 층으로 보고, 맥스풀링(nn.MaxPoold2d)은 풀링 층으로 별도로 명명하기도 함"
      ]
    },
    {
      "cell_type": "markdown",
      "metadata": {
        "id": "FiBo8mUPAGgf"
      },
      "source": [
        "```python\n",
        "# model architecture\n",
        "\n",
        "# 1번 레이어 : 합성곱층(Convolutional layer)\n",
        "합성곱(in_channel = 1, out_channel = 32, kernel_size=3, stride=1, padding=1) + 활성화 함수 ReLU\n",
        "맥스풀링(kernel_size=2, stride=2))\n",
        "\n",
        "# 2번 레이어 : 합성곱층(Convolutional layer)\n",
        "합성곱(in_channel = 32, out_channel = 64, kernel_size=3, stride=1, padding=1) + 활성화 함수 ReLU\n",
        "맥스풀링(kernel_size=2, stride=2))\n",
        "\n",
        "# 3번 레이어 : 전결합층(Fully-Connected layer)\n",
        "특성맵을 펼친다. # batch_size × 7 × 7 × 64 → batch_size × 3136\n",
        "전결합층(뉴런 10개) + 활성화 함수 Softmax\n",
        "```"
      ]
    },
    {
      "cell_type": "markdown",
      "metadata": {
        "id": "5A4pj9E0AU0J"
      },
      "source": [
        "## 2.2 CNN 모델 구현"
      ]
    },
    {
      "cell_type": "code",
      "metadata": {
        "id": "MEkEd311w8Eh",
        "colab": {
          "base_uri": "https://localhost:8080/"
        },
        "outputId": "e35bcbd8-9a6c-4ce7-a341-d91e2460a3b7"
      },
      "source": [
        "import torch\n",
        "import torch.nn as nn\n",
        "\n",
        "# 임의의 텐서 선언\n",
        "# 배치 크기 x 채널 수 x 높이 x 너비\n",
        "inputs = torch.Tensor(1, 1, 28, 28)\n",
        "print('텐서의 크기 : {}'.format(inputs.shape))"
      ],
      "execution_count": 1,
      "outputs": [
        {
          "output_type": "stream",
          "text": [
            "텐서의 크기 : torch.Size([1, 1, 28, 28])\n"
          ],
          "name": "stdout"
        }
      ]
    },
    {
      "cell_type": "markdown",
      "metadata": {
        "id": "fznY_dkkAr7h"
      },
      "source": [
        "### 2.2.1 합성곱층과 풀링층 선언"
      ]
    },
    {
      "cell_type": "markdown",
      "metadata": {
        "id": "T40fAzUsAODl"
      },
      "source": [
        "* __nn.Conv2d()__에서 stride와 padding 매개변수의 기본값은 각각 __stride = 1, padding = 0__\n",
        "* __nn.MaxPool2d__에서 stride와 padding 매개변수의 기본값은 각각 __stride = kernel_size, padding = 0__"
      ]
    },
    {
      "cell_type": "code",
      "metadata": {
        "colab": {
          "base_uri": "https://localhost:8080/"
        },
        "id": "uVKRZegnBDZJ",
        "outputId": "d6ed151f-bf9d-4ded-e063-b54b5c3fd3e0"
      },
      "source": [
        "# Layer 1 : Convolutional Layer\n",
        "conv1 = nn.Conv2d(1, 32, 3, padding=1) \n",
        "print(conv1)\n",
        "\n",
        "# Layer 2 : Convolutional Layer\n",
        "conv2 = nn.Conv2d(32, 64, 3, padding=1)\n",
        "print(conv2)\n",
        "\n",
        "# Max Pooling Layer\n",
        "pool = nn.MaxPool2d(2)\n",
        "print(pool)"
      ],
      "execution_count": null,
      "outputs": [
        {
          "output_type": "stream",
          "text": [
            "Conv2d(1, 32, kernel_size=(3, 3), stride=(1, 1), padding=(1, 1))\n",
            "Conv2d(32, 64, kernel_size=(3, 3), stride=(1, 1), padding=(1, 1))\n",
            "MaxPool2d(kernel_size=2, stride=2, padding=0, dilation=1, ceil_mode=False)\n"
          ],
          "name": "stdout"
        }
      ]
    },
    {
      "cell_type": "markdown",
      "metadata": {
        "id": "cmnIFfWNBDJO"
      },
      "source": [
        "### 2.2.2 구현체 연결하여 모델 구성"
      ]
    },
    {
      "cell_type": "code",
      "metadata": {
        "colab": {
          "base_uri": "https://localhost:8080/"
        },
        "id": "_mIxN_BBk-Ph",
        "outputId": "8ab712b6-de29-4678-fb42-7868efc6ce92"
      },
      "source": [
        "# Layer 1\n",
        "out = conv1(inputs)\n",
        "print(out.shape)\n",
        "out = pool(out)\n",
        "print(out.shape)\n",
        "\n",
        "# Layer 2\n",
        "out = conv2(out)\n",
        "print(out.shape)\n",
        "out = pool(out)\n",
        "print(out.shape)\n",
        "\n",
        "# Layer 3\n",
        "# 첫번째 차원인 배치 차원은 그대로 두고 나머지는 합침(평탄화(Flatten))\n",
        "out = out.view(out.size(0), -1) # out.shape[0]\n",
        "print(out.shape)\n",
        "fc = nn.Linear(3136, 10) # input_dim = 3,136, output_dim = 10\n",
        "out = fc(out)\n",
        "print(out.shape)"
      ],
      "execution_count": null,
      "outputs": [
        {
          "output_type": "stream",
          "text": [
            "torch.Size([1, 32, 28, 28])\n",
            "torch.Size([1, 32, 14, 14])\n",
            "torch.Size([1, 64, 14, 14])\n",
            "torch.Size([1, 64, 7, 7])\n",
            "torch.Size([1, 3136])\n",
            "torch.Size([1, 10])\n"
          ],
          "name": "stdout"
        }
      ]
    },
    {
      "cell_type": "markdown",
      "metadata": {
        "id": "LJskSkZ7k-B4"
      },
      "source": [
        "## 2.3 MNIST Classification"
      ]
    },
    {
      "cell_type": "code",
      "metadata": {
        "id": "XW2GdDiFm-Kh"
      },
      "source": [
        "import torch\n",
        "import torchvision.datasets as dsets\n",
        "import torchvision.transforms as transforms\n",
        "from torch.utils.data import DataLoader\n",
        "import torch.nn as nn\n",
        "import torch.optim as optim"
      ],
      "execution_count": 2,
      "outputs": []
    },
    {
      "cell_type": "code",
      "metadata": {
        "id": "SgXs2TdSnZaQ"
      },
      "source": [
        "device = 'cuda' if torch.cuda.is_available() else 'cpu'\n",
        "\n",
        "torch.manual_seed(777)\n",
        "\n",
        "# GPU 사용 가능일 경우\n",
        "if device == 'cuda':\n",
        "  torch.cuda.manual_seed(777)"
      ],
      "execution_count": 3,
      "outputs": []
    },
    {
      "cell_type": "code",
      "metadata": {
        "colab": {
          "base_uri": "https://localhost:8080/",
          "height": 741,
          "referenced_widgets": [
            "3782aca1a17747edba403e1a1df0a7ca",
            "4772184e59704972a174838fe89b4bb8",
            "492f8531951944d592f7e213954cc35a",
            "adc951dd46df41609f53edbe886c3aa9",
            "1fecfba9fcbf4ab196df4cfa9742a965",
            "1950bde05ee748d0aa8ac423a12e0058",
            "7d6a1bd322b64933b47a5b2e56415fab",
            "bc84260b9c054562bde9e8292da74505",
            "96f50b60aa2240bfa254ec8d35a26c84",
            "47cc3f2a630c4f9490abd49092f1585f",
            "b8d988ab65f0484b99a0cacd48a049d1",
            "95bffa935f464f94b8c9ea9d3b0d811b",
            "4856015819be4865b5eca7499c3648bf",
            "5ac5ae5370ca446dbe4dde5af88e3ecb",
            "7b5de553106a4e26aacdf736c8ff1dce",
            "71e726cf42074cc98dc219dc97a154f9",
            "779cbdb5aa1e400aa721c88b4b2a0494",
            "5d4aadd865a14eb2b8b07a40f92a2115",
            "3d4092e58d484f0c8747f286940ebca5",
            "ea86b9a9487c405d89d1d8e085367091",
            "04dde2a3fc724533a7aad6cb4260fa0f",
            "b1d0a6d2d7a0431b875e44ea9faf9544",
            "f61c0371f84444e7911788cf6df49ac6",
            "16c01c9bd1b24dbaa4866555d4facd59",
            "8a2332f1ed6943ed86ef74048ec9b419",
            "8422cb9bef594f7bb6cc5788e868f3b3",
            "a897fc9248f34009a7fcadf563d3db4b",
            "c9d9560c24cb448a9ad6175867b88ded",
            "be13f986c7a44966841a86210814608e",
            "b24f5cac3c0646809ae50dc4c01854b7",
            "9a31469e4df749d890549183b1d555d7",
            "40985159894b47959b8e3f3523c0f3a8",
            "4aa31ab1216c461e8157411d7c52d069",
            "e02cdf5bde8d4c658c777ce7164f0844",
            "536e272d71ad452ba10b59d63ce4b4a4",
            "ffe930c26dc24be8827fefa67753f391",
            "fe50500d1bda48e7a2303f6d528781b7",
            "2039b9523d1943ea9f2913a0f039596e",
            "ebc803fa027c4282b33b4bb035a98be2",
            "4356b86105ea48268019a6df35a9ba4a",
            "c262fd09726d4e1888f0f5f645ce5452",
            "566c6ff5f6c345af8c7448be49ccf5f9",
            "44e0d2b474fe44aa83a38f1c9efb84ff",
            "738dbc7fe33b41dfafd37f12b251a7ae"
          ]
        },
        "id": "F7qqvMrdn64K",
        "outputId": "73fdb04a-f537-462e-bd70-e300402c3c2a"
      },
      "source": [
        "# parameters\n",
        "learning_rate = 0.001\n",
        "training_epoch = 15\n",
        "batch_size = 100\n",
        "\n",
        "# torch.dataset\n",
        "mnist_train = dsets.MNIST(root='MNIST_data/', # 다운로드 경로\n",
        "                          train = True, # 훈련 데이터로 다운로드\n",
        "                          transform = transforms.ToTensor(), # 텐서로 변환\n",
        "                          download = True)\n",
        "\n",
        "mnist_test = dsets.MNIST(root='MNIST_data/', # 다운로드 경로\n",
        "                          train = False, # 테스트 데이터로 다운로드\n",
        "                          transform = transforms.ToTensor(), # 텐서로 변환\n",
        "                          download = True)"
      ],
      "execution_count": 4,
      "outputs": [
        {
          "output_type": "stream",
          "text": [
            "Downloading http://yann.lecun.com/exdb/mnist/train-images-idx3-ubyte.gz\n",
            "Downloading http://yann.lecun.com/exdb/mnist/train-images-idx3-ubyte.gz to MNIST_data/MNIST/raw/train-images-idx3-ubyte.gz\n",
            "Failed to download (trying next):\n",
            "HTTP Error 503: Service Unavailable\n",
            "\n",
            "Downloading https://ossci-datasets.s3.amazonaws.com/mnist/train-images-idx3-ubyte.gz\n",
            "Downloading https://ossci-datasets.s3.amazonaws.com/mnist/train-images-idx3-ubyte.gz to MNIST_data/MNIST/raw/train-images-idx3-ubyte.gz\n"
          ],
          "name": "stdout"
        },
        {
          "output_type": "display_data",
          "data": {
            "application/vnd.jupyter.widget-view+json": {
              "model_id": "3782aca1a17747edba403e1a1df0a7ca",
              "version_minor": 0,
              "version_major": 2
            },
            "text/plain": [
              "  0%|          | 0/9912422 [00:00<?, ?it/s]"
            ]
          },
          "metadata": {
            "tags": []
          }
        },
        {
          "output_type": "stream",
          "text": [
            "Extracting MNIST_data/MNIST/raw/train-images-idx3-ubyte.gz to MNIST_data/MNIST/raw\n",
            "\n",
            "Downloading http://yann.lecun.com/exdb/mnist/train-labels-idx1-ubyte.gz\n",
            "Downloading http://yann.lecun.com/exdb/mnist/train-labels-idx1-ubyte.gz to MNIST_data/MNIST/raw/train-labels-idx1-ubyte.gz\n"
          ],
          "name": "stdout"
        },
        {
          "output_type": "display_data",
          "data": {
            "application/vnd.jupyter.widget-view+json": {
              "model_id": "95bffa935f464f94b8c9ea9d3b0d811b",
              "version_minor": 0,
              "version_major": 2
            },
            "text/plain": [
              "  0%|          | 0/28881 [00:00<?, ?it/s]"
            ]
          },
          "metadata": {
            "tags": []
          }
        },
        {
          "output_type": "stream",
          "text": [
            "Extracting MNIST_data/MNIST/raw/train-labels-idx1-ubyte.gz to MNIST_data/MNIST/raw\n",
            "\n",
            "Downloading http://yann.lecun.com/exdb/mnist/t10k-images-idx3-ubyte.gz\n",
            "Downloading http://yann.lecun.com/exdb/mnist/t10k-images-idx3-ubyte.gz to MNIST_data/MNIST/raw/t10k-images-idx3-ubyte.gz\n",
            "Failed to download (trying next):\n",
            "HTTP Error 503: Service Unavailable\n",
            "\n",
            "Downloading https://ossci-datasets.s3.amazonaws.com/mnist/t10k-images-idx3-ubyte.gz\n",
            "Downloading https://ossci-datasets.s3.amazonaws.com/mnist/t10k-images-idx3-ubyte.gz to MNIST_data/MNIST/raw/t10k-images-idx3-ubyte.gz\n"
          ],
          "name": "stdout"
        },
        {
          "output_type": "display_data",
          "data": {
            "application/vnd.jupyter.widget-view+json": {
              "model_id": "f61c0371f84444e7911788cf6df49ac6",
              "version_minor": 0,
              "version_major": 2
            },
            "text/plain": [
              "  0%|          | 0/1648877 [00:00<?, ?it/s]"
            ]
          },
          "metadata": {
            "tags": []
          }
        },
        {
          "output_type": "stream",
          "text": [
            "Extracting MNIST_data/MNIST/raw/t10k-images-idx3-ubyte.gz to MNIST_data/MNIST/raw\n",
            "\n",
            "Downloading http://yann.lecun.com/exdb/mnist/t10k-labels-idx1-ubyte.gz\n",
            "Failed to download (trying next):\n",
            "HTTP Error 503: Service Unavailable\n",
            "\n",
            "Downloading https://ossci-datasets.s3.amazonaws.com/mnist/t10k-labels-idx1-ubyte.gz\n",
            "Downloading https://ossci-datasets.s3.amazonaws.com/mnist/t10k-labels-idx1-ubyte.gz to MNIST_data/MNIST/raw/t10k-labels-idx1-ubyte.gz\n"
          ],
          "name": "stdout"
        },
        {
          "output_type": "display_data",
          "data": {
            "application/vnd.jupyter.widget-view+json": {
              "model_id": "e02cdf5bde8d4c658c777ce7164f0844",
              "version_minor": 0,
              "version_major": 2
            },
            "text/plain": [
              "  0%|          | 0/4542 [00:00<?, ?it/s]"
            ]
          },
          "metadata": {
            "tags": []
          }
        },
        {
          "output_type": "stream",
          "text": [
            "Extracting MNIST_data/MNIST/raw/t10k-labels-idx1-ubyte.gz to MNIST_data/MNIST/raw\n",
            "\n"
          ],
          "name": "stdout"
        },
        {
          "output_type": "stream",
          "text": [
            "/usr/local/lib/python3.7/dist-packages/torchvision/datasets/mnist.py:498: UserWarning: The given NumPy array is not writeable, and PyTorch does not support non-writeable tensors. This means you can write to the underlying (supposedly non-writeable) NumPy array using the tensor. You may want to copy the array to protect its data or make it writeable before converting it to a tensor. This type of warning will be suppressed for the rest of this program. (Triggered internally at  /pytorch/torch/csrc/utils/tensor_numpy.cpp:180.)\n",
            "  return torch.from_numpy(parsed.astype(m[2], copy=False)).view(*s)\n"
          ],
          "name": "stderr"
        }
      ]
    },
    {
      "cell_type": "code",
      "metadata": {
        "id": "BCwCE-7Y5mxy"
      },
      "source": [
        "# Dataloader\n",
        "data_loader = DataLoader(dataset=mnist_train,\n",
        "                                 batch_size=batch_size,\n",
        "                                 shuffle=True,\n",
        "                                 drop_last=True)"
      ],
      "execution_count": 5,
      "outputs": []
    },
    {
      "cell_type": "code",
      "metadata": {
        "id": "nwdC3npR5iSN"
      },
      "source": [
        "# class로 모델 정의\n",
        "\n",
        "class CNN(nn.Module):\n",
        "\n",
        "    def __init__(self):\n",
        "        super(CNN, self).__init__()\n",
        "        # 첫번째층\n",
        "        # ImgIn shape = (?, 28, 28, 1) -> ?는 batch size\n",
        "        # Conv   ->     (?, 28, 28, 32)\n",
        "        # Pool   ->     (?, 14, 14, 32)\n",
        "        self.layer1 = nn.Sequential(\n",
        "            nn.Conv2d(1, 32, kernel_size=3, stride=1, padding=1),\n",
        "            nn.ReLU(),\n",
        "            nn.MaxPool2d(kernel_size=2, stride=2))\n",
        "\n",
        "        # 두번째층\n",
        "        # ImgIn shape = (?, 14, 14, 32)\n",
        "        # Conv   ->     (?, 14, 14, 64)\n",
        "        # Pool   ->     (?, 7, 7, 64)\n",
        "        self.layer2 = nn.Sequential(\n",
        "            nn.Conv2d(32, 64, kernel_size=3, stride=1, padding=1),\n",
        "            nn.ReLU(),\n",
        "            nn.MaxPool2d(kernel_size=2, stride=2))\n",
        "\n",
        "        # 전결합층 7 x 7 x 64 inputs -> 10 outputs\n",
        "        self.fc = nn.Linear(7 * 7 * 64, 10, bias=True)\n",
        "\n",
        "        # 전결합층 한정으로 가중치 초기화\n",
        "        nn.init.xavier_uniform_(self.fc.weight)\n",
        "\n",
        "    def forward(self, x):\n",
        "        out = self.layer1(x)\n",
        "        out = self.layer2(out)\n",
        "        out = out.view(out.size(0), -1) # Flatten\n",
        "        out = self.fc(out)\n",
        "        return out"
      ],
      "execution_count": 6,
      "outputs": []
    },
    {
      "cell_type": "code",
      "metadata": {
        "id": "uBZKpKPH8CpQ"
      },
      "source": [
        "# model\n",
        "model = CNN().to(device)\n",
        "# cost function\n",
        "criterion = nn.CrossEntropyLoss().to(device)\n",
        "# optimizer\n",
        "optimizer = optim.Adam(model.parameters(), lr=learning_rate)"
      ],
      "execution_count": 7,
      "outputs": []
    },
    {
      "cell_type": "code",
      "metadata": {
        "colab": {
          "base_uri": "https://localhost:8080/"
        },
        "id": "6qXSmgv_8JAC",
        "outputId": "4df8f0a4-05df-4e77-826a-c8d5f222c810"
      },
      "source": [
        "total_batch = len(data_loader)\n",
        "print('총 배치의 수 : {}'.format(total_batch))"
      ],
      "execution_count": 8,
      "outputs": [
        {
          "output_type": "stream",
          "text": [
            "총 배치의 수 : 600\n"
          ],
          "name": "stdout"
        }
      ]
    },
    {
      "cell_type": "code",
      "metadata": {
        "colab": {
          "base_uri": "https://localhost:8080/"
        },
        "id": "lBPHx_mr8McE",
        "outputId": "611f5926-e477-4d01-d3c1-706a274e870f"
      },
      "source": [
        "# train\n",
        "for epoch in range(training_epoch):\n",
        "    avg_cost = 0\n",
        "\n",
        "    for X, Y in data_loader: # 미니 배치 단위로 꺼내옴. X는 미니 배치, Y는 레이블.\n",
        "        # image is already size of (28x28), no reshape\n",
        "        # label is not one-hot encoded\n",
        "        X = X.to(device)\n",
        "        Y = Y.to(device)\n",
        "\n",
        "        optimizer.zero_grad()\n",
        "        hypothesis = model(X)\n",
        "        cost = criterion(hypothesis, Y)\n",
        "        cost.backward()\n",
        "        optimizer.step()\n",
        "\n",
        "        avg_cost += cost / total_batch\n",
        "\n",
        "    print('[Epoch: {:>4}] cost = {:>.9}'.format(epoch + 1, avg_cost))"
      ],
      "execution_count": 9,
      "outputs": [
        {
          "output_type": "stream",
          "text": [
            "/usr/local/lib/python3.7/dist-packages/torch/nn/functional.py:718: UserWarning: Named tensors and all their associated APIs are an experimental feature and subject to change. Please do not use them for anything important until they are released as stable. (Triggered internally at  /pytorch/c10/core/TensorImpl.h:1156.)\n",
            "  return torch.max_pool2d(input, kernel_size, stride, padding, dilation, ceil_mode)\n"
          ],
          "name": "stderr"
        },
        {
          "output_type": "stream",
          "text": [
            "[Epoch:    1] cost = 0.225638643\n",
            "[Epoch:    2] cost = 0.0630241856\n",
            "[Epoch:    3] cost = 0.0462851562\n",
            "[Epoch:    4] cost = 0.0374466665\n",
            "[Epoch:    5] cost = 0.0314616188\n",
            "[Epoch:    6] cost = 0.0261270478\n",
            "[Epoch:    7] cost = 0.0219386742\n",
            "[Epoch:    8] cost = 0.0184466876\n",
            "[Epoch:    9] cost = 0.0165075548\n",
            "[Epoch:   10] cost = 0.0135030029\n",
            "[Epoch:   11] cost = 0.0103755686\n",
            "[Epoch:   12] cost = 0.00947520789\n",
            "[Epoch:   13] cost = 0.00858631078\n",
            "[Epoch:   14] cost = 0.00681982981\n",
            "[Epoch:   15] cost = 0.00774352159\n"
          ],
          "name": "stdout"
        }
      ]
    },
    {
      "cell_type": "code",
      "metadata": {
        "colab": {
          "base_uri": "https://localhost:8080/"
        },
        "id": "MxTofH82_Pn3",
        "outputId": "1c6de2f1-e138-4dc2-de57-cc759c3dde31"
      },
      "source": [
        "# 학습을 진행하지 않을 것이므로 torch.no_grad()\n",
        "with torch.no_grad():\n",
        "    X_test = mnist_test.test_data.view(len(mnist_test), 1, 28, 28).float().to(device)\n",
        "    Y_test = mnist_test.test_labels.to(device)\n",
        "\n",
        "    prediction = model(X_test)\n",
        "    correct_prediction = torch.argmax(prediction, 1) == Y_test\n",
        "    accuracy = correct_prediction.float().mean()\n",
        "    print('Accuracy:', accuracy.item())"
      ],
      "execution_count": 10,
      "outputs": [
        {
          "output_type": "stream",
          "text": [
            "Accuracy: 0.9853000044822693\n"
          ],
          "name": "stdout"
        },
        {
          "output_type": "stream",
          "text": [
            "/usr/local/lib/python3.7/dist-packages/torchvision/datasets/mnist.py:67: UserWarning: test_data has been renamed data\n",
            "  warnings.warn(\"test_data has been renamed data\")\n",
            "/usr/local/lib/python3.7/dist-packages/torchvision/datasets/mnist.py:57: UserWarning: test_labels has been renamed targets\n",
            "  warnings.warn(\"test_labels has been renamed targets\")\n"
          ],
          "name": "stderr"
        }
      ]
    },
    {
      "cell_type": "markdown",
      "metadata": {
        "id": "251pSDmrGGRb"
      },
      "source": [
        "---"
      ]
    },
    {
      "cell_type": "markdown",
      "metadata": {
        "id": "bOz6XUpBGIJC"
      },
      "source": [
        "위의 모델에서 층을 더 추가하면 모델의 성능이 좋아질지 테스트해보자"
      ]
    },
    {
      "cell_type": "markdown",
      "metadata": {
        "id": "0_KXo-nYIFUn"
      },
      "source": [
        "```python\n",
        "# model architecture\n",
        "\n",
        "# 1번 레이어 : 합성곱층(Convolutional layer)\n",
        "합성곱(in_channel = 1, out_channel = 32, kernel_size=3, stride=1, padding=1) + 활성화 함수 ReLU\n",
        "맥스풀링(kernel_size=2, stride=2))\n",
        "\n",
        "# 2번 레이어 : 합성곱층(Convolutional layer)\n",
        "합성곱(in_channel = 32, out_channel = 64, kernel_size=3, stride=1, padding=1) + 활성화 함수 ReLU\n",
        "맥스풀링(kernel_size=2, stride=2))\n",
        "\n",
        "# 3번 레이어 : 합성곱층(Convolutional layer)\n",
        "합성곱(in_channel = 64, out_channel = 128, kernel_size=3, stride=1, padding=1) + 활성화 함수 ReLU\n",
        "맥스풀링(kernel_size=2, stride=2, padding=1))\n",
        "\n",
        "# 4번 레이어 : 전결합층(Fully-Connected layer)\n",
        "특성맵을 펼친다. # batch_size × 4 × 4 × 128 → batch_size × 2048\n",
        "전결합층(뉴런 625개) + 활성화 함수 ReLU\n",
        "\n",
        "# 5번 레이어 : 전결합층(Fully-Connected layer)\n",
        "전결합층(뉴런 10개) + 활성화 함수 Softmax\n",
        "```"
      ]
    },
    {
      "cell_type": "code",
      "metadata": {
        "id": "1bF18bo1GG4v"
      },
      "source": [
        "# 새로운 class\n",
        "class CNN(nn.Module):\n",
        "\n",
        "    def __init__(self):\n",
        "        super(CNN, self).__init__()\n",
        "        self.keep_prob = 0.5 # 드롭아웃 비율\n",
        "        # 첫번째층\n",
        "        # ImgIn shape = (?, 28, 28, 1) -> ?는 batch size\n",
        "        # Conv   ->     (?, 28, 28, 32)\n",
        "        # Pool   ->     (?, 14, 14, 32)\n",
        "        self.layer1 = nn.Sequential(\n",
        "            nn.Conv2d(1, 32, kernel_size=3, stride=1, padding=1),\n",
        "            nn.ReLU(),\n",
        "            nn.MaxPool2d(kernel_size=2, stride=2))\n",
        "        \n",
        "        # 두번째층\n",
        "        # ImgIn shape = (?, 14, 14, 32)\n",
        "        # Conv   ->     (?, 14, 14, 64)\n",
        "        # Pool   ->     (?, 7, 7, 64)\n",
        "        self.layer2 = nn.Sequential(\n",
        "            nn.Conv2d(32, 64, kernel_size=3, stride=1, padding=1),\n",
        "            nn.ReLU(),\n",
        "            nn.MaxPool2d(kernel_size=2, stride=2))\n",
        "        \n",
        "        # 세번째층\n",
        "        # ImgIn shape = (?, 7, 7, 64)\n",
        "        # Conv   ->     (?, 7, 7, 128)\n",
        "        # Pool   ->     (?, 4, 4, 128)\n",
        "        self.layer3 = nn.Sequential(\n",
        "            nn.Conv2d(64, 128, kernel_size=3, stride=1, padding=1),\n",
        "            nn.ReLU(),\n",
        "            nn.MaxPool2d(kernel_size=2, stride=2, padding=1))\n",
        "\n",
        "        # 네번째층\n",
        "        # 전결합층 4 x 4 x 128 inputs -> 625 outputs\n",
        "        self.fc1 = nn.Linear(4 * 4 * 128, 625, bias=True)\n",
        "        nn.init.xavier_uniform_(self.fc1.weight)\n",
        "        self.layer4 = nn.Sequential(\n",
        "            self.fc1,\n",
        "            nn.ReLU(),\n",
        "            nn.Dropout(p = 1 - self.keep_prob))\n",
        "        \n",
        "        # 다섯번째층\n",
        "        # 전결합층 625 inputs -> 10 outputs\n",
        "        self.fc2 = nn.Linear(625, 10, bias=True)\n",
        "        nn.init.xavier_uniform_(self.fc2.weight)\n",
        "\n",
        "    def forward(self, x):\n",
        "        out = self.layer1(x)\n",
        "        out = self.layer2(out)\n",
        "        out = self.layer3(out)\n",
        "        out = out.view(out.size(0), -1) # Flatten them for FC\n",
        "        out = self.layer4(out)\n",
        "        out = self.fc2(out)\n",
        "        return out"
      ],
      "execution_count": 11,
      "outputs": []
    },
    {
      "cell_type": "code",
      "metadata": {
        "colab": {
          "base_uri": "https://localhost:8080/"
        },
        "id": "7ZROvY5ENK78",
        "outputId": "d353fc7d-ce03-4252-c9fe-16857377ae9e"
      },
      "source": [
        "# model\n",
        "model = CNN().to(device)\n",
        "# cost function\n",
        "criterion = nn.CrossEntropyLoss().to(device)\n",
        "# optimizer\n",
        "optimizer = optim.Adam(model.parameters(), lr=learning_rate)\n",
        "\n",
        "# train\n",
        "for epoch in range(training_epoch):\n",
        "    avg_cost = 0\n",
        "\n",
        "    for X, Y in data_loader: # 미니 배치 단위로 꺼내온다. X는 미니 배치, Y느 ㄴ레이블.\n",
        "        # image is already size of (28x28), no reshape\n",
        "        # label is not one-hot encoded\n",
        "        X = X.to(device)\n",
        "        Y = Y.to(device)\n",
        "\n",
        "        optimizer.zero_grad()\n",
        "        hypothesis = model(X)\n",
        "        cost = criterion(hypothesis, Y)\n",
        "        cost.backward()\n",
        "        optimizer.step()\n",
        "\n",
        "        avg_cost += cost / total_batch\n",
        "\n",
        "    print('[Epoch: {:>4}] cost = {:>.9}'.format(epoch + 1, avg_cost))"
      ],
      "execution_count": 12,
      "outputs": [
        {
          "output_type": "stream",
          "text": [
            "[Epoch:    1] cost = 0.189674243\n",
            "[Epoch:    2] cost = 0.0483664051\n",
            "[Epoch:    3] cost = 0.0353653431\n",
            "[Epoch:    4] cost = 0.026381081\n",
            "[Epoch:    5] cost = 0.0224643592\n",
            "[Epoch:    6] cost = 0.0189015828\n",
            "[Epoch:    7] cost = 0.015909452\n",
            "[Epoch:    8] cost = 0.0137506286\n",
            "[Epoch:    9] cost = 0.0122112874\n",
            "[Epoch:   10] cost = 0.0102229416\n",
            "[Epoch:   11] cost = 0.0113168033\n",
            "[Epoch:   12] cost = 0.00925709866\n",
            "[Epoch:   13] cost = 0.00842656102\n",
            "[Epoch:   14] cost = 0.00666459231\n",
            "[Epoch:   15] cost = 0.00709710829\n"
          ],
          "name": "stdout"
        }
      ]
    },
    {
      "cell_type": "code",
      "metadata": {
        "colab": {
          "base_uri": "https://localhost:8080/"
        },
        "id": "mX_0qlw5OEtC",
        "outputId": "b16b6910-a7d5-4996-ef86-b14ad66e166a"
      },
      "source": [
        "# 학습을 진행하지 않을 것이므로 torch.no_grad()\n",
        "with torch.no_grad():\n",
        "    X_test = mnist_test.test_data.view(len(mnist_test), 1, 28, 28).float().to(device)\n",
        "    Y_test = mnist_test.test_labels.to(device)\n",
        "\n",
        "    prediction = model(X_test)\n",
        "    correct_prediction = torch.argmax(prediction, 1) == Y_test\n",
        "    accuracy = correct_prediction.float().mean()\n",
        "    print('Accuracy:', accuracy.item())"
      ],
      "execution_count": 13,
      "outputs": [
        {
          "output_type": "stream",
          "text": [
            "/usr/local/lib/python3.7/dist-packages/torchvision/datasets/mnist.py:67: UserWarning: test_data has been renamed data\n",
            "  warnings.warn(\"test_data has been renamed data\")\n",
            "/usr/local/lib/python3.7/dist-packages/torchvision/datasets/mnist.py:57: UserWarning: test_labels has been renamed targets\n",
            "  warnings.warn(\"test_labels has been renamed targets\")\n"
          ],
          "name": "stderr"
        },
        {
          "output_type": "stream",
          "text": [
            "Accuracy: 0.9821999669075012\n"
          ],
          "name": "stdout"
        }
      ]
    },
    {
      "cell_type": "markdown",
      "metadata": {
        "id": "Iw-oyk0JOQJT"
      },
      "source": [
        "층을 더 깊게 쌓았지만, 정확도가 더 올라가진 않았음\n",
        "\n",
        "결국 층을 깊게 쌓는 것도 중요하지만, 꼭 깊게 쌓는 것이 정확도를 올려주지는 않으며 __효율적으로 쌓는 것이 중요함__"
      ]
    }
  ]
}